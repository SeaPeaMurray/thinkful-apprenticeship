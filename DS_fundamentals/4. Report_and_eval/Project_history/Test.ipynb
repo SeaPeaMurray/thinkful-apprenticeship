{
 "cells": [
  {
   "cell_type": "code",
   "execution_count": 13,
   "metadata": {},
   "outputs": [],
   "source": [
    "import numpy as np\n",
    "import pandas as pd\n",
    "import matplotlib.pyplot as plt\n",
    "%matplotlib inline"
   ]
  },
  {
   "cell_type": "code",
   "execution_count": 23,
   "metadata": {},
   "outputs": [],
   "source": [
    "new_labels = ['Funding_Agency', 'Funding_Agency_ID',\n",
    "       'Place_Manu_Descr',\n",
    "       'Origin_Country_Code', 'PIID', 'Date_Signed',\n",
    "       'Completion_Date', 'NAICS_Code', 'NAICS_Descr',\n",
    "       'Prod_Serv_Code', 'Prod_Serv_Descr',\n",
    "       'Vendor_Name', 'Vendor_City', 'Vendor_State', 'Vendor_Country',\n",
    "       'DUNS_No', 'Contract_Type', 'Award_or_IDV_Type',\n",
    "       'Total_Contract_Value',\n",
    "       'Action_Obligation']"
   ]
  },
  {
   "cell_type": "code",
   "execution_count": 24,
   "metadata": {},
   "outputs": [],
   "source": [
    "buy = pd.read_excel('Buy_American_Act.xls', names=new_labels)"
   ]
  },
  {
   "cell_type": "code",
   "execution_count": 26,
   "metadata": {},
   "outputs": [
    {
     "data": {
      "text/html": [
       "<div>\n",
       "<style scoped>\n",
       "    .dataframe tbody tr th:only-of-type {\n",
       "        vertical-align: middle;\n",
       "    }\n",
       "\n",
       "    .dataframe tbody tr th {\n",
       "        vertical-align: top;\n",
       "    }\n",
       "\n",
       "    .dataframe thead th {\n",
       "        text-align: right;\n",
       "    }\n",
       "</style>\n",
       "<table border=\"1\" class=\"dataframe\">\n",
       "  <thead>\n",
       "    <tr style=\"text-align: right;\">\n",
       "      <th></th>\n",
       "      <th>Funding_Agency</th>\n",
       "      <th>Funding_Agency_ID</th>\n",
       "      <th>Place_Manu_Descr</th>\n",
       "      <th>Origin_Country_Code</th>\n",
       "      <th>PIID</th>\n",
       "      <th>Date_Signed</th>\n",
       "      <th>Completion_Date</th>\n",
       "      <th>NAICS_Code</th>\n",
       "      <th>NAICS_Descr</th>\n",
       "      <th>Prod_Serv_Code</th>\n",
       "      <th>Prod_Serv_Descr</th>\n",
       "      <th>Vendor_Name</th>\n",
       "      <th>Vendor_City</th>\n",
       "      <th>Vendor_State</th>\n",
       "      <th>Vendor_Country</th>\n",
       "      <th>DUNS_No</th>\n",
       "      <th>Contract_Type</th>\n",
       "      <th>Award_or_IDV_Type</th>\n",
       "      <th>Total_Contract_Value</th>\n",
       "      <th>Action_Obligation</th>\n",
       "    </tr>\n",
       "  </thead>\n",
       "  <tbody>\n",
       "    <tr>\n",
       "      <th>0</th>\n",
       "      <td>ADVISORY COUNCIL ON HISTORIC PRESERVATION</td>\n",
       "      <td>9530</td>\n",
       "      <td>MFG OUTSIDE U.S. - COMMERCIAL INFORMATION TECH...</td>\n",
       "      <td>JPN</td>\n",
       "      <td>INN10PD18370</td>\n",
       "      <td>2013-08-30</td>\n",
       "      <td>2014-08-31</td>\n",
       "      <td>333315.0</td>\n",
       "      <td>PHOTOGRAPHIC AND PHOTOCOPYING EQUIPMENT MANUFA...</td>\n",
       "      <td>7490</td>\n",
       "      <td>MISCELLANEOUS OFFICE MACHINES</td>\n",
       "      <td>SHARP ELECTRONICS CORPORATION</td>\n",
       "      <td>MAHWAH</td>\n",
       "      <td>NEW JERSEY</td>\n",
       "      <td>UNITED STATES</td>\n",
       "      <td>1818012</td>\n",
       "      <td>FIRM FIXED PRICE</td>\n",
       "      <td>DELIVERY ORDER</td>\n",
       "      <td>0.00</td>\n",
       "      <td>6404.00</td>\n",
       "    </tr>\n",
       "    <tr>\n",
       "      <th>1</th>\n",
       "      <td>ADVISORY COUNCIL ON HISTORIC PRESERVATION</td>\n",
       "      <td>9530</td>\n",
       "      <td>MFG OUTSIDE U.S. - COMMERCIAL INFORMATION TECH...</td>\n",
       "      <td>JPN</td>\n",
       "      <td>INN10PD18370</td>\n",
       "      <td>2013-09-18</td>\n",
       "      <td>2013-09-30</td>\n",
       "      <td>333315.0</td>\n",
       "      <td>PHOTOGRAPHIC AND PHOTOCOPYING EQUIPMENT MANUFA...</td>\n",
       "      <td>7490</td>\n",
       "      <td>MISCELLANEOUS OFFICE MACHINES</td>\n",
       "      <td>SHARP ELECTRONICS CORPORATION</td>\n",
       "      <td>MAHWAH</td>\n",
       "      <td>NEW JERSEY</td>\n",
       "      <td>UNITED STATES</td>\n",
       "      <td>1818012</td>\n",
       "      <td>FIRM FIXED PRICE</td>\n",
       "      <td>DELIVERY ORDER</td>\n",
       "      <td>2047.70</td>\n",
       "      <td>2047.70</td>\n",
       "    </tr>\n",
       "    <tr>\n",
       "      <th>2</th>\n",
       "      <td>ADVISORY COUNCIL ON HISTORIC PRESERVATION</td>\n",
       "      <td>9530</td>\n",
       "      <td>MFG OUTSIDE U.S. - COMMERCIAL INFORMATION TECH...</td>\n",
       "      <td>JPN</td>\n",
       "      <td>INN10PD18370</td>\n",
       "      <td>2015-05-20</td>\n",
       "      <td>2014-08-31</td>\n",
       "      <td>333315.0</td>\n",
       "      <td>PHOTOGRAPHIC AND PHOTOCOPYING EQUIPMENT MANUFA...</td>\n",
       "      <td>7490</td>\n",
       "      <td>MISCELLANEOUS OFFICE MACHINES</td>\n",
       "      <td>SHARP ELECTRONICS CORPORATION</td>\n",
       "      <td>MAHWAH</td>\n",
       "      <td>NEW JERSEY</td>\n",
       "      <td>UNITED STATES</td>\n",
       "      <td>1818012</td>\n",
       "      <td>FIRM FIXED PRICE</td>\n",
       "      <td>DELIVERY ORDER</td>\n",
       "      <td>2587.52</td>\n",
       "      <td>2587.52</td>\n",
       "    </tr>\n",
       "  </tbody>\n",
       "</table>\n",
       "</div>"
      ],
      "text/plain": [
       "                              Funding_Agency Funding_Agency_ID  \\\n",
       "0  ADVISORY COUNCIL ON HISTORIC PRESERVATION              9530   \n",
       "1  ADVISORY COUNCIL ON HISTORIC PRESERVATION              9530   \n",
       "2  ADVISORY COUNCIL ON HISTORIC PRESERVATION              9530   \n",
       "\n",
       "                                    Place_Manu_Descr Origin_Country_Code  \\\n",
       "0  MFG OUTSIDE U.S. - COMMERCIAL INFORMATION TECH...                 JPN   \n",
       "1  MFG OUTSIDE U.S. - COMMERCIAL INFORMATION TECH...                 JPN   \n",
       "2  MFG OUTSIDE U.S. - COMMERCIAL INFORMATION TECH...                 JPN   \n",
       "\n",
       "           PIID Date_Signed Completion_Date  NAICS_Code  \\\n",
       "0  INN10PD18370  2013-08-30      2014-08-31    333315.0   \n",
       "1  INN10PD18370  2013-09-18      2013-09-30    333315.0   \n",
       "2  INN10PD18370  2015-05-20      2014-08-31    333315.0   \n",
       "\n",
       "                                         NAICS_Descr Prod_Serv_Code  \\\n",
       "0  PHOTOGRAPHIC AND PHOTOCOPYING EQUIPMENT MANUFA...           7490   \n",
       "1  PHOTOGRAPHIC AND PHOTOCOPYING EQUIPMENT MANUFA...           7490   \n",
       "2  PHOTOGRAPHIC AND PHOTOCOPYING EQUIPMENT MANUFA...           7490   \n",
       "\n",
       "                 Prod_Serv_Descr                    Vendor_Name Vendor_City  \\\n",
       "0  MISCELLANEOUS OFFICE MACHINES  SHARP ELECTRONICS CORPORATION      MAHWAH   \n",
       "1  MISCELLANEOUS OFFICE MACHINES  SHARP ELECTRONICS CORPORATION      MAHWAH   \n",
       "2  MISCELLANEOUS OFFICE MACHINES  SHARP ELECTRONICS CORPORATION      MAHWAH   \n",
       "\n",
       "  Vendor_State Vendor_Country  DUNS_No     Contract_Type Award_or_IDV_Type  \\\n",
       "0   NEW JERSEY  UNITED STATES  1818012  FIRM FIXED PRICE    DELIVERY ORDER   \n",
       "1   NEW JERSEY  UNITED STATES  1818012  FIRM FIXED PRICE    DELIVERY ORDER   \n",
       "2   NEW JERSEY  UNITED STATES  1818012  FIRM FIXED PRICE    DELIVERY ORDER   \n",
       "\n",
       "   Total_Contract_Value  Action_Obligation  \n",
       "0                  0.00            6404.00  \n",
       "1               2047.70            2047.70  \n",
       "2               2587.52            2587.52  "
      ]
     },
     "execution_count": 26,
     "metadata": {},
     "output_type": "execute_result"
    }
   ],
   "source": [
    "buy.head(3)"
   ]
  },
  {
   "cell_type": "code",
   "execution_count": 38,
   "metadata": {},
   "outputs": [
    {
     "data": {
      "text/plain": [
       "Funding_Agency\n",
       "OFFICE OF ASSISTANT SECRETARY FOR PREPAREDNESS AND RESPONSE        9.889828e+08\n",
       "DEPT OF THE NAVY                                                   8.460761e+08\n",
       "DEPT OF THE ARMY                                                   4.265100e+08\n",
       "UNITED STATES MINT                                                 3.277944e+08\n",
       "OFFICE OF ASSISTANT SECRETARY FOR ADMINISTRATION AND MANAGEMENT    2.639935e+08\n",
       "DEPT OF THE AIR FORCE                                              2.029136e+08\n",
       "U.S. COAST GUARD                                                   1.965197e+08\n",
       "DEFENSE LOGISTICS AGENCY                                           1.525650e+08\n",
       "STATE, DEPARTMENT OF                                               1.485042e+08\n",
       "NATIONAL AERONAUTICS AND SPACE ADMINISTRATION                      1.115146e+08\n",
       "CENTERS FOR DISEASE CONTROL AND PREVENTION                         1.044997e+08\n",
       "FEDERAL ACQUISITION SERVICE                                        8.453249e+07\n",
       "VETERANS AFFAIRS, DEPARTMENT OF                                    7.891263e+07\n",
       "NATIONAL INSTITUTE OF STANDARDS AND TECHNOLOGY                     5.646546e+07\n",
       "NATIONAL OCEANIC AND ATMOSPHERIC ADMINISTRATION                    5.291268e+07\n",
       "FOREST SERVICE                                                     5.202913e+07\n",
       "U.S. SPECIAL OPERATIONS COMMAND (USSOCOM)                          4.686292e+07\n",
       "BUREAU OF ENGRAVING AND PRINTING                                   4.005949e+07\n",
       "NATIONAL INSTITUTES OF HEALTH                                      3.039805e+07\n",
       "ENERGY, DEPARTMENT OF                                              2.931948e+07\n",
       "Name: Total_Contract_Value, dtype: float64"
      ]
     },
     "execution_count": 38,
     "metadata": {},
     "output_type": "execute_result"
    }
   ],
   "source": [
    "buy.groupby('Funding_Agency')['Total_Contract_Value'].sum().sort_values(ascending=False)[:20]"
   ]
  },
  {
   "cell_type": "code",
   "execution_count": null,
   "metadata": {},
   "outputs": [],
   "source": []
  },
  {
   "cell_type": "code",
   "execution_count": null,
   "metadata": {},
   "outputs": [],
   "source": []
  },
  {
   "cell_type": "code",
   "execution_count": null,
   "metadata": {},
   "outputs": [],
   "source": []
  },
  {
   "cell_type": "code",
   "execution_count": 17,
   "metadata": {
    "scrolled": true
   },
   "outputs": [
    {
     "data": {
      "text/plain": [
       "DEFENSE LOGISTICS AGENCY                                         12005\n",
       "STATE, DEPARTMENT OF                                              8314\n",
       "DEPT OF THE NAVY                                                  6250\n",
       "U.S. COAST GUARD                                                  5680\n",
       "DEPT OF THE ARMY                                                  2585\n",
       "FEDERAL ACQUISITION SERVICE                                       2207\n",
       "NATIONAL INSTITUTE OF STANDARDS AND TECHNOLOGY                    1919\n",
       "DEPT OF THE AIR FORCE                                             1481\n",
       "NATIONAL PARK SERVICE                                             1186\n",
       "BUREAU OF ENGRAVING AND PRINTING                                  1117\n",
       "U.S. FISH AND WILDLIFE SERVICE                                    1065\n",
       "VETERANS AFFAIRS, DEPARTMENT OF                                   1025\n",
       "NATIONAL AERONAUTICS AND SPACE ADMINISTRATION                     1008\n",
       "FOREST SERVICE                                                     968\n",
       "NATIONAL OCEANIC AND ATMOSPHERIC ADMINISTRATION                    918\n",
       "NATIONAL INSTITUTES OF HEALTH                                      837\n",
       "UNITED STATES MINT                                                 820\n",
       "OFFICE OF THE CHIEF PROCUREMENT OFFICER                            677\n",
       "AGENCY FOR INTERNATIONAL DEVELOPMENT                               612\n",
       "FEDERAL BUREAU OF INVESTIGATION                                    373\n",
       "ENERGY, DEPARTMENT OF                                              348\n",
       "CENTERS FOR DISEASE CONTROL AND PREVENTION                         340\n",
       "NATIONAL ARCHIVES AND RECORDS ADMINISTRATION                       329\n",
       "AGRICULTURAL RESEARCH SERVICE                                      312\n",
       "FOOD AND DRUG ADMINISTRATION                                       287\n",
       "US GEOLOGICAL SURVEY                                               267\n",
       "GEOLOGICAL SURVEY                                                  260\n",
       "BROADCASTING BOARD OF GOVERNORS                                    256\n",
       "OFFICES, BOARDS AND DIVISIONS                                      254\n",
       "ENVIRONMENTAL PROTECTION AGENCY                                    239\n",
       "                                                                 ...  \n",
       "USDA, OFFICE OF EXECUTIVE SECRETARIAT                                2\n",
       "U.S. MARINE CORPS                                                    2\n",
       "RAILROAD RETIREMENT BOARD                                            2\n",
       "GAO, EXCEPT COMPTROLLER GENERAL                                      2\n",
       "USTRANSCOM                                                           2\n",
       "DEFENSE INTELLIGENCE AGENCY                                          2\n",
       "NATIONAL AGRICULTURAL STATISTICS SERVICE                             2\n",
       "NATIONAL COMMISSION ON LIBRARIES AND INFORMATION SCIENCE             2\n",
       "AFRICAN DEVELOPMENT FOUNDATION                                       2\n",
       "DEFENSE CONTRACT AUDIT AGENCY                                        2\n",
       "PIPELINE AND HAZARDOUS MATERIALS SAFETY ADMINISTRATON                2\n",
       "AIR COMBAT COMMAND                                                   2\n",
       "BUREAU OF THE CENSUS                                                 2\n",
       "FERC                                                                 2\n",
       "FEDERAL TRANSIT ADMINISTRATION                                       2\n",
       "OFFICE OF SURFACE MINING, RECLAMATION AND ENFORCEMENT                1\n",
       "EXEC OFF FOR U.S. ATTORNEYS AND THE OFFICES OF U.S. ATTORNEYS        1\n",
       "FEDERAL MARITIME COMMISSION                                          1\n",
       "NATIONAL INDIAN GAMING COMMISSION                                    1\n",
       "INTERNATIONAL TRADE COMMISSION                                       1\n",
       "RISK MANAGEMENT AGENCY                                               1\n",
       "ASST SECRETARY FOR HOUSING--FEDERAL HOUSING COMMISSIONER             1\n",
       "FINANCIAL MANAGEMENT SERVICE                                         1\n",
       "OFFICE OF NAVAL RESEARCH                                             1\n",
       "ARCHITECT OF THE CAPITOL                                             1\n",
       "FEDERAL ELECTION COMMISSION                                          1\n",
       "DENALI COMMISSION                                                    1\n",
       "NATIONAL SECURITY AGENCY/CENTRAL SECURITY SERVICE                    1\n",
       "EMPLOYMENT STANDARDS ADMINISTRATION                                  1\n",
       "NATIONAL PROTECTION AND PROGRAMS DIRECTORATE                         1\n",
       "Name: Funding Agency Name, Length: 203, dtype: int64"
      ]
     },
     "execution_count": 17,
     "metadata": {},
     "output_type": "execute_result"
    }
   ],
   "source": [
    "buy['Funding Agency Name'].value_counts()"
   ]
  },
  {
   "cell_type": "code",
   "execution_count": 18,
   "metadata": {},
   "outputs": [
    {
     "data": {
      "text/plain": [
       "Index(['Funding Agency Name', 'Funding Agency ID',\n",
       "       'Place of Manufacture Description',\n",
       "       'Country of Product or Service Origin Code', 'PIID', 'Date Signed',\n",
       "       'Completion Date', 'NAICS Code', 'NAICS Description',\n",
       "       'Product or Service Code', 'Product or Service Description',\n",
       "       'Vendor Name', 'Vendor City', 'Vendor State', 'Vendor Country',\n",
       "       'DUNS Number', 'Type of Contract', 'Award or IDV Type',\n",
       "       'Base and All Options Value (Total Contract Value)',\n",
       "       'Action Obligation'],\n",
       "      dtype='object')"
      ]
     },
     "execution_count": 18,
     "metadata": {},
     "output_type": "execute_result"
    }
   ],
   "source": [
    "buy.columns"
   ]
  },
  {
   "cell_type": "code",
   "execution_count": null,
   "metadata": {},
   "outputs": [],
   "source": []
  }
 ],
 "metadata": {
  "kernelspec": {
   "display_name": "Python 3",
   "language": "python",
   "name": "python3"
  },
  "language_info": {
   "codemirror_mode": {
    "name": "ipython",
    "version": 3
   },
   "file_extension": ".py",
   "mimetype": "text/x-python",
   "name": "python",
   "nbconvert_exporter": "python",
   "pygments_lexer": "ipython3",
   "version": "3.6.5"
  }
 },
 "nbformat": 4,
 "nbformat_minor": 2
}
