{
 "cells": [
  {
   "cell_type": "code",
   "execution_count": 2,
   "metadata": {},
   "outputs": [],
   "source": [
    "import numpy as np\n",
    "import pandas as pd\n",
    "import matplotlib.pyplot as plt\n",
    "import seaborn as sns\n",
    "%matplotlib inline\n",
    "\n",
    "sns.set_style(style='darkgrid')"
   ]
  },
  {
   "cell_type": "code",
   "execution_count": 3,
   "metadata": {
    "scrolled": true
   },
   "outputs": [
    {
     "data": {
      "text/html": [
       "<div>\n",
       "<style scoped>\n",
       "    .dataframe tbody tr th:only-of-type {\n",
       "        vertical-align: middle;\n",
       "    }\n",
       "\n",
       "    .dataframe tbody tr th {\n",
       "        vertical-align: top;\n",
       "    }\n",
       "\n",
       "    .dataframe thead th {\n",
       "        text-align: right;\n",
       "    }\n",
       "</style>\n",
       "<table border=\"1\" class=\"dataframe\">\n",
       "  <thead>\n",
       "    <tr style=\"text-align: right;\">\n",
       "      <th></th>\n",
       "      <th>Funding_Agency</th>\n",
       "      <th>Funding_Agency_ID</th>\n",
       "      <th>Place_Manufacture_Desc</th>\n",
       "      <th>Country_Origin_Code</th>\n",
       "      <th>PIID</th>\n",
       "      <th>Date_Signed</th>\n",
       "      <th>Completion_Date</th>\n",
       "      <th>NAICS_Code</th>\n",
       "      <th>NAICS_Description</th>\n",
       "      <th>Prod_Service_Code</th>\n",
       "      <th>Prod_Service_Desc</th>\n",
       "      <th>Vendor_Name</th>\n",
       "      <th>Vendor_City</th>\n",
       "      <th>Vendor_State</th>\n",
       "      <th>Vendor_Country</th>\n",
       "      <th>DUNS_No</th>\n",
       "      <th>Contract_Type</th>\n",
       "      <th>Award_IDV_Type</th>\n",
       "      <th>Total_Contract_Val</th>\n",
       "      <th>Action_Obligation</th>\n",
       "    </tr>\n",
       "  </thead>\n",
       "  <tbody>\n",
       "    <tr>\n",
       "      <th>0</th>\n",
       "      <td>ADVISORY COUNCIL ON HISTORIC PRESERVATION</td>\n",
       "      <td>9530</td>\n",
       "      <td>MFG OUTSIDE U.S. - COMMERCIAL INFORMATION TECH...</td>\n",
       "      <td>JPN</td>\n",
       "      <td>INN10PD18370</td>\n",
       "      <td>2013-08-30</td>\n",
       "      <td>2014-08-31</td>\n",
       "      <td>333315.0</td>\n",
       "      <td>PHOTOGRAPHIC AND PHOTOCOPYING EQUIPMENT MANUFA...</td>\n",
       "      <td>7490</td>\n",
       "      <td>MISCELLANEOUS OFFICE MACHINES</td>\n",
       "      <td>SHARP ELECTRONICS CORPORATION</td>\n",
       "      <td>MAHWAH</td>\n",
       "      <td>NEW JERSEY</td>\n",
       "      <td>UNITED STATES</td>\n",
       "      <td>1818012</td>\n",
       "      <td>FIRM FIXED PRICE</td>\n",
       "      <td>DELIVERY ORDER</td>\n",
       "      <td>0.00</td>\n",
       "      <td>6404.00</td>\n",
       "    </tr>\n",
       "    <tr>\n",
       "      <th>1</th>\n",
       "      <td>ADVISORY COUNCIL ON HISTORIC PRESERVATION</td>\n",
       "      <td>9530</td>\n",
       "      <td>MFG OUTSIDE U.S. - COMMERCIAL INFORMATION TECH...</td>\n",
       "      <td>JPN</td>\n",
       "      <td>INN10PD18370</td>\n",
       "      <td>2013-09-18</td>\n",
       "      <td>2013-09-30</td>\n",
       "      <td>333315.0</td>\n",
       "      <td>PHOTOGRAPHIC AND PHOTOCOPYING EQUIPMENT MANUFA...</td>\n",
       "      <td>7490</td>\n",
       "      <td>MISCELLANEOUS OFFICE MACHINES</td>\n",
       "      <td>SHARP ELECTRONICS CORPORATION</td>\n",
       "      <td>MAHWAH</td>\n",
       "      <td>NEW JERSEY</td>\n",
       "      <td>UNITED STATES</td>\n",
       "      <td>1818012</td>\n",
       "      <td>FIRM FIXED PRICE</td>\n",
       "      <td>DELIVERY ORDER</td>\n",
       "      <td>2047.70</td>\n",
       "      <td>2047.70</td>\n",
       "    </tr>\n",
       "    <tr>\n",
       "      <th>2</th>\n",
       "      <td>ADVISORY COUNCIL ON HISTORIC PRESERVATION</td>\n",
       "      <td>9530</td>\n",
       "      <td>MFG OUTSIDE U.S. - COMMERCIAL INFORMATION TECH...</td>\n",
       "      <td>JPN</td>\n",
       "      <td>INN10PD18370</td>\n",
       "      <td>2015-05-20</td>\n",
       "      <td>2014-08-31</td>\n",
       "      <td>333315.0</td>\n",
       "      <td>PHOTOGRAPHIC AND PHOTOCOPYING EQUIPMENT MANUFA...</td>\n",
       "      <td>7490</td>\n",
       "      <td>MISCELLANEOUS OFFICE MACHINES</td>\n",
       "      <td>SHARP ELECTRONICS CORPORATION</td>\n",
       "      <td>MAHWAH</td>\n",
       "      <td>NEW JERSEY</td>\n",
       "      <td>UNITED STATES</td>\n",
       "      <td>1818012</td>\n",
       "      <td>FIRM FIXED PRICE</td>\n",
       "      <td>DELIVERY ORDER</td>\n",
       "      <td>2587.52</td>\n",
       "      <td>2587.52</td>\n",
       "    </tr>\n",
       "    <tr>\n",
       "      <th>3</th>\n",
       "      <td>ADVISORY COUNCIL ON HISTORIC PRESERVATION</td>\n",
       "      <td>9530</td>\n",
       "      <td>MFG OUTSIDE U.S. - COMMERCIAL INFORMATION TECH...</td>\n",
       "      <td>JPN</td>\n",
       "      <td>INN10PD18370</td>\n",
       "      <td>2015-06-22</td>\n",
       "      <td>2014-08-31</td>\n",
       "      <td>333315.0</td>\n",
       "      <td>PHOTOGRAPHIC AND PHOTOCOPYING EQUIPMENT MANUFA...</td>\n",
       "      <td>7490</td>\n",
       "      <td>MISCELLANEOUS OFFICE MACHINES</td>\n",
       "      <td>SHARP ELECTRONICS CORPORATION</td>\n",
       "      <td>MAHWAH</td>\n",
       "      <td>NEW JERSEY</td>\n",
       "      <td>UNITED STATES</td>\n",
       "      <td>1818012</td>\n",
       "      <td>FIRM FIXED PRICE</td>\n",
       "      <td>DELIVERY ORDER</td>\n",
       "      <td>-1630.24</td>\n",
       "      <td>-1630.24</td>\n",
       "    </tr>\n",
       "    <tr>\n",
       "      <th>4</th>\n",
       "      <td>AFRICAN DEVELOPMENT FOUNDATION</td>\n",
       "      <td>1141</td>\n",
       "      <td>MFG OUTSIDE U.S. - UNREASONABLE COST</td>\n",
       "      <td>JPN</td>\n",
       "      <td>TFSAADF140059</td>\n",
       "      <td>2014-09-15</td>\n",
       "      <td>2015-01-13</td>\n",
       "      <td>423110.0</td>\n",
       "      <td>AUTOMOBILE AND OTHER MOTOR VEHICLE MERCHANT WH...</td>\n",
       "      <td>2310</td>\n",
       "      <td>PASSENGER MOTOR VEHICLES</td>\n",
       "      <td>TOYOTA GIBRALTAR STOCKHOLDINGS LTD</td>\n",
       "      <td>GIBRALTAR</td>\n",
       "      <td>NaN</td>\n",
       "      <td>GIBRALTAR</td>\n",
       "      <td>565409018</td>\n",
       "      <td>FIRM FIXED PRICE</td>\n",
       "      <td>PURCHASE ORDER</td>\n",
       "      <td>35324.99</td>\n",
       "      <td>35324.99</td>\n",
       "    </tr>\n",
       "  </tbody>\n",
       "</table>\n",
       "</div>"
      ],
      "text/plain": [
       "                              Funding_Agency Funding_Agency_ID  \\\n",
       "0  ADVISORY COUNCIL ON HISTORIC PRESERVATION              9530   \n",
       "1  ADVISORY COUNCIL ON HISTORIC PRESERVATION              9530   \n",
       "2  ADVISORY COUNCIL ON HISTORIC PRESERVATION              9530   \n",
       "3  ADVISORY COUNCIL ON HISTORIC PRESERVATION              9530   \n",
       "4             AFRICAN DEVELOPMENT FOUNDATION              1141   \n",
       "\n",
       "                              Place_Manufacture_Desc Country_Origin_Code  \\\n",
       "0  MFG OUTSIDE U.S. - COMMERCIAL INFORMATION TECH...                 JPN   \n",
       "1  MFG OUTSIDE U.S. - COMMERCIAL INFORMATION TECH...                 JPN   \n",
       "2  MFG OUTSIDE U.S. - COMMERCIAL INFORMATION TECH...                 JPN   \n",
       "3  MFG OUTSIDE U.S. - COMMERCIAL INFORMATION TECH...                 JPN   \n",
       "4               MFG OUTSIDE U.S. - UNREASONABLE COST                 JPN   \n",
       "\n",
       "            PIID Date_Signed Completion_Date  NAICS_Code  \\\n",
       "0   INN10PD18370  2013-08-30      2014-08-31    333315.0   \n",
       "1   INN10PD18370  2013-09-18      2013-09-30    333315.0   \n",
       "2   INN10PD18370  2015-05-20      2014-08-31    333315.0   \n",
       "3   INN10PD18370  2015-06-22      2014-08-31    333315.0   \n",
       "4  TFSAADF140059  2014-09-15      2015-01-13    423110.0   \n",
       "\n",
       "                                   NAICS_Description Prod_Service_Code  \\\n",
       "0  PHOTOGRAPHIC AND PHOTOCOPYING EQUIPMENT MANUFA...              7490   \n",
       "1  PHOTOGRAPHIC AND PHOTOCOPYING EQUIPMENT MANUFA...              7490   \n",
       "2  PHOTOGRAPHIC AND PHOTOCOPYING EQUIPMENT MANUFA...              7490   \n",
       "3  PHOTOGRAPHIC AND PHOTOCOPYING EQUIPMENT MANUFA...              7490   \n",
       "4  AUTOMOBILE AND OTHER MOTOR VEHICLE MERCHANT WH...              2310   \n",
       "\n",
       "               Prod_Service_Desc                         Vendor_Name  \\\n",
       "0  MISCELLANEOUS OFFICE MACHINES       SHARP ELECTRONICS CORPORATION   \n",
       "1  MISCELLANEOUS OFFICE MACHINES       SHARP ELECTRONICS CORPORATION   \n",
       "2  MISCELLANEOUS OFFICE MACHINES       SHARP ELECTRONICS CORPORATION   \n",
       "3  MISCELLANEOUS OFFICE MACHINES       SHARP ELECTRONICS CORPORATION   \n",
       "4       PASSENGER MOTOR VEHICLES  TOYOTA GIBRALTAR STOCKHOLDINGS LTD   \n",
       "\n",
       "  Vendor_City Vendor_State Vendor_Country    DUNS_No     Contract_Type  \\\n",
       "0      MAHWAH   NEW JERSEY  UNITED STATES    1818012  FIRM FIXED PRICE   \n",
       "1      MAHWAH   NEW JERSEY  UNITED STATES    1818012  FIRM FIXED PRICE   \n",
       "2      MAHWAH   NEW JERSEY  UNITED STATES    1818012  FIRM FIXED PRICE   \n",
       "3      MAHWAH   NEW JERSEY  UNITED STATES    1818012  FIRM FIXED PRICE   \n",
       "4   GIBRALTAR          NaN      GIBRALTAR  565409018  FIRM FIXED PRICE   \n",
       "\n",
       "   Award_IDV_Type  Total_Contract_Val  Action_Obligation  \n",
       "0  DELIVERY ORDER                0.00            6404.00  \n",
       "1  DELIVERY ORDER             2047.70            2047.70  \n",
       "2  DELIVERY ORDER             2587.52            2587.52  \n",
       "3  DELIVERY ORDER            -1630.24           -1630.24  \n",
       "4  PURCHASE ORDER            35324.99           35324.99  "
      ]
     },
     "execution_count": 3,
     "metadata": {},
     "output_type": "execute_result"
    }
   ],
   "source": [
    "buy = pd.read_excel('../../_Datasets/Buy_American_Act.xls')\n",
    "new_col = ['Funding_Agency', 'Funding_Agency_ID',\n",
    "       'Place_Manufacture_Desc',\n",
    "       'Country_Origin_Code', 'PIID', 'Date_Signed',\n",
    "       'Completion_Date', 'NAICS_Code', 'NAICS_Description',\n",
    "       'Prod_Service_Code', 'Prod_Service_Desc',\n",
    "       'Vendor_Name', 'Vendor_City', 'Vendor_State', 'Vendor_Country',\n",
    "       'DUNS_No', 'Contract_Type', 'Award_IDV_Type',\n",
    "       'Total_Contract_Val',\n",
    "       'Action_Obligation']\n",
    "buy.columns = new_col\n",
    "buy.head(3)"
   ]
  },
  {
   "cell_type": "code",
   "execution_count": 170,
   "metadata": {
    "scrolled": false
   },
   "outputs": [
    {
     "data": {
      "text/plain": [
       "<matplotlib.axes._subplots.AxesSubplot at 0xe163f98>"
      ]
     },
     "execution_count": 170,
     "metadata": {},
     "output_type": "execute_result"
    },
    {
     "data": {
      "image/png": "[encoded data removed]",
      "text/plain": [
       "<Figure size 1152x576 with 1 Axes>"
      ]
     },
     "metadata": {},
     "output_type": "display_data"
    }
   ],
   "source": [
    "date_val = pd.DataFrame(buy[['Action_Obligation', 'Date_Signed']])\n",
    "date_val.index = date_val['Date_Signed']\n",
    "del date_val['Date_Signed']\n",
    "dateval_ser = date_val['Action_Obligation']\n",
    "plt.figure(figsize=(16,8))\n",
    "dateval_ser.resample('Y').sum().plot(kind='bar')"
   ]
  },
  {
   "cell_type": "code",
   "execution_count": 47,
   "metadata": {},
   "outputs": [
    {
     "data": {
      "text/plain": [
       "Timestamp('2013-08-01 00:00:00')"
      ]
     },
     "execution_count": 47,
     "metadata": {},
     "output_type": "execute_result"
    }
   ],
   "source": [
    "min(buy['Date_Signed'])"
   ]
  },
  {
   "cell_type": "code",
   "execution_count": 48,
   "metadata": {},
   "outputs": [
    {
     "data": {
      "text/plain": [
       "Timestamp('2018-07-31 00:00:00')"
      ]
     },
     "execution_count": 48,
     "metadata": {},
     "output_type": "execute_result"
    }
   ],
   "source": [
    "max(buy['Date_Signed'])"
   ]
  },
  {
   "cell_type": "markdown",
   "metadata": {},
   "source": [
    "We can take the annual sum of total contract action obligations to see if there are major spending differences over time or obvious spikes. The first and last year of contracts are not for complete 12-month cycles, therefore we can expect their total spendings to be considerably less, as seen above."
   ]
  },
  {
   "cell_type": "markdown",
   "metadata": {},
   "source": [
    "## Deeper questions\n",
    "\n",
    "As mentioned, the vast majority of this dataset revolves around categorical variables, such as agency, origin country, or product description. These features will provide the most information about the exceptions to this federal spending law. \n",
    "\n",
    "This report will pose three general questions about the data and its trends. During the analysis of the features, these questions will be refined to try and discover more specific information. \n",
    "\n",
    "1. Are some foreign countries much more prevalent on this list? Is the reason obvious?\n",
    "2. Do any federal agencies consistently appear on the list to award contracts overseas?\n",
    "3. What can we learn about the industries and companies awarded on this list? \n",
    "\n",
    "#### Are some foreign countries much more prevalent on this list? Is the reason obvious?"
   ]
  },
  {
   "cell_type": "code",
   "execution_count": 157,
   "metadata": {},
   "outputs": [
    {
     "data": {
      "text/plain": [
       "<matplotlib.axes._subplots.AxesSubplot at 0xb68e978>"
      ]
     },
     "execution_count": 157,
     "metadata": {},
     "output_type": "execute_result"
    },
    {
     "data": {
      "image/png": "[encoded data removed]",
      "text/plain": [
       "<Figure size 1152x576 with 1 Axes>"
      ]
     },
     "metadata": {},
     "output_type": "display_data"
    }
   ],
   "source": [
    "plt.figure(figsize=(16,8))\n",
    "buy['Country_Origin_Code'].value_counts().hist()"
   ]
  },
  {
   "cell_type": "code",
   "execution_count": 160,
   "metadata": {},
   "outputs": [
    {
     "data": {
      "text/plain": [
       "<matplotlib.axes._subplots.AxesSubplot at 0xe399400>"
      ]
     },
     "execution_count": 160,
     "metadata": {},
     "output_type": "execute_result"
    },
    {
     "data": {
      "image/png": "[encoded data removed]",
      "text/plain": [
       "<Figure size 1152x576 with 1 Axes>"
      ]
     },
     "metadata": {},
     "output_type": "display_data"
    }
   ],
   "source": [
    "plt.figure(figsize=(16,8))\n",
    "buy.groupby('Country_Origin_Code')['Total_Contract_Val'].mean().hist()"
   ]
  },
  {
   "cell_type": "code",
   "execution_count": 181,
   "metadata": {},
   "outputs": [
    {
     "data": {
      "text/plain": [
       "<matplotlib.axes._subplots.AxesSubplot at 0xe00a978>"
      ]
     },
     "execution_count": 181,
     "metadata": {},
     "output_type": "execute_result"
    },
    {
     "data": {
      "image/png": "[encoded data removed]",
      "text/plain": [
       "<Figure size 1152x576 with 1 Axes>"
      ]
     },
     "metadata": {},
     "output_type": "display_data"
    }
   ],
   "source": [
    "plt.figure(figsize=(16,8))\n",
    "buy.groupby('Country_Origin_Code')['Total_Contract_Val'].sum().sort_values(ascending=False)[:12].plot(kind='bar')"
   ]
  },
  {
   "cell_type": "code",
   "execution_count": null,
   "metadata": {},
   "outputs": [],
   "source": []
  },
  {
   "cell_type": "code",
   "execution_count": null,
   "metadata": {},
   "outputs": [],
   "source": []
  },
  {
   "cell_type": "markdown",
   "metadata": {},
   "source": [
    "#### Do some industries consistently rake in more money than others?"
   ]
  },
  {
   "cell_type": "code",
   "execution_count": 142,
   "metadata": {},
   "outputs": [
    {
     "data": {
      "text/html": [
       "<div>\n",
       "<style scoped>\n",
       "    .dataframe tbody tr th:only-of-type {\n",
       "        vertical-align: middle;\n",
       "    }\n",
       "\n",
       "    .dataframe tbody tr th {\n",
       "        vertical-align: top;\n",
       "    }\n",
       "\n",
       "    .dataframe thead tr th {\n",
       "        text-align: left;\n",
       "    }\n",
       "\n",
       "    .dataframe thead tr:last-of-type th {\n",
       "        text-align: right;\n",
       "    }\n",
       "</style>\n",
       "<table border=\"1\" class=\"dataframe\">\n",
       "  <thead>\n",
       "    <tr>\n",
       "      <th></th>\n",
       "      <th colspan=\"21\" halign=\"left\">Total_Contract_Val</th>\n",
       "    </tr>\n",
       "    <tr>\n",
       "      <th>Country_Origin_Code</th>\n",
       "      <th>ABW</th>\n",
       "      <th>AFG</th>\n",
       "      <th>AGO</th>\n",
       "      <th>AIA</th>\n",
       "      <th>ALB</th>\n",
       "      <th>ARE</th>\n",
       "      <th>ARG</th>\n",
       "      <th>ARM</th>\n",
       "      <th>ASM</th>\n",
       "      <th>ATF</th>\n",
       "      <th>...</th>\n",
       "      <th>VEN</th>\n",
       "      <th>VGB</th>\n",
       "      <th>VNM</th>\n",
       "      <th>WSM</th>\n",
       "      <th>XKS</th>\n",
       "      <th>XQZ</th>\n",
       "      <th>YEM</th>\n",
       "      <th>ZAF</th>\n",
       "      <th>ZMB</th>\n",
       "      <th>ZWE</th>\n",
       "    </tr>\n",
       "    <tr>\n",
       "      <th>Prod_Service_Desc</th>\n",
       "      <th></th>\n",
       "      <th></th>\n",
       "      <th></th>\n",
       "      <th></th>\n",
       "      <th></th>\n",
       "      <th></th>\n",
       "      <th></th>\n",
       "      <th></th>\n",
       "      <th></th>\n",
       "      <th></th>\n",
       "      <th></th>\n",
       "      <th></th>\n",
       "      <th></th>\n",
       "      <th></th>\n",
       "      <th></th>\n",
       "      <th></th>\n",
       "      <th></th>\n",
       "      <th></th>\n",
       "      <th></th>\n",
       "      <th></th>\n",
       "      <th></th>\n",
       "    </tr>\n",
       "  </thead>\n",
       "  <tbody>\n",
       "    <tr>\n",
       "      <th>ABRASIVE MATERIALS</th>\n",
       "      <td>NaN</td>\n",
       "      <td>NaN</td>\n",
       "      <td>NaN</td>\n",
       "      <td>NaN</td>\n",
       "      <td>NaN</td>\n",
       "      <td>NaN</td>\n",
       "      <td>NaN</td>\n",
       "      <td>NaN</td>\n",
       "      <td>NaN</td>\n",
       "      <td>NaN</td>\n",
       "      <td>...</td>\n",
       "      <td>NaN</td>\n",
       "      <td>NaN</td>\n",
       "      <td>NaN</td>\n",
       "      <td>NaN</td>\n",
       "      <td>NaN</td>\n",
       "      <td>NaN</td>\n",
       "      <td>NaN</td>\n",
       "      <td>NaN</td>\n",
       "      <td>NaN</td>\n",
       "      <td>NaN</td>\n",
       "    </tr>\n",
       "    <tr>\n",
       "      <th>ACCESSORIES FOR SECONDARY METALWORKING MACHINERY</th>\n",
       "      <td>NaN</td>\n",
       "      <td>NaN</td>\n",
       "      <td>NaN</td>\n",
       "      <td>NaN</td>\n",
       "      <td>NaN</td>\n",
       "      <td>13663.37</td>\n",
       "      <td>NaN</td>\n",
       "      <td>NaN</td>\n",
       "      <td>NaN</td>\n",
       "      <td>NaN</td>\n",
       "      <td>...</td>\n",
       "      <td>NaN</td>\n",
       "      <td>NaN</td>\n",
       "      <td>NaN</td>\n",
       "      <td>NaN</td>\n",
       "      <td>NaN</td>\n",
       "      <td>NaN</td>\n",
       "      <td>NaN</td>\n",
       "      <td>NaN</td>\n",
       "      <td>NaN</td>\n",
       "      <td>NaN</td>\n",
       "    </tr>\n",
       "    <tr>\n",
       "      <th>ACCOUNTING AND CALCULATING MACHINES</th>\n",
       "      <td>NaN</td>\n",
       "      <td>NaN</td>\n",
       "      <td>NaN</td>\n",
       "      <td>NaN</td>\n",
       "      <td>NaN</td>\n",
       "      <td>NaN</td>\n",
       "      <td>NaN</td>\n",
       "      <td>NaN</td>\n",
       "      <td>9195.0</td>\n",
       "      <td>NaN</td>\n",
       "      <td>...</td>\n",
       "      <td>NaN</td>\n",
       "      <td>NaN</td>\n",
       "      <td>NaN</td>\n",
       "      <td>NaN</td>\n",
       "      <td>NaN</td>\n",
       "      <td>NaN</td>\n",
       "      <td>NaN</td>\n",
       "      <td>NaN</td>\n",
       "      <td>NaN</td>\n",
       "      <td>NaN</td>\n",
       "    </tr>\n",
       "    <tr>\n",
       "      <th>ADHESIVES</th>\n",
       "      <td>NaN</td>\n",
       "      <td>NaN</td>\n",
       "      <td>NaN</td>\n",
       "      <td>NaN</td>\n",
       "      <td>NaN</td>\n",
       "      <td>NaN</td>\n",
       "      <td>NaN</td>\n",
       "      <td>NaN</td>\n",
       "      <td>NaN</td>\n",
       "      <td>NaN</td>\n",
       "      <td>...</td>\n",
       "      <td>NaN</td>\n",
       "      <td>NaN</td>\n",
       "      <td>NaN</td>\n",
       "      <td>NaN</td>\n",
       "      <td>NaN</td>\n",
       "      <td>NaN</td>\n",
       "      <td>NaN</td>\n",
       "      <td>NaN</td>\n",
       "      <td>NaN</td>\n",
       "      <td>NaN</td>\n",
       "    </tr>\n",
       "    <tr>\n",
       "      <th>ADP CENTRAL PROCESSING UNIT (CPU, COMPUTER), ANALOG</th>\n",
       "      <td>NaN</td>\n",
       "      <td>7386.0</td>\n",
       "      <td>NaN</td>\n",
       "      <td>NaN</td>\n",
       "      <td>NaN</td>\n",
       "      <td>NaN</td>\n",
       "      <td>NaN</td>\n",
       "      <td>NaN</td>\n",
       "      <td>NaN</td>\n",
       "      <td>NaN</td>\n",
       "      <td>...</td>\n",
       "      <td>NaN</td>\n",
       "      <td>NaN</td>\n",
       "      <td>NaN</td>\n",
       "      <td>NaN</td>\n",
       "      <td>NaN</td>\n",
       "      <td>NaN</td>\n",
       "      <td>NaN</td>\n",
       "      <td>NaN</td>\n",
       "      <td>NaN</td>\n",
       "      <td>NaN</td>\n",
       "    </tr>\n",
       "  </tbody>\n",
       "</table>\n",
       "<p>5 rows × 191 columns</p>\n",
       "</div>"
      ],
      "text/plain": [
       "                                                   Total_Contract_Val          \\\n",
       "Country_Origin_Code                                               ABW     AFG   \n",
       "Prod_Service_Desc                                                               \n",
       "ABRASIVE MATERIALS                                                NaN     NaN   \n",
       "ACCESSORIES FOR SECONDARY METALWORKING MACHINERY                  NaN     NaN   \n",
       "ACCOUNTING AND CALCULATING MACHINES                               NaN     NaN   \n",
       "ADHESIVES                                                         NaN     NaN   \n",
       "ADP CENTRAL PROCESSING UNIT (CPU, COMPUTER), AN...                NaN  7386.0   \n",
       "\n",
       "                                                                              \\\n",
       "Country_Origin_Code                                AGO AIA ALB       ARE ARG   \n",
       "Prod_Service_Desc                                                              \n",
       "ABRASIVE MATERIALS                                 NaN NaN NaN       NaN NaN   \n",
       "ACCESSORIES FOR SECONDARY METALWORKING MACHINERY   NaN NaN NaN  13663.37 NaN   \n",
       "ACCOUNTING AND CALCULATING MACHINES                NaN NaN NaN       NaN NaN   \n",
       "ADHESIVES                                          NaN NaN NaN       NaN NaN   \n",
       "ADP CENTRAL PROCESSING UNIT (CPU, COMPUTER), AN... NaN NaN NaN       NaN NaN   \n",
       "\n",
       "                                                                   ...      \\\n",
       "Country_Origin_Code                                ARM     ASM ATF ... VEN   \n",
       "Prod_Service_Desc                                                  ...       \n",
       "ABRASIVE MATERIALS                                 NaN     NaN NaN ... NaN   \n",
       "ACCESSORIES FOR SECONDARY METALWORKING MACHINERY   NaN     NaN NaN ... NaN   \n",
       "ACCOUNTING AND CALCULATING MACHINES                NaN  9195.0 NaN ... NaN   \n",
       "ADHESIVES                                          NaN     NaN NaN ... NaN   \n",
       "ADP CENTRAL PROCESSING UNIT (CPU, COMPUTER), AN... NaN     NaN NaN ... NaN   \n",
       "\n",
       "                                                                            \\\n",
       "Country_Origin_Code                                VGB VNM WSM XKS XQZ YEM   \n",
       "Prod_Service_Desc                                                            \n",
       "ABRASIVE MATERIALS                                 NaN NaN NaN NaN NaN NaN   \n",
       "ACCESSORIES FOR SECONDARY METALWORKING MACHINERY   NaN NaN NaN NaN NaN NaN   \n",
       "ACCOUNTING AND CALCULATING MACHINES                NaN NaN NaN NaN NaN NaN   \n",
       "ADHESIVES                                          NaN NaN NaN NaN NaN NaN   \n",
       "ADP CENTRAL PROCESSING UNIT (CPU, COMPUTER), AN... NaN NaN NaN NaN NaN NaN   \n",
       "\n",
       "                                                                \n",
       "Country_Origin_Code                                ZAF ZMB ZWE  \n",
       "Prod_Service_Desc                                               \n",
       "ABRASIVE MATERIALS                                 NaN NaN NaN  \n",
       "ACCESSORIES FOR SECONDARY METALWORKING MACHINERY   NaN NaN NaN  \n",
       "ACCOUNTING AND CALCULATING MACHINES                NaN NaN NaN  \n",
       "ADHESIVES                                          NaN NaN NaN  \n",
       "ADP CENTRAL PROCESSING UNIT (CPU, COMPUTER), AN... NaN NaN NaN  \n",
       "\n",
       "[5 rows x 191 columns]"
      ]
     },
     "execution_count": 142,
     "metadata": {},
     "output_type": "execute_result"
    }
   ],
   "source": [
    "contractsum_country = pd.DataFrame(buy.pivot_table(index=['Prod_Service_Desc', 'Country_Origin_Code'],\n",
    "                                                   aggfunc=sum)['Total_Contract_Val']).unstack()\n",
    "contractsum_country.head()"
   ]
  },
  {
   "cell_type": "code",
   "execution_count": 148,
   "metadata": {},
   "outputs": [
    {
     "data": {
      "text/plain": [
       "<matplotlib.axes._subplots.AxesSubplot at 0xb584a20>"
      ]
     },
     "execution_count": 148,
     "metadata": {},
     "output_type": "execute_result"
    },
    {
     "data": {
      "image/png": "[encoded data removed]",
      "text/plain": [
       "<Figure size 864x576 with 1 Axes>"
      ]
     },
     "metadata": {},
     "output_type": "display_data"
    }
   ],
   "source": [
    "plt.figure(figsize=(12,8))\n",
    "plt.xticks(rotation=120) # Not quite working yet\n",
    "contractsum_country.idxmax().value_counts()[:20].plot(kind='bar')"
   ]
  },
  {
   "cell_type": "code",
   "execution_count": null,
   "metadata": {},
   "outputs": [],
   "source": []
  },
  {
   "cell_type": "code",
   "execution_count": null,
   "metadata": {},
   "outputs": [],
   "source": []
  },
  {
   "cell_type": "code",
   "execution_count": null,
   "metadata": {},
   "outputs": [],
   "source": []
  },
  {
   "cell_type": "code",
   "execution_count": 43,
   "metadata": {
    "scrolled": true
   },
   "outputs": [
    {
     "data": {
      "text/plain": [
       "CHN    0.117362\n",
       "MEX    0.107932\n",
       "CAN    0.106006\n",
       "FRA    0.080252\n",
       "JPN    0.058470\n",
       "DEU    0.056661\n",
       "GBR    0.049716\n",
       "KOR    0.049226\n",
       "TWN    0.033392\n",
       "ZAF    0.024013\n",
       "CHE    0.022763\n",
       "IND    0.022627\n",
       "ITA    0.014668\n",
       "SGP    0.012961\n",
       "MYS    0.009159\n",
       "ISR    0.007723\n",
       "QAT    0.007419\n",
       "USA    0.007351\n",
       "SWE    0.006962\n",
       "NGA    0.006455\n",
       "AUS    0.006422\n",
       "KEN    0.006253\n",
       "NLD    0.006016\n",
       "THA    0.005458\n",
       "GIN    0.005357\n",
       "IRQ    0.005256\n",
       "ARE    0.005239\n",
       "HTI    0.005205\n",
       "NZL    0.005154\n",
       "IDN    0.005137\n",
       "         ...   \n",
       "ERI    0.000051\n",
       "TTO    0.000051\n",
       "IOT    0.000051\n",
       "MWI    0.000051\n",
       "SSD    0.000051\n",
       "ZWE    0.000051\n",
       "BRN    0.000034\n",
       "WSM    0.000034\n",
       "LBN    0.000034\n",
       "BLR    0.000034\n",
       "COM    0.000034\n",
       "COD    0.000034\n",
       "SHN    0.000034\n",
       "ATF    0.000034\n",
       "BDI    0.000034\n",
       "PRY    0.000034\n",
       "UZB    0.000017\n",
       "IRN    0.000017\n",
       "MUS    0.000017\n",
       "STP    0.000017\n",
       "FJI    0.000017\n",
       "KIR    0.000017\n",
       "XQZ    0.000017\n",
       "MNP    0.000017\n",
       "NIU    0.000017\n",
       "SYR    0.000017\n",
       "BMU    0.000017\n",
       "CYP    0.000017\n",
       "VAT    0.000017\n",
       "FRO    0.000017\n",
       "Name: Country_Origin_Code, Length: 191, dtype: float64"
      ]
     },
     "execution_count": 43,
     "metadata": {},
     "output_type": "execute_result"
    }
   ],
   "source": [
    "(buy['Country_Origin_Code'].dropna().value_counts() / buy['Country_Origin_Code'].dropna().count()).sort_values(ascending=False)"
   ]
  }
 ],
 "metadata": {
  "kernelspec": {
   "display_name": "Python 3",
   "language": "python",
   "name": "python3"
  },
  "language_info": {
   "codemirror_mode": {
    "name": "ipython",
    "version": 3
   },
   "file_extension": ".py",
   "mimetype": "text/x-python",
   "name": "python",
   "nbconvert_exporter": "python",
   "pygments_lexer": "ipython3",
   "version": "3.6.6"
  }
 },
 "nbformat": 4,
 "nbformat_minor": 2
}
