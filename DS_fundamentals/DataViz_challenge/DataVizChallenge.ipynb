{
 "cells": [
  {
   "cell_type": "code",
   "execution_count": 1,
   "metadata": {},
   "outputs": [
    {
     "name": "stdout",
     "output_type": "stream",
     "text": [
      "\u001b[0m\u001b[01;34mglobalpowerplantdatabasev110\u001b[0m/  \u001b[01;31mglobalpowerplantdatabasev110.zip\u001b[0m  Untitled.ipynb\r\n"
     ]
    }
   ],
   "source": [
    "ls"
   ]
  },
  {
   "cell_type": "code",
   "execution_count": 2,
   "metadata": {},
   "outputs": [],
   "source": [
    "import numpy as np\n",
    "import pandas as pd\n",
    "import matplotlib.pyplot as plt\n",
    "import seaborn as sns\n",
    "\n",
    "file = \"globalpowerplantdatabasev110/global_power_plant_database.csv\""
   ]
  },
  {
   "cell_type": "code",
   "execution_count": 3,
   "metadata": {},
   "outputs": [],
   "source": [
    "power = pd.read_csv(file)"
   ]
  },
  {
   "cell_type": "code",
   "execution_count": 63,
   "metadata": {
    "scrolled": false
   },
   "outputs": [
    {
     "data": {
      "text/html": [
       "<div>\n",
       "<style scoped>\n",
       "    .dataframe tbody tr th:only-of-type {\n",
       "        vertical-align: middle;\n",
       "    }\n",
       "\n",
       "    .dataframe tbody tr th {\n",
       "        vertical-align: top;\n",
       "    }\n",
       "\n",
       "    .dataframe thead th {\n",
       "        text-align: right;\n",
       "    }\n",
       "</style>\n",
       "<table border=\"1\" class=\"dataframe\">\n",
       "  <thead>\n",
       "    <tr style=\"text-align: right;\">\n",
       "      <th></th>\n",
       "      <th>country</th>\n",
       "      <th>country_long</th>\n",
       "      <th>name</th>\n",
       "      <th>gppd_idnr</th>\n",
       "      <th>capacity_mw</th>\n",
       "      <th>latitude</th>\n",
       "      <th>longitude</th>\n",
       "      <th>fuel1</th>\n",
       "      <th>fuel2</th>\n",
       "      <th>fuel3</th>\n",
       "      <th>...</th>\n",
       "      <th>owner</th>\n",
       "      <th>source</th>\n",
       "      <th>url</th>\n",
       "      <th>geolocation_source</th>\n",
       "      <th>year_of_capacity_data</th>\n",
       "      <th>generation_gwh_2013</th>\n",
       "      <th>generation_gwh_2014</th>\n",
       "      <th>generation_gwh_2015</th>\n",
       "      <th>generation_gwh_2016</th>\n",
       "      <th>estimated_generation_gwh</th>\n",
       "    </tr>\n",
       "  </thead>\n",
       "  <tbody>\n",
       "    <tr>\n",
       "      <th>0</th>\n",
       "      <td>AFG</td>\n",
       "      <td>Afghanistan</td>\n",
       "      <td>Kajaki Hydroelectric Power Plant Afghanistan</td>\n",
       "      <td>GEODB0040538</td>\n",
       "      <td>33.00</td>\n",
       "      <td>32.3220</td>\n",
       "      <td>65.1190</td>\n",
       "      <td>Hydro</td>\n",
       "      <td>NaN</td>\n",
       "      <td>NaN</td>\n",
       "      <td>...</td>\n",
       "      <td>NaN</td>\n",
       "      <td>GEODB</td>\n",
       "      <td>http://globalenergyobservatory.org</td>\n",
       "      <td>GEODB</td>\n",
       "      <td>2017.0</td>\n",
       "      <td>NaN</td>\n",
       "      <td>NaN</td>\n",
       "      <td>NaN</td>\n",
       "      <td>NaN</td>\n",
       "      <td>NaN</td>\n",
       "    </tr>\n",
       "    <tr>\n",
       "      <th>1</th>\n",
       "      <td>AFG</td>\n",
       "      <td>Afghanistan</td>\n",
       "      <td>Mahipar Hydroelectric Power Plant Afghanistan</td>\n",
       "      <td>GEODB0040541</td>\n",
       "      <td>66.00</td>\n",
       "      <td>34.5560</td>\n",
       "      <td>69.4787</td>\n",
       "      <td>Hydro</td>\n",
       "      <td>NaN</td>\n",
       "      <td>NaN</td>\n",
       "      <td>...</td>\n",
       "      <td>NaN</td>\n",
       "      <td>GEODB</td>\n",
       "      <td>http://globalenergyobservatory.org</td>\n",
       "      <td>GEODB</td>\n",
       "      <td>2017.0</td>\n",
       "      <td>NaN</td>\n",
       "      <td>NaN</td>\n",
       "      <td>NaN</td>\n",
       "      <td>NaN</td>\n",
       "      <td>NaN</td>\n",
       "    </tr>\n",
       "    <tr>\n",
       "      <th>2</th>\n",
       "      <td>AFG</td>\n",
       "      <td>Afghanistan</td>\n",
       "      <td>Naghlu Dam Hydroelectric Power Plant Afghanistan</td>\n",
       "      <td>GEODB0040534</td>\n",
       "      <td>100.00</td>\n",
       "      <td>34.6410</td>\n",
       "      <td>69.7170</td>\n",
       "      <td>Hydro</td>\n",
       "      <td>NaN</td>\n",
       "      <td>NaN</td>\n",
       "      <td>...</td>\n",
       "      <td>NaN</td>\n",
       "      <td>GEODB</td>\n",
       "      <td>http://globalenergyobservatory.org</td>\n",
       "      <td>GEODB</td>\n",
       "      <td>2017.0</td>\n",
       "      <td>NaN</td>\n",
       "      <td>NaN</td>\n",
       "      <td>NaN</td>\n",
       "      <td>NaN</td>\n",
       "      <td>NaN</td>\n",
       "    </tr>\n",
       "    <tr>\n",
       "      <th>3</th>\n",
       "      <td>AFG</td>\n",
       "      <td>Afghanistan</td>\n",
       "      <td>Nangarhar (Darunta) Hydroelectric Power Plant ...</td>\n",
       "      <td>GEODB0040536</td>\n",
       "      <td>11.55</td>\n",
       "      <td>34.4847</td>\n",
       "      <td>70.3633</td>\n",
       "      <td>Hydro</td>\n",
       "      <td>NaN</td>\n",
       "      <td>NaN</td>\n",
       "      <td>...</td>\n",
       "      <td>NaN</td>\n",
       "      <td>GEODB</td>\n",
       "      <td>http://globalenergyobservatory.org</td>\n",
       "      <td>GEODB</td>\n",
       "      <td>2017.0</td>\n",
       "      <td>NaN</td>\n",
       "      <td>NaN</td>\n",
       "      <td>NaN</td>\n",
       "      <td>NaN</td>\n",
       "      <td>NaN</td>\n",
       "    </tr>\n",
       "    <tr>\n",
       "      <th>4</th>\n",
       "      <td>AFG</td>\n",
       "      <td>Afghanistan</td>\n",
       "      <td>Northwest Kabul Power Plant Afghanistan</td>\n",
       "      <td>GEODB0040540</td>\n",
       "      <td>42.00</td>\n",
       "      <td>34.5638</td>\n",
       "      <td>69.1134</td>\n",
       "      <td>Gas</td>\n",
       "      <td>NaN</td>\n",
       "      <td>NaN</td>\n",
       "      <td>...</td>\n",
       "      <td>NaN</td>\n",
       "      <td>GEODB</td>\n",
       "      <td>http://globalenergyobservatory.org</td>\n",
       "      <td>GEODB</td>\n",
       "      <td>2017.0</td>\n",
       "      <td>NaN</td>\n",
       "      <td>NaN</td>\n",
       "      <td>NaN</td>\n",
       "      <td>NaN</td>\n",
       "      <td>NaN</td>\n",
       "    </tr>\n",
       "  </tbody>\n",
       "</table>\n",
       "<p>5 rows × 22 columns</p>\n",
       "</div>"
      ],
      "text/plain": [
       "  country country_long                                               name  \\\n",
       "0     AFG  Afghanistan       Kajaki Hydroelectric Power Plant Afghanistan   \n",
       "1     AFG  Afghanistan      Mahipar Hydroelectric Power Plant Afghanistan   \n",
       "2     AFG  Afghanistan   Naghlu Dam Hydroelectric Power Plant Afghanistan   \n",
       "3     AFG  Afghanistan  Nangarhar (Darunta) Hydroelectric Power Plant ...   \n",
       "4     AFG  Afghanistan            Northwest Kabul Power Plant Afghanistan   \n",
       "\n",
       "      gppd_idnr  capacity_mw  latitude  longitude  fuel1 fuel2 fuel3  \\\n",
       "0  GEODB0040538        33.00   32.3220    65.1190  Hydro   NaN   NaN   \n",
       "1  GEODB0040541        66.00   34.5560    69.4787  Hydro   NaN   NaN   \n",
       "2  GEODB0040534       100.00   34.6410    69.7170  Hydro   NaN   NaN   \n",
       "3  GEODB0040536        11.55   34.4847    70.3633  Hydro   NaN   NaN   \n",
       "4  GEODB0040540        42.00   34.5638    69.1134    Gas   NaN   NaN   \n",
       "\n",
       "             ...            owner  source                                 url  \\\n",
       "0            ...              NaN   GEODB  http://globalenergyobservatory.org   \n",
       "1            ...              NaN   GEODB  http://globalenergyobservatory.org   \n",
       "2            ...              NaN   GEODB  http://globalenergyobservatory.org   \n",
       "3            ...              NaN   GEODB  http://globalenergyobservatory.org   \n",
       "4            ...              NaN   GEODB  http://globalenergyobservatory.org   \n",
       "\n",
       "  geolocation_source year_of_capacity_data generation_gwh_2013  \\\n",
       "0              GEODB                2017.0                 NaN   \n",
       "1              GEODB                2017.0                 NaN   \n",
       "2              GEODB                2017.0                 NaN   \n",
       "3              GEODB                2017.0                 NaN   \n",
       "4              GEODB                2017.0                 NaN   \n",
       "\n",
       "   generation_gwh_2014  generation_gwh_2015  generation_gwh_2016  \\\n",
       "0                  NaN                  NaN                  NaN   \n",
       "1                  NaN                  NaN                  NaN   \n",
       "2                  NaN                  NaN                  NaN   \n",
       "3                  NaN                  NaN                  NaN   \n",
       "4                  NaN                  NaN                  NaN   \n",
       "\n",
       "   estimated_generation_gwh  \n",
       "0                       NaN  \n",
       "1                       NaN  \n",
       "2                       NaN  \n",
       "3                       NaN  \n",
       "4                       NaN  \n",
       "\n",
       "[5 rows x 22 columns]"
      ]
     },
     "execution_count": 63,
     "metadata": {},
     "output_type": "execute_result"
    }
   ],
   "source": [
    "power.head()"
   ]
  },
  {
   "cell_type": "code",
   "execution_count": 65,
   "metadata": {},
   "outputs": [
    {
     "data": {
      "text/html": [
       "<div>\n",
       "<style scoped>\n",
       "    .dataframe tbody tr th:only-of-type {\n",
       "        vertical-align: middle;\n",
       "    }\n",
       "\n",
       "    .dataframe tbody tr th {\n",
       "        vertical-align: top;\n",
       "    }\n",
       "\n",
       "    .dataframe thead th {\n",
       "        text-align: right;\n",
       "    }\n",
       "</style>\n",
       "<table border=\"1\" class=\"dataframe\">\n",
       "  <thead>\n",
       "    <tr style=\"text-align: right;\">\n",
       "      <th></th>\n",
       "      <th>capacity_mw</th>\n",
       "      <th>latitude</th>\n",
       "      <th>longitude</th>\n",
       "      <th>commissioning_year</th>\n",
       "      <th>year_of_capacity_data</th>\n",
       "      <th>generation_gwh_2013</th>\n",
       "      <th>generation_gwh_2014</th>\n",
       "      <th>generation_gwh_2015</th>\n",
       "      <th>generation_gwh_2016</th>\n",
       "      <th>estimated_generation_gwh</th>\n",
       "    </tr>\n",
       "  </thead>\n",
       "  <tbody>\n",
       "    <tr>\n",
       "      <th>count</th>\n",
       "      <td>28664.000000</td>\n",
       "      <td>28664.000000</td>\n",
       "      <td>2.866400e+04</td>\n",
       "      <td>14952.000000</td>\n",
       "      <td>16145.000000</td>\n",
       "      <td>439.000000</td>\n",
       "      <td>455.000000</td>\n",
       "      <td>958.000000</td>\n",
       "      <td>8326.000000</td>\n",
       "      <td>27536.000000</td>\n",
       "    </tr>\n",
       "    <tr>\n",
       "      <th>mean</th>\n",
       "      <td>186.097600</td>\n",
       "      <td>68.817502</td>\n",
       "      <td>9.925621e+01</td>\n",
       "      <td>1994.698521</td>\n",
       "      <td>2016.035367</td>\n",
       "      <td>2339.270238</td>\n",
       "      <td>2622.049124</td>\n",
       "      <td>1859.660249</td>\n",
       "      <td>532.668481</td>\n",
       "      <td>807.796919</td>\n",
       "    </tr>\n",
       "    <tr>\n",
       "      <th>std</th>\n",
       "      <td>523.027253</td>\n",
       "      <td>3610.172087</td>\n",
       "      <td>1.092781e+04</td>\n",
       "      <td>23.406231</td>\n",
       "      <td>1.258145</td>\n",
       "      <td>4384.011370</td>\n",
       "      <td>4138.194312</td>\n",
       "      <td>3965.618811</td>\n",
       "      <td>1935.490760</td>\n",
       "      <td>2687.873796</td>\n",
       "    </tr>\n",
       "    <tr>\n",
       "      <th>min</th>\n",
       "      <td>1.000000</td>\n",
       "      <td>-77.847000</td>\n",
       "      <td>-1.799777e+02</td>\n",
       "      <td>1896.000000</td>\n",
       "      <td>2000.000000</td>\n",
       "      <td>0.000000</td>\n",
       "      <td>0.000000</td>\n",
       "      <td>0.000000</td>\n",
       "      <td>-768.620000</td>\n",
       "      <td>0.000000</td>\n",
       "    </tr>\n",
       "    <tr>\n",
       "      <th>25%</th>\n",
       "      <td>4.795850</td>\n",
       "      <td>28.010225</td>\n",
       "      <td>-7.905748e+01</td>\n",
       "      <td>1985.000000</td>\n",
       "      <td>2016.000000</td>\n",
       "      <td>226.735625</td>\n",
       "      <td>253.466300</td>\n",
       "      <td>57.898941</td>\n",
       "      <td>3.197500</td>\n",
       "      <td>8.099628</td>\n",
       "    </tr>\n",
       "    <tr>\n",
       "      <th>50%</th>\n",
       "      <td>18.640000</td>\n",
       "      <td>39.950000</td>\n",
       "      <td>-3.928400e+00</td>\n",
       "      <td>2004.000000</td>\n",
       "      <td>2016.000000</td>\n",
       "      <td>731.334950</td>\n",
       "      <td>1015.676100</td>\n",
       "      <td>468.989500</td>\n",
       "      <td>20.354000</td>\n",
       "      <td>44.796959</td>\n",
       "    </tr>\n",
       "    <tr>\n",
       "      <th>75%</th>\n",
       "      <td>99.200000</td>\n",
       "      <td>46.980275</td>\n",
       "      <td>2.100702e+01</td>\n",
       "      <td>2012.000000</td>\n",
       "      <td>2016.000000</td>\n",
       "      <td>2636.217675</td>\n",
       "      <td>3170.871000</td>\n",
       "      <td>2152.211500</td>\n",
       "      <td>176.508999</td>\n",
       "      <td>293.907237</td>\n",
       "    </tr>\n",
       "    <tr>\n",
       "      <th>max</th>\n",
       "      <td>22500.000000</td>\n",
       "      <td>415750.000000</td>\n",
       "      <td>1.075744e+06</td>\n",
       "      <td>2018.000000</td>\n",
       "      <td>2018.000000</td>\n",
       "      <td>50834.000000</td>\n",
       "      <td>28127.000000</td>\n",
       "      <td>59546.865000</td>\n",
       "      <td>32377.477000</td>\n",
       "      <td>92268.763466</td>\n",
       "    </tr>\n",
       "  </tbody>\n",
       "</table>\n",
       "</div>"
      ],
      "text/plain": [
       "        capacity_mw       latitude     longitude  commissioning_year  \\\n",
       "count  28664.000000   28664.000000  2.866400e+04        14952.000000   \n",
       "mean     186.097600      68.817502  9.925621e+01         1994.698521   \n",
       "std      523.027253    3610.172087  1.092781e+04           23.406231   \n",
       "min        1.000000     -77.847000 -1.799777e+02         1896.000000   \n",
       "25%        4.795850      28.010225 -7.905748e+01         1985.000000   \n",
       "50%       18.640000      39.950000 -3.928400e+00         2004.000000   \n",
       "75%       99.200000      46.980275  2.100702e+01         2012.000000   \n",
       "max    22500.000000  415750.000000  1.075744e+06         2018.000000   \n",
       "\n",
       "       year_of_capacity_data  generation_gwh_2013  generation_gwh_2014  \\\n",
       "count           16145.000000           439.000000           455.000000   \n",
       "mean             2016.035367          2339.270238          2622.049124   \n",
       "std                 1.258145          4384.011370          4138.194312   \n",
       "min              2000.000000             0.000000             0.000000   \n",
       "25%              2016.000000           226.735625           253.466300   \n",
       "50%              2016.000000           731.334950          1015.676100   \n",
       "75%              2016.000000          2636.217675          3170.871000   \n",
       "max              2018.000000         50834.000000         28127.000000   \n",
       "\n",
       "       generation_gwh_2015  generation_gwh_2016  estimated_generation_gwh  \n",
       "count           958.000000          8326.000000              27536.000000  \n",
       "mean           1859.660249           532.668481                807.796919  \n",
       "std            3965.618811          1935.490760               2687.873796  \n",
       "min               0.000000          -768.620000                  0.000000  \n",
       "25%              57.898941             3.197500                  8.099628  \n",
       "50%             468.989500            20.354000                 44.796959  \n",
       "75%            2152.211500           176.508999                293.907237  \n",
       "max           59546.865000         32377.477000              92268.763466  "
      ]
     },
     "execution_count": 65,
     "metadata": {},
     "output_type": "execute_result"
    }
   ],
   "source": [
    "power.describe()"
   ]
  },
  {
   "cell_type": "code",
   "execution_count": 73,
   "metadata": {},
   "outputs": [
    {
     "name": "stderr",
     "output_type": "stream",
     "text": [
      "/home/seapea/anaconda3/lib/python3.6/site-packages/matplotlib/axes/_axes.py:6462: UserWarning: The 'normed' kwarg is deprecated, and has been replaced by the 'density' kwarg.\n",
      "  warnings.warn(\"The 'normed' kwarg is deprecated, and has been \"\n"
     ]
    },
    {
     "data": {
      "text/plain": [
       "Text(0.5,1,'Standard deviation of Megawatt Capacity per country')"
      ]
     },
     "execution_count": 73,
     "metadata": {},
     "output_type": "execute_result"
    },
    {
     "data": {
      "image/png": "[encoded data removed]",
      "text/plain": [
       "<Figure size 1008x576 with 1 Axes>"
      ]
     },
     "metadata": {},
     "output_type": "display_data"
    }
   ],
   "source": [
    "plt.figure(figsize=(14, 8))\n",
    "sns.set_style('darkgrid')\n",
    "sns.distplot(power.groupby('country')['capacity_mw'].agg(np.std).dropna(), rug=True).set_title('Standard deviation of Megawatt Capacity per country')"
   ]
  },
  {
   "cell_type": "code",
   "execution_count": 64,
   "metadata": {
    "scrolled": false
   },
   "outputs": [],
   "source": [
    "# power.groupby('country')['capacity_mw'].agg(np.std).dropna()"
   ]
  },
  {
   "cell_type": "code",
   "execution_count": 6,
   "metadata": {},
   "outputs": [
    {
     "name": "stdout",
     "output_type": "stream",
     "text": [
      "count     1705\n",
      "unique      11\n",
      "top        Gas\n",
      "freq      1010\n",
      "Name: fuel2, dtype: object \n",
      "\n",
      " count     296\n",
      "unique     11\n",
      "top       Gas\n",
      "freq      138\n",
      "Name: fuel3, dtype: object \n",
      "\n",
      " count         108\n",
      "unique          8\n",
      "top       Biomass\n",
      "freq           55\n",
      "Name: fuel4, dtype: object\n"
     ]
    }
   ],
   "source": [
    "print(power.fuel2.describe(), \"\\n\\n\", power.fuel3.describe(), \"\\n\\n\", power.fuel4.describe())"
   ]
  },
  {
   "cell_type": "code",
   "execution_count": 7,
   "metadata": {},
   "outputs": [
    {
     "name": "stdout",
     "output_type": "stream",
     "text": [
      "['Hydro' 'Gas' 'Other' 'Oil' 'Wind' 'Nuclear' 'Coal' 'Solar' 'Waste'\n",
      " 'Biomass' 'Wave and Tidal' 'Geothermal' nan 'Cogeneration' 'Storage'\n",
      " 'Petcoke']\n",
      "[nan 'Solar' 'Other' 'Hydro' 'Gas' 'Oil' 'Wind' 'Petcoke' 'Biomass' 'Coal'\n",
      " 'Storage' 'Waste']\n",
      "[nan 'Gas' 'Oil' 'Waste' 'Solar' 'Biomass' 'Hydro' 'Other' 'Storage'\n",
      " 'Wind' 'Coal' 'Petcoke']\n",
      "[nan 'Gas' 'Other' 'Biomass' 'Solar' 'Oil' 'Hydro' 'Petcoke' 'Wind']\n"
     ]
    }
   ],
   "source": [
    "print(power.fuel1.unique())\n",
    "print(power.fuel2.unique())\n",
    "print(power.fuel3.unique())\n",
    "print(power.fuel4.unique())"
   ]
  },
  {
   "cell_type": "code",
   "execution_count": 8,
   "metadata": {},
   "outputs": [
    {
     "name": "stderr",
     "output_type": "stream",
     "text": [
      "/home/seapea/anaconda3/lib/python3.6/site-packages/matplotlib/axes/_axes.py:6462: UserWarning: The 'normed' kwarg is deprecated, and has been replaced by the 'density' kwarg.\n",
      "  warnings.warn(\"The 'normed' kwarg is deprecated, and has been \"\n"
     ]
    },
    {
     "data": {
      "text/plain": [
       "<matplotlib.axes._subplots.AxesSubplot at 0x7ff2ab0426d8>"
      ]
     },
     "execution_count": 8,
     "metadata": {},
     "output_type": "execute_result"
    },
    {
     "data": {
      "image/png": "[encoded data removed]",
      "text/plain": [
       "<Figure size 432x288 with 1 Axes>"
      ]
     },
     "metadata": {},
     "output_type": "display_data"
    }
   ],
   "source": [
    "sns.distplot(power['capacity_mw'])"
   ]
  },
  {
   "cell_type": "code",
   "execution_count": 10,
   "metadata": {},
   "outputs": [
    {
     "data": {
      "text/plain": [
       "Hydro             7034\n",
       "Solar             5424\n",
       "Wind              5084\n",
       "Gas               3068\n",
       "Oil               2925\n",
       "Coal              2172\n",
       "Biomass           1290\n",
       "Waste             1143\n",
       "Nuclear            199\n",
       "Geothermal         186\n",
       "Cogeneration        43\n",
       "Storage             39\n",
       "Other               36\n",
       "Wave and Tidal      10\n",
       "Petcoke              8\n",
       "Name: fuel1, dtype: int64"
      ]
     },
     "execution_count": 10,
     "metadata": {},
     "output_type": "execute_result"
    }
   ],
   "source": [
    "power['fuel1'].value_counts()"
   ]
  },
  {
   "cell_type": "code",
   "execution_count": 16,
   "metadata": {},
   "outputs": [
    {
     "data": {
      "text/plain": [
       "count     7034.000000\n",
       "mean       148.687422\n",
       "std        559.174623\n",
       "min          1.000000\n",
       "25%          5.308750\n",
       "50%         20.000000\n",
       "75%         93.225000\n",
       "max      22500.000000\n",
       "Name: capacity_mw, dtype: float64"
      ]
     },
     "execution_count": 16,
     "metadata": {},
     "output_type": "execute_result"
    }
   ],
   "source": [
    "power[power['fuel1'] == 'Hydro']['capacity_mw'].describe()\n",
    "# sns.distplot(power[power['fuel1'] == 'Hydro']['capacity_mw'])"
   ]
  },
  {
   "cell_type": "code",
   "execution_count": 17,
   "metadata": {},
   "outputs": [
    {
     "data": {
      "text/plain": [
       "<matplotlib.axes._subplots.AxesSubplot at 0x7ff2a734fa90>"
      ]
     },
     "execution_count": 17,
     "metadata": {},
     "output_type": "execute_result"
    },
    {
     "data": {
      "image/png": "[encoded data removed]",
      "text/plain": [
       "<Figure size 432x288 with 1 Axes>"
      ]
     },
     "metadata": {},
     "output_type": "display_data"
    }
   ],
   "source": [
    "sns.boxplot(power[power['fuel1'] == 'Hydro']['capacity_mw'])"
   ]
  },
  {
   "cell_type": "code",
   "execution_count": null,
   "metadata": {},
   "outputs": [],
   "source": []
  }
 ],
 "metadata": {
  "kernelspec": {
   "display_name": "Python 3",
   "language": "python",
   "name": "python3"
  },
  "language_info": {
   "codemirror_mode": {
    "name": "ipython",
    "version": 3
   },
   "file_extension": ".py",
   "mimetype": "text/x-python",
   "name": "python",
   "nbconvert_exporter": "python",
   "pygments_lexer": "ipython3",
   "version": "3.6.5"
  }
 },
 "nbformat": 4,
 "nbformat_minor": 2
}
