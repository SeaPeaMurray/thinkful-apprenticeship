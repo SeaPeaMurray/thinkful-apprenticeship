{
 "cells": [
  {
   "cell_type": "code",
   "execution_count": 1,
   "metadata": {},
   "outputs": [],
   "source": [
    "import numpy as np\n",
    "from collections import Counter\n",
    "from statistics import mode"
   ]
  },
  {
   "cell_type": "code",
   "execution_count": 2,
   "metadata": {},
   "outputs": [],
   "source": [
    "folks = [14, 12, 11, 10, 8, 6, 8]"
   ]
  },
  {
   "cell_type": "code",
   "execution_count": 33,
   "metadata": {},
   "outputs": [
    {
     "data": {
      "text/plain": [
       "9.857142857142858"
      ]
     },
     "execution_count": 33,
     "metadata": {},
     "output_type": "execute_result"
    }
   ],
   "source": [
    "# Calculate mean.\n",
    "sum(folks)/len(folks)"
   ]
  },
  {
   "cell_type": "code",
   "execution_count": 34,
   "metadata": {},
   "outputs": [
    {
     "data": {
      "text/plain": [
       "10"
      ]
     },
     "execution_count": 34,
     "metadata": {},
     "output_type": "execute_result"
    }
   ],
   "source": [
    "# Calculate median.\n",
    "sorted(folks)\n",
    "folks[3]"
   ]
  },
  {
   "cell_type": "code",
   "execution_count": 35,
   "metadata": {},
   "outputs": [
    {
     "data": {
      "text/plain": [
       "8"
      ]
     },
     "execution_count": 35,
     "metadata": {},
     "output_type": "execute_result"
    }
   ],
   "source": [
    "# Find the mode; if all value are equal, there is no mode.\n",
    "ctr = dict(Counter(folks))\n",
    "max(ctr, key=ctr.get)"
   ]
  },
  {
   "cell_type": "code",
   "execution_count": 36,
   "metadata": {},
   "outputs": [
    {
     "name": "stdout",
     "output_type": "stream",
     "text": [
      "6.408163265306122\n"
     ]
    }
   ],
   "source": [
    "# Variance of our data set, per the formula: \n",
    "# Square of the sum of each value minus the mean all divided by sample size minus one.\n",
    "variance = np.array(sum(map(lambda x: ((x - (sum(folks)/len(folks))) ** 2), folks))) / len(folks)\n",
    "print(variance)"
   ]
  },
  {
   "cell_type": "code",
   "execution_count": 37,
   "metadata": {},
   "outputs": [
    {
     "name": "stdout",
     "output_type": "stream",
     "text": [
      "2.531435020952764\n"
     ]
    }
   ],
   "source": [
    "# Standard deviation = the square root of variance.\n",
    "std = np.sqrt(variance)\n",
    "print(std)"
   ]
  },
  {
   "cell_type": "code",
   "execution_count": 38,
   "metadata": {},
   "outputs": [
    {
     "data": {
      "text/plain": [
       "0.6013597712034148"
      ]
     },
     "execution_count": 38,
     "metadata": {},
     "output_type": "execute_result"
    }
   ],
   "source": [
    "# Standard error is the standard deviation divided by the square root of the sample size.\n",
    "np.sqrt(std) / np.sqrt(len(folks))"
   ]
  },
  {
   "cell_type": "code",
   "execution_count": 39,
   "metadata": {},
   "outputs": [
    {
     "name": "stdout",
     "output_type": "stream",
     "text": [
      "Mean: 9.857142857142858\n",
      "Median: 10.0\n",
      "Mode: 8\n",
      "Standard Deviation: 2.531435020952764\n",
      "Standard Error: 0.6013597712034148\n"
     ]
    }
   ],
   "source": [
    "# Verification\n",
    "def drill(_list):\n",
    "    mn = np.mean(_list)\n",
    "    med = np.median(_list)\n",
    "    std = np.std(_list)\n",
    "    stderr = np.sqrt(np.std(_list)) / np.sqrt(len(_list))\n",
    "\n",
    "    try:\n",
    "        md = mode(_list)\n",
    "        print(\"Mean: {}\\nMedian: {}\\nMode: {}\\nStandard Deviation: {}\\nStandard Error: {}\".format(mn, med, md, std, stderr))\n",
    "    except:\n",
    "        print(\"Mode not found!\")\n",
    "        print(\"Mean: {}\\nMedian: {}\\nStandard Deviation: {}\\nStandard Error: {}\".format(mn, med, std, stderr))\n",
    "        \n",
    "    \n",
    "drill(folks)"
   ]
  },
  {
   "cell_type": "markdown",
   "metadata": {},
   "source": [
    "## Notes\n",
    "\n",
    "For this small dataset, I would choose the mean - because the dataset contains no clear outliers - and I would choose the standard deviation to express variation - because it is simple to understand in relation to the ages."
   ]
  },
  {
   "cell_type": "code",
   "execution_count": 40,
   "metadata": {},
   "outputs": [
    {
     "name": "stdout",
     "output_type": "stream",
     "text": [
      "Mean: 10.0\n",
      "Median: 10.0\n",
      "Mode: 8\n",
      "Standard Deviation: 2.32992949004287\n",
      "Standard Error: 0.5769289991031169\n"
     ]
    }
   ],
   "source": [
    "# Cindy has a birthday\n",
    "folks2 = sorted(folks)\n",
    "folks2[0] = 7\n",
    "drill(folks2)"
   ]
  },
  {
   "cell_type": "markdown",
   "metadata": {},
   "source": [
    "## Notes\n",
    "\n",
    "With Cindy's birthday updated in the list, we can see all values are affected fairly minimally - save the median and mode, which see no change."
   ]
  },
  {
   "cell_type": "code",
   "execution_count": 41,
   "metadata": {},
   "outputs": [
    {
     "name": "stdout",
     "output_type": "stream",
     "text": [
      "Mode not found!\n",
      "Mean: 9.0\n",
      "Median: 10.0\n",
      "Standard Deviation: 3.927922024247863\n",
      "Standard Error: 0.7490872564325832\n"
     ]
    }
   ],
   "source": [
    "folks3 = sorted(folks2)\n",
    "folks3[1] = 1\n",
    "drill(sorted(folks3))"
   ]
  },
  {
   "cell_type": "markdown",
   "metadata": {},
   "source": [
    "## Notes\n",
    "\n",
    "With Cousin Oliver replaced by baby Jessica, we see that some of the values have changed considerably - notably the measures of variation. With this new dataset, I might select the median for central tendency as it excludes the outlier. I would keep using the standard deviation as an indicator of spread because it represents the set's variation well."
   ]
  },
  {
   "cell_type": "code",
   "execution_count": 42,
   "metadata": {},
   "outputs": [
    {
     "name": "stdout",
     "output_type": "stream",
     "text": [
      "18.5 percent of adult Americans are *probably* Brady Bunch fans.\n"
     ]
    }
   ],
   "source": [
    "fanbois = np.array([20, 23, 17, 5])\n",
    "relevance = np.array([.30, .30, .30, .10])\n",
    "print(sum(fanbois * relevance), 'percent of adult Americans are *probably* Brady Bunch fans.')"
   ]
  },
  {
   "cell_type": "markdown",
   "metadata": {},
   "source": [
    "## Notes\n",
    "\n",
    "Without any true scientific backing, I came to this conclusion by giving weights to each of the polling sources.\n",
    "\n",
    "TV Guide, Entertainment Weekly, and Pop Culture Today ring the tune of a viewer base who can relate to the show. At least the relevance seems more logical than the readership of SciPhi Phanatic - which is why I gave magazine poll a much lower weight."
   ]
  }
 ],
 "metadata": {
  "kernelspec": {
   "display_name": "Python 3",
   "language": "python",
   "name": "python3"
  },
  "language_info": {
   "codemirror_mode": {
    "name": "ipython",
    "version": 3
   },
   "file_extension": ".py",
   "mimetype": "text/x-python",
   "name": "python",
   "nbconvert_exporter": "python",
   "pygments_lexer": "ipython3",
   "version": "3.6.5"
  }
 },
 "nbformat": 4,
 "nbformat_minor": 2
}
