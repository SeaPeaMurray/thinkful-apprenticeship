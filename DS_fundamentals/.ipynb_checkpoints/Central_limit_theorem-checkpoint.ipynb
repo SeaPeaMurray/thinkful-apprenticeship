{
 "cells": [
  {
   "cell_type": "code",
   "execution_count": 16,
   "metadata": {},
   "outputs": [],
   "source": [
    "import numpy as np\n",
    "import matplotlib.pyplot as plt"
   ]
  },
  {
   "cell_type": "code",
   "execution_count": 55,
   "metadata": {},
   "outputs": [
    {
     "name": "stdout",
     "output_type": "stream",
     "text": [
      "Sample1 mean and std: 1.67, 1.288836684766538\n",
      "Sample2 mean and std: 5.16, 1.521315220458929\n"
     ]
    }
   ],
   "source": [
    "pop1 = np.random.binomial(10, 0.2, 10000)\n",
    "pop2 = np.random.binomial(10, 0.5, 10000)\n",
    "sample1 = np.random.choice(pop1, 100, replace=True)\n",
    "sample2 = np.random.choice(pop2, 100, replace=True)\n",
    "print(\"Sample1 mean and std: {}, {}\\nSample2 mean and std: {}, {}\".format(sample1.mean(), sample1.std(), sample2.mean(), sample2.std()))"
   ]
  },
  {
   "cell_type": "code",
   "execution_count": 56,
   "metadata": {},
   "outputs": [],
   "source": [
    "def sample(n):\n",
    "    sample1 = np.random.choice(pop1, n, replace=True)\n",
    "    sample2 = np.random.choice(pop2, n, replace=True)\n",
    "    print(\"Sample1 mean and std: {}, {}\\nSample2 mean and std: {}, {}\".format(sample1.mean(), sample1.std(), sample2.mean(), sample2.std()))\n",
    "    \n",
    "    plt.subplot(121)\n",
    "    plt.hist(sample1)\n",
    "    plt.subplot(122)\n",
    "    plt.hist(sample2)"
   ]
  },
  {
   "cell_type": "code",
   "execution_count": 57,
   "metadata": {},
   "outputs": [
    {
     "name": "stdout",
     "output_type": "stream",
     "text": [
      "Sample1 mean and std: 1.983, 1.2151999835418037\n",
      "Sample2 mean and std: 4.926, 1.606400946214861\n"
     ]
    },
    {
     "data": {
      "image/png": "[encoded data removed]",
      "text/plain": [
       "<Figure size 432x288 with 2 Axes>"
      ]
     },
     "metadata": {},
     "output_type": "display_data"
    }
   ],
   "source": [
    "sample(1000)"
   ]
  },
  {
   "cell_type": "code",
   "execution_count": 58,
   "metadata": {},
   "outputs": [
    {
     "name": "stdout",
     "output_type": "stream",
     "text": [
      "Sample1 mean and std: 2.45, 1.16081867662439\n",
      "Sample2 mean and std: 5.2, 0.9797958971132712\n"
     ]
    },
    {
     "data": {
      "image/png": "[encoded data removed]",
      "text/plain": [
       "<Figure size 432x288 with 2 Axes>"
      ]
     },
     "metadata": {},
     "output_type": "display_data"
    }
   ],
   "source": [
    "sample(20)"
   ]
  },
  {
   "cell_type": "markdown",
   "metadata": {},
   "source": [
    "Increasing the sample size is likely to return a more accurate representation of the population. The histograms seem to more accurately represent what we can expect from the population. The means and standard deviations are not far off - they are more similar to the population than the smaller samples.\n",
    "\n",
    "Conversely, decreasing the sample size is likely to be less like the population. Population1 is probably a right-skew, as it can take on no negative values and should have a mean of about 2. Its small sample is likely lacking too much information to be a good representation. The same can be said for the second small sample."
   ]
  },
  {
   "cell_type": "code",
   "execution_count": 59,
   "metadata": {},
   "outputs": [
    {
     "data": {
      "text/plain": [
       "Ttest_indResult(statistic=-10.699398843509192, pvalue=2.242990027028604e-21)"
      ]
     },
     "execution_count": 59,
     "metadata": {},
     "output_type": "execute_result"
    }
   ],
   "source": [
    "from scipy.stats import ttest_ind\n",
    "pop1_1 = np.random.binomial(10, 0.3, 10000)\n",
    "pop1_2 = np.random.binomial(10, 0.4, 10000)\n",
    "sample1_1 = np.random.choice(pop1_1, 100, replace=True)\n",
    "sample1_2 = np.random.choice(pop1_2, 100, replace=True)\n",
    "\n",
    "ttest_ind(sample1_1, sample2, equal_var=False)"
   ]
  },
  {
   "cell_type": "code",
   "execution_count": 60,
   "metadata": {},
   "outputs": [
    {
     "data": {
      "text/plain": [
       "Ttest_indResult(statistic=-5.986483628826966, pvalue=9.987573737618132e-09)"
      ]
     },
     "execution_count": 60,
     "metadata": {},
     "output_type": "execute_result"
    }
   ],
   "source": [
    "ttest_ind(sample1_2, sample2, equal_var=False)"
   ]
  },
  {
   "cell_type": "markdown",
   "metadata": {},
   "source": [
    "It appears that the t-value approaches zero as the samples become more similar (closer means, standard deviations). The p-value seems to be increasing. The p-value maximum is 1, which might be what it's approaching. This might only occur if the samples match or have some perfect correlation - not sure."
   ]
  },
  {
   "cell_type": "code",
   "execution_count": 71,
   "metadata": {},
   "outputs": [],
   "source": [
    "chi = np.random.chisquare(10, 10000)\n",
    "chi_sample = np.random.choice(chi, 100, replace=True)"
   ]
  },
  {
   "cell_type": "code",
   "execution_count": 74,
   "metadata": {},
   "outputs": [
    {
     "data": {
      "text/plain": [
       "Text(0.5,1,'Chi population')"
      ]
     },
     "execution_count": 74,
     "metadata": {},
     "output_type": "execute_result"
    },
    {
     "data": {
      "image/png": "[encoded data removed]",
      "text/plain": [
       "<Figure size 432x288 with 2 Axes>"
      ]
     },
     "metadata": {},
     "output_type": "display_data"
    }
   ],
   "source": [
    "plt.subplot(121)\n",
    "plt.hist(chi_sample)\n",
    "plt.title('Chi sample')\n",
    "plt.subplot(122)\n",
    "plt.hist(chi)\n",
    "plt.title('Chi population')"
   ]
  },
  {
   "cell_type": "code",
   "execution_count": 75,
   "metadata": {},
   "outputs": [
    {
     "name": "stdout",
     "output_type": "stream",
     "text": [
      "Population mean: 10.031738435126202\n",
      "Sample mean: 9.9717029838748\n"
     ]
    }
   ],
   "source": [
    "print('Population mean: {}\\nSample mean: {}'.format(chi.mean(), chi_sample.mean()))"
   ]
  },
  {
   "cell_type": "markdown",
   "metadata": {},
   "source": [
    "The sampling of this distribution seemed to do a pretty decent job of representing the population with only 100 samples."
   ]
  }
 ],
 "metadata": {
  "kernelspec": {
   "display_name": "Python 3",
   "language": "python",
   "name": "python3"
  },
  "language_info": {
   "codemirror_mode": {
    "name": "ipython",
    "version": 3
   },
   "file_extension": ".py",
   "mimetype": "text/x-python",
   "name": "python",
   "nbconvert_exporter": "python",
   "pygments_lexer": "ipython3",
   "version": "3.6.6"
  }
 },
 "nbformat": 4,
 "nbformat_minor": 2
}
