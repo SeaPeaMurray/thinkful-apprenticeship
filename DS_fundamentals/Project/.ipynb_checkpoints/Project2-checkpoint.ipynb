{
 "cells": [
  {
   "cell_type": "markdown",
   "metadata": {},
   "source": [
    "# Exceptions to the Buy American Act\n",
    "\n",
    "## Overview\n",
    "\n",
    "The following dataset was collected from the Federal Business Opportunities website, which is a searchable collection of federal contract opportunities. It includes information on contract requirements and awards. There is an additional dataset of information collected for the exceptions to the Buy American Act (BAA), signed by President Hoover in 1933. This act required the United States government to prefer purchases from American companies.\n",
    "\n",
    "## Features\n",
    "\n",
    "Features of the dataset include information about the funding agency, country origin, dates signed and completed, North American Industry Classification System information, product information, vendor information, and contract value information.\n",
    "\n",
    "Exceptions to the BAA can provide interesting insight for a few reasons. How much federal money is spent outside of the United States? Are there any trends to this, in terms of which countries or industries? What agencies frequently appear on this list?\n",
    "\n",
    "A few basic summary statistics and visualizations will tell us a little bit about the contracts."
   ]
  },
  {
   "cell_type": "code",
   "execution_count": 1,
   "metadata": {},
   "outputs": [
    {
     "data": {
      "text/html": [
       "<div>\n",
       "<style scoped>\n",
       "    .dataframe tbody tr th:only-of-type {\n",
       "        vertical-align: middle;\n",
       "    }\n",
       "\n",
       "    .dataframe tbody tr th {\n",
       "        vertical-align: top;\n",
       "    }\n",
       "\n",
       "    .dataframe thead th {\n",
       "        text-align: right;\n",
       "    }\n",
       "</style>\n",
       "<table border=\"1\" class=\"dataframe\">\n",
       "  <thead>\n",
       "    <tr style=\"text-align: right;\">\n",
       "      <th></th>\n",
       "      <th>Funding_Agency</th>\n",
       "      <th>Funding_Agency_ID</th>\n",
       "      <th>Place_Manufacture_Desc</th>\n",
       "      <th>Country_Origin_Code</th>\n",
       "      <th>PIID</th>\n",
       "      <th>Date_Signed</th>\n",
       "      <th>Completion_Date</th>\n",
       "      <th>NAICS_Code</th>\n",
       "      <th>NAICS_Description</th>\n",
       "      <th>Prod_Service_Code</th>\n",
       "      <th>Prod_Service_Desc</th>\n",
       "      <th>Vendor_Name</th>\n",
       "      <th>Vendor_City</th>\n",
       "      <th>Vendor_State</th>\n",
       "      <th>Vendor_Country</th>\n",
       "      <th>DUNS_No</th>\n",
       "      <th>Contract_Type</th>\n",
       "      <th>Award_IDV_Type</th>\n",
       "      <th>Total_Contract_Val</th>\n",
       "      <th>Action_Obligation</th>\n",
       "    </tr>\n",
       "  </thead>\n",
       "  <tbody>\n",
       "    <tr>\n",
       "      <th>0</th>\n",
       "      <td>ADVISORY COUNCIL ON HISTORIC PRESERVATION</td>\n",
       "      <td>9530</td>\n",
       "      <td>MFG OUTSIDE U.S. - COMMERCIAL INFORMATION TECH...</td>\n",
       "      <td>JPN</td>\n",
       "      <td>INN10PD18370</td>\n",
       "      <td>2013-08-30</td>\n",
       "      <td>2014-08-31</td>\n",
       "      <td>333315.0</td>\n",
       "      <td>PHOTOGRAPHIC AND PHOTOCOPYING EQUIPMENT MANUFA...</td>\n",
       "      <td>7490</td>\n",
       "      <td>MISCELLANEOUS OFFICE MACHINES</td>\n",
       "      <td>SHARP ELECTRONICS CORPORATION</td>\n",
       "      <td>MAHWAH</td>\n",
       "      <td>NEW JERSEY</td>\n",
       "      <td>UNITED STATES</td>\n",
       "      <td>1818012</td>\n",
       "      <td>FIRM FIXED PRICE</td>\n",
       "      <td>DELIVERY ORDER</td>\n",
       "      <td>0.00</td>\n",
       "      <td>6404.00</td>\n",
       "    </tr>\n",
       "    <tr>\n",
       "      <th>1</th>\n",
       "      <td>ADVISORY COUNCIL ON HISTORIC PRESERVATION</td>\n",
       "      <td>9530</td>\n",
       "      <td>MFG OUTSIDE U.S. - COMMERCIAL INFORMATION TECH...</td>\n",
       "      <td>JPN</td>\n",
       "      <td>INN10PD18370</td>\n",
       "      <td>2013-09-18</td>\n",
       "      <td>2013-09-30</td>\n",
       "      <td>333315.0</td>\n",
       "      <td>PHOTOGRAPHIC AND PHOTOCOPYING EQUIPMENT MANUFA...</td>\n",
       "      <td>7490</td>\n",
       "      <td>MISCELLANEOUS OFFICE MACHINES</td>\n",
       "      <td>SHARP ELECTRONICS CORPORATION</td>\n",
       "      <td>MAHWAH</td>\n",
       "      <td>NEW JERSEY</td>\n",
       "      <td>UNITED STATES</td>\n",
       "      <td>1818012</td>\n",
       "      <td>FIRM FIXED PRICE</td>\n",
       "      <td>DELIVERY ORDER</td>\n",
       "      <td>2047.70</td>\n",
       "      <td>2047.70</td>\n",
       "    </tr>\n",
       "    <tr>\n",
       "      <th>2</th>\n",
       "      <td>ADVISORY COUNCIL ON HISTORIC PRESERVATION</td>\n",
       "      <td>9530</td>\n",
       "      <td>MFG OUTSIDE U.S. - COMMERCIAL INFORMATION TECH...</td>\n",
       "      <td>JPN</td>\n",
       "      <td>INN10PD18370</td>\n",
       "      <td>2015-05-20</td>\n",
       "      <td>2014-08-31</td>\n",
       "      <td>333315.0</td>\n",
       "      <td>PHOTOGRAPHIC AND PHOTOCOPYING EQUIPMENT MANUFA...</td>\n",
       "      <td>7490</td>\n",
       "      <td>MISCELLANEOUS OFFICE MACHINES</td>\n",
       "      <td>SHARP ELECTRONICS CORPORATION</td>\n",
       "      <td>MAHWAH</td>\n",
       "      <td>NEW JERSEY</td>\n",
       "      <td>UNITED STATES</td>\n",
       "      <td>1818012</td>\n",
       "      <td>FIRM FIXED PRICE</td>\n",
       "      <td>DELIVERY ORDER</td>\n",
       "      <td>2587.52</td>\n",
       "      <td>2587.52</td>\n",
       "    </tr>\n",
       "    <tr>\n",
       "      <th>3</th>\n",
       "      <td>ADVISORY COUNCIL ON HISTORIC PRESERVATION</td>\n",
       "      <td>9530</td>\n",
       "      <td>MFG OUTSIDE U.S. - COMMERCIAL INFORMATION TECH...</td>\n",
       "      <td>JPN</td>\n",
       "      <td>INN10PD18370</td>\n",
       "      <td>2015-06-22</td>\n",
       "      <td>2014-08-31</td>\n",
       "      <td>333315.0</td>\n",
       "      <td>PHOTOGRAPHIC AND PHOTOCOPYING EQUIPMENT MANUFA...</td>\n",
       "      <td>7490</td>\n",
       "      <td>MISCELLANEOUS OFFICE MACHINES</td>\n",
       "      <td>SHARP ELECTRONICS CORPORATION</td>\n",
       "      <td>MAHWAH</td>\n",
       "      <td>NEW JERSEY</td>\n",
       "      <td>UNITED STATES</td>\n",
       "      <td>1818012</td>\n",
       "      <td>FIRM FIXED PRICE</td>\n",
       "      <td>DELIVERY ORDER</td>\n",
       "      <td>-1630.24</td>\n",
       "      <td>-1630.24</td>\n",
       "    </tr>\n",
       "    <tr>\n",
       "      <th>4</th>\n",
       "      <td>AFRICAN DEVELOPMENT FOUNDATION</td>\n",
       "      <td>1141</td>\n",
       "      <td>MFG OUTSIDE U.S. - UNREASONABLE COST</td>\n",
       "      <td>JPN</td>\n",
       "      <td>TFSAADF140059</td>\n",
       "      <td>2014-09-15</td>\n",
       "      <td>2015-01-13</td>\n",
       "      <td>423110.0</td>\n",
       "      <td>AUTOMOBILE AND OTHER MOTOR VEHICLE MERCHANT WH...</td>\n",
       "      <td>2310</td>\n",
       "      <td>PASSENGER MOTOR VEHICLES</td>\n",
       "      <td>TOYOTA GIBRALTAR STOCKHOLDINGS LTD</td>\n",
       "      <td>GIBRALTAR</td>\n",
       "      <td>NaN</td>\n",
       "      <td>GIBRALTAR</td>\n",
       "      <td>565409018</td>\n",
       "      <td>FIRM FIXED PRICE</td>\n",
       "      <td>PURCHASE ORDER</td>\n",
       "      <td>35324.99</td>\n",
       "      <td>35324.99</td>\n",
       "    </tr>\n",
       "  </tbody>\n",
       "</table>\n",
       "</div>"
      ],
      "text/plain": [
       "                              Funding_Agency Funding_Agency_ID  \\\n",
       "0  ADVISORY COUNCIL ON HISTORIC PRESERVATION              9530   \n",
       "1  ADVISORY COUNCIL ON HISTORIC PRESERVATION              9530   \n",
       "2  ADVISORY COUNCIL ON HISTORIC PRESERVATION              9530   \n",
       "3  ADVISORY COUNCIL ON HISTORIC PRESERVATION              9530   \n",
       "4             AFRICAN DEVELOPMENT FOUNDATION              1141   \n",
       "\n",
       "                              Place_Manufacture_Desc Country_Origin_Code  \\\n",
       "0  MFG OUTSIDE U.S. - COMMERCIAL INFORMATION TECH...                 JPN   \n",
       "1  MFG OUTSIDE U.S. - COMMERCIAL INFORMATION TECH...                 JPN   \n",
       "2  MFG OUTSIDE U.S. - COMMERCIAL INFORMATION TECH...                 JPN   \n",
       "3  MFG OUTSIDE U.S. - COMMERCIAL INFORMATION TECH...                 JPN   \n",
       "4               MFG OUTSIDE U.S. - UNREASONABLE COST                 JPN   \n",
       "\n",
       "            PIID Date_Signed Completion_Date  NAICS_Code  \\\n",
       "0   INN10PD18370  2013-08-30      2014-08-31    333315.0   \n",
       "1   INN10PD18370  2013-09-18      2013-09-30    333315.0   \n",
       "2   INN10PD18370  2015-05-20      2014-08-31    333315.0   \n",
       "3   INN10PD18370  2015-06-22      2014-08-31    333315.0   \n",
       "4  TFSAADF140059  2014-09-15      2015-01-13    423110.0   \n",
       "\n",
       "                                   NAICS_Description Prod_Service_Code  \\\n",
       "0  PHOTOGRAPHIC AND PHOTOCOPYING EQUIPMENT MANUFA...              7490   \n",
       "1  PHOTOGRAPHIC AND PHOTOCOPYING EQUIPMENT MANUFA...              7490   \n",
       "2  PHOTOGRAPHIC AND PHOTOCOPYING EQUIPMENT MANUFA...              7490   \n",
       "3  PHOTOGRAPHIC AND PHOTOCOPYING EQUIPMENT MANUFA...              7490   \n",
       "4  AUTOMOBILE AND OTHER MOTOR VEHICLE MERCHANT WH...              2310   \n",
       "\n",
       "               Prod_Service_Desc                         Vendor_Name  \\\n",
       "0  MISCELLANEOUS OFFICE MACHINES       SHARP ELECTRONICS CORPORATION   \n",
       "1  MISCELLANEOUS OFFICE MACHINES       SHARP ELECTRONICS CORPORATION   \n",
       "2  MISCELLANEOUS OFFICE MACHINES       SHARP ELECTRONICS CORPORATION   \n",
       "3  MISCELLANEOUS OFFICE MACHINES       SHARP ELECTRONICS CORPORATION   \n",
       "4       PASSENGER MOTOR VEHICLES  TOYOTA GIBRALTAR STOCKHOLDINGS LTD   \n",
       "\n",
       "  Vendor_City Vendor_State Vendor_Country    DUNS_No     Contract_Type  \\\n",
       "0      MAHWAH   NEW JERSEY  UNITED STATES    1818012  FIRM FIXED PRICE   \n",
       "1      MAHWAH   NEW JERSEY  UNITED STATES    1818012  FIRM FIXED PRICE   \n",
       "2      MAHWAH   NEW JERSEY  UNITED STATES    1818012  FIRM FIXED PRICE   \n",
       "3      MAHWAH   NEW JERSEY  UNITED STATES    1818012  FIRM FIXED PRICE   \n",
       "4   GIBRALTAR          NaN      GIBRALTAR  565409018  FIRM FIXED PRICE   \n",
       "\n",
       "   Award_IDV_Type  Total_Contract_Val  Action_Obligation  \n",
       "0  DELIVERY ORDER                0.00            6404.00  \n",
       "1  DELIVERY ORDER             2047.70            2047.70  \n",
       "2  DELIVERY ORDER             2587.52            2587.52  \n",
       "3  DELIVERY ORDER            -1630.24           -1630.24  \n",
       "4  PURCHASE ORDER            35324.99           35324.99  "
      ]
     },
     "execution_count": 1,
     "metadata": {},
     "output_type": "execute_result"
    }
   ],
   "source": [
    "import numpy as np\n",
    "import pandas as pd\n",
    "import matplotlib.pyplot as plt\n",
    "import seaborn as sns\n",
    "%matplotlib inline\n",
    "sns.set_style(style='darkgrid')\n",
    "\n",
    "buy = pd.read_excel('../../_Datasets/Buy_American_Act.xls')\n",
    "new_col = ['Funding_Agency', 'Funding_Agency_ID',\n",
    "       'Place_Manufacture_Desc',\n",
    "       'Country_Origin_Code', 'PIID', 'Date_Signed',\n",
    "       'Completion_Date', 'NAICS_Code', 'NAICS_Description',\n",
    "       'Prod_Service_Code', 'Prod_Service_Desc',\n",
    "       'Vendor_Name', 'Vendor_City', 'Vendor_State', 'Vendor_Country',\n",
    "       'DUNS_No', 'Contract_Type', 'Award_IDV_Type',\n",
    "       'Total_Contract_Val',\n",
    "       'Action_Obligation']\n",
    "buy.columns = new_col\n",
    "buy.head(5)"
   ]
  },
  {
   "cell_type": "markdown",
   "metadata": {},
   "source": [
    "Empty values and NaN do not seem to be a major issue when using the info() method. Vendor state has many missing values, but it is not likely critical for our questions. Without several numeric values, the describe() method won't tell much."
   ]
  },
  {
   "cell_type": "code",
   "execution_count": 2,
   "metadata": {
    "scrolled": true
   },
   "outputs": [
    {
     "name": "stdout",
     "output_type": "stream",
     "text": [
      "<class 'pandas.core.frame.DataFrame'>\n",
      "RangeIndex: 59535 entries, 0 to 59534\n",
      "Data columns (total 20 columns):\n",
      "Funding_Agency            59535 non-null object\n",
      "Funding_Agency_ID         59535 non-null object\n",
      "Place_Manufacture_Desc    59535 non-null object\n",
      "Country_Origin_Code       59176 non-null object\n",
      "PIID                      59535 non-null object\n",
      "Date_Signed               59535 non-null datetime64[ns]\n",
      "Completion_Date           59535 non-null datetime64[ns]\n",
      "NAICS_Code                59502 non-null float64\n",
      "NAICS_Description         59502 non-null object\n",
      "Prod_Service_Code         59531 non-null object\n",
      "Prod_Service_Desc         59531 non-null object\n",
      "Vendor_Name               59526 non-null object\n",
      "Vendor_City               59530 non-null object\n",
      "Vendor_State              44843 non-null object\n",
      "Vendor_Country            59463 non-null object\n",
      "DUNS_No                   59535 non-null int64\n",
      "Contract_Type             59463 non-null object\n",
      "Award_IDV_Type            59535 non-null object\n",
      "Total_Contract_Val        59535 non-null float64\n",
      "Action_Obligation         59535 non-null float64\n",
      "dtypes: datetime64[ns](2), float64(3), int64(1), object(14)\n",
      "memory usage: 9.1+ MB\n"
     ]
    }
   ],
   "source": [
    "buy.info()"
   ]
  },
  {
   "cell_type": "code",
   "execution_count": 20,
   "metadata": {
    "scrolled": true
   },
   "outputs": [
    {
     "name": "stdout",
     "output_type": "stream",
     "text": [
      "Funding_Agency\n",
      " 203\n",
      "Funding_Agency_ID\n",
      " 201\n",
      "Place_Manufacture_Desc\n",
      " 5\n",
      "Country_Origin_Code\n",
      " 192\n",
      "PIID\n",
      " 47275\n",
      "Date_Signed\n",
      " 1667\n",
      "Completion_Date\n",
      " 3266\n",
      "NAICS_Code\n",
      " 713\n",
      "NAICS_Description\n",
      " 704\n",
      "Prod_Service_Code\n",
      " 565\n",
      "Prod_Service_Desc\n",
      " 571\n",
      "Vendor_Name\n",
      " 7132\n",
      "Vendor_City\n",
      " 2743\n",
      "Vendor_State\n",
      " 54\n",
      "Vendor_Country\n",
      " 105\n",
      "DUNS_No\n",
      " 6788\n",
      "Contract_Type\n",
      " 14\n",
      "Award_IDV_Type\n",
      " 4\n",
      "Total_Contract_Val\n",
      " 40740\n",
      "Action_Obligation\n",
      " 40901\n"
     ]
    }
   ],
   "source": [
    "for col in buy.columns:\n",
    "    print(\"{}\\n\".format(str(col)), len(buy[col].unique()))"
   ]
  },
  {
   "cell_type": "code",
   "execution_count": 37,
   "metadata": {},
   "outputs": [
    {
     "name": "stderr",
     "output_type": "stream",
     "text": [
      "C:\\Users\\seapea\\Anaconda3\\lib\\site-packages\\scipy\\stats\\stats.py:1713: FutureWarning: Using a non-tuple sequence for multidimensional indexing is deprecated; use `arr[tuple(seq)]` instead of `arr[seq]`. In the future this will be interpreted as an array index, `arr[np.array(seq)]`, which will result either in an error or a different result.\n",
      "  return np.add.reduce(sorted[indexer] * weights, axis=axis) / sumval\n"
     ]
    },
    {
     "data": {
      "text/plain": [
       "<matplotlib.axes._subplots.AxesSubplot at 0x233b27feda0>"
      ]
     },
     "execution_count": 37,
     "metadata": {},
     "output_type": "execute_result"
    },
    {
     "data": {
      "image/png": "[encoded data removed]",
      "text/plain": [
       "<Figure size 864x576 with 1 Axes>"
      ]
     },
     "metadata": {},
     "output_type": "display_data"
    }
   ],
   "source": [
    "plt.figure(figsize=(12,8))\n",
    "sns.violinplot(x=buy['Action_Obligation'])"
   ]
  },
  {
   "cell_type": "markdown",
   "metadata": {},
   "source": [
    "## Notes\n",
    "\n",
    "The violinplot is not doing a good job of telling us much. The count around zero is overwhelmingly large. A very large outlier is likely skewing the information and spreading out the values too much for insight. The describe() method trick on this column confirms this is the case."
   ]
  },
  {
   "cell_type": "code",
   "execution_count": 29,
   "metadata": {},
   "outputs": [
    {
     "data": {
      "text/plain": [
       "count    5.953500e+04\n",
       "mean     6.371874e+04\n",
       "std      1.175886e+06\n",
       "min     -1.255044e+07\n",
       "25%      3.101250e+02\n",
       "50%      4.955000e+03\n",
       "75%      1.802800e+04\n",
       "max      1.331093e+08\n",
       "Name: Action_Obligation, dtype: float64"
      ]
     },
     "execution_count": 29,
     "metadata": {},
     "output_type": "execute_result"
    }
   ],
   "source": [
    "buy['Action_Obligation'].describe()"
   ]
  },
  {
   "cell_type": "code",
   "execution_count": 47,
   "metadata": {},
   "outputs": [
    {
     "data": {
      "text/plain": [
       "<matplotlib.axes._subplots.AxesSubplot at 0x233ae963a58>"
      ]
     },
     "execution_count": 47,
     "metadata": {},
     "output_type": "execute_result"
    },
    {
     "data": {
      "image/png": "[encoded data removed]",
      "text/plain": [
       "<Figure size 864x576 with 1 Axes>"
      ]
     },
     "metadata": {},
     "output_type": "display_data"
    }
   ],
   "source": [
    "plt.figure(figsize=(12,8))\n",
    "buy.groupby('Date_Signed')['Action_Obligation'].sum().plot()"
   ]
  },
  {
   "cell_type": "code",
   "execution_count": null,
   "metadata": {},
   "outputs": [],
   "source": []
  },
  {
   "cell_type": "code",
   "execution_count": 43,
   "metadata": {
    "scrolled": true
   },
   "outputs": [
    {
     "data": {
      "text/plain": [
       "CHN    0.117362\n",
       "MEX    0.107932\n",
       "CAN    0.106006\n",
       "FRA    0.080252\n",
       "JPN    0.058470\n",
       "DEU    0.056661\n",
       "GBR    0.049716\n",
       "KOR    0.049226\n",
       "TWN    0.033392\n",
       "ZAF    0.024013\n",
       "CHE    0.022763\n",
       "IND    0.022627\n",
       "ITA    0.014668\n",
       "SGP    0.012961\n",
       "MYS    0.009159\n",
       "ISR    0.007723\n",
       "QAT    0.007419\n",
       "USA    0.007351\n",
       "SWE    0.006962\n",
       "NGA    0.006455\n",
       "AUS    0.006422\n",
       "KEN    0.006253\n",
       "NLD    0.006016\n",
       "THA    0.005458\n",
       "GIN    0.005357\n",
       "IRQ    0.005256\n",
       "ARE    0.005239\n",
       "HTI    0.005205\n",
       "NZL    0.005154\n",
       "IDN    0.005137\n",
       "         ...   \n",
       "ERI    0.000051\n",
       "TTO    0.000051\n",
       "IOT    0.000051\n",
       "MWI    0.000051\n",
       "SSD    0.000051\n",
       "ZWE    0.000051\n",
       "BRN    0.000034\n",
       "WSM    0.000034\n",
       "LBN    0.000034\n",
       "BLR    0.000034\n",
       "COM    0.000034\n",
       "COD    0.000034\n",
       "SHN    0.000034\n",
       "ATF    0.000034\n",
       "BDI    0.000034\n",
       "PRY    0.000034\n",
       "UZB    0.000017\n",
       "IRN    0.000017\n",
       "MUS    0.000017\n",
       "STP    0.000017\n",
       "FJI    0.000017\n",
       "KIR    0.000017\n",
       "XQZ    0.000017\n",
       "MNP    0.000017\n",
       "NIU    0.000017\n",
       "SYR    0.000017\n",
       "BMU    0.000017\n",
       "CYP    0.000017\n",
       "VAT    0.000017\n",
       "FRO    0.000017\n",
       "Name: Country_Origin_Code, Length: 191, dtype: float64"
      ]
     },
     "execution_count": 43,
     "metadata": {},
     "output_type": "execute_result"
    }
   ],
   "source": [
    "(buy['Country_Origin_Code'].dropna().value_counts() / buy['Country_Origin_Code'].dropna().count()).sort_values(ascending=False)"
   ]
  }
 ],
 "metadata": {
  "kernelspec": {
   "display_name": "Python 3",
   "language": "python",
   "name": "python3"
  },
  "language_info": {
   "codemirror_mode": {
    "name": "ipython",
    "version": 3
   },
   "file_extension": ".py",
   "mimetype": "text/x-python",
   "name": "python",
   "nbconvert_exporter": "python",
   "pygments_lexer": "ipython3",
   "version": "3.6.6"
  }
 },
 "nbformat": 4,
 "nbformat_minor": 2
}
