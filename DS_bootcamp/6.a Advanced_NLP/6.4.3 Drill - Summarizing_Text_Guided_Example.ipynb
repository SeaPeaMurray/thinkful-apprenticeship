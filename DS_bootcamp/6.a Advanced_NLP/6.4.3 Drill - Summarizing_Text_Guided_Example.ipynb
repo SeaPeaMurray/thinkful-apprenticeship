{
 "cells": [
  {
   "cell_type": "code",
   "execution_count": 2,
   "metadata": {},
   "outputs": [],
   "source": [
    "import numpy as np\n",
    "import pandas as pd\n",
    "import scipy\n",
    "import matplotlib.pyplot as plt\n",
    "import networkx as nx\n",
    "import spacy\n",
    "from sklearn.feature_extraction.text import TfidfVectorizer\n",
    "import seaborn as sns\n",
    "%matplotlib inline"
   ]
  },
  {
   "cell_type": "code",
   "execution_count": 3,
   "metadata": {},
   "outputs": [],
   "source": [
    "# Importing the text the lazy way.\n",
    "gatsby_orig=\"In my younger and more vulnerable years my father gave me some advice that I've been turning over in my mind ever since. \\\"Whenever you feel like criticizing any one,\\\" he told me, \\\"just remember that all the people in this world haven't had the advantages that you've had.\\\" He didn't say any more but we've always been unusually communicative in a reserved way, and I understood that he meant a great deal more than that. In consequence I'm inclined to reserve all judgments, a habit that has opened up many curious natures to me and also made me the victim of not a few veteran bores. The abnormal mind is quick to detect and attach itself to this quality when it appears in a normal person, and so it came about that in college I was unjustly accused of being a politician, because I was privy to the secret griefs of wild, unknown men. Most of the confidences were unsought--frequently I have feigned sleep, preoccupation, or a hostile levity when I realized by some unmistakable sign that an intimate revelation was quivering on the horizon--for the intimate revelations of young men or at least the terms in which they express them are usually plagiaristic and marred by obvious suppressions. Reserving judgments is a matter of infinite hope. I am still a little afraid of missing something if I forget that, as my father snobbishly suggested, and I snobbishly repeat a sense of the fundamental decencies is parcelled out unequally at birth. And, after boasting this way of my tolerance, I come to the admission that it has a limit. Conduct may be founded on the hard rock or the wet marshes but after a certain point I don't care what it's founded on. When I came back from the East last autumn I felt that I wanted the world to be in uniform and at a sort of moral attention forever; I wanted no more riotous excursions with privileged glimpses into the human heart. Only Gatsby, the man who gives his name to this book, was exempt from my reaction--Gatsby who represented everything for which I have an unaffected scorn. If personality is an unbroken series of successful gestures, then there was something gorgeous about him, some heightened sensitivity to the promises of life, as if he were related to one of those intricate machines that register earthquakes ten thousand miles away. This responsiveness had nothing to do with that flabby impressionability which is dignified under the name of the \\\"creative temperament\\\"--it was an extraordinary gift for hope, a romantic readiness such as I have never found in any other person and which it is not likely I shall ever find again. No--Gatsby turned out all right at the end; it is what preyed on Gatsby, what foul dust floated in the wake of his dreams that temporarily closed out my interest in the abortive sorrows and short-winded elations of men.\"\n",
    "\n",
    "# We want to use the standard english-language parser.\n",
    "parser = spacy.load('en_core_web_md')\n",
    "\n",
    "# Parsing Gatsby.\n",
    "gatsby = parser(gatsby_orig)\n",
    "\n",
    "# Dividing the text into sentences and storing them as a list of strings.\n",
    "sentences=[]\n",
    "for span in gatsby.sents:\n",
    "    # go from the start to the end of each span, returning each token in the sentence\n",
    "    # combine each token using join()\n",
    "    sent = ''.join(gatsby[i].string for i in range(span.start, span.end)).strip()\n",
    "    sentences.append(sent)\n",
    "\n",
    "# Creating the tf-idf matrix.\n",
    "counter = TfidfVectorizer(lowercase=False, \n",
    "                          stop_words=None,\n",
    "                          ngram_range=(1, 1), \n",
    "                          analyzer=u'word', \n",
    "                          max_df=.5, \n",
    "                          min_df=1,\n",
    "                          max_features=None, \n",
    "                          vocabulary=None, \n",
    "                          binary=False)\n",
    "\n",
    "#Applying the vectorizer\n",
    "data_counts=counter.fit_transform(sentences)"
   ]
  },
  {
   "cell_type": "code",
   "execution_count": 4,
   "metadata": {},
   "outputs": [
    {
     "name": "stdout",
     "output_type": "stream",
     "text": [
      "(0.06634505728672438, 'The abnormal mind is quick to detect and attach itself to this quality when it appears in a normal person, and so it came about that in college I was unjustly accused of being a politician, because I was privy to the secret griefs of wild, unknown men.')\n"
     ]
    }
   ],
   "source": [
    "# Calculating similarity\n",
    "similarity = data_counts * data_counts.T\n",
    "\n",
    "# Identifying the sentence with the highest rank.\n",
    "nx_graph = nx.from_scipy_sparse_matrix(similarity)\n",
    "ranks=nx.pagerank(nx_graph, alpha=.85, tol=.00000001)\n",
    "\n",
    "ranked = sorted(((ranks[i],s) for i,s in enumerate(sentences)),\n",
    "                reverse=True)\n",
    "print(ranked[0])"
   ]
  },
  {
   "cell_type": "code",
   "execution_count": 50,
   "metadata": {
    "scrolled": true
   },
   "outputs": [
    {
     "name": "stdout",
     "output_type": "stream",
     "text": [
      "done!\n"
     ]
    }
   ],
   "source": [
    "# Modified code for bigrams\n",
    "gat = []\n",
    "for token in gatsby:\n",
    "    if len(gatsby) - token.i == 1:\n",
    "        break\n",
    "    span = gatsby[token.i: token.i + 2]\n",
    "    item_ = [token for token in span if (token.pos_ == 'NOUN' or token.pos_ == 'ADJ')]\n",
    "    if len(item_) == 2:\n",
    "        gat.append(span)\n",
    "        \n",
    "spans = set([span.text for span in gat])\n",
    "\n",
    "adjacency=pd.DataFrame(columns=spans,index=spans,data=0)    \n",
    "\n",
    "for i, word in enumerate(gatsby):\n",
    "    span = gatsby[i:i + 2]\n",
    "    if any([span == item for item in gat]):\n",
    "        end=max(0,len(gatsby)-(len(gatsby)-(i+30)))\n",
    "        nextwords = gatsby[i+1:end]\n",
    "        nextwords_chk = []\n",
    "        for i, tok in enumerate(nextwords):\n",
    "            if len(nextwords) - i == 1:\n",
    "                break\n",
    "            sp = nextwords[i:i+2]\n",
    "            nextwords_chk.append(sp)\n",
    "        inset = [x in gat for x in nextwords_chk]\n",
    "#         print(inset)\n",
    "        span_neighbors = [nextwords_chk[i].text for i in range(len(nextwords_chk)) if inset[i]]\n",
    "#         print([type(i.token) for i in span_neighbors])\n",
    "        if span_neighbors:\n",
    "            adjacency.loc[span.text,span_neighbors] = adjacency.loc[span.text,span_neighbors] + 1\n",
    "print('done!')"
   ]
  },
  {
   "cell_type": "code",
   "execution_count": 52,
   "metadata": {},
   "outputs": [
    {
     "name": "stdout",
     "output_type": "stream",
     "text": [
      "[(0.03418122453632275, 'young men'), (0.033445952555567884, 'last autumn'), (0.03325348452281698, 'hostile levity'), (0.031117870191397588, 'many curious'), (0.031117870191397584, 'curious natures')]\n"
     ]
    },
    {
     "name": "stderr",
     "output_type": "stream",
     "text": [
      "/home/seapea/anaconda3/lib/python3.7/site-packages/ipykernel_launcher.py:2: FutureWarning: Method .as_matrix will be removed in a future version. Use .values instead.\n",
      "  \n"
     ]
    }
   ],
   "source": [
    "# Running TextRank\n",
    "nx_words = nx.from_numpy_matrix(adjacency.as_matrix())\n",
    "ranks=nx.pagerank(nx_words, alpha=.85, tol=.00000001)\n",
    "\n",
    "# Identifying the five most highly ranked keywords\n",
    "ranked = sorted(((ranks[i],s) for i,s in enumerate(spans)),\n",
    "                reverse=True)\n",
    "print(ranked[:5])"
   ]
  },
  {
   "cell_type": "markdown",
   "metadata": {},
   "source": [
    "### Tricky exercise\n",
    "Ignoring the fairly convoluted steps, we really can't expect the model to do much of anything with such a small corpus and bigrams. We had to use a large neighboring window to get any results (a window of 20 yielded all False inset values). WITH that said, the first two bigrams do look decent. I will try to incorporate this into my final capstone, as it is interesting."
   ]
  },
  {
   "cell_type": "code",
   "execution_count": 53,
   "metadata": {},
   "outputs": [],
   "source": [
    "# # Removing stop words and punctuation, then getting a list of all unique words in the text\n",
    "# gatsby_filt = [word for word in gatsby if word.is_stop==False and (word.pos_=='NOUN' or word.pos_=='ADJ')]\n",
    "# words = set(gatsby_filt)\n",
    "# adjacency = pd.DataFrame(columns=words, index=words, data=0)\n",
    "\n",
    "# for i, word in enumerate(gatsby):\n",
    "#     if any([word == item for item in gatsby_filt]):\n",
    "#         end = max(0, len(gatsby) - (len(gatsby) - (i + 5)))\n",
    "#         nextwords = gatsby[i + 1:end]\n",
    "#         inset = [x in gatsby_filt for x in nextwords]\n",
    "#         neighbors = [nextwords[i] for i in range(len(nextwords)) if inset[i]]\n",
    "#         print([type(i) for i in neighbors])\n",
    "#         if neighbors:\n",
    "#             adjacency.loc[word, neighbors] = adjacency.loc[word, neighbors] + 1\n",
    "# adjacency.head()"
   ]
  }
 ],
 "metadata": {
  "hide_input": false,
  "kernelspec": {
   "display_name": "Python 3",
   "language": "python",
   "name": "python3"
  },
  "language_info": {
   "codemirror_mode": {
    "name": "ipython",
    "version": 3
   },
   "file_extension": ".py",
   "mimetype": "text/x-python",
   "name": "python",
   "nbconvert_exporter": "python",
   "pygments_lexer": "ipython3",
   "version": "3.7.3"
  }
 },
 "nbformat": 4,
 "nbformat_minor": 2
}
