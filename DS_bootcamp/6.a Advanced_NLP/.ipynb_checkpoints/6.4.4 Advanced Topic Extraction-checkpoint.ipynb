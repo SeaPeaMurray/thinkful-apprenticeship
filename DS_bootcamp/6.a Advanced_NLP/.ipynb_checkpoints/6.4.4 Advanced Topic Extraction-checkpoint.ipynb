{
 "cells": [
  {
   "cell_type": "code",
   "execution_count": 2,
   "metadata": {
    "collapsed": true
   },
   "outputs": [],
   "source": [
    "import numpy as np\n",
    "import pandas as pd\n",
    "import scipy\n",
    "import matplotlib.pyplot as plt\n",
    "import seaborn as sns\n",
    "%matplotlib inline"
   ]
  },
  {
   "cell_type": "markdown",
   "metadata": {},
   "source": [
    "In the first NLP lesson, we introduced unsupervised topic extraction through Latent Semantic Analysis (LSA), in which principal components analysis is run on a tf-idf matrix.  The resulting components are considered 'topics' within the text.  In this assignment, we are going to review some additional topic extraction methods.  All of these methods requite the user to specify in advance the number of topics to extract.\n",
    "\n",
    "# What is in a topic?  The problem of interpretability.\n",
    "\n",
    "A problem with LSA is that the link between words and topics isn't very clear.  Some words will have high positive loadings on a component, while other words will have high negative loadings on a component.  It's easy to understand that a high positive loading means that those words are highly relevant to the topic represented by that component.  But what does a high negative loading mean?  Is the topic linked to the opposite of the negative words in some way?  This lack of clarity can make it hard to understand exactly what topic a component represents.\n",
    "\n",
    "Here is an example, drawn from the LSA lesson.  We take Emma by Jane Austen, parse it, convert it to a tf-idf matrix, then run a PCA on it (using the TruncatedSVD command so that it won't center the data and remove sparsity).  Then we'll  look at the relationship between a few words and the set of topics/components."
   ]
  },
  {
   "cell_type": "code",
   "execution_count": 3,
   "metadata": {},
   "outputs": [
    {
     "data": {
      "image/png": "[encoded data removed]",
      "text/plain": [
       "<matplotlib.figure.Figure at 0x156cc576b70>"
      ]
     },
     "metadata": {},
     "output_type": "display_data"
    }
   ],
   "source": [
    "from nltk.corpus import gutenberg\n",
    "import re\n",
    "from sklearn.feature_extraction.text import TfidfVectorizer\n",
    "from sklearn.decomposition import TruncatedSVD\n",
    "from sklearn.pipeline import make_pipeline\n",
    "from sklearn.preprocessing import Normalizer\n",
    "\n",
    "\n",
    "#reading in the data, this time in the form of paragraphs\n",
    "emma=gutenberg.paras('austen-emma.txt')\n",
    "#processing\n",
    "emma_paras=[]\n",
    "for paragraph in emma:\n",
    "    para=paragraph[0]\n",
    "    #removing the double-dash from all words\n",
    "    para=[re.sub(r'--','',word) for word in para]\n",
    "    #Forming each paragraph into a string and adding it to the list of strings.\n",
    "    emma_paras.append(' '.join(para))\n",
    "\n",
    "# Creating the tf-idf matrix.\n",
    "vectorizer = TfidfVectorizer()\n",
    "emma_paras_tfidf=vectorizer.fit_transform(emma_paras)\n",
    "\n",
    "# Generating 130 topics.\n",
    "svd= TruncatedSVD(130)\n",
    "lsa = make_pipeline(svd, Normalizer(copy=False))\n",
    "emma_paras_lsa = lsa.fit_transform(emma_paras_tfidf)\n",
    "\n",
    "# Getting the word list.\n",
    "terms = vectorizer.get_feature_names()\n",
    "\n",
    "# Loading scores for each word on each topic/component.\n",
    "words_by_topic=emma_paras_tfidf.T * emma_paras_lsa\n",
    "\n",
    "# Linking the loadings to the words in an easy-to-read way.\n",
    "components=pd.DataFrame(words_by_topic,index=terms)\n",
    "\n",
    "components.loc['marriage'].hist()\n",
    "plt.show()\n"
   ]
  },
  {
   "cell_type": "markdown",
   "metadata": {},
   "source": [
    "# LSA and words\n",
    "\n",
    "As shown above, the word 'marriage' features in several topics (the parts of the histogram where the loading is not zero).  What does that mean?  Are topics with negative loadings for 'marriage' topics having to do with the opposite of  marriage (such as divorce), or are they just totally unrelated to marriage (such as turnips)?   There's no way to know without examining every topic individually.  \n",
    "\n",
    "The point of this is to show that LSA is useful as a data reduction tool, but if you want to be able to understand how the topics relate to the words in your corpus, it is not the best technique because of its use of negative loadings.  Unfortunately, negative loadings are an inherent part of PCA.  Fortunately, there are other methods better suited to dealing with sparse, non-negative matrices.\n",
    "\n",
    "# Topic modeling with LSA variants\n",
    "\n",
    "## Probabilistic LSA\n",
    "\n",
    "In LSA, the goal is to reproduce the tf-idf matrix using a smaller set of components, which we then call 'topics.'  A modification, *probabilistic* LSA (pLSA, also called probabilistic Latent Semantic Indexing, or pLSI) approaches the problem in the opposite direction.  pLSA begins by assuming the existence of a set of topics, that set being unknown at the start (hidden variables that are believed to influence the data are called *latent* variables).  A document that contains a topic will have a high probability of containing some words (related to the topic), and a low probability of containing other words (unrelated to the topic).  Documents also have a probability of featuring each topic, low for some topics and high for others.\n",
    "\n",
    "In equation form, we are saying that the probability of a word $w$ appearing in a given document $d$ is a function of the  probability of a word occurring given a topic $t$ times the probabiltiy of a topic occurring given that document, summed across topics, times the probability of the given document.\n",
    "\n",
    "$$P(d,w)=P(d)\\sum_t P(w|t)P(t|d)$$\n",
    "\n",
    "Now, the nice thing is that we can easily calculate $P(d,w)$ and $P(d)$.  The probability of a word occurring in a document is the number of times the word appears in the document divided by the total number of words in the document.  the probability of a document, in turn, is the inverse of the number of documents in our corpus.  \n",
    "\n",
    "Having those things, we can then look for topics/word/document combinations that maximize the likelihood of getting the arrangement of documents and words that we observe in our data.  This idea of *maximizing likelihood* is also called **expectation maximization**.  It is an iterative process where each iteration has two steps.  In the first step (called the *E* step), the algorithm proposes a probability distribution for the topics based on the current model.  In the second step (the *M* step), the model parameters are re-estimated on the basis of the new probability distribution.    \n",
    "\n",
    "(Confusing?  Basically, we start by proposing a set of topics, then look at how likely the data we have would be given those topics.  Then we adjust our model based on what we learn, leading to new topics.  This is the opposite of LSA, where we start with the data and solve for a set of component-topics.)\n",
    "\n",
    "Iteration continues until the model reaches stopping conditions as defined by hyperparameters.  The most common stopping condition is when the change in the logged likelihood of the data between two iterations falls below a certain threshold.\n",
    "\n",
    "Like other algorithms based on iteration, such as gradient descent, *EM* solutions may not always converge on gloablly optimal parameter estimates.  Varying the starting parameter estimates can help to avoid this problem- if the model converges to similar or identical parameter estimates given different sets of starting parameters, the solution is more likely to be globally optimal.\n",
    "\n",
    "pLSA solves for a unique topic distribution for each document ($P(t|d)$).  This leads to some drawbacks:\n",
    "\n",
    "* the number of parameters increases linearly with the number of documents\n",
    "* high risk of overfitting \n",
    "* model does not generalize to new documents, only those in the corpus at the time the  model is fitted\n",
    "\n",
    "## Latent Dirichlet Allocation (LDA)\n",
    "\n",
    "Latent Dirichlet Allocation is a Bayesian implementation of pLSA that includes sparse Dirichlet priors for estimating the probability that a topic will be in a document ($P(t|d)$) and the probability that a word will be in a topic ($P(w|t)$).  Let's break that down:\n",
    "\n",
    "* The sparsity element is important because it tells the model that each document should be composed of only a few topics (with all other topic probabilities set to 0), and each topic should be composed of only a few words that are used frequently.  \n",
    "\n",
    "* The 'Dirichlet' indicates that the distribution is continuous, multivariate, and bounded at 0 and 1 (so it represents probabilities).  \n",
    "\n",
    "* The 'prior' gives information about the suspected likelihood of potential values for the parameters.  In pLSA, all potential values for $P(t|d)$ and $P(w|t)$ are considered equally likely because there is no prior.  \n",
    "\n",
    "LDA is computationally intensive to model, but can be more accurate than pLSA, with less proneness to overfitting.  The model also generalizes to new documents, and so is useful in a situation where the corpus is expected to expand with time.\n",
    "\n",
    "\n",
    "# Topic modeling with Non-Negative Matrix Factorization\n",
    "\n",
    "Latent variables are all very nice, but the need to model such a large number of unknowns makes methods like pLSA and LDA computationally unwieldy.  What if we could have the elegant simplicity of PCA but without the hassle of uninterpretable negative loadings?  That's where **Non-Negative Matrix Factorization** (NNMF) comes in.\n",
    "\n",
    "Like PCA, NNMF is searching for two matrices that, when multiplied together, result in the original data matrix- in this case, the tf-idf matrix.  \n",
    "\n",
    "Unlike PCA, however, in NNMF we apply the constraint that all three matrices (the original and the two new ones) must contain no negative values.  This constraint is why we say that $WH$ will be approximately equal ($\\approx$) rather than exactly equal ($=$):\n",
    "\n",
    "$$tfidf \\approx WH$$\n",
    "\n",
    "In text modeling, $W$ represents the topics, and $H$ describes whether, and to what extent, each topic applies to each document.\n",
    "\n",
    "There are a number of different way to fit an NNMF model.  Generally, the aim is to minimize the cost function $tfidf-WH$, that is, to find values for $W$ and $H$ that result in a matrix as close to $tfidf$ as possible.  Minimization occurs by iteration.  Many different iteration approaches can be used- ´sklearn´ implements NNMF with a coordinate descent algorithm.  \n",
    "\n",
    "In coordinate descent, different elements of the equation are optimized in turn.  Since NNMF is trying to optimize two matrices ($W$ and $H$), a coordinate descent implementation alternates updating $W$ and $H$.  In each update, new values are chosen that shrink the cost function relative to the previous values.  This approach is reminiscent of gradient descent, which we encountered in an earlier lesson.\n",
    "\n",
    "Like other iterative models, NNMF carries the risk of converging on a local, rather than global, minimum.  Different combinations of starting values can be tried to test whether the solution is likely to be global.  A strength of NNMF is that the solution is not only interpretable, but sparse-- most documents are linked to only a few topics, and most topics are linked to only a few words.\n"
   ]
  },
  {
   "cell_type": "markdown",
   "metadata": {},
   "source": [
    "# Choosing a method\n",
    "\n",
    "There is no hard-and-fast rule for choosing a topic extraction method.  Under many circumstances, pLSA and LDA will yield highly similar solutions- since pLSA is faster than LDA, it may be preferred.  If overfitting is a concern, LDA or NNMF may be better choices than pLSA.  NNMF is generally faster than the other solutions.  \n",
    "\n",
    "Given that pLSA, LDA, and NNMF are all vulnerable to converging on a solution that is locally, but not globally, optimal, it may be advisable to apply multiple methods to see whether they yield similar solutions."
   ]
  },
  {
   "cell_type": "code",
   "execution_count": null,
   "metadata": {
    "collapsed": true
   },
   "outputs": [],
   "source": []
  }
 ],
 "metadata": {
  "hide_input": false,
  "kernelspec": {
   "display_name": "Python 3",
   "language": "python",
   "name": "python3"
  },
  "language_info": {
   "codemirror_mode": {
    "name": "ipython",
    "version": 3
   },
   "file_extension": ".py",
   "mimetype": "text/x-python",
   "name": "python",
   "nbconvert_exporter": "python",
   "pygments_lexer": "ipython3",
   "version": "3.7.3"
  }
 },
 "nbformat": 4,
 "nbformat_minor": 2
}
