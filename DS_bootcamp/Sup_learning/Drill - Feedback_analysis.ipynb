{
 "cells": [
  {
   "cell_type": "markdown",
   "metadata": {},
   "source": [
    "# Bayesian sentiment analysis: Yelp, IMDB, and BernoulliNB"
   ]
  },
  {
   "cell_type": "code",
   "execution_count": 189,
   "metadata": {},
   "outputs": [],
   "source": [
    "%matplotlib inline\n",
    "import numpy as np\n",
    "import pandas as pd\n",
    "import matplotlib.pyplot as plt\n",
    "import seaborn as sns"
   ]
  },
  {
   "cell_type": "code",
   "execution_count": 190,
   "metadata": {},
   "outputs": [
    {
     "data": {
      "text/html": [
       "<div>\n",
       "<style scoped>\n",
       "    .dataframe tbody tr th:only-of-type {\n",
       "        vertical-align: middle;\n",
       "    }\n",
       "\n",
       "    .dataframe tbody tr th {\n",
       "        vertical-align: top;\n",
       "    }\n",
       "\n",
       "    .dataframe thead th {\n",
       "        text-align: right;\n",
       "    }\n",
       "</style>\n",
       "<table border=\"1\" class=\"dataframe\">\n",
       "  <thead>\n",
       "    <tr style=\"text-align: right;\">\n",
       "      <th></th>\n",
       "      <th>Review</th>\n",
       "      <th>Outcome</th>\n",
       "    </tr>\n",
       "  </thead>\n",
       "  <tbody>\n",
       "    <tr>\n",
       "      <th>0</th>\n",
       "      <td>Wow... Loved this place.</td>\n",
       "      <td>1</td>\n",
       "    </tr>\n",
       "    <tr>\n",
       "      <th>1</th>\n",
       "      <td>Crust is not good.</td>\n",
       "      <td>0</td>\n",
       "    </tr>\n",
       "    <tr>\n",
       "      <th>2</th>\n",
       "      <td>Not tasty and the texture was just nasty.</td>\n",
       "      <td>0</td>\n",
       "    </tr>\n",
       "    <tr>\n",
       "      <th>3</th>\n",
       "      <td>Stopped by during the late May bank holiday of...</td>\n",
       "      <td>1</td>\n",
       "    </tr>\n",
       "    <tr>\n",
       "      <th>4</th>\n",
       "      <td>The selection on the menu was great and so wer...</td>\n",
       "      <td>1</td>\n",
       "    </tr>\n",
       "  </tbody>\n",
       "</table>\n",
       "</div>"
      ],
      "text/plain": [
       "                                              Review  Outcome\n",
       "0                           Wow... Loved this place.        1\n",
       "1                                 Crust is not good.        0\n",
       "2          Not tasty and the texture was just nasty.        0\n",
       "3  Stopped by during the late May bank holiday of...        1\n",
       "4  The selection on the menu was great and so wer...        1"
      ]
     },
     "execution_count": 190,
     "metadata": {},
     "output_type": "execute_result"
    }
   ],
   "source": [
    "yelp = pd.read_csv('../../_Datasets/yelp_labelled.txt', delimiter='\\t', header=None)\n",
    "yelp.columns = ['Review', 'Outcome']\n",
    "yelp.head()"
   ]
  },
  {
   "cell_type": "code",
   "execution_count": 191,
   "metadata": {},
   "outputs": [],
   "source": [
    "# identify all caps reviews\n",
    "yelp['allcaps'] = yelp.Review.str.isupper()\n",
    "\n",
    "# remove punctuation and make lowercase\n",
    "yelp['Review'] = yelp.Review.str.replace(r'[^a-zA-Z\\d\\s:]', '')\n",
    "yelp['Review'] = yelp.Review.str.lower()\n",
    "yelp['Review'] = yelp.Review.str.strip()\n",
    "yelp['Review_length'] = yelp.Review.str.len()"
   ]
  },
  {
   "cell_type": "code",
   "execution_count": 192,
   "metadata": {
    "scrolled": true
   },
   "outputs": [
    {
     "data": {
      "text/plain": [
       "array(['1', '10', '1199', '12', '15', '15lb', '17', '1979', '30', '30s',\n",
       "       '34ths', '35', '400', '40min', '45', '785', '90', 'accountant',\n",
       "       'ache', 'acknowledged', 'actual', 'ahead', 'airline', 'ala',\n",
       "       'albondigas', 'allergy', 'alone', 'although', 'angry',\n",
       "       'anticipated', 'anymore', 'anytime', 'anyways', 'apart',\n",
       "       'apologize', 'apology', 'appalling', 'apparently', 'appealing',\n",
       "       'appetite', 'appetizer', 'apple', 'arent', 'arepas', 'arrives',\n",
       "       'arriving', 'article', 'asked', 'asking', 'atrocious', 'attached',\n",
       "       'attack', 'attention', 'attitudes', 'average', 'avocado', 'avoid',\n",
       "       'avoided', 'awful', 'awkward', 'awkwardly', 'bad', 'ball',\n",
       "       'bamboo', 'banana', 'bare', 'barely', 'based', 'basically',\n",
       "       'batch', 'batter', 'beensteppedinandtrackedeverywhere', 'begin',\n",
       "       'behind', 'bellagio', 'below', 'besides', 'between', 'bigger',\n",
       "       'biggest', 'binge', 'bird', 'bisque', 'bitches', 'bites', 'blah',\n",
       "       'blame', 'bland', 'blandest', 'bloodiest', 'bloody', 'blow',\n",
       "       'blown', 'blows', 'boba', 'bodes', 'boiled', 'boring', 'bother',\n",
       "       'bottom', 'bouchon', 'bought', 'box', 'boy', 'break', 'breaks',\n",
       "       'brisket', 'brother', 'brownish', 'brushfire', 'bug', 'building',\n",
       "       'burned', 'burrittos', 'bus', 'business', 'businesses', 'bussell',\n",
       "       'busy', 'buying', 'bye', 'cakes', 'calamari', 'call', 'callings',\n",
       "       'camelback', 'car', 'carbs', 'carlys', 'cart', 'cartel', 'cash',\n",
       "       'cashew', 'casino', 'caterpillar', 'caught', 'cause', 'certainly',\n",
       "       'chains', 'changing', 'charcoal', 'charge', 'charged', 'cheap',\n",
       "       'cheated', 'chickens', 'chip', 'chipolte', 'chocolate',\n",
       "       'christmas', 'cibo', 'circumstances', 'class', 'classics',\n",
       "       'climbing', 'closed', 'clue', 'coconut', 'coffee', 'college',\n",
       "       'color', 'combo', 'common', 'complete', 'con:', 'concept',\n",
       "       'concern', 'connoisseur', 'consider', 'consistent', 'constructed',\n",
       "       'contain', 'contained', 'cook', 'cooking', 'corporation',\n",
       "       'correct', 'correction', 'cost', 'costcos', 'count', 'coupons',\n",
       "       'covers', 'crab', 'crostini', 'crowd', 'crumby', 'crust', 'crusty',\n",
       "       'cuisine', 'customers', 'dedicated', 'deep', 'deeply', 'del',\n",
       "       'deliver', 'delivery', 'dennys', 'describing', 'descriptions',\n",
       "       'desired', 'despicable', 'despite', 'deuchebaggery', 'difference',\n",
       "       'dime', 'dipping', 'dirt', 'dirty', 'disagree', 'disappointing',\n",
       "       'disappointment', 'disapppointment', 'disaster', 'disbelief',\n",
       "       'disgrace', 'disgraceful', 'disgust', 'disgusted', 'disgusting',\n",
       "       'disrespected', 'doing', 'dollars', 'doubt', 'douchey', 'doughy',\n",
       "       'downright', 'downside', 'drag', 'drastically', 'drawing',\n",
       "       'dressed', 'dried', 'driest', 'drinking', 'dripping', 'dropped',\n",
       "       'drunk', 'dry', 'due', 'easily', 'edible', 'edinburgh', 'editing',\n",
       "       'eel', 'eew', 'effort', 'either', 'elk', 'else', 'elsewhere',\n",
       "       'employee', 'employees', 'ended', 'english', 'ensued', 'entire',\n",
       "       'eve', 'excalibur', 'excuse', 'expensive', 'experiencing', 'eyes',\n",
       "       'fail', 'fails', 'fair', 'fairly', 'falling', 'famous', 'fat',\n",
       "       'favor', 'fear', 'fella', 'fellow', 'figured', 'filet', 'fill',\n",
       "       'final', 'finally', 'fireball', 'five', 'flat', 'flatlined',\n",
       "       'flavorless', 'flop', 'fly', 'focused', 'fondue', 'foodand',\n",
       "       'foods', 'foodservice', 'foot', 'forever', 'forgetting', 'forth',\n",
       "       'forty', 'forward', 'freaking', 'freezing', 'fridays', 'front',\n",
       "       'frozen', 'frustrated', 'fucking', 'furthermore', 'garden', 'gas',\n",
       "       'generic', 'girlfriends', 'given', 'glass', 'gloveseverything',\n",
       "       'godfathers', 'google', 'gordon', 'gotten', 'grab', 'grandmother',\n",
       "       'gratitude', 'grease', 'greasy', 'greatest', 'greedy', 'greens',\n",
       "       'grill', 'gristle', 'grocery', 'gross', 'grossed', 'ground',\n",
       "       'grow', 'guacamole', 'guess', 'guests', 'gyro', 'ha', 'hadnt',\n",
       "       'hair', 'hamburger', 'happened', 'hard', 'hardly', 'hasnt', 'hate',\n",
       "       'hated', 'having', 'head', 'heads', 'hearts', 'heimer', 'hell',\n",
       "       'hello', 'help', 'her', 'herewhat', 'hi', 'hilarious', 'honeslty',\n",
       "       'honor', 'hopefully', 'hopes', 'horrible', 'hospitality', 'host',\n",
       "       'hostess', 'hours', 'however', 'huevos', 'human', 'humiliated',\n",
       "       'hunan', 'hurry', 'hut', 'ians', 'idea', 'ignore', 'ignored',\n",
       "       'imagination', 'imagine', 'imagined', 'impressive', 'inch',\n",
       "       'inconsiderate', 'indicate', 'indoor', 'industry', 'inflate',\n",
       "       'ingredients', 'inspired', 'instantly', 'instead', 'insulted',\n",
       "       'insults', 'into', 'itdefinitely', 'jenni', 'jerk', 'joeys',\n",
       "       'joke', 'judge', 'judging', 'juice', 'kabuki', 'kitchen', 'known',\n",
       "       'lack', 'lacked', 'lady', 'largely', 'law', 'leather', 'leaves',\n",
       "       'leftover', 'legs', 'let', 'letdown', 'lets', 'lettuce', 'liking',\n",
       "       'limited', 'literally', 'live', 'lived', 'location', 'long',\n",
       "       'longer', 'look', 'looking', 'looks', 'lost', 'loudly', 'lover',\n",
       "       'low', 'loyal', 'luck', 'luke', 'lukewarm', 'mac', 'madhouse',\n",
       "       'magazine', 'main', 'mains', 'making', 'man', 'managed',\n",
       "       'management', 'market', 'martini', 'mary', 'maybe', 'mayowell',\n",
       "       'mean', 'means', 'meatballs', 'mebunch', 'mediocre', 'medium',\n",
       "       'meh', 'mellow', 'melted', 'mess', 'mid', 'might', 'mile', 'milk',\n",
       "       'milkshake', 'min', 'mind', 'minutes', 'mirage', 'missing',\n",
       "       'mistake', 'money', 'moods', 'mortified', 'most', 'mostly',\n",
       "       'movies', 'muffin', 'mushroom', 'myself', 'name', 'nasty', 'neat',\n",
       "       'needed', 'needless', 'negligent', 'neither', 'ninja', 'noca',\n",
       "       'noncustomer', 'none', 'noodles', 'nude', 'number', 'nutshell:',\n",
       "       'obviously', 'occasions', 'offered', 'officially', 'oil', 'ok',\n",
       "       'older', 'olives', 'ones', 'opened', 'operation', 'ordering',\n",
       "       'others', 'otherwise', 'outta', 'overcooked', 'overhaul',\n",
       "       'overhip', 'overpriced', 'owned', 'oysters', 'packed', 'paid',\n",
       "       'palate', 'pale', 'palm', 'pan', 'papers', 'par', 'paradise',\n",
       "       'parents', 'particular', 'parties', 'passed', 'patron', 'patty',\n",
       "       'paying', 'peanuts', 'pepperand', 'perhaps', 'petrified',\n",
       "       'picture', 'pile', 'pissd', 'placed', 'plain', 'plantains',\n",
       "       'plater', 'play', 'please', 'poisoning', 'polite', 'poop', 'poor',\n",
       "       'poorly', 'postinos', 'poured', 'prepare', 'prettyoff',\n",
       "       'privileged', 'probably', 'problem', 'proclaimed', 'profound',\n",
       "       'properly', 'pub', 'publicly', 'pucks', 'pured', 'putting',\n",
       "       'qualified', 'quit', 'ramseys', 'ranch', 'rancheros', 'rapidly',\n",
       "       'rarely', 'rate', 'rated', 'rather', 'rating', 'ratio', 'rave',\n",
       "       'raving', 'read', 'readers', 'reading', 'reason', 'reasons',\n",
       "       'recall', 'recommending', 'refill', 'refrained', 'refried',\n",
       "       'refused', 'register', 'reheated', 'relationship', 'relocated',\n",
       "       'remember', 'replenished', 'reservation', 'rest', 'restaraunt',\n",
       "       'restaurants', 'returning', 'reviewer', 'reviewing', 'revisiting',\n",
       "       'ri', 'ridiculous', 'rinse', 'ripped', 'risotto', 'rock', 'rolled',\n",
       "       'rubber', 'rude', 'rudely', 'rushed', 'ryans', 'sad', 'sadly',\n",
       "       'saganaki', 'salt', 'same', 'sangria', 'sashimi', 'sauces',\n",
       "       'sause', 'saying', 'says', 'scene', 'screwed', 'seat', 'seemed',\n",
       "       'seems', 'seen', 'self', 'send', 'sense', 'services', 'sever',\n",
       "       'sewer', 'shall', 'sharply', 'shocked', 'shoe', 'shoots', 'shop',\n",
       "       'short', 'shots', 'should', 'shouldnt', 'show', 'showed', 'shower',\n",
       "       'sick', 'sign', 'signs', 'silently', 'similarly', 'simply',\n",
       "       'single', 'sitting', 'six', 'slow', 'smaller', 'smashburger',\n",
       "       'smeared', 'smelled', 'smells', 'smoke', 'soggy', 'solidify',\n",
       "       'somehow', 'somewhat', 'soooooo', 'sore', 'sorely', 'sorry',\n",
       "       'sound', 'spaghetti', 'specialand', 'spend', 'spends', 'spices',\n",
       "       'spinach', 'spots', 'spotty', 'sprouts', 'stale', 'standard',\n",
       "       'star', 'started', 'starving', 'steakhouse', 'step', 'stepped',\n",
       "       'stinks', 'stomach', 'stood', 'store', 'strange', 'strangers',\n",
       "       'stretch', 'strike', 'strings', 'struck', 'struggle', 'stupid',\n",
       "       'style', 'styrofoam', 'sub', 'suck', 'sucked', 'sucker', 'sucks',\n",
       "       'suffers', 'sugary', 'suggest', 'summary', 'surprised', 'swung',\n",
       "       'tables', 'tailored', 'talking', 'tasteless', 'teeth', 'tempi',\n",
       "       'tenders', 'tepid', 'terrible', 'theft', 'themselves', 'theyd',\n",
       "       'thinking', 'third', 'thirty', 'thoroughly', 'three', 'thru',\n",
       "       'tolerance', 'tomato', 'tonight', 'took', 'tops', 'total',\n",
       "       'totally', 'touched', 'tough', 'towards', 'traditional', 'tragedy',\n",
       "       'trap', 'trippy', 'trying', 'turkey', 'turn', 'under',\n",
       "       'undercooked', 'underservices', 'understand', 'underwhelming',\n",
       "       'unexperienced', 'unfortunately', 'unhealthy', 'uninspired',\n",
       "       'unless', 'unprofessional', 'unsatisfying', 'untoasted',\n",
       "       'unwelcome', 'unwrapped', 'upgrading', 'uploaded', 'use', 'vacant',\n",
       "       'vain', 'valley', 'veal', 'vegasthere', 'ventilation', 'verge',\n",
       "       'version', 'vomited', 'voted', 'waaaaaayyyyyyyyyy', 'waited',\n",
       "       'waiting', 'wanted', 'wants', 'warmer', 'warnings', 'wash',\n",
       "       'wasnt', 'waste', 'wasted', 'wasting', 'watched', 'water',\n",
       "       'watered', 'wave', 'wayyy', 'weak', 'website', 'wedges', 'weekend',\n",
       "       'weird', 'werent', 'weve', 'whatsoever', 'whether', 'why',\n",
       "       'wienerschnitzel', 'wildly', 'wire', 'without', 'witnessed',\n",
       "       'word', 'worker', 'workers', 'workingeating', 'works', 'worlds',\n",
       "       'worries', 'worse', 'worstannoying', 'wouldnt', 'wouldve', 'wound',\n",
       "       'writing', 'wrong:', 'yaall', 'yama', 'yay', 'yeah', 'yelpers',\n",
       "       'yourself', 'yucky', 'yum', 'zero'], dtype=object)"
      ]
     },
     "execution_count": 192,
     "metadata": {},
     "output_type": "execute_result"
    }
   ],
   "source": [
    "negative_words = np.unique(yelp.Review[yelp.Outcome == 0].str.cat(sep=' ').split())\n",
    "positive_words = np.unique(yelp.Review[yelp.Outcome == 1].str.cat(sep=' ').split())\n",
    "\n",
    "diff = np.setdiff1d(ar1=pd.Series(negative_words).value_counts().keys().ravel(), \n",
    "                    ar2=pd.Series(positive_words).value_counts().keys().ravel())\n",
    "diff"
   ]
  },
  {
   "cell_type": "code",
   "execution_count": 193,
   "metadata": {},
   "outputs": [],
   "source": [
    "words = ['insults', 'rude', 'stupid', 'tasteless', 'underwhelming', 'yucky', 'bland', 'blandest',\n",
    "         'boring', 'hair', 'inconsiderate', 'terrible', 'horrible', 'overcooked', 'ok', 'poop', \n",
    "         'gross', 'grossed', 'humiliated', 'lukewarm', 'mediocre', 'negligent', 'missing', 'overpriced',\n",
    "         'tasteless', 'undercooked', 'underwhelming', 'unprofessional', 'zero']\n",
    "\n",
    "for word in words:\n",
    "    yelp[word] = yelp.Review.str.contains(r'\\b' + word, regex=True)"
   ]
  },
  {
   "cell_type": "code",
   "execution_count": 194,
   "metadata": {},
   "outputs": [
    {
     "data": {
      "text/plain": [
       "<matplotlib.axes._subplots.AxesSubplot at 0x213c0094898>"
      ]
     },
     "execution_count": 194,
     "metadata": {},
     "output_type": "execute_result"
    },
    {
     "data": {
      "image/png": "[encoded data removed]",
      "text/plain": [
       "<Figure size 432x288 with 2 Axes>"
      ]
     },
     "metadata": {
      "needs_background": "light"
     },
     "output_type": "display_data"
    }
   ],
   "source": [
    "sns.heatmap(yelp[words].corr())"
   ]
  },
  {
   "cell_type": "code",
   "execution_count": 195,
   "metadata": {},
   "outputs": [
    {
     "data": {
      "text/html": [
       "<div>\n",
       "<style scoped>\n",
       "    .dataframe tbody tr th:only-of-type {\n",
       "        vertical-align: middle;\n",
       "    }\n",
       "\n",
       "    .dataframe tbody tr th {\n",
       "        vertical-align: top;\n",
       "    }\n",
       "\n",
       "    .dataframe thead th {\n",
       "        text-align: right;\n",
       "    }\n",
       "</style>\n",
       "<table border=\"1\" class=\"dataframe\">\n",
       "  <thead>\n",
       "    <tr style=\"text-align: right;\">\n",
       "      <th></th>\n",
       "      <th>Review</th>\n",
       "      <th>Outcome</th>\n",
       "      <th>allcaps</th>\n",
       "      <th>Review_length</th>\n",
       "      <th>insults</th>\n",
       "      <th>rude</th>\n",
       "      <th>stupid</th>\n",
       "      <th>tasteless</th>\n",
       "      <th>underwhelming</th>\n",
       "      <th>yucky</th>\n",
       "      <th>...</th>\n",
       "      <th>grossed</th>\n",
       "      <th>humiliated</th>\n",
       "      <th>lukewarm</th>\n",
       "      <th>mediocre</th>\n",
       "      <th>negligent</th>\n",
       "      <th>missing</th>\n",
       "      <th>overpriced</th>\n",
       "      <th>undercooked</th>\n",
       "      <th>unprofessional</th>\n",
       "      <th>zero</th>\n",
       "    </tr>\n",
       "  </thead>\n",
       "  <tbody>\n",
       "    <tr>\n",
       "      <th>0</th>\n",
       "      <td>wow loved this place</td>\n",
       "      <td>1</td>\n",
       "      <td>False</td>\n",
       "      <td>20</td>\n",
       "      <td>False</td>\n",
       "      <td>False</td>\n",
       "      <td>False</td>\n",
       "      <td>False</td>\n",
       "      <td>False</td>\n",
       "      <td>False</td>\n",
       "      <td>...</td>\n",
       "      <td>False</td>\n",
       "      <td>False</td>\n",
       "      <td>False</td>\n",
       "      <td>False</td>\n",
       "      <td>False</td>\n",
       "      <td>False</td>\n",
       "      <td>False</td>\n",
       "      <td>False</td>\n",
       "      <td>False</td>\n",
       "      <td>False</td>\n",
       "    </tr>\n",
       "  </tbody>\n",
       "</table>\n",
       "<p>1 rows × 31 columns</p>\n",
       "</div>"
      ],
      "text/plain": [
       "                 Review  Outcome  allcaps  Review_length  insults   rude  \\\n",
       "0  wow loved this place        1    False             20    False  False   \n",
       "\n",
       "   stupid  tasteless  underwhelming  yucky  ...    grossed  humiliated  \\\n",
       "0   False      False          False  False  ...      False       False   \n",
       "\n",
       "   lukewarm  mediocre  negligent  missing  overpriced  undercooked  \\\n",
       "0     False     False      False    False       False        False   \n",
       "\n",
       "   unprofessional   zero  \n",
       "0           False  False  \n",
       "\n",
       "[1 rows x 31 columns]"
      ]
     },
     "execution_count": 195,
     "metadata": {},
     "output_type": "execute_result"
    }
   ],
   "source": [
    "yelp.head(1)"
   ]
  },
  {
   "cell_type": "markdown",
   "metadata": {},
   "source": [
    "# Naive Bayes model: creating object and applying to another dataset"
   ]
  },
  {
   "cell_type": "code",
   "execution_count": 196,
   "metadata": {},
   "outputs": [],
   "source": [
    "from sklearn.naive_bayes import BernoulliNB\n",
    "from sklearn import preprocessing\n",
    "\n",
    "bern = BernoulliNB()"
   ]
  },
  {
   "cell_type": "code",
   "execution_count": 197,
   "metadata": {},
   "outputs": [
    {
     "name": "stderr",
     "output_type": "stream",
     "text": [
      "F:\\Anaconda3\\lib\\site-packages\\sklearn\\utils\\validation.py:475: DataConversionWarning: Data with input dtype int64 was converted to float64 by MinMaxScaler.\n",
      "  warnings.warn(msg, DataConversionWarning)\n"
     ]
    },
    {
     "data": {
      "text/plain": [
       "BernoulliNB(alpha=1.0, binarize=0.0, class_prior=None, fit_prior=True)"
      ]
     },
     "execution_count": 197,
     "metadata": {},
     "output_type": "execute_result"
    }
   ],
   "source": [
    "min_max = preprocessing.MinMaxScaler()\n",
    "length_scaled = min_max.fit_transform(yelp.Review_length.values.reshape(-1, 1))\n",
    "yelp['Review_length_scaled'] = length_scaled\n",
    "words.append('Review_length_scaled')\n",
    "bern.fit(yelp[words], yelp.Outcome)"
   ]
  },
  {
   "cell_type": "code",
   "execution_count": 198,
   "metadata": {},
   "outputs": [
    {
     "name": "stderr",
     "output_type": "stream",
     "text": [
      "F:\\Anaconda3\\lib\\site-packages\\sklearn\\utils\\validation.py:475: DataConversionWarning: Data with input dtype int64 was converted to float64 by MinMaxScaler.\n",
      "  warnings.warn(msg, DataConversionWarning)\n"
     ]
    }
   ],
   "source": [
    "imdb = pd.read_csv('../../_Datasets/imdb_labelled.txt', delimiter='\\t', header=None)\n",
    "imdb.columns = ['Review', 'Outcome']\n",
    "\n",
    "# identify all caps reviews\n",
    "imdb['allcaps'] = imdb.Review.str.isupper()\n",
    "\n",
    "# remove punctuation and make lowercase\n",
    "imdb['Review'] = imdb.Review.str.replace(r'[^a-zA-Z\\d\\s:]', '')\n",
    "imdb['Review'] = imdb.Review.str.lower()\n",
    "imdb['Review'] = imdb.Review.str.strip()\n",
    "imdb['Review_length'] = imdb.Review.str.len()\n",
    "\n",
    "words = ['insults', 'rude', 'stupid', 'tasteless', 'underwhelming', 'yucky', 'bland', 'blandest',\n",
    "         'boring', 'hair', 'inconsiderate', 'terrible', 'horrible', 'overcooked', 'ok', 'poop', \n",
    "         'gross', 'grossed', 'humiliated', 'lukewarm', 'mediocre', 'negligent', 'missing', 'overpriced',\n",
    "         'tasteless', 'undercooked', 'underwhelming', 'unprofessional', 'zero']\n",
    "\n",
    "for word in words:\n",
    "    imdb[word] = imdb.Review.str.contains(r'\\b' + word, regex=True)\n",
    "    \n",
    "length_scaled = min_max.fit_transform(imdb.Review_length.values.reshape(-1, 1))\n",
    "imdb['Review_length_scaled'] = length_scaled\n",
    "\n",
    "imdb_pred = bern.predict(imdb.drop(columns=['Review', 'Outcome']))"
   ]
  },
  {
   "cell_type": "code",
   "execution_count": 199,
   "metadata": {},
   "outputs": [
    {
     "data": {
      "text/plain": [
       "False    386\n",
       "True     362\n",
       "Name: Outcome, dtype: int64"
      ]
     },
     "execution_count": 199,
     "metadata": {},
     "output_type": "execute_result"
    }
   ],
   "source": [
    "pd.Series(imdb.Outcome == imdb_pred).value_counts()"
   ]
  },
  {
   "cell_type": "markdown",
   "metadata": {},
   "source": [
    "#### Application in another context\n",
    "\n",
    "The application in another context was surprisingly about half. \n",
    "\n",
    "The selected word pool for negative food reviews has nearly no application to movie reviews, and thus it has overfitted the training data and yielded us poor results - BUT the results are much better than I expected. Perhaps review length helped with this task."
   ]
  }
 ],
 "metadata": {
  "kernelspec": {
   "display_name": "Python 3",
   "language": "python",
   "name": "python3"
  },
  "language_info": {
   "codemirror_mode": {
    "name": "ipython",
    "version": 3
   },
   "file_extension": ".py",
   "mimetype": "text/x-python",
   "name": "python",
   "nbconvert_exporter": "python",
   "pygments_lexer": "ipython3",
   "version": "3.7.0"
  }
 },
 "nbformat": 4,
 "nbformat_minor": 2
}
