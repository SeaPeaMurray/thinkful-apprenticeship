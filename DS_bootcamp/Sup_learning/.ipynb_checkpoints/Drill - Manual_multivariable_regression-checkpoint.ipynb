{
 "cells": [
  {
   "cell_type": "code",
   "execution_count": 43,
   "metadata": {},
   "outputs": [],
   "source": [
    "%matplotlib inline\n",
    "import pandas as pd\n",
    "import matplotlib.pyplot as plt\n",
    "import seaborn as sns\n",
    "import numpy as np\n",
    "sns.set_style('dark')\n",
    "\n",
    "cols = ['City', 'Population', 'Violent_crime', 'Murder_NON_manslaughter', 'Rape_revised', 'Rape_legacy', 'Robbery', \n",
    "        'Aggravated_assault', 'Property_crime', 'Burglary', 'Larceny-Theft', 'Motor_vehicle_theft', 'Arson']\n",
    "df = pd.read_excel('../../_Datasets/table_8_offenses_known_to_law_enforcement_new_york_by_city_2013.xls', header=4)\n",
    "df.columns = cols"
   ]
  },
  {
   "cell_type": "code",
   "execution_count": 44,
   "metadata": {},
   "outputs": [
    {
     "data": {
      "text/html": [
       "<div>\n",
       "<style scoped>\n",
       "    .dataframe tbody tr th:only-of-type {\n",
       "        vertical-align: middle;\n",
       "    }\n",
       "\n",
       "    .dataframe tbody tr th {\n",
       "        vertical-align: top;\n",
       "    }\n",
       "\n",
       "    .dataframe thead th {\n",
       "        text-align: right;\n",
       "    }\n",
       "</style>\n",
       "<table border=\"1\" class=\"dataframe\">\n",
       "  <thead>\n",
       "    <tr style=\"text-align: right;\">\n",
       "      <th></th>\n",
       "      <th>City</th>\n",
       "      <th>Population</th>\n",
       "      <th>Violent_crime</th>\n",
       "      <th>Murder_NON_manslaughter</th>\n",
       "      <th>Rape_revised</th>\n",
       "      <th>Rape_legacy</th>\n",
       "      <th>Robbery</th>\n",
       "      <th>Aggravated_assault</th>\n",
       "      <th>Property_crime</th>\n",
       "      <th>Burglary</th>\n",
       "      <th>Larceny-Theft</th>\n",
       "      <th>Motor_vehicle_theft</th>\n",
       "      <th>Arson</th>\n",
       "    </tr>\n",
       "  </thead>\n",
       "  <tbody>\n",
       "    <tr>\n",
       "      <th>0</th>\n",
       "      <td>Adams Village</td>\n",
       "      <td>1861.0</td>\n",
       "      <td>0.0</td>\n",
       "      <td>0.0</td>\n",
       "      <td>NaN</td>\n",
       "      <td>0.0</td>\n",
       "      <td>0.0</td>\n",
       "      <td>0.0</td>\n",
       "      <td>12.0</td>\n",
       "      <td>2.0</td>\n",
       "      <td>10.0</td>\n",
       "      <td>0.0</td>\n",
       "      <td>0.0</td>\n",
       "    </tr>\n",
       "    <tr>\n",
       "      <th>1</th>\n",
       "      <td>Addison Town and Village</td>\n",
       "      <td>2577.0</td>\n",
       "      <td>3.0</td>\n",
       "      <td>0.0</td>\n",
       "      <td>NaN</td>\n",
       "      <td>0.0</td>\n",
       "      <td>0.0</td>\n",
       "      <td>3.0</td>\n",
       "      <td>24.0</td>\n",
       "      <td>3.0</td>\n",
       "      <td>20.0</td>\n",
       "      <td>1.0</td>\n",
       "      <td>0.0</td>\n",
       "    </tr>\n",
       "    <tr>\n",
       "      <th>2</th>\n",
       "      <td>Akron Village</td>\n",
       "      <td>2846.0</td>\n",
       "      <td>3.0</td>\n",
       "      <td>0.0</td>\n",
       "      <td>NaN</td>\n",
       "      <td>0.0</td>\n",
       "      <td>0.0</td>\n",
       "      <td>3.0</td>\n",
       "      <td>16.0</td>\n",
       "      <td>1.0</td>\n",
       "      <td>15.0</td>\n",
       "      <td>0.0</td>\n",
       "      <td>0.0</td>\n",
       "    </tr>\n",
       "    <tr>\n",
       "      <th>3</th>\n",
       "      <td>Albany</td>\n",
       "      <td>97956.0</td>\n",
       "      <td>791.0</td>\n",
       "      <td>8.0</td>\n",
       "      <td>NaN</td>\n",
       "      <td>30.0</td>\n",
       "      <td>227.0</td>\n",
       "      <td>526.0</td>\n",
       "      <td>4090.0</td>\n",
       "      <td>705.0</td>\n",
       "      <td>3243.0</td>\n",
       "      <td>142.0</td>\n",
       "      <td>NaN</td>\n",
       "    </tr>\n",
       "    <tr>\n",
       "      <th>4</th>\n",
       "      <td>Albion Village</td>\n",
       "      <td>6388.0</td>\n",
       "      <td>23.0</td>\n",
       "      <td>0.0</td>\n",
       "      <td>NaN</td>\n",
       "      <td>3.0</td>\n",
       "      <td>4.0</td>\n",
       "      <td>16.0</td>\n",
       "      <td>223.0</td>\n",
       "      <td>53.0</td>\n",
       "      <td>165.0</td>\n",
       "      <td>5.0</td>\n",
       "      <td>NaN</td>\n",
       "    </tr>\n",
       "  </tbody>\n",
       "</table>\n",
       "</div>"
      ],
      "text/plain": [
       "                       City  Population  Violent_crime  \\\n",
       "0             Adams Village      1861.0            0.0   \n",
       "1  Addison Town and Village      2577.0            3.0   \n",
       "2             Akron Village      2846.0            3.0   \n",
       "3                    Albany     97956.0          791.0   \n",
       "4            Albion Village      6388.0           23.0   \n",
       "\n",
       "   Murder_NON_manslaughter  Rape_revised  Rape_legacy  Robbery  \\\n",
       "0                      0.0           NaN          0.0      0.0   \n",
       "1                      0.0           NaN          0.0      0.0   \n",
       "2                      0.0           NaN          0.0      0.0   \n",
       "3                      8.0           NaN         30.0    227.0   \n",
       "4                      0.0           NaN          3.0      4.0   \n",
       "\n",
       "   Aggravated_assault  Property_crime  Burglary  Larceny-Theft  \\\n",
       "0                 0.0            12.0       2.0           10.0   \n",
       "1                 3.0            24.0       3.0           20.0   \n",
       "2                 3.0            16.0       1.0           15.0   \n",
       "3               526.0          4090.0     705.0         3243.0   \n",
       "4                16.0           223.0      53.0          165.0   \n",
       "\n",
       "   Motor_vehicle_theft  Arson  \n",
       "0                  0.0    0.0  \n",
       "1                  1.0    0.0  \n",
       "2                  0.0    0.0  \n",
       "3                142.0    NaN  \n",
       "4                  5.0    NaN  "
      ]
     },
     "execution_count": 44,
     "metadata": {},
     "output_type": "execute_result"
    }
   ],
   "source": [
    "df.head()"
   ]
  },
  {
   "cell_type": "code",
   "execution_count": 45,
   "metadata": {},
   "outputs": [
    {
     "name": "stdout",
     "output_type": "stream",
     "text": [
      "<class 'pandas.core.frame.DataFrame'>\n",
      "RangeIndex: 351 entries, 0 to 350\n",
      "Data columns (total 13 columns):\n",
      "City                       351 non-null object\n",
      "Population                 348 non-null float64\n",
      "Violent_crime              348 non-null float64\n",
      "Murder_NON_manslaughter    348 non-null float64\n",
      "Rape_revised               0 non-null float64\n",
      "Rape_legacy                348 non-null float64\n",
      "Robbery                    348 non-null float64\n",
      "Aggravated_assault         348 non-null float64\n",
      "Property_crime             348 non-null float64\n",
      "Burglary                   348 non-null float64\n",
      "Larceny-Theft              348 non-null float64\n",
      "Motor_vehicle_theft        348 non-null float64\n",
      "Arson                      187 non-null float64\n",
      "dtypes: float64(12), object(1)\n",
      "memory usage: 35.7+ KB\n"
     ]
    }
   ],
   "source": [
    "df.info()"
   ]
  },
  {
   "cell_type": "code",
   "execution_count": 46,
   "metadata": {},
   "outputs": [
    {
     "data": {
      "text/html": [
       "<div>\n",
       "<style scoped>\n",
       "    .dataframe tbody tr th:only-of-type {\n",
       "        vertical-align: middle;\n",
       "    }\n",
       "\n",
       "    .dataframe tbody tr th {\n",
       "        vertical-align: top;\n",
       "    }\n",
       "\n",
       "    .dataframe thead th {\n",
       "        text-align: right;\n",
       "    }\n",
       "</style>\n",
       "<table border=\"1\" class=\"dataframe\">\n",
       "  <thead>\n",
       "    <tr style=\"text-align: right;\">\n",
       "      <th></th>\n",
       "      <th>City</th>\n",
       "      <th>Population</th>\n",
       "      <th>Violent_crime</th>\n",
       "      <th>Murder_NON_manslaughter</th>\n",
       "      <th>Rape_revised</th>\n",
       "      <th>Rape_legacy</th>\n",
       "      <th>Robbery</th>\n",
       "      <th>Aggravated_assault</th>\n",
       "      <th>Property_crime</th>\n",
       "      <th>Burglary</th>\n",
       "      <th>Larceny-Theft</th>\n",
       "      <th>Motor_vehicle_theft</th>\n",
       "      <th>Arson</th>\n",
       "    </tr>\n",
       "  </thead>\n",
       "  <tbody>\n",
       "    <tr>\n",
       "      <th>348</th>\n",
       "      <td>1 The figures shown in this column for the off...</td>\n",
       "      <td>NaN</td>\n",
       "      <td>NaN</td>\n",
       "      <td>NaN</td>\n",
       "      <td>NaN</td>\n",
       "      <td>NaN</td>\n",
       "      <td>NaN</td>\n",
       "      <td>NaN</td>\n",
       "      <td>NaN</td>\n",
       "      <td>NaN</td>\n",
       "      <td>NaN</td>\n",
       "      <td>NaN</td>\n",
       "      <td>NaN</td>\n",
       "    </tr>\n",
       "    <tr>\n",
       "      <th>349</th>\n",
       "      <td>2 The figures shown in this column for the off...</td>\n",
       "      <td>NaN</td>\n",
       "      <td>NaN</td>\n",
       "      <td>NaN</td>\n",
       "      <td>NaN</td>\n",
       "      <td>NaN</td>\n",
       "      <td>NaN</td>\n",
       "      <td>NaN</td>\n",
       "      <td>NaN</td>\n",
       "      <td>NaN</td>\n",
       "      <td>NaN</td>\n",
       "      <td>NaN</td>\n",
       "      <td>NaN</td>\n",
       "    </tr>\n",
       "    <tr>\n",
       "      <th>350</th>\n",
       "      <td>3 The FBI does not publish arson data unless i...</td>\n",
       "      <td>NaN</td>\n",
       "      <td>NaN</td>\n",
       "      <td>NaN</td>\n",
       "      <td>NaN</td>\n",
       "      <td>NaN</td>\n",
       "      <td>NaN</td>\n",
       "      <td>NaN</td>\n",
       "      <td>NaN</td>\n",
       "      <td>NaN</td>\n",
       "      <td>NaN</td>\n",
       "      <td>NaN</td>\n",
       "      <td>NaN</td>\n",
       "    </tr>\n",
       "  </tbody>\n",
       "</table>\n",
       "</div>"
      ],
      "text/plain": [
       "                                                  City  Population  \\\n",
       "348  1 The figures shown in this column for the off...         NaN   \n",
       "349  2 The figures shown in this column for the off...         NaN   \n",
       "350  3 The FBI does not publish arson data unless i...         NaN   \n",
       "\n",
       "     Violent_crime  Murder_NON_manslaughter  Rape_revised  Rape_legacy  \\\n",
       "348            NaN                      NaN           NaN          NaN   \n",
       "349            NaN                      NaN           NaN          NaN   \n",
       "350            NaN                      NaN           NaN          NaN   \n",
       "\n",
       "     Robbery  Aggravated_assault  Property_crime  Burglary  Larceny-Theft  \\\n",
       "348      NaN                 NaN             NaN       NaN            NaN   \n",
       "349      NaN                 NaN             NaN       NaN            NaN   \n",
       "350      NaN                 NaN             NaN       NaN            NaN   \n",
       "\n",
       "     Motor_vehicle_theft  Arson  \n",
       "348                  NaN    NaN  \n",
       "349                  NaN    NaN  \n",
       "350                  NaN    NaN  "
      ]
     },
     "execution_count": 46,
     "metadata": {},
     "output_type": "execute_result"
    }
   ],
   "source": [
    "df[df.Population.isnull()]"
   ]
  },
  {
   "cell_type": "code",
   "execution_count": 47,
   "metadata": {},
   "outputs": [],
   "source": [
    "df.drop(columns='Rape_revised', inplace=True)\n",
    "df = df.iloc[:-3]"
   ]
  },
  {
   "cell_type": "code",
   "execution_count": 48,
   "metadata": {},
   "outputs": [
    {
     "data": {
      "text/plain": [
       "<matplotlib.axes._subplots.AxesSubplot at 0x207623f3080>"
      ]
     },
     "execution_count": 48,
     "metadata": {},
     "output_type": "execute_result"
    },
    {
     "data": {
      "image/png": "[encoded data removed]",
      "text/plain": [
       "<Figure size 1152x864 with 1 Axes>"
      ]
     },
     "metadata": {},
     "output_type": "display_data"
    }
   ],
   "source": [
    "df.Population.hist(figsize=(16,12))"
   ]
  },
  {
   "cell_type": "code",
   "execution_count": 63,
   "metadata": {},
   "outputs": [
    {
     "data": {
      "text/plain": [
       "<matplotlib.axes._subplots.AxesSubplot at 0x207696e8d30>"
      ]
     },
     "execution_count": 63,
     "metadata": {},
     "output_type": "execute_result"
    },
    {
     "data": {
      "image/png": "[encoded data removed]",
      "text/plain": [
       "<Figure size 1152x864 with 1 Axes>"
      ]
     },
     "metadata": {},
     "output_type": "display_data"
    }
   ],
   "source": [
    "df.Murder_NON_manslaughter.hist(figsize=(16,12))"
   ]
  },
  {
   "cell_type": "code",
   "execution_count": 64,
   "metadata": {},
   "outputs": [
    {
     "data": {
      "text/plain": [
       "<matplotlib.axes._subplots.AxesSubplot at 0x207698ceb38>"
      ]
     },
     "execution_count": 64,
     "metadata": {},
     "output_type": "execute_result"
    },
    {
     "data": {
      "image/png": "[encoded data removed]",
      "text/plain": [
       "<Figure size 1152x864 with 1 Axes>"
      ]
     },
     "metadata": {},
     "output_type": "display_data"
    }
   ],
   "source": [
    "(df.Murder_NON_manslaughter / df.Population).hist(figsize=(16,12))"
   ]
  },
  {
   "cell_type": "code",
   "execution_count": 68,
   "metadata": {},
   "outputs": [
    {
     "data": {
      "text/plain": [
       "<matplotlib.axes._subplots.AxesSubplot at 0x2076248f978>"
      ]
     },
     "execution_count": 68,
     "metadata": {},
     "output_type": "execute_result"
    },
    {
     "data": {
      "image/png": "[encoded data removed]",
      "text/plain": [
       "<Figure size 1152x864 with 1 Axes>"
      ]
     },
     "metadata": {},
     "output_type": "display_data"
    }
   ],
   "source": [
    "np.sqrt(df.Murder_NON_manslaughter / df.Population).hist(figsize=(16,12))"
   ]
  },
  {
   "cell_type": "code",
   "execution_count": 50,
   "metadata": {},
   "outputs": [],
   "source": [
    "murder_onehot = df.Murder_NON_manslaughter > 0\n",
    "robbery_onehot = df.Robbery > 0\n",
    "pop_sq = df.Population ** 2\n",
    "\n",
    "df['Murder_onehot'] = murder_onehot\n",
    "df['Robbery_onehot'] = robbery_onehot\n",
    "df['Population_squared'] = pop_sq"
   ]
  },
  {
   "cell_type": "code",
   "execution_count": 61,
   "metadata": {},
   "outputs": [
    {
     "data": {
      "text/plain": [
       "0      3.464732e+06\n",
       "1      6.643056e+06\n",
       "2      8.102112e+06\n",
       "3      9.595475e+09\n",
       "4      4.081248e+07\n",
       "5      1.672356e+07\n",
       "6      3.173292e+06\n",
       "7      1.399406e+10\n",
       "8      9.062043e+07\n",
       "9      3.306029e+08\n",
       "10     4.216412e+06\n",
       "11     2.046160e+07\n",
       "12     4.331720e+05\n",
       "13     6.362556e+06\n",
       "14     7.436797e+08\n",
       "15     1.111177e+07\n",
       "16     5.585275e+07\n",
       "17     2.935969e+07\n",
       "18     2.363748e+08\n",
       "19     3.287257e+07\n",
       "20     3.107283e+08\n",
       "21     1.172617e+09\n",
       "22     2.144106e+09\n",
       "23     1.989060e+06\n",
       "24     1.440356e+08\n",
       "25     1.045056e+06\n",
       "26     5.407500e+06\n",
       "27     4.220520e+06\n",
       "28     4.265841e+06\n",
       "29     5.562072e+06\n",
       "           ...     \n",
       "318    1.326736e+07\n",
       "319    3.783900e+05\n",
       "320    1.487298e+08\n",
       "321    3.805224e+09\n",
       "322    7.829079e+08\n",
       "323    4.743721e+07\n",
       "324    7.806711e+08\n",
       "325    9.074706e+06\n",
       "326    1.192621e+07\n",
       "327    3.397096e+07\n",
       "328    7.043361e+07\n",
       "329    2.678535e+07\n",
       "330    7.940838e+08\n",
       "331    1.049698e+08\n",
       "332    3.468456e+06\n",
       "333    1.881346e+07\n",
       "334    1.916469e+09\n",
       "335    3.230556e+06\n",
       "336    2.092560e+07\n",
       "337    3.001106e+06\n",
       "338    2.008966e+09\n",
       "339    6.782970e+06\n",
       "340    3.313096e+09\n",
       "341    1.393857e+07\n",
       "342    8.356657e+07\n",
       "343    1.141795e+08\n",
       "344    6.876200e+05\n",
       "345    3.518224e+07\n",
       "346    3.965455e+10\n",
       "347    1.342746e+09\n",
       "Length: 348, dtype: float64"
      ]
     },
     "execution_count": 61,
     "metadata": {},
     "output_type": "execute_result"
    }
   ],
   "source": [
    "# Elementary regression model with guesswork on alpha\n",
    "\n",
    "alpha = -450\n",
    "\n",
    "alpha + df['Population'] + df['Population_squared'] + df['Murder_onehot'] + df['Robbery_onehot']"
   ]
  },
  {
   "cell_type": "code",
   "execution_count": null,
   "metadata": {},
   "outputs": [],
   "source": []
  }
 ],
 "metadata": {
  "kernelspec": {
   "display_name": "Python 3",
   "language": "python",
   "name": "python3"
  },
  "language_info": {
   "codemirror_mode": {
    "name": "ipython",
    "version": 3
   },
   "file_extension": ".py",
   "mimetype": "text/x-python",
   "name": "python",
   "nbconvert_exporter": "python",
   "pygments_lexer": "ipython3",
   "version": "3.7.0"
  }
 },
 "nbformat": 4,
 "nbformat_minor": 2
}
