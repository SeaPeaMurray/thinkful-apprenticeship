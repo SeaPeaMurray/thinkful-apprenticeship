{
 "cells": [
  {
   "cell_type": "code",
   "execution_count": 27,
   "metadata": {},
   "outputs": [],
   "source": [
    "import numpy as np\n",
    "import pandas as pd\n",
    "import matplotlib.pyplot as plt\n",
    "import seaborn as sns\n",
    "import scipy.stats\n",
    "sns.set_style('darkgrid')\n",
    "%matplotlib inline"
   ]
  },
  {
   "cell_type": "code",
   "execution_count": 222,
   "metadata": {},
   "outputs": [],
   "source": [
    "df = pd.read_csv('../../_Datasets/EurSocSur.csv')"
   ]
  },
  {
   "cell_type": "code",
   "execution_count": 169,
   "metadata": {},
   "outputs": [],
   "source": [
    "def verify_test(country, interest):\n",
    "    newdf = df[df['cntry'] == country][[interest, 'idno', 'year']]\n",
    "    yr12 = newdf[(newdf.year == 6) & (newdf[interest].isna() == True)].idno\n",
    "    yr14 = newdf[(newdf.year == 7) & (newdf[interest].isna() == True)].idno\n",
    "    print(country, '\\n', '2012 idnos from {}: {}' .format(str(interest), yr12.to_list()),'\\n', '2014 idnos from {}: {}' .format(str(interest), yr14.to_list()))\n",
    "    return yr12, yr14\n",
    "\n",
    "def val_diff(interest):\n",
    "    for country in df.cntry.unique():\n",
    "        verify_test(country, interest)\n",
    "        \n",
    "def extract_val(interest):\n",
    "    mydict = {}\n",
    "    for country in df.cntry.unique():\n",
    "        yr12 = df[(df.cntry == country) & (df.year == 6)][interest].dropna().to_numpy()\n",
    "        yr14 = df[(df.cntry == country) & (df.year == 7)][interest].dropna().to_numpy()\n",
    "        yr12 = yr12[~np.isnan(yr12)]\n",
    "        yr14 = yr14[~np.isnan(yr14)]\n",
    "        mydict[str(country) + '12'] = yr12\n",
    "        mydict[str(country) + '14'] = yr14\n",
    "    return mydict        "
   ]
  },
  {
   "cell_type": "markdown",
   "metadata": {},
   "source": [
    "### Did people become less trusting from 2012 to 2014? Compute results for each country in the sample.\n",
    "\n",
    "We can actually run a paired ttest on Switzerland and Germany, as the samples match perfectly. The other samples do not match, so we should run a ttest_ind."
   ]
  },
  {
   "cell_type": "code",
   "execution_count": 181,
   "metadata": {
    "scrolled": false
   },
   "outputs": [
    {
     "name": "stdout",
     "output_type": "stream",
     "text": [
      "CH \n",
      " 2012 idnos from ppltrst: [] \n",
      " 2014 idnos from ppltrst: []\n",
      "CZ \n",
      " 2012 idnos from ppltrst: [1101.0, 1268.0, 1308.0, 1316.0, 1331.0, 2097.0, 2118.0] \n",
      " 2014 idnos from ppltrst: [1314.0]\n",
      "DE \n",
      " 2012 idnos from ppltrst: [] \n",
      " 2014 idnos from ppltrst: []\n",
      "ES \n",
      " 2012 idnos from ppltrst: [] \n",
      " 2014 idnos from ppltrst: [814.0, 1921.0]\n",
      "NO \n",
      " 2012 idnos from ppltrst: [10836.0] \n",
      " 2014 idnos from ppltrst: [18678.0]\n",
      "SE \n",
      " 2012 idnos from ppltrst: [499.0, 3561.0] \n",
      " 2014 idnos from ppltrst: []\n"
     ]
    }
   ],
   "source": [
    "val_diff('ppltrst')"
   ]
  },
  {
   "cell_type": "code",
   "execution_count": 170,
   "metadata": {},
   "outputs": [],
   "source": [
    "trust = extract_val('ppltrst')"
   ]
  },
  {
   "cell_type": "code",
   "execution_count": 174,
   "metadata": {},
   "outputs": [
    {
     "data": {
      "text/plain": [
       "Ttest_relResult(statistic=-0.6586851756725737, pvalue=0.5102943511301135)"
      ]
     },
     "execution_count": 174,
     "metadata": {},
     "output_type": "execute_result"
    }
   ],
   "source": [
    "scipy.stats.ttest_rel(trust['CH12'], trust['CH14'])"
   ]
  },
  {
   "cell_type": "code",
   "execution_count": 175,
   "metadata": {},
   "outputs": [
    {
     "data": {
      "text/plain": [
       "Ttest_relResult(statistic=-0.18399501804849683, pvalue=0.8568563797095805)"
      ]
     },
     "execution_count": 175,
     "metadata": {},
     "output_type": "execute_result"
    }
   ],
   "source": [
    "scipy.stats.ttest_rel(trust['DE12'], trust['DE14'])"
   ]
  },
  {
   "cell_type": "code",
   "execution_count": 176,
   "metadata": {},
   "outputs": [
    {
     "data": {
      "text/plain": [
       "Ttest_indResult(statistic=-0.47654431369598554, pvalue=0.6337663626856563)"
      ]
     },
     "execution_count": 176,
     "metadata": {},
     "output_type": "execute_result"
    }
   ],
   "source": [
    "scipy.stats.ttest_ind(trust['CZ12'], trust['CZ14'])"
   ]
  },
  {
   "cell_type": "code",
   "execution_count": 177,
   "metadata": {},
   "outputs": [
    {
     "data": {
      "text/plain": [
       "Ttest_indResult(statistic=2.494276516716002, pvalue=0.012687599930326627)"
      ]
     },
     "execution_count": 177,
     "metadata": {},
     "output_type": "execute_result"
    }
   ],
   "source": [
    "scipy.stats.ttest_ind(trust['ES12'], trust['ES14'])"
   ]
  },
  {
   "cell_type": "code",
   "execution_count": 179,
   "metadata": {},
   "outputs": [
    {
     "data": {
      "text/plain": [
       "Ttest_indResult(statistic=0.5437669865283744, pvalue=0.5866849635988214)"
      ]
     },
     "execution_count": 179,
     "metadata": {},
     "output_type": "execute_result"
    }
   ],
   "source": [
    "scipy.stats.ttest_ind(trust['NO12'], trust['NO14'])"
   ]
  },
  {
   "cell_type": "code",
   "execution_count": 178,
   "metadata": {},
   "outputs": [
    {
     "data": {
      "text/plain": [
       "Ttest_indResult(statistic=-2.089164843127998, pvalue=0.03683208699520371)"
      ]
     },
     "execution_count": 178,
     "metadata": {},
     "output_type": "execute_result"
    }
   ],
   "source": [
    "scipy.stats.ttest_ind(trust['SE12'], trust['SE14'])"
   ]
  },
  {
   "cell_type": "markdown",
   "metadata": {},
   "source": [
    "### Did people become happier from 2012 to 2014? Compute results for each country in the sample.\n",
    "\n",
    "At first I thought this would use a ttest_rel, but it actually looks like the samples don't match up, one-for-one. This is verified in our verify_test function. Since it is very close, it would probably acceptable to do a related ttest."
   ]
  },
  {
   "cell_type": "code",
   "execution_count": 185,
   "metadata": {},
   "outputs": [
    {
     "name": "stdout",
     "output_type": "stream",
     "text": [
      "CH \n",
      " 2012 idnos from happy: [715.0, 789.0, 2397.0] \n",
      " 2014 idnos from happy: []\n",
      "CZ \n",
      " 2012 idnos from happy: [1039.0, 1058.0, 1066.0, 1149.0, 1177.0, 1243.0, 1246.0, 1289.0, 1386.0, 1388.0, 1472.0, 2119.0] \n",
      " 2014 idnos from happy: [1036.0, 1040.0, 1109.0, 1164.0, 1266.0, 1387.0]\n",
      "DE \n",
      " 2012 idnos from happy: [] \n",
      " 2014 idnos from happy: []\n",
      "ES \n",
      " 2012 idnos from happy: [1210.0] \n",
      " 2014 idnos from happy: [885.0]\n",
      "NO \n",
      " 2012 idnos from happy: [9846.0, 10836.0, 14862.0, 20076.0] \n",
      " 2014 idnos from happy: []\n",
      "SE \n",
      " 2012 idnos from happy: [1494.0] \n",
      " 2014 idnos from happy: [165.0, 252.0, 787.0]\n"
     ]
    }
   ],
   "source": [
    "val_diff('happy')"
   ]
  },
  {
   "cell_type": "code",
   "execution_count": 186,
   "metadata": {},
   "outputs": [
    {
     "name": "stdout",
     "output_type": "stream",
     "text": [
      "Ttest_indResult(statistic=-0.3883916732706544, pvalue=0.6977798552554684)\n",
      "Ttest_indResult(statistic=-1.3033790688858846, pvalue=0.19267687243592707)\n",
      "Ttest_indResult(statistic=-0.7648529270389165, pvalue=0.451246041120838)\n",
      "Ttest_indResult(statistic=1.673984509948487, pvalue=0.09426276206929331)\n",
      "Ttest_indResult(statistic=4.26539164981969, pvalue=2.1241259786815807e-05)\n",
      "Ttest_indResult(statistic=-0.5748685401292095, pvalue=0.5654516534862527)\n"
     ]
    }
   ],
   "source": [
    "for country in df.cntry.unique():\n",
    "    yr12 = df[(df.cntry == country) & (df.year == 6)].happy.dropna().to_list()\n",
    "    yr14 = df[(df.cntry == country) & (df.year == 7)].happy.dropna().to_list()\n",
    "    yr12 = np.array(yr12)\n",
    "    yr14 = np.array(yr14)\n",
    "    print(scipy.stats.ttest_ind(yr12, yr14))"
   ]
  },
  {
   "cell_type": "markdown",
   "metadata": {},
   "source": [
    "### Who reported watching more TV in 2012? Men or women?\n",
    "This looks to be based on just two different samples and two populations - men and women in 2012. For that we just use a ttest_ind."
   ]
  },
  {
   "cell_type": "code",
   "execution_count": 195,
   "metadata": {},
   "outputs": [],
   "source": [
    "# male is 1, female 2\n",
    "male = df[(df['gndr'] == 1.0) & (df['year'] == 6)]['tvtot'].to_numpy()\n",
    "female = df[(df['gndr'] == 2.0) & (df['year'] == 6)]['tvtot'].to_numpy()"
   ]
  },
  {
   "cell_type": "code",
   "execution_count": 210,
   "metadata": {},
   "outputs": [
    {
     "data": {
      "text/plain": [
       "Ttest_indResult(statistic=-0.6899928109209502, pvalue=0.4902360402696986)"
      ]
     },
     "execution_count": 210,
     "metadata": {},
     "output_type": "execute_result"
    }
   ],
   "source": [
    "scipy.stats.ttest_ind(male[~np.isnan(male)], female[~np.isnan(female)])"
   ]
  },
  {
   "cell_type": "markdown",
   "metadata": {},
   "source": [
    "### Who was more likely to believe people were fair in 2012, people living with a partner or living alone?\n",
    "This is similar to the question above in that one population cannot at all inclusive of the other - the conditions are mutually exclusive. We will use a ttest_ind."
   ]
  },
  {
   "cell_type": "code",
   "execution_count": 226,
   "metadata": {},
   "outputs": [],
   "source": [
    "single = df[(df['year'] == 6) & (df['partner'] == 2)]['pplfair'].to_numpy()\n",
    "couple = df[(df['year'] == 6) & (df['partner'] == 1)]['pplfair'].to_numpy()"
   ]
  },
  {
   "cell_type": "code",
   "execution_count": 229,
   "metadata": {},
   "outputs": [
    {
     "data": {
      "text/plain": [
       "Ttest_indResult(statistic=-3.3201033970362084, pvalue=0.0009073952609883756)"
      ]
     },
     "execution_count": 229,
     "metadata": {},
     "output_type": "execute_result"
    }
   ],
   "source": [
    "scipy.stats.ttest_ind(single[~np.isnan(single)], couple[~np.isnan(couple)])"
   ]
  },
  {
   "cell_type": "markdown",
   "metadata": {},
   "source": [
    "### Pick three or four of the countries in the sample and compare how often people met socially in 2014. Are there differences, and if so, which countries stand out?\n",
    "These are certainly unrelated samples - we are looking at residents of different countries. Furthermore, it is more than two different samples we are considering; we have three and will use one-way ANOVA. With the functions we have created to select and preprocess the data, this is quick."
   ]
  },
  {
   "cell_type": "code",
   "execution_count": 216,
   "metadata": {},
   "outputs": [
    {
     "data": {
      "text/plain": [
       "dict_keys(['CH12', 'CH14', 'CZ12', 'CZ14', 'DE12', 'DE14', 'ES12', 'ES14', 'NO12', 'NO14', 'SE12', 'SE14'])"
      ]
     },
     "execution_count": 216,
     "metadata": {},
     "output_type": "execute_result"
    }
   ],
   "source": [
    "social = extract_val('sclmeet')\n",
    "social.keys()"
   ]
  },
  {
   "cell_type": "code",
   "execution_count": 219,
   "metadata": {},
   "outputs": [
    {
     "data": {
      "text/plain": [
       "F_onewayResult(statistic=8.134820549190636, pvalue=0.0003012824769500138)"
      ]
     },
     "execution_count": 219,
     "metadata": {},
     "output_type": "execute_result"
    }
   ],
   "source": [
    "scipy.stats.f_oneway(social['SE14'], social['NO14'], social['CH14'])"
   ]
  },
  {
   "cell_type": "markdown",
   "metadata": {},
   "source": [
    "### Pick three or four of the countries in the sample and compare how often people took part in social activites, relative to otherse their age, in 2014. Are there differences, and if so, which countries stand out?\n",
    "Similar to above - consider this: These are certainly unrelated samples - we are looking at residents of different countries. Furthermore, it is more than two different samples we are considering; we have three and will use one-way ANOVA."
   ]
  },
  {
   "cell_type": "code",
   "execution_count": 221,
   "metadata": {},
   "outputs": [
    {
     "data": {
      "text/plain": [
       "F_onewayResult(statistic=2.8234984652683965, pvalue=0.05959534596748375)"
      ]
     },
     "execution_count": 221,
     "metadata": {},
     "output_type": "execute_result"
    }
   ],
   "source": [
    "act = extract_val('sclact')\n",
    "scipy.stats.f_oneway(act['SE14'], act['NO14'], act['CH14'])"
   ]
  }
 ],
 "metadata": {
  "kernelspec": {
   "display_name": "Python 3",
   "language": "python",
   "name": "python3"
  },
  "language_info": {
   "codemirror_mode": {
    "name": "ipython",
    "version": 3
   },
   "file_extension": ".py",
   "mimetype": "text/x-python",
   "name": "python",
   "nbconvert_exporter": "python",
   "pygments_lexer": "ipython3",
   "version": "3.7.3"
  }
 },
 "nbformat": 4,
 "nbformat_minor": 2
}
