{
 "cells": [
  {
   "cell_type": "markdown",
   "metadata": {},
   "source": [
    "# Yelp text data"
   ]
  },
  {
   "cell_type": "code",
   "execution_count": 1,
   "metadata": {},
   "outputs": [],
   "source": [
    "import numpy as np\n",
    "import pandas as pd\n",
    "import matplotlib.pyplot as plt\n",
    "import re\n",
    "import os\n",
    "import seaborn as sns\n",
    "import dask.dataframe as dd\n",
    "from dask import delayed\n",
    "from dask_ml.model_selection import train_test_split\n",
    "import spacy\n",
    "import spacy_readability\n",
    "from gensim.models import Word2Vec, Doc2Vec\n",
    "from sklearn.feature_extraction.text import CountVectorizer\n",
    "from sklearn.model_selection import train_test_split\n",
    "\n",
    "sns.set_style('darkgrid')\n",
    "laptop = '/media/seapea/Blade HDD/_Storage/Data/yelp_dataset/'\n",
    "tower = '/run/media/seapea/HDD1TB_1/SharedSpace/_Large_datasets/Yelp/'\n",
    "nlp = spacy.load('en_core_web_md')\n",
    "# nlp = spacy.load('en_vectors_web_lg')\n",
    "# nlp.add_pipe(nlp.create_pipe('sentencizer'))\n",
    "# nlp.vocab.prune_vectors(300)\n",
    "%matplotlib inline"
   ]
  },
  {
   "cell_type": "code",
   "execution_count": 4,
   "metadata": {},
   "outputs": [
    {
     "data": {
      "text/html": [
       "<div>\n",
       "<style scoped>\n",
       "    .dataframe tbody tr th:only-of-type {\n",
       "        vertical-align: middle;\n",
       "    }\n",
       "\n",
       "    .dataframe tbody tr th {\n",
       "        vertical-align: top;\n",
       "    }\n",
       "\n",
       "    .dataframe thead th {\n",
       "        text-align: right;\n",
       "    }\n",
       "</style>\n",
       "<table border=\"1\" class=\"dataframe\">\n",
       "  <thead>\n",
       "    <tr style=\"text-align: right;\">\n",
       "      <th></th>\n",
       "      <th>user_id</th>\n",
       "      <th>business_id</th>\n",
       "      <th>stars</th>\n",
       "      <th>useful</th>\n",
       "      <th>text</th>\n",
       "    </tr>\n",
       "    <tr>\n",
       "      <th>review_id</th>\n",
       "      <th></th>\n",
       "      <th></th>\n",
       "      <th></th>\n",
       "      <th></th>\n",
       "      <th></th>\n",
       "    </tr>\n",
       "  </thead>\n",
       "  <tbody>\n",
       "    <tr>\n",
       "      <th>----X0BIDP9tA49U3RvdSQ</th>\n",
       "      <td>gVmUR8rqUFdbSeZbsg6z_w</td>\n",
       "      <td>Ue6-WhXvI-_1xUIuapl0zQ</td>\n",
       "      <td>4</td>\n",
       "      <td>1</td>\n",
       "      <td>Red, white and bleu salad was super yum and a ...</td>\n",
       "    </tr>\n",
       "    <tr>\n",
       "      <th>---0hl58W-sjVTKi5LghGw</th>\n",
       "      <td>Y6qylbHq8QJmaCRSlKdIog</td>\n",
       "      <td>Ae4ABFarGMaI5lk1i98A0w</td>\n",
       "      <td>4</td>\n",
       "      <td>0</td>\n",
       "      <td>Ate the momos during the momo crawl.. Was the ...</td>\n",
       "    </tr>\n",
       "    <tr>\n",
       "      <th>---3OXpexMp0oAg77xWfYA</th>\n",
       "      <td>SnXZkRN9Yf060pNTk1HMDg</td>\n",
       "      <td>lKq4Qsz13FDcAVgp49uukQ</td>\n",
       "      <td>5</td>\n",
       "      <td>2</td>\n",
       "      <td>Pizza here made my night... Good people and gr...</td>\n",
       "    </tr>\n",
       "    <tr>\n",
       "      <th>---65iIIGzHj96QnOh89EQ</th>\n",
       "      <td>VcmSgvslHAhqWoEn16wjjw</td>\n",
       "      <td>6nKR80xEGHYf2UxAe_Cu_g</td>\n",
       "      <td>5</td>\n",
       "      <td>0</td>\n",
       "      <td>Great brisket sandwich as claimed. Weird that ...</td>\n",
       "    </tr>\n",
       "    <tr>\n",
       "      <th>---7WhU-FtzSUOje87Y4uw</th>\n",
       "      <td>NKF9v-r0jd1p0JVi9h2T1w</td>\n",
       "      <td>Z_mJYg3vi8cPZHa1J4BALw</td>\n",
       "      <td>5</td>\n",
       "      <td>1</td>\n",
       "      <td>Interesting food, great atmosphere, and great ...</td>\n",
       "    </tr>\n",
       "  </tbody>\n",
       "</table>\n",
       "</div>"
      ],
      "text/plain": [
       "                                       user_id             business_id  stars  \\\n",
       "review_id                                                                       \n",
       "----X0BIDP9tA49U3RvdSQ  gVmUR8rqUFdbSeZbsg6z_w  Ue6-WhXvI-_1xUIuapl0zQ      4   \n",
       "---0hl58W-sjVTKi5LghGw  Y6qylbHq8QJmaCRSlKdIog  Ae4ABFarGMaI5lk1i98A0w      4   \n",
       "---3OXpexMp0oAg77xWfYA  SnXZkRN9Yf060pNTk1HMDg  lKq4Qsz13FDcAVgp49uukQ      5   \n",
       "---65iIIGzHj96QnOh89EQ  VcmSgvslHAhqWoEn16wjjw  6nKR80xEGHYf2UxAe_Cu_g      5   \n",
       "---7WhU-FtzSUOje87Y4uw  NKF9v-r0jd1p0JVi9h2T1w  Z_mJYg3vi8cPZHa1J4BALw      5   \n",
       "\n",
       "                        useful  \\\n",
       "review_id                        \n",
       "----X0BIDP9tA49U3RvdSQ       1   \n",
       "---0hl58W-sjVTKi5LghGw       0   \n",
       "---3OXpexMp0oAg77xWfYA       2   \n",
       "---65iIIGzHj96QnOh89EQ       0   \n",
       "---7WhU-FtzSUOje87Y4uw       1   \n",
       "\n",
       "                                                                     text  \n",
       "review_id                                                                  \n",
       "----X0BIDP9tA49U3RvdSQ  Red, white and bleu salad was super yum and a ...  \n",
       "---0hl58W-sjVTKi5LghGw  Ate the momos during the momo crawl.. Was the ...  \n",
       "---3OXpexMp0oAg77xWfYA  Pizza here made my night... Good people and gr...  \n",
       "---65iIIGzHj96QnOh89EQ  Great brisket sandwich as claimed. Weird that ...  \n",
       "---7WhU-FtzSUOje87Y4uw  Interesting food, great atmosphere, and great ...  "
      ]
     },
     "execution_count": 4,
     "metadata": {},
     "output_type": "execute_result"
    }
   ],
   "source": [
    "# usr = dd.read_json('G:/SharedSpace/_Large_datasets/Yelp/user.json', lines=True, blocksize=2**28)\n",
    "# biz = dd.read_json('E:/_Large_datasets/Yelp/business.json', lines=True)#, blocksize=2**28)\n",
    "\n",
    "rev = dd.read_json('/run/media/seapea/HDD1TB_1/SharedSpace/_Large_datasets/Yelp/review.json', \n",
    "                   lines=True, blocksize=2**22) # lower blocksize (i.e. 2*22) made this work in Linux\n",
    "rev = rev.drop(['funny', 'cool', 'date'], axis=1)\n",
    "rev = rev.drop_duplicates(subset='text')\n",
    "rev = rev.set_index('review_id')\n",
    "rev.head()\n",
    "\n",
    "# rev.to_parquet('/run/media/seapea/Blade HDD/_Storage/Data/yelp_dataset/parquet/')"
   ]
  },
  {
   "cell_type": "markdown",
   "metadata": {},
   "source": [
    "#### Dask challenges\n",
    "It has been very painful working with Dask. It is not covered in the course anywhere, despite being a more realistic work environment where too much data exists to analyze things in memory. Arithmetic computations and other analyses across the Dask dataframe chunks pose challenges we haven't seen when operating only in memory.\n",
    "\n",
    "Some basic issues you can not run in Dask include:\n",
    "\n",
    "- Boolean indexing\n",
    "- spaCy pipelines (memory allocation)\n",
    "- Word2Vec conversions (memory allocation)\n",
    "- Basic computations (very long turn around)\n",
    "\n",
    "Because of these limitations, some of the work and drudge behing the scenes might not be displayed in the notebook."
   ]
  },
  {
   "cell_type": "code",
   "execution_count": 4,
   "metadata": {},
   "outputs": [
    {
     "data": {
      "text/plain": [
       "<matplotlib.axes._subplots.AxesSubplot at 0x7f7603d42e80>"
      ]
     },
     "execution_count": 4,
     "metadata": {},
     "output_type": "execute_result"
    },
    {
     "data": {
      "image/png": "[encoded data removed]",
      "text/plain": [
       "<Figure size 1152x648 with 2 Axes>"
      ]
     },
     "metadata": {
      "needs_background": "light"
     },
     "output_type": "display_data"
    }
   ],
   "source": [
    "fig, (ax1, ax2) = plt.subplots(1, 2, figsize=(16,9))\n",
    "sns.distplot(np.log((rev.useful + 2).compute()), ax=ax1)\n",
    "sns.boxplot(rev.useful.compute(), ax=ax2)"
   ]
  },
  {
   "cell_type": "code",
   "execution_count": 51,
   "metadata": {},
   "outputs": [
    {
     "data": {
      "text/plain": [
       "203142    Dinner for 1.\\n\\n- Preface\\nI went to Amy's Ba...\n",
       "Name: text, dtype: object"
      ]
     },
     "execution_count": 51,
     "metadata": {},
     "output_type": "execute_result"
    }
   ],
   "source": [
    "rev[rev.useful == rev.useful.max().compute()].text.compute()"
   ]
  },
  {
   "cell_type": "markdown",
   "metadata": {},
   "source": [
    "### Approaching parsing of vast text\n",
    "We will first work with a simple approach - the CountVectorizer. Upon meddling in the data and trying different things, Dask and spaCy weren't able to execute necessary computations without more fiddling; we will return to those later. For now, we first build a delayed function for the Dask dataframe to pull the most frequent words from the corpus."
   ]
  },
  {
   "cell_type": "code",
   "execution_count": null,
   "metadata": {},
   "outputs": [],
   "source": [
    "@delayed\n",
    "def ret_count(ddf):\n",
    "    vec = CountVectorizer(stop_words='english', ngram_range=(1,2), max_features=30)\n",
    "    X = vec.fit_transform(ddf)\n",
    "    names = vec.get_feature_names()\n",
    "    return X, names\n",
    "\n",
    "ddf, names = ret_count(rev.text).compute()\n",
    "print(names)"
   ]
  },
  {
   "cell_type": "markdown",
   "metadata": {},
   "source": [
    "### Success! \n",
    "Our first tangible data to work with that didn't overload the system!"
   ]
  },
  {
   "cell_type": "code",
   "execution_count": null,
   "metadata": {
    "scrolled": false
   },
   "outputs": [],
   "source": [
    "def top4(val, ax):\n",
    "    sns.distplot(ddf.todense()[:,val].reshape(1,-1), ax=ax)\n",
    "fig, ((ax1, ax2), (ax3, ax4)) = plt.subplots(2, 2, figsize=(16,9), sharex=True, sharey=True) \n",
    "axes = [ax1, ax2, ax3, ax4]\n",
    "\n",
    "for val, ax in zip(range(4), axes):\n",
    "    top4(val, ax)"
   ]
  },
  {
   "cell_type": "markdown",
   "metadata": {},
   "source": [
    "### Previous attempts at spaCy\n",
    "In a previous project, I limited my vocabulary and text subset to one million words as spaCy throws an error when too large a vocabulary exists for use in memory. I have since discovered a lazy computation design for this exists within spaCy called the pipe. This allows spaCy to batch the documents and prevent breaking memory constraints."
   ]
  },
  {
   "cell_type": "code",
   "execution_count": null,
   "metadata": {},
   "outputs": [],
   "source": [
    "rev.to_parquet(tower + 'parquet/')"
   ]
  },
  {
   "cell_type": "code",
   "execution_count": 4,
   "metadata": {},
   "outputs": [
    {
     "data": {
      "text/plain": [
       "user_id                                   hG7b0MtEbXx5QzbzE6C_VA\n",
       "business_id                               ujmEBvifdJM6h6RLv4wQIg\n",
       "stars                                                          1\n",
       "useful                                                         6\n",
       "funny                                                          1\n",
       "cool                                                           0\n",
       "text           Total bill for this horrible service? Over $8G...\n",
       "date                                         2013-05-07 04:34:36\n",
       "Name: Q1sbwvVQXV2734tPgoKj4Q, dtype: object"
      ]
     },
     "execution_count": 4,
     "metadata": {},
     "output_type": "execute_result"
    }
   ],
   "source": [
    "df = pd.read_parquet(tower + 'parquet/part.0.parquet').set_index('review_id')\n",
    "df.iloc[0]"
   ]
  },
  {
   "cell_type": "code",
   "execution_count": 2,
   "metadata": {},
   "outputs": [
    {
     "data": {
      "text/plain": [
       "[('tagger', <spacy.pipeline.pipes.Tagger at 0x7f72d9449518>),\n",
       " ('parser', <spacy.pipeline.pipes.DependencyParser at 0x7f72d83acf48>),\n",
       " ('ner', <spacy.pipeline.pipes.EntityRecognizer at 0x7f72d83acfa8>)]"
      ]
     },
     "execution_count": 2,
     "metadata": {},
     "output_type": "execute_result"
    }
   ],
   "source": [
    "nlp.pipeline"
   ]
  },
  {
   "cell_type": "code",
   "execution_count": 3,
   "metadata": {},
   "outputs": [
    {
     "ename": "NameError",
     "evalue": "name 'df' is not defined",
     "output_type": "error",
     "traceback": [
      "\u001b[0;31m---------------------------------------------------------------------------\u001b[0m",
      "\u001b[0;31mNameError\u001b[0m                                 Traceback (most recent call last)",
      "\u001b[0;32m<ipython-input-3-cb88099b5b13>\u001b[0m in \u001b[0;36m<module>\u001b[0;34m\u001b[0m\n\u001b[0;32m----> 1\u001b[0;31m \u001b[0mdoc\u001b[0m \u001b[0;34m=\u001b[0m \u001b[0mnlp\u001b[0m\u001b[0;34m.\u001b[0m\u001b[0mpipe\u001b[0m\u001b[0;34m(\u001b[0m\u001b[0mdf\u001b[0m\u001b[0;34m.\u001b[0m\u001b[0mtext\u001b[0m\u001b[0;34m.\u001b[0m\u001b[0mstr\u001b[0m\u001b[0;34m.\u001b[0m\u001b[0mcat\u001b[0m\u001b[0;34m(\u001b[0m\u001b[0msep\u001b[0m\u001b[0;34m=\u001b[0m\u001b[0;34m' '\u001b[0m\u001b[0;34m)\u001b[0m\u001b[0;34m[\u001b[0m\u001b[0;34m:\u001b[0m\u001b[0;36m1500\u001b[0m\u001b[0;34m]\u001b[0m\u001b[0;34m)\u001b[0m\u001b[0;34m\u001b[0m\u001b[0;34m\u001b[0m\u001b[0m\n\u001b[0m\u001b[1;32m      2\u001b[0m \u001b[0mlist\u001b[0m\u001b[0;34m(\u001b[0m\u001b[0mdoc\u001b[0m\u001b[0;34m)\u001b[0m\u001b[0;34m\u001b[0m\u001b[0;34m\u001b[0m\u001b[0m\n",
      "\u001b[0;31mNameError\u001b[0m: name 'df' is not defined"
     ]
    }
   ],
   "source": [
    "doc = nlp.pipe(df.text.str.cat(sep=' ')[:1500])\n",
    "list(doc)"
   ]
  },
  {
   "cell_type": "code",
   "execution_count": 52,
   "metadata": {},
   "outputs": [
    {
     "ename": "AttributeError",
     "evalue": "'generator' object has no attribute 'sents'",
     "output_type": "error",
     "traceback": [
      "\u001b[0;31m---------------------------------------------------------------------------\u001b[0m",
      "\u001b[0;31mAttributeError\u001b[0m                            Traceback (most recent call last)",
      "\u001b[0;32m<ipython-input-52-abb313762712>\u001b[0m in \u001b[0;36m<module>\u001b[0;34m\u001b[0m\n\u001b[1;32m      1\u001b[0m \u001b[0mdoc_list\u001b[0m \u001b[0;34m=\u001b[0m \u001b[0;34m[\u001b[0m\u001b[0;34m]\u001b[0m\u001b[0;34m\u001b[0m\u001b[0;34m\u001b[0m\u001b[0m\n\u001b[0;32m----> 2\u001b[0;31m \u001b[0;32mfor\u001b[0m \u001b[0msentence\u001b[0m \u001b[0;32min\u001b[0m \u001b[0mdoc\u001b[0m\u001b[0;34m.\u001b[0m\u001b[0msents\u001b[0m\u001b[0;34m:\u001b[0m\u001b[0;34m\u001b[0m\u001b[0;34m\u001b[0m\u001b[0m\n\u001b[0m\u001b[1;32m      3\u001b[0m     \u001b[0mapp\u001b[0m \u001b[0;34m=\u001b[0m \u001b[0;34m[\u001b[0m\u001b[0mtoken\u001b[0m\u001b[0;34m.\u001b[0m\u001b[0mlemma_\u001b[0m\u001b[0;34m.\u001b[0m\u001b[0mlower\u001b[0m\u001b[0;34m(\u001b[0m\u001b[0;34m)\u001b[0m \u001b[0;32mfor\u001b[0m \u001b[0mtoken\u001b[0m \u001b[0;32min\u001b[0m \u001b[0msentence\u001b[0m \u001b[0;32mif\u001b[0m \u001b[0;32mnot\u001b[0m \u001b[0mtoken\u001b[0m\u001b[0;34m.\u001b[0m\u001b[0mis_punct\u001b[0m \u001b[0;32mand\u001b[0m \u001b[0;32mnot\u001b[0m \u001b[0mtoken\u001b[0m\u001b[0;34m.\u001b[0m\u001b[0mis_stop\u001b[0m\u001b[0;34m]\u001b[0m\u001b[0;34m\u001b[0m\u001b[0;34m\u001b[0m\u001b[0m\n\u001b[1;32m      4\u001b[0m     \u001b[0mdoc_list\u001b[0m\u001b[0;34m.\u001b[0m\u001b[0mappend\u001b[0m\u001b[0;34m(\u001b[0m\u001b[0mapp\u001b[0m\u001b[0;34m)\u001b[0m\u001b[0;34m\u001b[0m\u001b[0;34m\u001b[0m\u001b[0m\n\u001b[1;32m      5\u001b[0m \u001b[0;34m\u001b[0m\u001b[0m\n",
      "\u001b[0;31mAttributeError\u001b[0m: 'generator' object has no attribute 'sents'"
     ]
    }
   ],
   "source": [
    "doc_list = []\n",
    "for sentence in doc.sents:\n",
    "    app = [token.lemma_.lower() for token in sentence if not token.is_punct and not token.is_stop]\n",
    "    doc_list.append(app)\n",
    "    \n",
    "# Word2Vec(doc_list[0])"
   ]
  },
  {
   "cell_type": "code",
   "execution_count": null,
   "metadata": {},
   "outputs": [],
   "source": [
    "for parq in os.listdir(path):\n",
    "    df = pd.read_parquet(parq).set_index()\n",
    "        for doc in nlp(df.text):\n",
    "            "
   ]
  },
  {
   "cell_type": "code",
   "execution_count": null,
   "metadata": {},
   "outputs": [],
   "source": []
  }
 ],
 "metadata": {
  "kernelspec": {
   "display_name": "Python 3",
   "language": "python",
   "name": "python3"
  },
  "language_info": {
   "codemirror_mode": {
    "name": "ipython",
    "version": 3
   },
   "file_extension": ".py",
   "mimetype": "text/x-python",
   "name": "python",
   "nbconvert_exporter": "python",
   "pygments_lexer": "ipython3",
   "version": "3.6.9"
  }
 },
 "nbformat": 4,
 "nbformat_minor": 2
}
