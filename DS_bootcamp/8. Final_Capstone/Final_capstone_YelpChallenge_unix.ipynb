{
 "cells": [
  {
   "cell_type": "markdown",
   "metadata": {},
   "source": [
    "# Yelp text data"
   ]
  },
  {
   "cell_type": "code",
   "execution_count": 3,
   "metadata": {},
   "outputs": [
    {
     "name": "stderr",
     "output_type": "stream",
     "text": [
      "/home/seapea/anaconda3/envs/py36/lib/python3.6/site-packages/distributed/utils.py:137: RuntimeWarning: Couldn't detect a suitable IP address for reaching '8.8.8.8', defaulting to '127.0.0.1': [Errno 101] Network is unreachable\n",
      "  RuntimeWarning,\n"
     ]
    }
   ],
   "source": [
    "import numpy as np\n",
    "import pandas as pd\n",
    "import matplotlib.pyplot as plt\n",
    "import re\n",
    "import os\n",
    "import seaborn as sns\n",
    "import dask.dataframe as dd\n",
    "from dask import delayed\n",
    "from dask_ml.model_selection import train_test_split\n",
    "import spacy\n",
    "import spacy_readability\n",
    "from gensim.models import Word2Vec, Doc2Vec\n",
    "from gensim.models.doc2vec import TaggedDocument\n",
    "from sklearn.feature_extraction.text import CountVectorizer, TfidfVectorizer\n",
    "from sklearn.manifold import TSNE\n",
    "# from sklearn.model_selection import train_test_split\n",
    "# from tqdm import tqdm\n",
    "\n",
    "sns.set_style('darkgrid')\n",
    "laptop = '/media/seapea/Blade HDD/_Storage/Data/yelp_dataset/'\n",
    "tower = '/run/media/seapea/HDD1TB_1/SharedSpace/_Large_datasets/Yelp/'\n",
    "nlp = spacy.load('en_core_web_md', disable=['tagger', 'ner'])\n",
    "%matplotlib inline"
   ]
  },
  {
   "cell_type": "code",
   "execution_count": 2,
   "metadata": {},
   "outputs": [
    {
     "data": {
      "text/html": [
       "<div>\n",
       "<style scoped>\n",
       "    .dataframe tbody tr th:only-of-type {\n",
       "        vertical-align: middle;\n",
       "    }\n",
       "\n",
       "    .dataframe tbody tr th {\n",
       "        vertical-align: top;\n",
       "    }\n",
       "\n",
       "    .dataframe thead th {\n",
       "        text-align: right;\n",
       "    }\n",
       "</style>\n",
       "<table border=\"1\" class=\"dataframe\">\n",
       "  <thead>\n",
       "    <tr style=\"text-align: right;\">\n",
       "      <th></th>\n",
       "      <th>stars</th>\n",
       "      <th>useful</th>\n",
       "      <th>text</th>\n",
       "    </tr>\n",
       "    <tr>\n",
       "      <th>review_id</th>\n",
       "      <th></th>\n",
       "      <th></th>\n",
       "      <th></th>\n",
       "    </tr>\n",
       "  </thead>\n",
       "  <tbody>\n",
       "    <tr>\n",
       "      <th>----X0BIDP9tA49U3RvdSQ</th>\n",
       "      <td>4</td>\n",
       "      <td>1</td>\n",
       "      <td>Red, white and bleu salad was super yum and a ...</td>\n",
       "    </tr>\n",
       "    <tr>\n",
       "      <th>---0hl58W-sjVTKi5LghGw</th>\n",
       "      <td>4</td>\n",
       "      <td>0</td>\n",
       "      <td>Ate the momos during the momo crawl.. Was the ...</td>\n",
       "    </tr>\n",
       "    <tr>\n",
       "      <th>---3OXpexMp0oAg77xWfYA</th>\n",
       "      <td>5</td>\n",
       "      <td>2</td>\n",
       "      <td>Pizza here made my night... Good people and gr...</td>\n",
       "    </tr>\n",
       "    <tr>\n",
       "      <th>---65iIIGzHj96QnOh89EQ</th>\n",
       "      <td>5</td>\n",
       "      <td>0</td>\n",
       "      <td>Great brisket sandwich as claimed. Weird that ...</td>\n",
       "    </tr>\n",
       "    <tr>\n",
       "      <th>---7WhU-FtzSUOje87Y4uw</th>\n",
       "      <td>5</td>\n",
       "      <td>1</td>\n",
       "      <td>Interesting food, great atmosphere, and great ...</td>\n",
       "    </tr>\n",
       "  </tbody>\n",
       "</table>\n",
       "</div>"
      ],
      "text/plain": [
       "                        stars  useful  \\\n",
       "review_id                               \n",
       "----X0BIDP9tA49U3RvdSQ      4       1   \n",
       "---0hl58W-sjVTKi5LghGw      4       0   \n",
       "---3OXpexMp0oAg77xWfYA      5       2   \n",
       "---65iIIGzHj96QnOh89EQ      5       0   \n",
       "---7WhU-FtzSUOje87Y4uw      5       1   \n",
       "\n",
       "                                                                     text  \n",
       "review_id                                                                  \n",
       "----X0BIDP9tA49U3RvdSQ  Red, white and bleu salad was super yum and a ...  \n",
       "---0hl58W-sjVTKi5LghGw  Ate the momos during the momo crawl.. Was the ...  \n",
       "---3OXpexMp0oAg77xWfYA  Pizza here made my night... Good people and gr...  \n",
       "---65iIIGzHj96QnOh89EQ  Great brisket sandwich as claimed. Weird that ...  \n",
       "---7WhU-FtzSUOje87Y4uw  Interesting food, great atmosphere, and great ...  "
      ]
     },
     "execution_count": 2,
     "metadata": {},
     "output_type": "execute_result"
    }
   ],
   "source": [
    "# usr = dd.read_json('G:/SharedSpace/_Large_datasets/Yelp/user.json', lines=True, blocksize=2**28)\n",
    "# biz = dd.read_json('E:/_Large_datasets/Yelp/business.json', lines=True)#, blocksize=2**28)\n",
    "\n",
    "rev = dd.read_json(laptop + 'review.json', \n",
    "                   lines=True, blocksize=2**22) # lower blocksize (i.e. 2*22) made this work in Linux\n",
    "rev = rev.drop(['funny', 'cool', 'date', 'user_id', 'business_id'], axis=1)\n",
    "rev = rev.drop_duplicates(subset='text')\n",
    "rev = rev.set_index('review_id')\n",
    "rev.head()\n",
    "\n",
    "# rev.to_parquet(laptop + 'parquet/')"
   ]
  },
  {
   "cell_type": "markdown",
   "metadata": {},
   "source": [
    "#### Dask challenges\n",
    "It has been very painful working with Dask. It is not covered in the course anywhere, despite being a more realistic work environment where too much data exists to analyze things in memory. Arithmetic computations and other analyses across the Dask dataframe chunks pose challenges we haven't seen when operating only in memory.\n",
    "\n",
    "Some basic issues you can not run in Dask include:\n",
    "\n",
    "- Boolean indexing\n",
    "- .iloc slicing\n",
    "- spaCy pipelines (memory allocation)\n",
    "- Word2Vec conversions (memory allocation)\n",
    "- Basic computations (very long turn around)\n",
    "\n",
    "Because of these limitations, some of the work and drudge behing the scenes might not be displayed in the notebook."
   ]
  },
  {
   "cell_type": "code",
   "execution_count": 4,
   "metadata": {},
   "outputs": [
    {
     "data": {
      "text/plain": [
       "<matplotlib.axes._subplots.AxesSubplot at 0x7f7603d42e80>"
      ]
     },
     "execution_count": 4,
     "metadata": {},
     "output_type": "execute_result"
    },
    {
     "data": {
      "image/png": "[encoded data removed]",
      "text/plain": [
       "<Figure size 1152x648 with 2 Axes>"
      ]
     },
     "metadata": {
      "needs_background": "light"
     },
     "output_type": "display_data"
    }
   ],
   "source": [
    "fig, (ax1, ax2) = plt.subplots(1, 2, figsize=(16,9))\n",
    "sns.distplot(np.log((rev.useful + 2).compute()), ax=ax1)\n",
    "sns.boxplot(rev.useful.compute(), ax=ax2)"
   ]
  },
  {
   "cell_type": "code",
   "execution_count": 51,
   "metadata": {},
   "outputs": [
    {
     "data": {
      "text/plain": [
       "203142    Dinner for 1.\\n\\n- Preface\\nI went to Amy's Ba...\n",
       "Name: text, dtype: object"
      ]
     },
     "execution_count": 51,
     "metadata": {},
     "output_type": "execute_result"
    }
   ],
   "source": [
    "rev[rev.useful == rev.useful.max().compute()].text.compute()"
   ]
  },
  {
   "cell_type": "markdown",
   "metadata": {},
   "source": [
    "### Approaching parsing of vast text\n",
    "We will first work with a simple approach - the CountVectorizer. Upon meddling in the data and trying different things, Dask and spaCy weren't able to execute necessary computations without more fiddling; we will return to those later. For now, we first build a delayed function for the Dask dataframe to pull the most frequent words from the corpus."
   ]
  },
  {
   "cell_type": "code",
   "execution_count": 7,
   "metadata": {},
   "outputs": [
    {
     "name": "stdout",
     "output_type": "stream",
     "text": [
      "['best', 'came', 'chicken', 'come', 'definitely', 'did', 'didn', 'don', 'food', 'friendly', 'good', 'got', 'great', 'just', 'like', 'little', 'love', 'nice', 'order', 'ordered', 'people', 'place', 'really', 'restaurant', 'service', 'staff', 'time', 'try', 've', 'went']\n"
     ]
    }
   ],
   "source": [
    "@delayed\n",
    "def ret_count(ddf):\n",
    "    vec = TfidfVectorizer(stop_words='english', ngram_range=(1,2), max_features=30)\n",
    "    X = vec.fit_transform(ddf)\n",
    "    names = vec.get_feature_names()\n",
    "    return X, names\n",
    "\n",
    "ddf, names = ret_count(rev.text).compute()\n",
    "print(names)"
   ]
  },
  {
   "cell_type": "markdown",
   "metadata": {},
   "source": [
    "### Success! \n",
    "Our first tangible data to work with that didn't overload the system!"
   ]
  },
  {
   "cell_type": "code",
   "execution_count": 9,
   "metadata": {
    "scrolled": false
   },
   "outputs": [
    {
     "data": {
      "image/png": "[encoded data removed]",
      "text/plain": [
       "<Figure size 1152x648 with 4 Axes>"
      ]
     },
     "metadata": {
      "needs_background": "light"
     },
     "output_type": "display_data"
    }
   ],
   "source": [
    "def top4(val, ax):\n",
    "    sns.distplot(ddf.todense()[:,val].reshape(1,-1), kde=False, ax=ax)\n",
    "    \n",
    "fig, ((ax1, ax2), (ax3, ax4)) = plt.subplots(2, 2, figsize=(16,9), sharex=True, sharey=True) \n",
    "axes = [ax1, ax2, ax3, ax4]\n",
    "\n",
    "for val, ax in zip(range(4), axes):\n",
    "    top4(val, ax)"
   ]
  },
  {
   "cell_type": "markdown",
   "metadata": {},
   "source": [
    "### Previous attempts at spaCy\n",
    "In a previous project, I limited my vocabulary and text subset to one million words as spaCy throws an error when too large a vocabulary exists for use in memory. I have since discovered a lazy computation design for this exists within spaCy called the pipe. This allows spaCy to batch the documents and prevent breaking memory constraints.\n",
    "\n",
    "### How to handle the large corpus\n",
    "After some trial, error, and research, it is my conclusion that the model computation will not differ between one large or several chunks. This stems from a blog written by the library's author - Radim Rehurek - discussing multiprocessing for faster running times. If the content can be processed in parallel, it is not requiring information from the entire corpus and can be run in pieces.\n",
    "\n",
    "# The above is false\n",
    "The Doc2Vec algorithim seems to require all inputs are labeled with indices, indicating a representation of all documents is initially required."
   ]
  },
  {
   "cell_type": "code",
   "execution_count": 38,
   "metadata": {},
   "outputs": [],
   "source": [
    "df0 = pd.read_parquet(laptop + 'parquet/part.0.parquet')#.set_index('review_id')\n",
    "df1 = pd.read_parquet(laptop + 'parquet/part.1.parquet')#.set_index('review_id')\n",
    "df2 = pd.read_parquet(laptop + 'parquet/part.2.parquet')#.set_index('review_id')\n",
    "\n",
    "df = pd.concat([df0, df1, df2], axis=0)\n",
    "ddf = dd.from_pandas(df, chunksize=2**12)"
   ]
  },
  {
   "cell_type": "code",
   "execution_count": 67,
   "metadata": {},
   "outputs": [],
   "source": [
    "def fix_nl(mytext):\n",
    "    text = re.sub(r'\\n\\n', '', mytext)\n",
    "    final = re.sub(r'  ', ' ', text)\n",
    "    return final\n",
    "\n",
    "@delayed\n",
    "def tag(df):\n",
    "    df.text = df.text.apply(fix_nl)\n",
    "    tags = []\n",
    "    for i, doc in enumerate(nlp.pipe(df.text, disable=['ner', 'parser'])):\n",
    "        mylist = [chunk.lemma_.lower() for chunk in doc if not chunk.is_punct and not chunk.is_stop]\n",
    "        tags.append(TaggedDocument(mylist, [i]))\n",
    "        \n",
    "    vec = Doc2Vec(min_count=1)\n",
    "    vec.build_vocab(tags)\n",
    "    \n",
    "    return vec, tags"
   ]
  },
  {
   "cell_type": "code",
   "execution_count": 94,
   "metadata": {},
   "outputs": [
    {
     "data": {
      "text/plain": [
       "3"
      ]
     },
     "execution_count": 94,
     "metadata": {},
     "output_type": "execute_result"
    }
   ],
   "source": [
    "len(ddf.loc[0])"
   ]
  },
  {
   "cell_type": "code",
   "execution_count": 45,
   "metadata": {},
   "outputs": [
    {
     "data": {
      "text/plain": [
       "index\n",
       "0    Total bill for this horrible service? Over $8G...\n",
       "0    This company replaced the opener motor last ye...\n",
       "0    Always packed on the weekend, but usually wort...\n",
       "Name: text, dtype: object"
      ]
     },
     "execution_count": 45,
     "metadata": {},
     "output_type": "execute_result"
    }
   ],
   "source": [
    "ddf.loc[0].text.compute()"
   ]
  },
  {
   "cell_type": "code",
   "execution_count": 88,
   "metadata": {},
   "outputs": [
    {
     "data": {
      "text/plain": [
       "index\n",
       "0    Total bill for this horrible service? Over $8G...\n",
       "0    This company replaced the opener motor last ye...\n",
       "0    Always packed on the weekend, but usually wort...\n",
       "Name: text, dtype: object"
      ]
     },
     "execution_count": 88,
     "metadata": {},
     "output_type": "execute_result"
    }
   ],
   "source": [
    "ddf.text.loc[0].compute()"
   ]
  },
  {
   "cell_type": "code",
   "execution_count": 99,
   "metadata": {},
   "outputs": [
    {
     "data": {
      "text/plain": [
       "Total bill for this horrible service? Over $8Gs. These crooks actually had the nerve to charge us $69 for 3 pills. I checked online the pills can be had for 19 cents EACH! Avoid Hospital ERs at all costs."
      ]
     },
     "execution_count": 99,
     "metadata": {},
     "output_type": "execute_result"
    }
   ],
   "source": [
    "# Healthy computation for something trivial in our context\n",
    "comp = [nlp(txt) for txt in df.text]\n",
    "comp[0]"
   ]
  },
  {
   "cell_type": "code",
   "execution_count": 78,
   "metadata": {},
   "outputs": [
    {
     "ename": "NotImplementedError",
     "evalue": "Series getitem in only supported for other series objects with matching partition structure",
     "output_type": "error",
     "traceback": [
      "\u001b[0;31m---------------------------------------------------------------------------\u001b[0m",
      "\u001b[0;31mNotImplementedError\u001b[0m                       Traceback (most recent call last)",
      "\u001b[0;32m<ipython-input-78-99901cf33a98>\u001b[0m in \u001b[0;36m<module>\u001b[0;34m\u001b[0m\n\u001b[0;32m----> 1\u001b[0;31m \u001b[0;34m[\u001b[0m\u001b[0mnlp\u001b[0m\u001b[0;34m(\u001b[0m\u001b[0mtxt\u001b[0m\u001b[0;34m)\u001b[0m \u001b[0;32mfor\u001b[0m \u001b[0mtxt\u001b[0m \u001b[0;32min\u001b[0m \u001b[0mddf\u001b[0m\u001b[0;34m.\u001b[0m\u001b[0mtext\u001b[0m\u001b[0;34m]\u001b[0m\u001b[0;34m\u001b[0m\u001b[0;34m\u001b[0m\u001b[0m\n\u001b[0m",
      "\u001b[0;32m<ipython-input-78-99901cf33a98>\u001b[0m in \u001b[0;36m<listcomp>\u001b[0;34m(.0)\u001b[0m\n\u001b[0;32m----> 1\u001b[0;31m \u001b[0;34m[\u001b[0m\u001b[0mnlp\u001b[0m\u001b[0;34m(\u001b[0m\u001b[0mtxt\u001b[0m\u001b[0;34m)\u001b[0m \u001b[0;32mfor\u001b[0m \u001b[0mtxt\u001b[0m \u001b[0;32min\u001b[0m \u001b[0mddf\u001b[0m\u001b[0;34m.\u001b[0m\u001b[0mtext\u001b[0m\u001b[0;34m]\u001b[0m\u001b[0;34m\u001b[0m\u001b[0;34m\u001b[0m\u001b[0m\n\u001b[0m",
      "\u001b[0;32m~/anaconda3/envs/py36/lib/python3.6/site-packages/dask/dataframe/core.py\u001b[0m in \u001b[0;36m__getitem__\u001b[0;34m(self, key)\u001b[0m\n\u001b[1;32m   2671\u001b[0m             \u001b[0;32mreturn\u001b[0m \u001b[0mSeries\u001b[0m\u001b[0;34m(\u001b[0m\u001b[0mgraph\u001b[0m\u001b[0;34m,\u001b[0m \u001b[0mname\u001b[0m\u001b[0;34m,\u001b[0m \u001b[0mself\u001b[0m\u001b[0;34m.\u001b[0m\u001b[0m_meta\u001b[0m\u001b[0;34m,\u001b[0m \u001b[0mself\u001b[0m\u001b[0;34m.\u001b[0m\u001b[0mdivisions\u001b[0m\u001b[0;34m)\u001b[0m\u001b[0;34m\u001b[0m\u001b[0;34m\u001b[0m\u001b[0m\n\u001b[1;32m   2672\u001b[0m         raise NotImplementedError(\n\u001b[0;32m-> 2673\u001b[0;31m             \u001b[0;34m\"Series getitem in only supported for other series objects \"\u001b[0m\u001b[0;34m\u001b[0m\u001b[0;34m\u001b[0m\u001b[0m\n\u001b[0m\u001b[1;32m   2674\u001b[0m             \u001b[0;34m\"with matching partition structure\"\u001b[0m\u001b[0;34m\u001b[0m\u001b[0;34m\u001b[0m\u001b[0m\n\u001b[1;32m   2675\u001b[0m         )\n",
      "\u001b[0;31mNotImplementedError\u001b[0m: Series getitem in only supported for other series objects with matching partition structure"
     ]
    }
   ],
   "source": [
    "# Try the same basic computation the Dask df\n",
    "comp = [nlp(txt) for txt in ddf.text]\n",
    "comp[0]"
   ]
  },
  {
   "cell_type": "markdown",
   "metadata": {},
   "source": [
    "# Try Word2Vec\n",
    "This is pointless. Without the proper background on Dask and these delayed computation, this project will take months. We need to try Word2Vec, as I've seen it has an update built into it."
   ]
  },
  {
   "cell_type": "code",
   "execution_count": null,
   "metadata": {},
   "outputs": [],
   "source": []
  },
  {
   "cell_type": "markdown",
   "metadata": {},
   "source": [
    "## Run LDA from gensim\n",
    "This will allow us to extract some summarized information from the reviews."
   ]
  },
  {
   "cell_type": "code",
   "execution_count": null,
   "metadata": {},
   "outputs": [],
   "source": []
  }
 ],
 "metadata": {
  "kernelspec": {
   "display_name": "Python 3",
   "language": "python",
   "name": "python3"
  },
  "language_info": {
   "codemirror_mode": {
    "name": "ipython",
    "version": 3
   },
   "file_extension": ".py",
   "mimetype": "text/x-python",
   "name": "python",
   "nbconvert_exporter": "python",
   "pygments_lexer": "ipython3",
   "version": "3.6.9"
  }
 },
 "nbformat": 4,
 "nbformat_minor": 2
}
