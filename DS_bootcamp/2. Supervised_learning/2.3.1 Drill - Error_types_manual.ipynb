{
 "cells": [
  {
   "cell_type": "markdown",
   "metadata": {},
   "source": [
    "# Determining TP FN TN FP manually"
   ]
  },
  {
   "cell_type": "code",
   "execution_count": 1,
   "metadata": {},
   "outputs": [],
   "source": [
    "import numpy as np\n",
    "import pandas as pd\n",
    "from sklearn.naive_bayes import BernoulliNB\n",
    "\n",
    "data_path = (\"https://raw.githubusercontent.com/Thinkful-Ed/data-201-resources/\"\n",
    "             \"master/sms_spam_collection/SMSSpamCollection\")\n",
    "sms_raw = pd.read_csv(data_path, delimiter= '\\t', header=None)\n",
    "sms_raw.columns = ['spam', 'message']\n",
    "\n",
    "keywords = ['click', 'offer', 'winner', 'buy', 'free', 'cash', 'urgent']\n",
    "for key in keywords:\n",
    "    sms_raw[str(key)] = sms_raw.message.str.contains(' ' + str(key) + ' ', case=False)\n",
    "sms_raw['allcaps'] = sms_raw.message.str.isupper()\n",
    "sms_raw['spam'] = (sms_raw['spam'] == 'spam')\n",
    "\n",
    "data = sms_raw[keywords + ['allcaps']]\n",
    "target = sms_raw['spam']\n",
    "\n",
    "bnb = BernoulliNB()\n",
    "y_pred = bnb.fit(data, target).predict(data)"
   ]
  },
  {
   "cell_type": "code",
   "execution_count": 2,
   "metadata": {},
   "outputs": [],
   "source": [
    "work = pd.DataFrame([sms_raw.spam, pd.Series(y_pred, name='pred')], index=None).transpose()"
   ]
  },
  {
   "cell_type": "code",
   "execution_count": 3,
   "metadata": {},
   "outputs": [],
   "source": [
    "TP = len(work[(work['pred'] == True) & (work['spam'] == True)])\n",
    "FN = len(work[(work['pred'] == False) & (work['spam'] == True)])\n",
    "FP = len(work[(work['pred'] == True) & (work['spam'] == False)])\n",
    "TN = len(work[(work['pred'] == False) & (work['spam'] == False)])"
   ]
  },
  {
   "cell_type": "code",
   "execution_count": 9,
   "metadata": {},
   "outputs": [
    {
     "name": "stdout",
     "output_type": "stream",
     "text": [
      "True Positives: 198 False Positives: 55\n",
      "True Negatives: 4770 False Negatives: 549\n",
      "Sensitivity - TP/(TP + FN): 0.26506024096385544 Specificity - TN/(TN + FN): 0.9886010362694301\n"
     ]
    }
   ],
   "source": [
    "print('True Positives: {} False Positives: {}'.format(TP, FP))\n",
    "print('True Negatives: {} False Negatives: {}'.format(TN, FN))\n",
    "print('Sensitivity - TP/(TP + FN): {} Specificity - TN/(TN + FN): {}'.format(TP/(TP + FN), TN/(TN + FP)))"
   ]
  }
 ],
 "metadata": {
  "kernelspec": {
   "display_name": "Python 3",
   "language": "python",
   "name": "python3"
  },
  "language_info": {
   "codemirror_mode": {
    "name": "ipython",
    "version": 3
   },
   "file_extension": ".py",
   "mimetype": "text/x-python",
   "name": "python",
   "nbconvert_exporter": "python",
   "pygments_lexer": "ipython3",
   "version": "3.7.0"
  }
 },
 "nbformat": 4,
 "nbformat_minor": 2
}
