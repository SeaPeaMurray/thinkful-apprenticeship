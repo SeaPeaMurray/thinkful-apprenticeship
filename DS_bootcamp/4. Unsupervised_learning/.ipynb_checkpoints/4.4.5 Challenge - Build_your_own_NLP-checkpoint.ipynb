{
 "cells": [
  {
   "cell_type": "markdown",
   "metadata": {},
   "source": [
    "# Text classification challenge\n",
    "### Building our own NLP\n",
    "\n",
    "Can we create a model differentiating two bodies of text? \n",
    "\n",
    "#### Melville's Moby Dicka and Austen's Emma\n",
    "\n",
    "We will try to classify these two bodies of text using Bag of Words and Term Frequency-Inverse Document Frequency approaches. After vectorization, the values will be pushed through different classification models for preliminary outcomes. Finally, a vectorization approach will be improved against a model to optimize outcomes."
   ]
  },
  {
   "cell_type": "code",
   "execution_count": 211,
   "metadata": {},
   "outputs": [],
   "source": [
    "from nltk.corpus import gutenberg, stopwords\n",
    "from nltk.tokenize import sent_tokenize\n",
    "from sklearn.feature_extraction.text import TfidfVectorizer, CountVectorizer\n",
    "from sklearn.model_selection import train_test_split\n",
    "from sklearn.preprocessing import Normalizer\n",
    "from sklearn.pipeline import make_pipeline\n",
    "from sklearn.decomposition import TruncatedSVD, PCA\n",
    "from sklearn.linear_model import LogisticRegression\n",
    "from sklearn.tree import DecisionTreeClassifier\n",
    "from sklearn.ensemble import GradientBoostingClassifier\n",
    "from sklearn.metrics import confusion_matrix\n",
    "import re\n",
    "import numpy as np\n",
    "import pandas as pd\n",
    "import matplotlib.pyplot as plt\n",
    "import seaborn as sns\n",
    "plt.style.use('ggplot')\n",
    "%matplotlib inline"
   ]
  },
  {
   "cell_type": "code",
   "execution_count": 2,
   "metadata": {},
   "outputs": [
    {
     "name": "stdout",
     "output_type": "stream",
     "text": [
      "False\n"
     ]
    },
    {
     "data": {
      "text/plain": [
       "\"Emma doi*g just what she liked;\\\\*highly esteemi*g Miss Taylor's judgme*t, but directed chiefly by\\\\*her ow*.\""
      ]
     },
     "execution_count": 2,
     "metadata": {},
     "output_type": "execute_result"
    }
   ],
   "source": [
    "# Quick test after noticing odd apostrophe escapement behavior\n",
    "print(r\"'\" == r'\\'')\n",
    "test = r\"Emma doing just what she liked;\\nhighly esteeming Miss Taylor's judgment, but directed chiefly by\\nher own.\"\n",
    "re.sub(\"n\", '*', test)"
   ]
  },
  {
   "cell_type": "markdown",
   "metadata": {},
   "source": [
    "### Importing sklearn modules, pandas, numpy, visualization\n",
    "\n",
    "We will be using a few different classifiers to see how they perform. We also need text extraction tools, metrics, and basics from NLTK.\n",
    "\n",
    "### Checking Python and re '\\\\' behavior\n",
    "\n",
    "There was some strange behavior with the escapement character '\\' as it is a special case in both the language and the library. I ran this quick regular expression test at the beginning of the notebook to be sure it worked as intended."
   ]
  },
  {
   "cell_type": "code",
   "execution_count": 3,
   "metadata": {
    "scrolled": true
   },
   "outputs": [
    {
     "data": {
      "text/html": [
       "<div>\n",
       "<style scoped>\n",
       "    .dataframe tbody tr th:only-of-type {\n",
       "        vertical-align: middle;\n",
       "    }\n",
       "\n",
       "    .dataframe tbody tr th {\n",
       "        vertical-align: top;\n",
       "    }\n",
       "\n",
       "    .dataframe thead th {\n",
       "        text-align: right;\n",
       "    }\n",
       "</style>\n",
       "<table border=\"1\" class=\"dataframe\">\n",
       "  <thead>\n",
       "    <tr style=\"text-align: right;\">\n",
       "      <th></th>\n",
       "      <th>original_sentence</th>\n",
       "      <th>source</th>\n",
       "    </tr>\n",
       "  </thead>\n",
       "  <tbody>\n",
       "    <tr>\n",
       "      <th>437</th>\n",
       "      <td>but what thinks lazarus</td>\n",
       "      <td>moby</td>\n",
       "    </tr>\n",
       "    <tr>\n",
       "      <th>50</th>\n",
       "      <td>the indian sea breedeth the most and the bigge...</td>\n",
       "      <td>moby</td>\n",
       "    </tr>\n",
       "    <tr>\n",
       "      <th>7989</th>\n",
       "      <td>for whatever is truly wondrous and fearful in ...</td>\n",
       "      <td>moby</td>\n",
       "    </tr>\n",
       "    <tr>\n",
       "      <th>1558</th>\n",
       "      <td>groaned bildad glancing up from the book in wh...</td>\n",
       "      <td>moby</td>\n",
       "    </tr>\n",
       "    <tr>\n",
       "      <th>11312</th>\n",
       "      <td>i really am a most troublesome companion to yo...</td>\n",
       "      <td>emma</td>\n",
       "    </tr>\n",
       "    <tr>\n",
       "      <th>11591</th>\n",
       "      <td>indeed you should take care of yourself as wel...</td>\n",
       "      <td>emma</td>\n",
       "    </tr>\n",
       "    <tr>\n",
       "      <th>413</th>\n",
       "      <td>-this then must needs be the sign of the trap</td>\n",
       "      <td>moby</td>\n",
       "    </tr>\n",
       "    <tr>\n",
       "      <th>3990</th>\n",
       "      <td>there-there-there again</td>\n",
       "      <td>moby</td>\n",
       "    </tr>\n",
       "    <tr>\n",
       "      <th>9879</th>\n",
       "      <td>what a pity it is that mr weston ever thought ...</td>\n",
       "      <td>emma</td>\n",
       "    </tr>\n",
       "    <tr>\n",
       "      <th>8034</th>\n",
       "      <td>i say game game game</td>\n",
       "      <td>moby</td>\n",
       "    </tr>\n",
       "  </tbody>\n",
       "</table>\n",
       "</div>"
      ],
      "text/plain": [
       "                                       original_sentence source\n",
       "437                              but what thinks lazarus   moby\n",
       "50     the indian sea breedeth the most and the bigge...   moby\n",
       "7989   for whatever is truly wondrous and fearful in ...   moby\n",
       "1558   groaned bildad glancing up from the book in wh...   moby\n",
       "11312  i really am a most troublesome companion to yo...   emma\n",
       "11591  indeed you should take care of yourself as wel...   emma\n",
       "413        -this then must needs be the sign of the trap   moby\n",
       "3990                             there-there-there again   moby\n",
       "9879   what a pity it is that mr weston ever thought ...   emma\n",
       "8034                                i say game game game   moby"
      ]
     },
     "execution_count": 3,
     "metadata": {},
     "output_type": "execute_result"
    }
   ],
   "source": [
    "moby = gutenberg.raw('melville-moby_dick.txt')\n",
    "emma = gutenberg.raw('austen-emma.txt')\n",
    "\n",
    "def cleanup(frame, source):\n",
    "    # Removes the '\\r\\n' items across the text\n",
    "    frame = re.sub('\\r\\n', ' ', frame)\n",
    "    # The following two remove '--' which can have undesired effects\n",
    "    frame = re.sub('--', '-', frame)\n",
    "    frame = re.sub('--', '-', frame)\n",
    "    # Removes '\\n' across the text\n",
    "    frame = re.sub(r\"\\\\\", '', frame)\n",
    "    frame = re.sub('\\n', ' ', frame)\n",
    "    # The following two remove volume and chapter titles\n",
    "    frame = re.sub(r'CHAPTER [A-Z]', '', frame)\n",
    "    frame = re.sub(r'VOLUME [A-Z]', '', frame)\n",
    "    # Tokenize by sentence with nltk\n",
    "    frame_sents = sent_tokenize(frame)\n",
    "    # Create empty list to populate with clean tokens\n",
    "    frame_sents2 = []\n",
    "    for sent in frame_sents:\n",
    "        frame_sents2.append((re.sub('[^a-zA-Z\\' -]+', '', sent).lower()))\n",
    "    df = pd.DataFrame(frame_sents2, columns=['original_sentence'])\n",
    "    df['source'] = source\n",
    "    return df\n",
    "\n",
    "moby_df = cleanup(moby, 'moby')\n",
    "emma_df = cleanup(emma, 'emma')\n",
    "\n",
    "def clean_title(moby_, emma_):\n",
    "    moby_.loc[0]['original_sentence'] = 'etymology'\n",
    "    emma_.loc[0]['original_sentence'] = 'Emma Woodhouse, handsome, clever, and rich, with a comfortable home and happy disposition, seemed to unite some of the best blessings of existence; and had lived nearly twenty-one years in the world with very little to distress or vex her.'\n",
    "    return pd.concat([moby_, emma_], ignore_index=True)\n",
    "\n",
    "df = clean_title(moby_df, emma_df)\n",
    "# tfidf copy\n",
    "df2 = df.copy()\n",
    "# copy to improve\n",
    "df3 = df.copy()\n",
    "# Let's take a look across the dataframe\n",
    "df.loc[np.random.randint(len(df), size=10)]"
   ]
  },
  {
   "cell_type": "code",
   "execution_count": 4,
   "metadata": {
    "scrolled": true
   },
   "outputs": [],
   "source": [
    "# Using bag of words approach on the entire corpus assumes there are no words unique to one collection\n",
    "# Here we set vectorizers and fit them\n",
    "vec = CountVectorizer(ngram_range=(1,2), stop_words='english', max_features=100)\n",
    "tvec = TfidfVectorizer(ngram_range=(1,2), stop_words='english', max_features=100)\n",
    "bow = vec.fit_transform(df['original_sentence'])\n",
    "tfidf = tvec.fit_transform(df['original_sentence'])\n",
    "\n",
    "# This series of steps \n",
    "for name in vec.get_feature_names():\n",
    "    df[name] = 0\n",
    "    \n",
    "for i, j in zip(*bow.nonzero()):\n",
    "    df.loc[df.index[i], vec.get_feature_names()[j]] = bow[i, j]\n",
    "\n",
    "X = df[vec.get_feature_names()]\n",
    "y = df['source']\n",
    "\n",
    "X_train, X_test, y_train, y_test = train_test_split(X, y, test_size=0.3)#, stratify=y)\n",
    "\n",
    "# These similar steps replicate the process for tfidf\n",
    "for name in tvec.get_feature_names():\n",
    "    df2[name] = 0\n",
    "\n",
    "for i, j in zip(*tfidf.nonzero()):\n",
    "    df2.loc[df2.index[i], tvec.get_feature_names()[j]] = tfidf[i, j]\n",
    "    \n",
    "X2 = df2[tvec.get_feature_names()]\n",
    "y2 = df2['source']\n",
    "    \n",
    "X_train2, X_test2, y_train2, y_test2 = train_test_split(X2, y2, test_size=0.3)#, stratify=y2)"
   ]
  },
  {
   "cell_type": "code",
   "execution_count": 218,
   "metadata": {},
   "outputs": [
    {
     "data": {
      "text/html": [
       "<div>\n",
       "<style scoped>\n",
       "    .dataframe tbody tr th:only-of-type {\n",
       "        vertical-align: middle;\n",
       "    }\n",
       "\n",
       "    .dataframe tbody tr th {\n",
       "        vertical-align: top;\n",
       "    }\n",
       "\n",
       "    .dataframe thead th {\n",
       "        text-align: right;\n",
       "    }\n",
       "</style>\n",
       "<table border=\"1\" class=\"dataframe\">\n",
       "  <thead>\n",
       "    <tr style=\"text-align: right;\">\n",
       "      <th></th>\n",
       "      <th>ahab</th>\n",
       "      <th>air</th>\n",
       "      <th>away</th>\n",
       "      <th>better</th>\n",
       "      <th>boat</th>\n",
       "      <th>body</th>\n",
       "      <th>came</th>\n",
       "      <th>captain</th>\n",
       "      <th>churchill</th>\n",
       "      <th>come</th>\n",
       "      <th>...</th>\n",
       "      <th>way</th>\n",
       "      <th>weston</th>\n",
       "      <th>whale</th>\n",
       "      <th>whales</th>\n",
       "      <th>white</th>\n",
       "      <th>woodhouse</th>\n",
       "      <th>world</th>\n",
       "      <th>ye</th>\n",
       "      <th>yes</th>\n",
       "      <th>young</th>\n",
       "    </tr>\n",
       "  </thead>\n",
       "  <tbody>\n",
       "    <tr>\n",
       "      <th>4191</th>\n",
       "      <td>0</td>\n",
       "      <td>0</td>\n",
       "      <td>0</td>\n",
       "      <td>0</td>\n",
       "      <td>0</td>\n",
       "      <td>0</td>\n",
       "      <td>0</td>\n",
       "      <td>0</td>\n",
       "      <td>0</td>\n",
       "      <td>0</td>\n",
       "      <td>...</td>\n",
       "      <td>0</td>\n",
       "      <td>0</td>\n",
       "      <td>0</td>\n",
       "      <td>0</td>\n",
       "      <td>0</td>\n",
       "      <td>0</td>\n",
       "      <td>0</td>\n",
       "      <td>0</td>\n",
       "      <td>0</td>\n",
       "      <td>0</td>\n",
       "    </tr>\n",
       "    <tr>\n",
       "      <th>14457</th>\n",
       "      <td>0</td>\n",
       "      <td>0</td>\n",
       "      <td>0</td>\n",
       "      <td>0</td>\n",
       "      <td>0</td>\n",
       "      <td>0</td>\n",
       "      <td>0</td>\n",
       "      <td>0</td>\n",
       "      <td>0</td>\n",
       "      <td>0</td>\n",
       "      <td>...</td>\n",
       "      <td>0</td>\n",
       "      <td>0</td>\n",
       "      <td>0</td>\n",
       "      <td>0</td>\n",
       "      <td>0</td>\n",
       "      <td>0</td>\n",
       "      <td>0</td>\n",
       "      <td>0</td>\n",
       "      <td>0</td>\n",
       "      <td>0</td>\n",
       "    </tr>\n",
       "    <tr>\n",
       "      <th>4893</th>\n",
       "      <td>0</td>\n",
       "      <td>0</td>\n",
       "      <td>0</td>\n",
       "      <td>0</td>\n",
       "      <td>0</td>\n",
       "      <td>0</td>\n",
       "      <td>0</td>\n",
       "      <td>0</td>\n",
       "      <td>0</td>\n",
       "      <td>0</td>\n",
       "      <td>...</td>\n",
       "      <td>0</td>\n",
       "      <td>0</td>\n",
       "      <td>0</td>\n",
       "      <td>0</td>\n",
       "      <td>0</td>\n",
       "      <td>0</td>\n",
       "      <td>0</td>\n",
       "      <td>0</td>\n",
       "      <td>0</td>\n",
       "      <td>0</td>\n",
       "    </tr>\n",
       "    <tr>\n",
       "      <th>10018</th>\n",
       "      <td>0</td>\n",
       "      <td>0</td>\n",
       "      <td>0</td>\n",
       "      <td>0</td>\n",
       "      <td>0</td>\n",
       "      <td>0</td>\n",
       "      <td>0</td>\n",
       "      <td>0</td>\n",
       "      <td>1</td>\n",
       "      <td>0</td>\n",
       "      <td>...</td>\n",
       "      <td>0</td>\n",
       "      <td>0</td>\n",
       "      <td>0</td>\n",
       "      <td>0</td>\n",
       "      <td>0</td>\n",
       "      <td>0</td>\n",
       "      <td>0</td>\n",
       "      <td>0</td>\n",
       "      <td>0</td>\n",
       "      <td>1</td>\n",
       "    </tr>\n",
       "    <tr>\n",
       "      <th>5656</th>\n",
       "      <td>0</td>\n",
       "      <td>0</td>\n",
       "      <td>1</td>\n",
       "      <td>0</td>\n",
       "      <td>0</td>\n",
       "      <td>0</td>\n",
       "      <td>0</td>\n",
       "      <td>0</td>\n",
       "      <td>0</td>\n",
       "      <td>1</td>\n",
       "      <td>...</td>\n",
       "      <td>0</td>\n",
       "      <td>0</td>\n",
       "      <td>1</td>\n",
       "      <td>0</td>\n",
       "      <td>1</td>\n",
       "      <td>0</td>\n",
       "      <td>0</td>\n",
       "      <td>1</td>\n",
       "      <td>0</td>\n",
       "      <td>0</td>\n",
       "    </tr>\n",
       "  </tbody>\n",
       "</table>\n",
       "<p>5 rows × 100 columns</p>\n",
       "</div>"
      ],
      "text/plain": [
       "       ahab  air  away  better  boat  body  came  captain  churchill  come  \\\n",
       "4191      0    0     0       0     0     0     0        0          0     0   \n",
       "14457     0    0     0       0     0     0     0        0          0     0   \n",
       "4893      0    0     0       0     0     0     0        0          0     0   \n",
       "10018     0    0     0       0     0     0     0        0          1     0   \n",
       "5656      0    0     1       0     0     0     0        0          0     1   \n",
       "\n",
       "       ...    way  weston  whale  whales  white  woodhouse  world  ye  yes  \\\n",
       "4191   ...      0       0      0       0      0          0      0   0    0   \n",
       "14457  ...      0       0      0       0      0          0      0   0    0   \n",
       "4893   ...      0       0      0       0      0          0      0   0    0   \n",
       "10018  ...      0       0      0       0      0          0      0   0    0   \n",
       "5656   ...      0       0      1       0      1          0      0   1    0   \n",
       "\n",
       "       young  \n",
       "4191       0  \n",
       "14457      0  \n",
       "4893       0  \n",
       "10018      1  \n",
       "5656       0  \n",
       "\n",
       "[5 rows x 100 columns]"
      ]
     },
     "execution_count": 218,
     "metadata": {},
     "output_type": "execute_result"
    }
   ],
   "source": [
    "X_train.head()"
   ]
  },
  {
   "cell_type": "code",
   "execution_count": 219,
   "metadata": {},
   "outputs": [
    {
     "data": {
      "text/html": [
       "<div>\n",
       "<style scoped>\n",
       "    .dataframe tbody tr th:only-of-type {\n",
       "        vertical-align: middle;\n",
       "    }\n",
       "\n",
       "    .dataframe tbody tr th {\n",
       "        vertical-align: top;\n",
       "    }\n",
       "\n",
       "    .dataframe thead th {\n",
       "        text-align: right;\n",
       "    }\n",
       "</style>\n",
       "<table border=\"1\" class=\"dataframe\">\n",
       "  <thead>\n",
       "    <tr style=\"text-align: right;\">\n",
       "      <th></th>\n",
       "      <th>ahab</th>\n",
       "      <th>air</th>\n",
       "      <th>away</th>\n",
       "      <th>better</th>\n",
       "      <th>boat</th>\n",
       "      <th>body</th>\n",
       "      <th>came</th>\n",
       "      <th>captain</th>\n",
       "      <th>churchill</th>\n",
       "      <th>come</th>\n",
       "      <th>...</th>\n",
       "      <th>way</th>\n",
       "      <th>weston</th>\n",
       "      <th>whale</th>\n",
       "      <th>whales</th>\n",
       "      <th>white</th>\n",
       "      <th>woodhouse</th>\n",
       "      <th>world</th>\n",
       "      <th>ye</th>\n",
       "      <th>yes</th>\n",
       "      <th>young</th>\n",
       "    </tr>\n",
       "  </thead>\n",
       "  <tbody>\n",
       "    <tr>\n",
       "      <th>296</th>\n",
       "      <td>0.0</td>\n",
       "      <td>0.0</td>\n",
       "      <td>0.0</td>\n",
       "      <td>0.0</td>\n",
       "      <td>0.000000</td>\n",
       "      <td>0.0</td>\n",
       "      <td>0.0</td>\n",
       "      <td>0.0</td>\n",
       "      <td>0.0</td>\n",
       "      <td>0.0</td>\n",
       "      <td>...</td>\n",
       "      <td>0.0</td>\n",
       "      <td>0.0</td>\n",
       "      <td>0.0</td>\n",
       "      <td>0.0</td>\n",
       "      <td>0.0</td>\n",
       "      <td>0.0</td>\n",
       "      <td>0.0</td>\n",
       "      <td>0.0</td>\n",
       "      <td>0.0</td>\n",
       "      <td>0.0</td>\n",
       "    </tr>\n",
       "    <tr>\n",
       "      <th>7969</th>\n",
       "      <td>0.0</td>\n",
       "      <td>0.0</td>\n",
       "      <td>0.0</td>\n",
       "      <td>0.0</td>\n",
       "      <td>0.000000</td>\n",
       "      <td>0.0</td>\n",
       "      <td>0.0</td>\n",
       "      <td>0.0</td>\n",
       "      <td>0.0</td>\n",
       "      <td>0.0</td>\n",
       "      <td>...</td>\n",
       "      <td>0.0</td>\n",
       "      <td>0.0</td>\n",
       "      <td>0.0</td>\n",
       "      <td>0.0</td>\n",
       "      <td>0.0</td>\n",
       "      <td>0.0</td>\n",
       "      <td>0.0</td>\n",
       "      <td>0.0</td>\n",
       "      <td>0.0</td>\n",
       "      <td>0.0</td>\n",
       "    </tr>\n",
       "    <tr>\n",
       "      <th>9362</th>\n",
       "      <td>0.0</td>\n",
       "      <td>0.0</td>\n",
       "      <td>0.0</td>\n",
       "      <td>0.0</td>\n",
       "      <td>0.556149</td>\n",
       "      <td>0.0</td>\n",
       "      <td>0.0</td>\n",
       "      <td>0.0</td>\n",
       "      <td>0.0</td>\n",
       "      <td>0.0</td>\n",
       "      <td>...</td>\n",
       "      <td>0.0</td>\n",
       "      <td>0.0</td>\n",
       "      <td>0.0</td>\n",
       "      <td>0.0</td>\n",
       "      <td>0.0</td>\n",
       "      <td>0.0</td>\n",
       "      <td>0.0</td>\n",
       "      <td>0.0</td>\n",
       "      <td>0.0</td>\n",
       "      <td>0.0</td>\n",
       "    </tr>\n",
       "    <tr>\n",
       "      <th>16190</th>\n",
       "      <td>0.0</td>\n",
       "      <td>0.0</td>\n",
       "      <td>0.0</td>\n",
       "      <td>0.0</td>\n",
       "      <td>0.000000</td>\n",
       "      <td>0.0</td>\n",
       "      <td>0.0</td>\n",
       "      <td>0.0</td>\n",
       "      <td>0.0</td>\n",
       "      <td>0.0</td>\n",
       "      <td>...</td>\n",
       "      <td>0.0</td>\n",
       "      <td>0.0</td>\n",
       "      <td>0.0</td>\n",
       "      <td>0.0</td>\n",
       "      <td>0.0</td>\n",
       "      <td>0.0</td>\n",
       "      <td>0.0</td>\n",
       "      <td>0.0</td>\n",
       "      <td>0.0</td>\n",
       "      <td>0.0</td>\n",
       "    </tr>\n",
       "    <tr>\n",
       "      <th>2604</th>\n",
       "      <td>0.0</td>\n",
       "      <td>0.0</td>\n",
       "      <td>0.0</td>\n",
       "      <td>0.0</td>\n",
       "      <td>0.000000</td>\n",
       "      <td>0.0</td>\n",
       "      <td>0.0</td>\n",
       "      <td>0.0</td>\n",
       "      <td>0.0</td>\n",
       "      <td>0.0</td>\n",
       "      <td>...</td>\n",
       "      <td>0.0</td>\n",
       "      <td>0.0</td>\n",
       "      <td>0.0</td>\n",
       "      <td>0.0</td>\n",
       "      <td>0.0</td>\n",
       "      <td>0.0</td>\n",
       "      <td>0.0</td>\n",
       "      <td>0.0</td>\n",
       "      <td>0.0</td>\n",
       "      <td>0.0</td>\n",
       "    </tr>\n",
       "  </tbody>\n",
       "</table>\n",
       "<p>5 rows × 100 columns</p>\n",
       "</div>"
      ],
      "text/plain": [
       "       ahab  air  away  better      boat  body  came  captain  churchill  \\\n",
       "296     0.0  0.0   0.0     0.0  0.000000   0.0   0.0      0.0        0.0   \n",
       "7969    0.0  0.0   0.0     0.0  0.000000   0.0   0.0      0.0        0.0   \n",
       "9362    0.0  0.0   0.0     0.0  0.556149   0.0   0.0      0.0        0.0   \n",
       "16190   0.0  0.0   0.0     0.0  0.000000   0.0   0.0      0.0        0.0   \n",
       "2604    0.0  0.0   0.0     0.0  0.000000   0.0   0.0      0.0        0.0   \n",
       "\n",
       "       come  ...    way  weston  whale  whales  white  woodhouse  world   ye  \\\n",
       "296     0.0  ...    0.0     0.0    0.0     0.0    0.0        0.0    0.0  0.0   \n",
       "7969    0.0  ...    0.0     0.0    0.0     0.0    0.0        0.0    0.0  0.0   \n",
       "9362    0.0  ...    0.0     0.0    0.0     0.0    0.0        0.0    0.0  0.0   \n",
       "16190   0.0  ...    0.0     0.0    0.0     0.0    0.0        0.0    0.0  0.0   \n",
       "2604    0.0  ...    0.0     0.0    0.0     0.0    0.0        0.0    0.0  0.0   \n",
       "\n",
       "       yes  young  \n",
       "296    0.0    0.0  \n",
       "7969   0.0    0.0  \n",
       "9362   0.0    0.0  \n",
       "16190  0.0    0.0  \n",
       "2604   0.0    0.0  \n",
       "\n",
       "[5 rows x 100 columns]"
      ]
     },
     "execution_count": 219,
     "metadata": {},
     "output_type": "execute_result"
    }
   ],
   "source": [
    "X_train2.head()"
   ]
  },
  {
   "cell_type": "markdown",
   "metadata": {},
   "source": [
    "### Above: Text cleaning and prep\n",
    "\n",
    "With some regular expression tricks and looping, we now have a clean data set that can be represented in two forms: Bow and tf-idf. Both are created with vectorizers of 100 max features and ngram ranges of one to two.\n",
    "\n",
    "#### Bag of Words\n",
    "\n",
    "Counts the plain frequencies. Represented as integers in X_train.\n",
    "\n",
    "#### Term Frequency - Inverse Document Frequency\n",
    "\n",
    "Accounts for term frequencies per document frequency. Represented as float values in X_train2.\n",
    "\n",
    "### Models\n",
    "\n",
    "Now we can run the information through various models. The models will be strict classifiers, including logistic regression, a decision tree, and gradient boosting."
   ]
  },
  {
   "cell_type": "code",
   "execution_count": 5,
   "metadata": {},
   "outputs": [
    {
     "name": "stderr",
     "output_type": "stream",
     "text": [
      "C:\\Users\\clayp\\Anaconda3\\lib\\site-packages\\sklearn\\linear_model\\logistic.py:433: FutureWarning: Default solver will be changed to 'lbfgs' in 0.22. Specify a solver to silence this warning.\n",
      "  FutureWarning)\n"
     ]
    },
    {
     "data": {
      "text/plain": [
       "0.783841110682607"
      ]
     },
     "execution_count": 5,
     "metadata": {},
     "output_type": "execute_result"
    }
   ],
   "source": [
    "clf_log = LogisticRegression()\n",
    "clf_log.fit(X_train, y_train)\n",
    "clf_log.score(X_test, y_test)"
   ]
  },
  {
   "cell_type": "code",
   "execution_count": 6,
   "metadata": {},
   "outputs": [
    {
     "data": {
      "text/plain": [
       "0.7749710759737756"
      ]
     },
     "execution_count": 6,
     "metadata": {},
     "output_type": "execute_result"
    }
   ],
   "source": [
    "clf_tree = DecisionTreeClassifier()\n",
    "clf_tree.fit(X_train, y_train)\n",
    "clf_tree.score(X_test, y_test)"
   ]
  },
  {
   "cell_type": "code",
   "execution_count": 204,
   "metadata": {},
   "outputs": [
    {
     "data": {
      "text/plain": [
       "0.7599305823370613"
      ]
     },
     "execution_count": 204,
     "metadata": {},
     "output_type": "execute_result"
    }
   ],
   "source": [
    "clf_boost = GradientBoostingClassifier()\n",
    "clf_boost.fit(X_train, y_train)\n",
    "clf_boost.score(X_test, y_test)"
   ]
  },
  {
   "cell_type": "code",
   "execution_count": 7,
   "metadata": {},
   "outputs": [
    {
     "name": "stderr",
     "output_type": "stream",
     "text": [
      "C:\\Users\\clayp\\Anaconda3\\lib\\site-packages\\sklearn\\linear_model\\logistic.py:433: FutureWarning: Default solver will be changed to 'lbfgs' in 0.22. Specify a solver to silence this warning.\n",
      "  FutureWarning)\n"
     ]
    },
    {
     "data": {
      "text/plain": [
       "0.8040879290397224"
      ]
     },
     "execution_count": 7,
     "metadata": {},
     "output_type": "execute_result"
    }
   ],
   "source": [
    "clf_log2 = LogisticRegression()\n",
    "clf_log2.fit(X_train2, y_train2)\n",
    "clf_log2.score(X_test2, y_test2)"
   ]
  },
  {
   "cell_type": "code",
   "execution_count": 8,
   "metadata": {},
   "outputs": [
    {
     "data": {
      "text/plain": [
       "0.7853837254145777"
      ]
     },
     "execution_count": 8,
     "metadata": {},
     "output_type": "execute_result"
    }
   ],
   "source": [
    "clf_tree2 = DecisionTreeClassifier()\n",
    "clf_tree2.fit(X_train2, y_train2)\n",
    "clf_tree2.score(X_test2, y_test2)"
   ]
  },
  {
   "cell_type": "code",
   "execution_count": 205,
   "metadata": {},
   "outputs": [
    {
     "data": {
      "text/plain": [
       "0.781527188584651"
      ]
     },
     "execution_count": 205,
     "metadata": {},
     "output_type": "execute_result"
    }
   ],
   "source": [
    "clf_boost2 = GradientBoostingClassifier()\n",
    "clf_boost2.fit(X_train2, y_train2)\n",
    "clf_boost2.score(X_test2, y_test2)"
   ]
  },
  {
   "cell_type": "markdown",
   "metadata": {},
   "source": [
    "### Preliminary results\n",
    "\n",
    "The results are fairly predictable.\n",
    "\n",
    "#### Logistic regression is competent, and fast.\n",
    "\n",
    "It normally behaves this way - with binary classes it should shine.\n",
    "\n",
    "#### The decision tree classifier is slower and not as accurate.\n",
    "\n",
    "As a single tree as opposed to a forest, this is typically the case.\n",
    "\n",
    "#### Gradient boosting performs better than the others, at the cost of computation time.\n",
    "\n",
    "This is also very common with this classifier - it is, after all, an ensemble method.\n",
    "\n",
    "#### Tf-idf outperforms BoW across the board.\n",
    "\n",
    "It is a more advanced method containing more information about the entire corpus, so this is also expected.\n",
    "\n",
    "# Improving results\n",
    "\n",
    "### Tweaking tf-idf\n",
    "\n",
    "The rest of the challenge will focus on changing some vectorizer parameters to try and improve a model by roughly five percent."
   ]
  },
  {
   "cell_type": "code",
   "execution_count": 198,
   "metadata": {},
   "outputs": [],
   "source": [
    "tvec2 = TfidfVectorizer(max_df=0.5, # drop words that occur in more than half the paragraphs\n",
    "                        min_df=2, # only use words that appear in at least x documents\n",
    "                        stop_words='english', \n",
    "                        lowercase=True, # this shouldn't be necessary, but still\n",
    "                        use_idf=True, # we definitely want to use inverse document frequencies in our weighting\n",
    "                        norm='l2', # Applies a correction factor so that longer paragraphs and shorter paragraphs get treated equally\n",
    "                        smooth_idf=True, # Adds 1 to all document frequencies, as if an extra document existed that used every word once.  Prevents divide-by-zero errors\n",
    "                        ngram_range=(1,3) # This creates unique n-grams x through y\n",
    "                       )\n",
    "\n",
    "final = tvec2.fit_transform(df3['original_sentence'])\n",
    "    \n",
    "X3 = final #df3[tvec.get_feature_names()]\n",
    "y3 = df3['source']\n",
    "    \n",
    "X_train3, X_test3, y_train3, y_test3 = train_test_split(X3, y3, test_size=0.3)"
   ]
  },
  {
   "cell_type": "code",
   "execution_count": 220,
   "metadata": {},
   "outputs": [
    {
     "name": "stdout",
     "output_type": "stream",
     "text": [
      "Percent of variance captured: 23.278445976638057.\n"
     ]
    }
   ],
   "source": [
    "svd = TruncatedSVD(200)\n",
    "lsa = make_pipeline(svd, Normalizer(norm='l2', copy=False))\n",
    "train_lsa = lsa.fit_transform(X_train3)\n",
    "test_lsa = lsa.fit_transform(X_test3)\n",
    "print('Percent of variance captured: {}.'.format(svd.explained_variance_ratio_.sum() * 100))"
   ]
  },
  {
   "cell_type": "markdown",
   "metadata": {},
   "source": [
    "### The explained variance is much lower than the exercise\n",
    "\n",
    "In the exercise, as much as 45 percent variance was captured. We are working with about half of that."
   ]
  },
  {
   "cell_type": "code",
   "execution_count": 207,
   "metadata": {},
   "outputs": [
    {
     "name": "stderr",
     "output_type": "stream",
     "text": [
      "C:\\Users\\clayp\\Anaconda3\\lib\\site-packages\\sklearn\\linear_model\\logistic.py:433: FutureWarning: Default solver will be changed to 'lbfgs' in 0.22. Specify a solver to silence this warning.\n",
      "  FutureWarning)\n"
     ]
    },
    {
     "data": {
      "text/plain": [
       "0.7151947551099113"
      ]
     },
     "execution_count": 207,
     "metadata": {},
     "output_type": "execute_result"
    }
   ],
   "source": [
    "clf_log_final = LogisticRegression()\n",
    "clf_log_final.fit(train_lsa, y_train3)\n",
    "clf_log_final.score(test_lsa, y_test3)"
   ]
  },
  {
   "cell_type": "code",
   "execution_count": 208,
   "metadata": {},
   "outputs": [
    {
     "data": {
      "text/plain": [
       "0.6586964905514847"
      ]
     },
     "execution_count": 208,
     "metadata": {},
     "output_type": "execute_result"
    }
   ],
   "source": [
    "clf_tree_final = DecisionTreeClassifier()\n",
    "clf_tree_final.fit(train_lsa, y_train3)\n",
    "clf_tree_final.score(test_lsa, y_test3)"
   ]
  },
  {
   "cell_type": "code",
   "execution_count": 216,
   "metadata": {},
   "outputs": [
    {
     "name": "stdout",
     "output_type": "stream",
     "text": [
      "0.8314693405322021\n",
      "[[1590  620]\n",
      " [ 254 2722]]\n"
     ]
    }
   ],
   "source": [
    "clf_boost_final = GradientBoostingClassifier()\n",
    "clf_boost_final.fit(train_lsa, y_train3)\n",
    "print(clf_boost_final.score(test_lsa, y_test3))\n",
    "print(confusion_matrix(y_test3, clf_boost_final.predict(test_lsa)))"
   ]
  },
  {
   "cell_type": "markdown",
   "metadata": {},
   "source": [
    "# Observations\n",
    "\n",
    "### Results do not scale across the board\n",
    "\n",
    "The results following some vectorization tweaking have some unexpected results.\n",
    "\n",
    "#### Only the ensemble method improved\n",
    "\n",
    "The other models decreased in accuracy, drastically. \n",
    "\n",
    "#### With some changes, explained variance and scores were inversely proportional\n",
    "\n",
    "Modifying some parameters increased the variance and reduced scores, such as min_df and n_gram ranges. I found this an interesting behavior that seemed unintuitive.\n",
    "\n",
    "# Visualizing vectors\n",
    "\n",
    "### Text is always high-dimensional\n",
    "\n",
    "It is difficult to visualize what results when analyzing text like this. We can, however, use some decomposition techniques to try and compare the different vectors that stem from the text. It can show us how dissimilar the abstract vectors are from each other and how spread apart they are. \n",
    "\n",
    "### Below: Different tf-idf vectors using LSA visualized in two dimensions"
   ]
  },
  {
   "cell_type": "code",
   "execution_count": 242,
   "metadata": {},
   "outputs": [
    {
     "data": {
      "image/png": "[encoded data removed]",
      "text/plain": [
       "<Figure size 1152x648 with 1 Axes>"
      ]
     },
     "metadata": {
      "needs_background": "light"
     },
     "output_type": "display_data"
    }
   ],
   "source": [
    "fig, ax = plt.subplots(figsize=(16,9))\n",
    "ax.set_title('tf-idf vectors reduced with LSA', size=16)\n",
    "sns.scatterplot(x=PCA(2).fit_transform(svd.components_)[:,0], y=PCA(2).fit_transform(svd.components_)[:,1])\n",
    "plt.show()"
   ]
  }
 ],
 "metadata": {
  "kernelspec": {
   "display_name": "Python 3",
   "language": "python",
   "name": "python3"
  },
  "language_info": {
   "codemirror_mode": {
    "name": "ipython",
    "version": 3
   },
   "file_extension": ".py",
   "mimetype": "text/x-python",
   "name": "python",
   "nbconvert_exporter": "python",
   "pygments_lexer": "ipython3",
   "version": "3.7.1"
  }
 },
 "nbformat": 4,
 "nbformat_minor": 2
}
