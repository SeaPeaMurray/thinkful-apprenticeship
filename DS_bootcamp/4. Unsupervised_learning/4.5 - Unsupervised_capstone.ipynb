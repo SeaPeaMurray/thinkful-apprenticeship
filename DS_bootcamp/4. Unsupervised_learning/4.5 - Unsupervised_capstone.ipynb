{
 "cells": [
  {
   "cell_type": "markdown",
   "metadata": {},
   "source": [
    "(Different approaches\n",
    "\n",
    "Consider targeting a few different types of authors:\n",
    "Don't only consider the reviewers with most\n",
    "Think about lengthy reviews\n",
    "Or reviews around the median\n",
    "Diversity in types of reviews\n",
    "Similarity across reviewers)"
   ]
  },
  {
   "cell_type": "code",
   "execution_count": null,
   "metadata": {},
   "outputs": [],
   "source": []
  },
  {
   "cell_type": "markdown",
   "metadata": {},
   "source": [
    "# Unsupervised learning capstone\n",
    "\n",
    "## Amazon reviews: a study\n",
    "\n",
    "### A project analyzing product reviews and focusing on clustering, visualization, and word embeddings\n",
    "\n",
    "#### Data source:\n",
    "\n",
    "This dataset is a large collection of Amazon reviews in text with the following information:\n",
    "\n",
    "- Review ID: Unique identifier for review\n",
    "- ProductID: Unique identifier for product\n",
    "- UserID: Unique identifier for user\n",
    "- ProfileName: Self-selected name for reviewer\n",
    "- HelpfulnessRatings: Values on how helpful others found review\n",
    "- Score: Ratings 1-5 given by reviewer on product\n",
    "- Summary: Short title / summary of review\n",
    "- Review: Full text review\n",
    "\n",
    "### Capstone goals\n",
    "\n",
    "#### Primary goals of the capstone are to mine through cleaned text reviews and:\n",
    "\n",
    "1. Discover trends and clusters of reviews\n",
    "2. Hypothesize as to reasons why\n",
    "\n",
    "#### To complete the goals, there are several major steps:\n",
    "\n",
    "1. Import data\n",
    "2. Data and text cleaning\n",
    "3. Text parsing\n",
    "4. tf-idf fitting and unsupervised modeling\n",
    "5. Applicable visualizations\n",
    "6. Conclusions\n",
    "\n",
    "The steps above are standard to my approach. Steps that are more ad hoc to this exercise are explained as they arise."
   ]
  },
  {
   "cell_type": "code",
   "execution_count": 2,
   "metadata": {},
   "outputs": [],
   "source": [
    "import numpy as np\n",
    "import pandas as pd\n",
    "import re\n",
    "import sqlite3\n",
    "import spacy\n",
    "import matplotlib.pyplot as plt\n",
    "import seaborn as sns\n",
    "from gensim.models import Word2Vec\n",
    "from sklearn.model_selection import train_test_split\n",
    "sns.set_style('darkgrid')\n",
    "%matplotlib inline\n",
    "\n",
    "nlp = spacy.load('en_core_web_sm')"
   ]
  },
  {
   "cell_type": "code",
   "execution_count": 3,
   "metadata": {},
   "outputs": [
    {
     "data": {
      "text/html": [
       "<div>\n",
       "<style scoped>\n",
       "    .dataframe tbody tr th:only-of-type {\n",
       "        vertical-align: middle;\n",
       "    }\n",
       "\n",
       "    .dataframe tbody tr th {\n",
       "        vertical-align: top;\n",
       "    }\n",
       "\n",
       "    .dataframe thead th {\n",
       "        text-align: right;\n",
       "    }\n",
       "</style>\n",
       "<table border=\"1\" class=\"dataframe\">\n",
       "  <thead>\n",
       "    <tr style=\"text-align: right;\">\n",
       "      <th></th>\n",
       "      <th>Id</th>\n",
       "      <th>ProductId</th>\n",
       "      <th>UserId</th>\n",
       "      <th>ProfileName</th>\n",
       "      <th>HelpfulnessNumerator</th>\n",
       "      <th>HelpfulnessDenominator</th>\n",
       "      <th>Score</th>\n",
       "      <th>Time</th>\n",
       "      <th>Summary</th>\n",
       "      <th>Text</th>\n",
       "    </tr>\n",
       "  </thead>\n",
       "  <tbody>\n",
       "    <tr>\n",
       "      <th>0</th>\n",
       "      <td>1</td>\n",
       "      <td>B001E4KFG0</td>\n",
       "      <td>A3SGXH7AUHU8GW</td>\n",
       "      <td>delmartian</td>\n",
       "      <td>1</td>\n",
       "      <td>1</td>\n",
       "      <td>5</td>\n",
       "      <td>1303862400</td>\n",
       "      <td>Good Quality Dog Food</td>\n",
       "      <td>I have bought several of the Vitality canned d...</td>\n",
       "    </tr>\n",
       "    <tr>\n",
       "      <th>1</th>\n",
       "      <td>2</td>\n",
       "      <td>B00813GRG4</td>\n",
       "      <td>A1D87F6ZCVE5NK</td>\n",
       "      <td>dll pa</td>\n",
       "      <td>0</td>\n",
       "      <td>0</td>\n",
       "      <td>1</td>\n",
       "      <td>1346976000</td>\n",
       "      <td>Not as Advertised</td>\n",
       "      <td>Product arrived labeled as Jumbo Salted Peanut...</td>\n",
       "    </tr>\n",
       "  </tbody>\n",
       "</table>\n",
       "</div>"
      ],
      "text/plain": [
       "   Id   ProductId          UserId ProfileName  HelpfulnessNumerator  \\\n",
       "0   1  B001E4KFG0  A3SGXH7AUHU8GW  delmartian                     1   \n",
       "1   2  B00813GRG4  A1D87F6ZCVE5NK      dll pa                     0   \n",
       "\n",
       "   HelpfulnessDenominator  Score        Time                Summary  \\\n",
       "0                       1      5  1303862400  Good Quality Dog Food   \n",
       "1                       0      1  1346976000      Not as Advertised   \n",
       "\n",
       "                                                Text  \n",
       "0  I have bought several of the Vitality canned d...  \n",
       "1  Product arrived labeled as Jumbo Salted Peanut...  "
      ]
     },
     "execution_count": 3,
     "metadata": {},
     "output_type": "execute_result"
    }
   ],
   "source": [
    "# If we want to work with a sqlite version, we have the option\n",
    "\n",
    "# conn = sqlite3.connect('../../../amazon-fine-food-reviews/database.sqlite')\n",
    "# c = conn.cursor()\n",
    "# c.execute('PRAGMA table_info(reviews)')\n",
    "# print(c.fetchall())\n",
    "# c.execute('SELECT * FROM reviews LIMIT 1;')\n",
    "# c.fetchall()\n",
    "\n",
    "df_orig = pd.read_csv('../../../amazon-fine-food-reviews/Reviews.csv')\n",
    "df_orig.head(2)"
   ]
  },
  {
   "cell_type": "code",
   "execution_count": 5,
   "metadata": {},
   "outputs": [
    {
     "data": {
      "image/png": "[encoded data removed]",
      "text/plain": [
       "<Figure size 1152x648 with 2 Axes>"
      ]
     },
     "metadata": {
      "needs_background": "light"
     },
     "output_type": "display_data"
    }
   ],
   "source": [
    "fig, (ax1, ax2) = plt.subplots(2, 1, figsize=(16,9))\n",
    "sns.distplot([np.log(len(summary)) for summary in df_orig.groupby(by='UserId')['Text'].sum()], ax=ax1)\n",
    "\n",
    "for id in df_orig.UserId.value_counts()[:4].index:\n",
    "    sns.distplot(df_orig[df_orig.UserId == id]['Text'].str.len(), ax=ax2)"
   ]
  },
  {
   "cell_type": "code",
   "execution_count": 6,
   "metadata": {},
   "outputs": [
    {
     "data": {
      "text/plain": [
       "['-pron-', 'buy', 'vitality', 'can', 'dog', 'food']"
      ]
     },
     "execution_count": 6,
     "metadata": {},
     "output_type": "execute_result"
    }
   ],
   "source": [
    "# Test spacy, stop words, lemma_, etc.\n",
    "doc = nlp(df_orig.iloc[0]['Text'])\n",
    "[token.lemma_.lower() for token in doc if not token.is_punct and not token.is_stop][:6]"
   ]
  },
  {
   "cell_type": "code",
   "execution_count": 7,
   "metadata": {
    "scrolled": true
   },
   "outputs": [
    {
     "name": "stdout",
     "output_type": "stream",
     "text": [
      "Length of total text of 12 highest-reviewing: 4099187.\n",
      "\n",
      "A3OXHLG6DIBRW8    448\n",
      "A1YUL9PCJR3JTY    421\n",
      "AY12DBB0U420B     389\n",
      "A281NPSIMI1C2R    365\n",
      "A1Z54EM24Y40LL    256\n",
      "A1TMAVN4CEM8U8    204\n",
      "A2MUGFV2TDQ47K    201\n",
      "A3TVZM3ZIXG8YW    199\n",
      "A3PJZ8TU8FDQ1K    178\n",
      "AQQLWCMRNDFGI     176\n",
      "A2SZLNSI5KOQJT    175\n",
      "A29JUMRL1US6YP    172\n",
      "Name: UserId, dtype: int64\n"
     ]
    }
   ],
   "source": [
    "df = df_orig[df_orig.UserId.isin(df_orig.UserId.value_counts()[:12].index)]\n",
    "print('Length of total text of 12 highest-reviewing: {}.\\n'.format(len(df['Text'].str.cat())))\n",
    "print(df.UserId.value_counts())"
   ]
  },
  {
   "cell_type": "markdown",
   "metadata": {},
   "source": [
    "## Word length max\n",
    "\n",
    "Placing tokens and text into memory with spaCy has limits. We will need to keep the word length below one million for this exercise. Below we have a function that takes an index of reviewers and a number of reviews from each to balance samples to return total word length. This lets us know what we can use and expect. We loop this over several numbers to find a good balance of robust text that fits in memory."
   ]
  },
  {
   "cell_type": "code",
   "execution_count": 8,
   "metadata": {},
   "outputs": [
    {
     "name": "stdout",
     "output_type": "stream",
     "text": [
      "The dataframe with 10 samples from each reviewer is a total of 188507 words long.\n",
      "The dataframe with 20 samples from each reviewer is a total of 361249 words long.\n",
      "The dataframe with 30 samples from each reviewer is a total of 540889 words long.\n",
      "The dataframe with 40 samples from each reviewer is a total of 734974 words long.\n",
      "The dataframe with 50 samples from each reviewer is a total of 915198 words long.\n",
      "The dataframe with 60 samples from each reviewer is a total of 1080119 words long.\n",
      "The dataframe with 70 samples from each reviewer is a total of 1284832 words long.\n",
      "The dataframe with 80 samples from each reviewer is a total of 1490826 words long.\n",
      "The dataframe with 90 samples from each reviewer is a total of 1656549 words long.\n"
     ]
    }
   ],
   "source": [
    "def how_long(index_len, long, df=df_orig, return_='n'):\n",
    "    assert type(long) == int\n",
    "    index_list = df.UserId.value_counts()[:index_len].index\n",
    "    df_list = []\n",
    "    for index in index_list:\n",
    "        df_sample = df[df.UserId == index].sample(n=long)\n",
    "        df_list.append(df_sample)\n",
    "    df_new = pd.concat(df_list)\n",
    "    print(\"The dataframe with {} samples from each reviewer is a total of {} words long.\".\n",
    "          format(long, len(df_new['Text'].str.cat())))\n",
    "    if return_ == 'y':\n",
    "        return df_new\n",
    "\n",
    "for val in range(10, 100, 10):\n",
    "    how_long(15, val)"
   ]
  },
  {
   "cell_type": "code",
   "execution_count": 9,
   "metadata": {},
   "outputs": [
    {
     "name": "stdout",
     "output_type": "stream",
     "text": [
      "The dataframe with 52 samples from each reviewer is a total of 970214 words long.\n"
     ]
    }
   ],
   "source": [
    "df = how_long(15, 52, return_='y') "
   ]
  },
  {
   "cell_type": "markdown",
   "metadata": {},
   "source": [
    "## Samples from each reviewer: 52\n",
    "\n",
    "Pulling 52 samples from each reviewer yields slightly fewer than one million words. This is the target.\n",
    "\n",
    "## Reviewing the samples\n",
    "\n",
    "After poking around the text and using regular expressions to clean up, I noticed some issues with duplication:"
   ]
  },
  {
   "cell_type": "code",
   "execution_count": 14,
   "metadata": {
    "scrolled": true
   },
   "outputs": [
    {
     "data": {
      "text/plain": [
       "True"
      ]
     },
     "execution_count": 14,
     "metadata": {},
     "output_type": "execute_result"
    }
   ],
   "source": [
    "kab_list = df[df.Text.str.contains('Kaboodle')].index[:2]\n",
    "df[df.Text.str.contains('Kaboodle')]['Text'][kab_list[0]] == df[df.Text.str.contains('Kaboodle')]['Text'][kab_list[1]]"
   ]
  },
  {
   "cell_type": "code",
   "execution_count": 15,
   "metadata": {},
   "outputs": [
    {
     "name": "stdout",
     "output_type": "stream",
     "text": [
      "A3OXHLG6DIBRW8    False    268\n",
      "True     180\n",
      "Name: Text, dtype: int64 \n",
      "\n",
      "A1YUL9PCJR3JTY    True     227\n",
      "False    194\n",
      "Name: Text, dtype: int64 \n",
      "\n",
      "AY12DBB0U420B    False    329\n",
      "True      60\n",
      "Name: Text, dtype: int64 \n",
      "\n"
     ]
    }
   ],
   "source": [
    "for user in df_orig.UserId.value_counts()[:3].index:\n",
    "    print(user, '  ', df_orig[df_orig.UserId == user]['Text'].duplicated().value_counts(), '\\n')"
   ]
  },
  {
   "cell_type": "markdown",
   "metadata": {},
   "source": [
    "## Duplicates\n",
    "\n",
    "One single reviewer had many identical reviews. Upon closer inspection, *many* reviews were duplicated by the same authors, as we can see with the duplicated() function and loop. This could be a result of copy/paste reviewing on the site, or it could be an input error. Either way, it can lead to lower text variation and cause imbalance later in word embeddings and term frequencies. \n",
    "\n",
    "## Removing duplicates? \n",
    "\n",
    "Should we remove the duplicates? Before researching specific duplicates and determining the underlying issue, let's approach the problem and try to answer the more important question first - *can we still set up an environment with enough data to cluster reviews, reviewers, and study text differences after removing duplicates?* This is somewhat more academic, after all."
   ]
  },
  {
   "cell_type": "code",
   "execution_count": 16,
   "metadata": {},
   "outputs": [
    {
     "name": "stderr",
     "output_type": "stream",
     "text": [
      "C:\\Users\\clayp\\Anaconda3\\lib\\site-packages\\ipykernel_launcher.py:2: SettingWithCopyWarning: \n",
      "A value is trying to be set on a copy of a slice from a DataFrame\n",
      "\n",
      "See the caveats in the documentation: http://pandas.pydata.org/pandas-docs/stable/indexing.html#indexing-view-versus-copy\n",
      "  \n"
     ]
    },
    {
     "name": "stdout",
     "output_type": "stream",
     "text": [
      "<class 'pandas.core.frame.DataFrame'>\n",
      "Int64Index: 393592 entries, 0 to 568453\n",
      "Data columns (total 10 columns):\n",
      "Id                        393592 non-null int64\n",
      "ProductId                 393592 non-null object\n",
      "UserId                    393592 non-null object\n",
      "ProfileName               393592 non-null object\n",
      "HelpfulnessNumerator      393592 non-null int64\n",
      "HelpfulnessDenominator    393592 non-null int64\n",
      "Score                     393592 non-null int64\n",
      "Time                      393592 non-null int64\n",
      "Summary                   393592 non-null object\n",
      "Text                      393592 non-null object\n",
      "dtypes: int64(5), object(5)\n",
      "memory usage: 33.0+ MB\n"
     ]
    }
   ],
   "source": [
    "df_nodup = df_orig.drop_duplicates(['UserId', 'Text'])\n",
    "df_nodup.dropna(inplace=True)\n",
    "df_nodup.info()"
   ]
  },
  {
   "cell_type": "code",
   "execution_count": 17,
   "metadata": {},
   "outputs": [
    {
     "name": "stdout",
     "output_type": "stream",
     "text": [
      "The dataframe with 55 samples from each reviewer is a total of 632808 words long.\n"
     ]
    }
   ],
   "source": [
    "df = how_long(15, 55, df_nodup, 'y')"
   ]
  },
  {
   "cell_type": "markdown",
   "metadata": {},
   "source": [
    "## Dropping duplicates - 15 reviewers, 55 reviews\n",
    "\n",
    "After dropping all duplicates *based on those from one reviewer* and removing NaN values, we can work with the busiest 15 reviewers and still have north of 600,000 words to analyze. This isn't as many as before, but it should be healthy enough for analysis and text mining.\n",
    "\n",
    "## Regular expressions cleanup"
   ]
  },
  {
   "cell_type": "code",
   "execution_count": 21,
   "metadata": {},
   "outputs": [
    {
     "data": {
      "text/plain": [
       "\"I've always liked Trisquits. It goes way way back at least 70 years to my childhood. My mother always thought they were better for us than plain white saltine crackers. I think she was right. I like the saltyness the flavor and the crunchy texture. Thus it was when I found some Triscuit Cracked Pepper and Olive Oil crackers 9.0 ounce box at a nearby Fresh and Easy store. Oh that sounded good. Well they were Excellent All the good texture and flavor of the Standard Triscuit plus the bracing taste\""
      ]
     },
     "execution_count": 21,
     "metadata": {},
     "output_type": "execute_result"
    }
   ],
   "source": [
    "def cleaner(text):\n",
    "    try:\n",
    "        mytext = text.str.cat(sep=' ')\n",
    "    except:\n",
    "        mytext = text\n",
    "    mytext = re.sub(r'<br />', ' ', mytext)\n",
    "    mytext = re.sub(r'<a href=', ' ', mytext)\n",
    "    mytext = re.sub(r'[^A-Za-z0-9 \":/.*\".\\'.]', ' ', mytext)\n",
    "    mytext = re.sub(r'/a', '', mytext)\n",
    "    mytext = re.sub('   ', ' ', mytext)\n",
    "    mytext = re.sub('  ', ' ', mytext)\n",
    "    return mytext\n",
    "\n",
    "mytext = cleaner(df['Text'])\n",
    "doc = nlp(mytext)\n",
    "# Preview the cleanup to see if it is only sentences\n",
    "mytext[:500]"
   ]
  },
  {
   "cell_type": "markdown",
   "metadata": {},
   "source": [
    "## Web links and other characters\n",
    "\n",
    "I wanted to preserve links in case some of the links happened very frequently. It was also critical to preserve these in their original form as splitting www.amazon.com/link/ along punctuation might generate unwanted words, like 'amazon'.\n",
    "\n",
    "### Difficult lesson\n",
    "\n",
    "In the two boxes below, we learn a hard lesson in using gensim and spaCy. List comprehensions alone - without lists of sentences - had Word2Vec models create vocabularies of letters and characters. This was very much unwanted behavior, taking up several hours of processing and just a few minutes of using Google to figure out why. Beyond this issue, we are again smooth sailing."
   ]
  },
  {
   "cell_type": "code",
   "execution_count": 38,
   "metadata": {},
   "outputs": [],
   "source": [
    "'''These loops took hours!\n",
    "for token in doc:\n",
    "    doc_list = [token.lemma_.lower() for token in doc if not token.is_punct and not token.is_stop]\n",
    "\n",
    "for token in doc.sents:\n",
    "    doc_list3 = [token.lemma_.lower() for token in doc if not token.is_punct and not token.is_stop]'''\n",
    "    \n",
    "import pickle\n",
    "\n",
    "# with open('words', 'wb') as file:\n",
    "#     pickle.dump(doc_list, file)\n",
    "    \n",
    "with open('words', 'rb') as file:\n",
    "    doc_list2 = pickle.load(file)\n",
    "    \n",
    "# with open('sents', 'wb') as file:\n",
    "#     pickle.dump(doc_list3, file)\n",
    "    \n",
    "with open('sents', 'rb') as file:\n",
    "    doc_list4 = pickle.load(file)"
   ]
  },
  {
   "cell_type": "code",
   "execution_count": 39,
   "metadata": {},
   "outputs": [
    {
     "data": {
      "text/plain": [
       "dict_keys(['-', 'p', 'r', 'o', 'n', 's', 'y', 'e', 'a', 'l', 'd', 't', 'i', 'f', 'w', 'h', 'c', 'g', 'k', 'u', 'v', 'b', 'z', 'j', 'm', 'x', \"'\", '7', '3', '2', '4', '1', '.', '5', '0', '9', 'q', '6', '8', '\"', ':', '/', ' ', '*'])"
      ]
     },
     "execution_count": 39,
     "metadata": {},
     "output_type": "execute_result"
    }
   ],
   "source": [
    "# Faulty model that caused a bit of confusion! Bad inputs and preprocessing will do this\n",
    "model2 = Word2Vec(doc_list4, workers=3, min_count=1, size=300)\n",
    "model2.wv.vocab.keys()"
   ]
  },
  {
   "cell_type": "markdown",
   "metadata": {},
   "source": [
    "## Corrected input and model\n",
    "### We now will use a list of nested sentences, what is needed for Word2Vec"
   ]
  },
  {
   "cell_type": "code",
   "execution_count": 22,
   "metadata": {
    "scrolled": true
   },
   "outputs": [
    {
     "data": {
      "text/plain": [
       "[('mmmmm', 0.07101459801197052),\n",
       " ('england', 0.06343016028404236),\n",
       " ('understand', 0.057835906744003296),\n",
       " ('omega', 0.057794149965047836),\n",
       " ('bitterness', 0.056705325841903687),\n",
       " ('unclear', 0.05611554533243179),\n",
       " ('tube', 0.055978577584028244),\n",
       " ('sadly', 0.054240431636571884),\n",
       " ('imagination', 0.05371968075633049),\n",
       " ('spiced', 0.052989788353443146)]"
      ]
     },
     "execution_count": 22,
     "metadata": {},
     "output_type": "execute_result"
    }
   ],
   "source": [
    "doc_list5 = []\n",
    "for sentence in doc.sents:\n",
    "    app = [token.lemma_.lower() for token in sentence if not token.is_punct and not token.is_stop]\n",
    "    doc_list5.append(app)\n",
    "    \n",
    "model = Word2Vec(doc_list5)\n",
    "model.wv.most_similar(positive=['steak'], negative=['admit'])"
   ]
  },
  {
   "cell_type": "markdown",
   "metadata": {},
   "source": [
    "## Testing working model\n",
    "\n",
    "#### Run cosine similarity tests on several words to see if we have varying values"
   ]
  },
  {
   "cell_type": "code",
   "execution_count": 23,
   "metadata": {},
   "outputs": [
    {
     "data": {
      "text/plain": [
       "0.9998889462690495"
      ]
     },
     "execution_count": 23,
     "metadata": {},
     "output_type": "execute_result"
    }
   ],
   "source": [
    "model.wv.similarity('salad', 'corn')"
   ]
  },
  {
   "cell_type": "code",
   "execution_count": 24,
   "metadata": {},
   "outputs": [
    {
     "data": {
      "text/plain": [
       "0.9998408283093616"
      ]
     },
     "execution_count": 24,
     "metadata": {},
     "output_type": "execute_result"
    }
   ],
   "source": [
    "model.wv.similarity('salad', 'meat')"
   ]
  },
  {
   "cell_type": "code",
   "execution_count": 25,
   "metadata": {},
   "outputs": [
    {
     "data": {
      "text/plain": [
       "0.9994805362067762"
      ]
     },
     "execution_count": 25,
     "metadata": {},
     "output_type": "execute_result"
    }
   ],
   "source": [
    "model.wv.similarity('salad', 'wonder')"
   ]
  },
  {
   "cell_type": "code",
   "execution_count": 27,
   "metadata": {},
   "outputs": [
    {
     "data": {
      "text/plain": [
       "0.9852686529252558"
      ]
     },
     "execution_count": 27,
     "metadata": {},
     "output_type": "execute_result"
    }
   ],
   "source": [
    "model.wv.similarity('walk', 'double')"
   ]
  },
  {
   "cell_type": "markdown",
   "metadata": {},
   "source": [
    "## Very similar cosine similarities\n",
    "\n",
    "#### Create new model with a more robust input\n",
    "\n",
    "The new corporus will drop down to only 10 authors and include more of their content to see if we can improve."
   ]
  },
  {
   "cell_type": "code",
   "execution_count": 28,
   "metadata": {},
   "outputs": [
    {
     "name": "stdout",
     "output_type": "stream",
     "text": [
      "The dataframe with 68 samples from each reviewer is a total of 975559 words long.\n"
     ]
    }
   ],
   "source": [
    "df = how_long(10, 68, return_='y')\n",
    "mytext = cleaner(df['Text'])\n",
    "doc = nlp(mytext)\n",
    "sentences = []\n",
    "for sentence in doc.sents:\n",
    "    sentences.append([token.lemma_.lower() for token in sentence if not token.is_punct and not token.is_stop])\n",
    "    \n",
    "model = Word2Vec(sentences)"
   ]
  },
  {
   "cell_type": "code",
   "execution_count": 29,
   "metadata": {},
   "outputs": [
    {
     "data": {
      "text/plain": [
       "0.9318677060124656"
      ]
     },
     "execution_count": 29,
     "metadata": {},
     "output_type": "execute_result"
    }
   ],
   "source": [
    "model.wv.similarity('steak', 'breakfast')"
   ]
  },
  {
   "cell_type": "code",
   "execution_count": 30,
   "metadata": {},
   "outputs": [
    {
     "data": {
      "text/plain": [
       "0.9698376377562362"
      ]
     },
     "execution_count": 30,
     "metadata": {},
     "output_type": "execute_result"
    }
   ],
   "source": [
    "model.wv.similarity('salad', 'wonder')"
   ]
  },
  {
   "cell_type": "code",
   "execution_count": 31,
   "metadata": {},
   "outputs": [],
   "source": [
    "model = Word2Vec(sentences, size=300, window=6, min_count=1, sg=0, sample=1e-3)"
   ]
  },
  {
   "cell_type": "code",
   "execution_count": 32,
   "metadata": {},
   "outputs": [
    {
     "data": {
      "text/plain": [
       "0.7948593892616973"
      ]
     },
     "execution_count": 32,
     "metadata": {},
     "output_type": "execute_result"
    }
   ],
   "source": [
    "model.wv.similarity('literally', 'bean')"
   ]
  },
  {
   "cell_type": "code",
   "execution_count": 33,
   "metadata": {},
   "outputs": [
    {
     "data": {
      "text/plain": [
       "0.9702115148630089"
      ]
     },
     "execution_count": 33,
     "metadata": {},
     "output_type": "execute_result"
    }
   ],
   "source": [
    "model.wv.similarity('steak', 'breakfast')"
   ]
  },
  {
   "cell_type": "code",
   "execution_count": 34,
   "metadata": {},
   "outputs": [
    {
     "data": {
      "text/plain": [
       "0.4316831376845946"
      ]
     },
     "execution_count": 34,
     "metadata": {},
     "output_type": "execute_result"
    }
   ],
   "source": [
    "model.wv.similarity('sugar', 'bored')"
   ]
  },
  {
   "cell_type": "code",
   "execution_count": 39,
   "metadata": {
    "scrolled": true
   },
   "outputs": [
    {
     "ename": "KeyError",
     "evalue": "'word \\'This DaVinci sugar free Kahlua syrup is a great way to add a bit of flavor to otherwise boring \"dietetic\" drinks and snacks. Being a Type 2 diabetic I have to watch my sugar intake and have found that these types of flavorings can significantly improve my enjoyment of healthy foods like plain yogurt and yet also satisfy my sweet tooth. The Kahlua flavor is very realistic tasting and the Splenda does not leave an \"aftertaste\" like other artificial sweeteners at least to me . Highly Recommended CFH\\' not in vocabulary'",
     "output_type": "error",
     "traceback": [
      "\u001b[1;31m---------------------------------------------------------------------------\u001b[0m",
      "\u001b[1;31mKeyError\u001b[0m                                  Traceback (most recent call last)",
      "\u001b[1;32m<ipython-input-39-a61609386a74>\u001b[0m in \u001b[0;36m<module>\u001b[1;34m\u001b[0m\n\u001b[1;32m----> 1\u001b[1;33m \u001b[0mmodel\u001b[0m\u001b[1;33m.\u001b[0m\u001b[0mwv\u001b[0m\u001b[1;33m.\u001b[0m\u001b[0msimilarity\u001b[0m\u001b[1;33m(\u001b[0m\u001b[0mcleaner\u001b[0m\u001b[1;33m(\u001b[0m\u001b[0mdf\u001b[0m\u001b[1;33m.\u001b[0m\u001b[0miloc\u001b[0m\u001b[1;33m[\u001b[0m\u001b[1;36m24\u001b[0m\u001b[1;33m]\u001b[0m\u001b[1;33m[\u001b[0m\u001b[1;34m'Text'\u001b[0m\u001b[1;33m]\u001b[0m\u001b[1;33m)\u001b[0m\u001b[1;33m,\u001b[0m \u001b[0mcleaner\u001b[0m\u001b[1;33m(\u001b[0m\u001b[0mdf\u001b[0m\u001b[1;33m.\u001b[0m\u001b[0miloc\u001b[0m\u001b[1;33m[\u001b[0m\u001b[1;36m42\u001b[0m\u001b[1;33m]\u001b[0m\u001b[1;33m[\u001b[0m\u001b[1;34m'Text'\u001b[0m\u001b[1;33m]\u001b[0m\u001b[1;33m)\u001b[0m\u001b[1;33m)\u001b[0m\u001b[1;33m\u001b[0m\u001b[1;33m\u001b[0m\u001b[0m\n\u001b[0m",
      "\u001b[1;32m~\\Anaconda3\\lib\\site-packages\\gensim\\models\\keyedvectors.py\u001b[0m in \u001b[0;36msimilarity\u001b[1;34m(self, w1, w2)\u001b[0m\n\u001b[0;32m    826\u001b[0m \u001b[1;33m\u001b[0m\u001b[0m\n\u001b[0;32m    827\u001b[0m         \"\"\"\n\u001b[1;32m--> 828\u001b[1;33m         \u001b[1;32mreturn\u001b[0m \u001b[0mdot\u001b[0m\u001b[1;33m(\u001b[0m\u001b[0mmatutils\u001b[0m\u001b[1;33m.\u001b[0m\u001b[0munitvec\u001b[0m\u001b[1;33m(\u001b[0m\u001b[0mself\u001b[0m\u001b[1;33m[\u001b[0m\u001b[0mw1\u001b[0m\u001b[1;33m]\u001b[0m\u001b[1;33m)\u001b[0m\u001b[1;33m,\u001b[0m \u001b[0mmatutils\u001b[0m\u001b[1;33m.\u001b[0m\u001b[0munitvec\u001b[0m\u001b[1;33m(\u001b[0m\u001b[0mself\u001b[0m\u001b[1;33m[\u001b[0m\u001b[0mw2\u001b[0m\u001b[1;33m]\u001b[0m\u001b[1;33m)\u001b[0m\u001b[1;33m)\u001b[0m\u001b[1;33m\u001b[0m\u001b[1;33m\u001b[0m\u001b[0m\n\u001b[0m\u001b[0;32m    829\u001b[0m \u001b[1;33m\u001b[0m\u001b[0m\n\u001b[0;32m    830\u001b[0m     \u001b[1;32mdef\u001b[0m \u001b[0mn_similarity\u001b[0m\u001b[1;33m(\u001b[0m\u001b[0mself\u001b[0m\u001b[1;33m,\u001b[0m \u001b[0mws1\u001b[0m\u001b[1;33m,\u001b[0m \u001b[0mws2\u001b[0m\u001b[1;33m)\u001b[0m\u001b[1;33m:\u001b[0m\u001b[1;33m\u001b[0m\u001b[1;33m\u001b[0m\u001b[0m\n",
      "\u001b[1;32m~\\Anaconda3\\lib\\site-packages\\gensim\\models\\keyedvectors.py\u001b[0m in \u001b[0;36m__getitem__\u001b[1;34m(self, entities)\u001b[0m\n\u001b[0;32m    167\u001b[0m         \u001b[1;32mif\u001b[0m \u001b[0misinstance\u001b[0m\u001b[1;33m(\u001b[0m\u001b[0mentities\u001b[0m\u001b[1;33m,\u001b[0m \u001b[0mstring_types\u001b[0m\u001b[1;33m)\u001b[0m\u001b[1;33m:\u001b[0m\u001b[1;33m\u001b[0m\u001b[1;33m\u001b[0m\u001b[0m\n\u001b[0;32m    168\u001b[0m             \u001b[1;31m# allow calls like trained_model['office'], as a shorthand for trained_model[['office']]\u001b[0m\u001b[1;33m\u001b[0m\u001b[1;33m\u001b[0m\u001b[1;33m\u001b[0m\u001b[0m\n\u001b[1;32m--> 169\u001b[1;33m             \u001b[1;32mreturn\u001b[0m \u001b[0mself\u001b[0m\u001b[1;33m.\u001b[0m\u001b[0mget_vector\u001b[0m\u001b[1;33m(\u001b[0m\u001b[0mentities\u001b[0m\u001b[1;33m)\u001b[0m\u001b[1;33m\u001b[0m\u001b[1;33m\u001b[0m\u001b[0m\n\u001b[0m\u001b[0;32m    170\u001b[0m \u001b[1;33m\u001b[0m\u001b[0m\n\u001b[0;32m    171\u001b[0m         \u001b[1;32mreturn\u001b[0m \u001b[0mvstack\u001b[0m\u001b[1;33m(\u001b[0m\u001b[1;33m[\u001b[0m\u001b[0mself\u001b[0m\u001b[1;33m.\u001b[0m\u001b[0mget_vector\u001b[0m\u001b[1;33m(\u001b[0m\u001b[0mentity\u001b[0m\u001b[1;33m)\u001b[0m \u001b[1;32mfor\u001b[0m \u001b[0mentity\u001b[0m \u001b[1;32min\u001b[0m \u001b[0mentities\u001b[0m\u001b[1;33m]\u001b[0m\u001b[1;33m)\u001b[0m\u001b[1;33m\u001b[0m\u001b[1;33m\u001b[0m\u001b[0m\n",
      "\u001b[1;32m~\\Anaconda3\\lib\\site-packages\\gensim\\models\\keyedvectors.py\u001b[0m in \u001b[0;36mget_vector\u001b[1;34m(self, word)\u001b[0m\n\u001b[0;32m    275\u001b[0m \u001b[1;33m\u001b[0m\u001b[0m\n\u001b[0;32m    276\u001b[0m     \u001b[1;32mdef\u001b[0m \u001b[0mget_vector\u001b[0m\u001b[1;33m(\u001b[0m\u001b[0mself\u001b[0m\u001b[1;33m,\u001b[0m \u001b[0mword\u001b[0m\u001b[1;33m)\u001b[0m\u001b[1;33m:\u001b[0m\u001b[1;33m\u001b[0m\u001b[1;33m\u001b[0m\u001b[0m\n\u001b[1;32m--> 277\u001b[1;33m         \u001b[1;32mreturn\u001b[0m \u001b[0mself\u001b[0m\u001b[1;33m.\u001b[0m\u001b[0mword_vec\u001b[0m\u001b[1;33m(\u001b[0m\u001b[0mword\u001b[0m\u001b[1;33m)\u001b[0m\u001b[1;33m\u001b[0m\u001b[1;33m\u001b[0m\u001b[0m\n\u001b[0m\u001b[0;32m    278\u001b[0m \u001b[1;33m\u001b[0m\u001b[0m\n\u001b[0;32m    279\u001b[0m     \u001b[1;32mdef\u001b[0m \u001b[0mwords_closer_than\u001b[0m\u001b[1;33m(\u001b[0m\u001b[0mself\u001b[0m\u001b[1;33m,\u001b[0m \u001b[0mw1\u001b[0m\u001b[1;33m,\u001b[0m \u001b[0mw2\u001b[0m\u001b[1;33m)\u001b[0m\u001b[1;33m:\u001b[0m\u001b[1;33m\u001b[0m\u001b[1;33m\u001b[0m\u001b[0m\n",
      "\u001b[1;32m~\\Anaconda3\\lib\\site-packages\\gensim\\models\\keyedvectors.py\u001b[0m in \u001b[0;36mword_vec\u001b[1;34m(self, word, use_norm)\u001b[0m\n\u001b[0;32m    272\u001b[0m             \u001b[1;32mreturn\u001b[0m \u001b[0mresult\u001b[0m\u001b[1;33m\u001b[0m\u001b[1;33m\u001b[0m\u001b[0m\n\u001b[0;32m    273\u001b[0m         \u001b[1;32melse\u001b[0m\u001b[1;33m:\u001b[0m\u001b[1;33m\u001b[0m\u001b[1;33m\u001b[0m\u001b[0m\n\u001b[1;32m--> 274\u001b[1;33m             \u001b[1;32mraise\u001b[0m \u001b[0mKeyError\u001b[0m\u001b[1;33m(\u001b[0m\u001b[1;34m\"word '%s' not in vocabulary\"\u001b[0m \u001b[1;33m%\u001b[0m \u001b[0mword\u001b[0m\u001b[1;33m)\u001b[0m\u001b[1;33m\u001b[0m\u001b[1;33m\u001b[0m\u001b[0m\n\u001b[0m\u001b[0;32m    275\u001b[0m \u001b[1;33m\u001b[0m\u001b[0m\n\u001b[0;32m    276\u001b[0m     \u001b[1;32mdef\u001b[0m \u001b[0mget_vector\u001b[0m\u001b[1;33m(\u001b[0m\u001b[0mself\u001b[0m\u001b[1;33m,\u001b[0m \u001b[0mword\u001b[0m\u001b[1;33m)\u001b[0m\u001b[1;33m:\u001b[0m\u001b[1;33m\u001b[0m\u001b[1;33m\u001b[0m\u001b[0m\n",
      "\u001b[1;31mKeyError\u001b[0m: 'word \\'This DaVinci sugar free Kahlua syrup is a great way to add a bit of flavor to otherwise boring \"dietetic\" drinks and snacks. Being a Type 2 diabetic I have to watch my sugar intake and have found that these types of flavorings can significantly improve my enjoyment of healthy foods like plain yogurt and yet also satisfy my sweet tooth. The Kahlua flavor is very realistic tasting and the Splenda does not leave an \"aftertaste\" like other artificial sweeteners at least to me . Highly Recommended CFH\\' not in vocabulary'"
     ]
    }
   ],
   "source": [
    "model.wv.similarity(cleaner(df.iloc[24]['Text']), cleaner(df.iloc[42]['Text']))"
   ]
  },
  {
   "cell_type": "code",
   "execution_count": 45,
   "metadata": {},
   "outputs": [
    {
     "data": {
      "text/plain": [
       "'Hershey \"Sugar Free Caramel Filled Chocolates\" are very good diabetic friendly chocolate candies. These are fairly small, but are very tasty.<br /><br />Sweetened with Splenda, these do not significantly impact my blood sugar levels or cause gastric distress.<br /><br />Highly Recommended!<br /><br />CFH'"
      ]
     },
     "execution_count": 45,
     "metadata": {},
     "output_type": "execute_result"
    }
   ],
   "source": [
    "df['Text'][3926]"
   ]
  },
  {
   "cell_type": "markdown",
   "metadata": {},
   "source": [
    "## Similars from different authors\n",
    "\n",
    "Which reviews - one from each author - are most similar?\n",
    "\n",
    "## Graphing\n",
    "\n",
    "One vs all in terms of similarities or graph them all separately\n",
    "\n",
    "## Unsupervised methods?\n",
    "\n",
    "tf-idf and LSA vs word2vec stuff\n",
    "\n",
    "## Do clusters revolve around the same authors or scores?\n",
    "\n",
    "Consider these questions"
   ]
  },
  {
   "cell_type": "code",
   "execution_count": null,
   "metadata": {},
   "outputs": [],
   "source": []
  }
 ],
 "metadata": {
  "kernelspec": {
   "display_name": "Python 3",
   "language": "python",
   "name": "python3"
  },
  "language_info": {
   "codemirror_mode": {
    "name": "ipython",
    "version": 3
   },
   "file_extension": ".py",
   "mimetype": "text/x-python",
   "name": "python",
   "nbconvert_exporter": "python",
   "pygments_lexer": "ipython3",
   "version": "3.7.3"
  }
 },
 "nbformat": 4,
 "nbformat_minor": 2
}
