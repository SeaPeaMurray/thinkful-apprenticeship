{
 "cells": [
  {
   "cell_type": "markdown",
   "metadata": {},
   "source": [
    "# Classification - Austin animal shelter\n",
    "\n",
    "## This project utilizes the entire data science process in order to predict shelter outcomes.\n",
    "\n",
    "### It includes data cleaning, transforming, model testing, and statistical valuation of predictions. All code, transformation, and methods are original work unless otherwise noted.\n",
    "\n",
    "#### Source: https://www.kaggle.com/aaronschlegel/austin-animal-center-shelter-outcomes-and\n",
    "\n",
    "#### Website description and overview:\n",
    "\n",
    "### Context\n",
    "The Austin Animal Center is the largest no-kill animal shelter in the United States that provides care and shelter to over 18,000 animals each year and is involved in a range of county, city, and state-wide initiatives for the protection and care of abandoned, at-risk, and surrendered animals.\n",
    "\n",
    "As part of the City of Austin Open Data Initiative, the Austin Animal Center makes available its collected dataset that contains statistics and outcomes of animals entering the Austin Animal Services system.\n",
    "\n",
    "### Content\n",
    "The dataset contains shelter outcomes of several types of animals and breeds from 10/1/2013 to the present with a hourly time frequency. The data is updated daily.\n",
    "\n",
    "The Austin Animal Center's original dataset includes columns for name, date of birth, outcome, animal type, sex and age at time of outcome, breed, and color. Outcomes range widely and include things like adoptions and transfers to other shelters."
   ]
  },
  {
   "cell_type": "code",
   "execution_count": 1,
   "metadata": {},
   "outputs": [],
   "source": [
    "# Imports!\n",
    "import numpy as np\n",
    "import pandas as pd\n",
    "import matplotlib.pyplot as plt\n",
    "import seaborn as sns\n",
    "%matplotlib inline\n",
    "sns.set_style('darkgrid')"
   ]
  },
  {
   "cell_type": "code",
   "execution_count": 2,
   "metadata": {},
   "outputs": [
    {
     "data": {
      "text/html": [
       "<div>\n",
       "<style scoped>\n",
       "    .dataframe tbody tr th:only-of-type {\n",
       "        vertical-align: middle;\n",
       "    }\n",
       "\n",
       "    .dataframe tbody tr th {\n",
       "        vertical-align: top;\n",
       "    }\n",
       "\n",
       "    .dataframe thead th {\n",
       "        text-align: right;\n",
       "    }\n",
       "</style>\n",
       "<table border=\"1\" class=\"dataframe\">\n",
       "  <thead>\n",
       "    <tr style=\"text-align: right;\">\n",
       "      <th></th>\n",
       "      <th>age_upon_outcome</th>\n",
       "      <th>animal_id</th>\n",
       "      <th>animal_type</th>\n",
       "      <th>breed</th>\n",
       "      <th>color</th>\n",
       "      <th>date_of_birth</th>\n",
       "      <th>datetime</th>\n",
       "      <th>monthyear</th>\n",
       "      <th>name</th>\n",
       "      <th>outcome_subtype</th>\n",
       "      <th>outcome_type</th>\n",
       "      <th>sex_upon_outcome</th>\n",
       "    </tr>\n",
       "  </thead>\n",
       "  <tbody>\n",
       "    <tr>\n",
       "      <th>0</th>\n",
       "      <td>2 weeks</td>\n",
       "      <td>A684346</td>\n",
       "      <td>Cat</td>\n",
       "      <td>Domestic Shorthair Mix</td>\n",
       "      <td>Orange Tabby</td>\n",
       "      <td>2014-07-07T00:00:00</td>\n",
       "      <td>2014-07-22T16:04:00</td>\n",
       "      <td>2014-07-22T16:04:00</td>\n",
       "      <td>NaN</td>\n",
       "      <td>Partner</td>\n",
       "      <td>Transfer</td>\n",
       "      <td>Intact Male</td>\n",
       "    </tr>\n",
       "    <tr>\n",
       "      <th>1</th>\n",
       "      <td>1 year</td>\n",
       "      <td>A666430</td>\n",
       "      <td>Dog</td>\n",
       "      <td>Beagle Mix</td>\n",
       "      <td>White/Brown</td>\n",
       "      <td>2012-11-06T00:00:00</td>\n",
       "      <td>2013-11-07T11:47:00</td>\n",
       "      <td>2013-11-07T11:47:00</td>\n",
       "      <td>Lucy</td>\n",
       "      <td>Partner</td>\n",
       "      <td>Transfer</td>\n",
       "      <td>Spayed Female</td>\n",
       "    </tr>\n",
       "    <tr>\n",
       "      <th>2</th>\n",
       "      <td>1 year</td>\n",
       "      <td>A675708</td>\n",
       "      <td>Dog</td>\n",
       "      <td>Pit Bull</td>\n",
       "      <td>Blue/White</td>\n",
       "      <td>2013-03-31T00:00:00</td>\n",
       "      <td>2014-06-03T14:20:00</td>\n",
       "      <td>2014-06-03T14:20:00</td>\n",
       "      <td>*Johnny</td>\n",
       "      <td>NaN</td>\n",
       "      <td>Adoption</td>\n",
       "      <td>Neutered Male</td>\n",
       "    </tr>\n",
       "  </tbody>\n",
       "</table>\n",
       "</div>"
      ],
      "text/plain": [
       "  age_upon_outcome animal_id animal_type                   breed  \\\n",
       "0          2 weeks   A684346         Cat  Domestic Shorthair Mix   \n",
       "1           1 year   A666430         Dog              Beagle Mix   \n",
       "2           1 year   A675708         Dog                Pit Bull   \n",
       "\n",
       "          color        date_of_birth             datetime  \\\n",
       "0  Orange Tabby  2014-07-07T00:00:00  2014-07-22T16:04:00   \n",
       "1   White/Brown  2012-11-06T00:00:00  2013-11-07T11:47:00   \n",
       "2    Blue/White  2013-03-31T00:00:00  2014-06-03T14:20:00   \n",
       "\n",
       "             monthyear     name outcome_subtype outcome_type sex_upon_outcome  \n",
       "0  2014-07-22T16:04:00      NaN         Partner     Transfer      Intact Male  \n",
       "1  2013-11-07T11:47:00     Lucy         Partner     Transfer    Spayed Female  \n",
       "2  2014-06-03T14:20:00  *Johnny             NaN     Adoption    Neutered Male  "
      ]
     },
     "execution_count": 2,
     "metadata": {},
     "output_type": "execute_result"
    }
   ],
   "source": [
    "# Reading in the data set.\n",
    "df = pd.read_csv('../../_Datasets/aac_shelter_outcomes.csv')\n",
    "df2 = df.copy()\n",
    "df.head(3)"
   ]
  },
  {
   "cell_type": "code",
   "execution_count": 3,
   "metadata": {},
   "outputs": [
    {
     "name": "stdout",
     "output_type": "stream",
     "text": [
      "<class 'pandas.core.frame.DataFrame'>\n",
      "RangeIndex: 78256 entries, 0 to 78255\n",
      "Data columns (total 12 columns):\n",
      "age_upon_outcome    78248 non-null object\n",
      "animal_id           78256 non-null object\n",
      "animal_type         78256 non-null object\n",
      "breed               78256 non-null object\n",
      "color               78256 non-null object\n",
      "date_of_birth       78256 non-null object\n",
      "datetime            78256 non-null object\n",
      "monthyear           78256 non-null object\n",
      "name                54370 non-null object\n",
      "outcome_subtype     35963 non-null object\n",
      "outcome_type        78244 non-null object\n",
      "sex_upon_outcome    78254 non-null object\n",
      "dtypes: object(12)\n",
      "memory usage: 7.2+ MB\n"
     ]
    }
   ],
   "source": [
    "# Nulls aren't too bad, except for name and outcome_subtype. (I did not originally see the two on outcome_type.)\n",
    "df.info()"
   ]
  },
  {
   "cell_type": "markdown",
   "metadata": {},
   "source": [
    "# Feature ideas\n",
    "\n",
    "### After a quick look, we already see some features in need of 'fixing'\n",
    "\n",
    "1. Adopted or not\n",
    "    - Create binaries from the adopted feature. We can consider adopted or not and use get_dummies.\n",
    "2. Drop monthyear, it is the same as 'datetime'\n",
    "    - We don't need identical features - drop one of them.\n",
    "3. Animal has name or has no name\n",
    "    - This might be useful. Do parents think about temperament correlation with having a name or not?\n",
    "4. Animal types dummies\n",
    "    - We can run get_dummies on types of animals. We will probably use cats, dogs, and others.\n",
    "5. Spayed/neutered vs others\n",
    "    - Potential adopting parents are likely to weigh fixed animals versus those that aren't.\n",
    "6. Convert age to common measurement\n",
    "    - Ages value are all over the place - also has NaN values.\n",
    "7. Simplify colors with regex, etc.\n",
    "    - Colors might have correlation with adoption rates, we can find a way to include these values.\n",
    "8. Feature creation on breed\n",
    "    - Maybe we can pull some features out of the breeds."
   ]
  },
  {
   "cell_type": "code",
   "execution_count": 4,
   "metadata": {},
   "outputs": [
    {
     "data": {
      "text/plain": [
       "Adoption           33112\n",
       "Transfer           23499\n",
       "Return to Owner    14354\n",
       "Euthanasia          6080\n",
       "Died                 680\n",
       "Disposal             307\n",
       "Rto-Adopt            150\n",
       "Missing               46\n",
       "Relocate              16\n",
       "Name: outcome_type, dtype: int64"
      ]
     },
     "execution_count": 4,
     "metadata": {},
     "output_type": "execute_result"
    }
   ],
   "source": [
    "# 1. We want to create a binary outcome for y.\n",
    "df.outcome_type.value_counts()"
   ]
  },
  {
   "cell_type": "code",
   "execution_count": 5,
   "metadata": {
    "scrolled": true
   },
   "outputs": [
    {
     "data": {
      "text/html": [
       "<div>\n",
       "<style scoped>\n",
       "    .dataframe tbody tr th:only-of-type {\n",
       "        vertical-align: middle;\n",
       "    }\n",
       "\n",
       "    .dataframe tbody tr th {\n",
       "        vertical-align: top;\n",
       "    }\n",
       "\n",
       "    .dataframe thead th {\n",
       "        text-align: right;\n",
       "    }\n",
       "</style>\n",
       "<table border=\"1\" class=\"dataframe\">\n",
       "  <thead>\n",
       "    <tr style=\"text-align: right;\">\n",
       "      <th></th>\n",
       "      <th>age_upon_outcome</th>\n",
       "      <th>animal_id</th>\n",
       "      <th>animal_type</th>\n",
       "      <th>breed</th>\n",
       "      <th>color</th>\n",
       "      <th>date_of_birth</th>\n",
       "      <th>datetime</th>\n",
       "      <th>monthyear</th>\n",
       "      <th>name</th>\n",
       "      <th>outcome_subtype</th>\n",
       "      <th>sex_upon_outcome</th>\n",
       "      <th>binary_outcome_adopted</th>\n",
       "    </tr>\n",
       "  </thead>\n",
       "  <tbody>\n",
       "    <tr>\n",
       "      <th>0</th>\n",
       "      <td>2 weeks</td>\n",
       "      <td>A684346</td>\n",
       "      <td>Cat</td>\n",
       "      <td>Domestic Shorthair Mix</td>\n",
       "      <td>Orange Tabby</td>\n",
       "      <td>2014-07-07T00:00:00</td>\n",
       "      <td>2014-07-22T16:04:00</td>\n",
       "      <td>2014-07-22T16:04:00</td>\n",
       "      <td>NaN</td>\n",
       "      <td>Partner</td>\n",
       "      <td>Intact Male</td>\n",
       "      <td>0</td>\n",
       "    </tr>\n",
       "    <tr>\n",
       "      <th>1</th>\n",
       "      <td>1 year</td>\n",
       "      <td>A666430</td>\n",
       "      <td>Dog</td>\n",
       "      <td>Beagle Mix</td>\n",
       "      <td>White/Brown</td>\n",
       "      <td>2012-11-06T00:00:00</td>\n",
       "      <td>2013-11-07T11:47:00</td>\n",
       "      <td>2013-11-07T11:47:00</td>\n",
       "      <td>Lucy</td>\n",
       "      <td>Partner</td>\n",
       "      <td>Spayed Female</td>\n",
       "      <td>0</td>\n",
       "    </tr>\n",
       "    <tr>\n",
       "      <th>2</th>\n",
       "      <td>1 year</td>\n",
       "      <td>A675708</td>\n",
       "      <td>Dog</td>\n",
       "      <td>Pit Bull</td>\n",
       "      <td>Blue/White</td>\n",
       "      <td>2013-03-31T00:00:00</td>\n",
       "      <td>2014-06-03T14:20:00</td>\n",
       "      <td>2014-06-03T14:20:00</td>\n",
       "      <td>*Johnny</td>\n",
       "      <td>NaN</td>\n",
       "      <td>Neutered Male</td>\n",
       "      <td>1</td>\n",
       "    </tr>\n",
       "  </tbody>\n",
       "</table>\n",
       "</div>"
      ],
      "text/plain": [
       "  age_upon_outcome animal_id animal_type                   breed  \\\n",
       "0          2 weeks   A684346         Cat  Domestic Shorthair Mix   \n",
       "1           1 year   A666430         Dog              Beagle Mix   \n",
       "2           1 year   A675708         Dog                Pit Bull   \n",
       "\n",
       "          color        date_of_birth             datetime  \\\n",
       "0  Orange Tabby  2014-07-07T00:00:00  2014-07-22T16:04:00   \n",
       "1   White/Brown  2012-11-06T00:00:00  2013-11-07T11:47:00   \n",
       "2    Blue/White  2013-03-31T00:00:00  2014-06-03T14:20:00   \n",
       "\n",
       "             monthyear     name outcome_subtype sex_upon_outcome  \\\n",
       "0  2014-07-22T16:04:00      NaN         Partner      Intact Male   \n",
       "1  2013-11-07T11:47:00     Lucy         Partner    Spayed Female   \n",
       "2  2014-06-03T14:20:00  *Johnny             NaN    Neutered Male   \n",
       "\n",
       "   binary_outcome_adopted  \n",
       "0                       0  \n",
       "1                       0  \n",
       "2                       1  "
      ]
     },
     "execution_count": 5,
     "metadata": {},
     "output_type": "execute_result"
    }
   ],
   "source": [
    "# Creating the variable with adoption versus the rest.\n",
    "df.dropna(subset=['outcome_type'], inplace=True)\n",
    "df['binary_outcome_adopted'] = (df.outcome_type == 'Adoption') * 1\n",
    "df.drop('outcome_type', 1, inplace=True)\n",
    "df.head(3)"
   ]
  },
  {
   "cell_type": "code",
   "execution_count": 6,
   "metadata": {},
   "outputs": [
    {
     "data": {
      "text/plain": [
       "True    78244\n",
       "dtype: int64"
      ]
     },
     "execution_count": 6,
     "metadata": {},
     "output_type": "execute_result"
    }
   ],
   "source": [
    "# 2. Equivalent columns.\n",
    "# This code confirms these two columns are identical.\n",
    "(df.datetime == df.monthyear).value_counts()"
   ]
  },
  {
   "cell_type": "code",
   "execution_count": 7,
   "metadata": {
    "scrolled": true
   },
   "outputs": [
    {
     "data": {
      "text/html": [
       "<div>\n",
       "<style scoped>\n",
       "    .dataframe tbody tr th:only-of-type {\n",
       "        vertical-align: middle;\n",
       "    }\n",
       "\n",
       "    .dataframe tbody tr th {\n",
       "        vertical-align: top;\n",
       "    }\n",
       "\n",
       "    .dataframe thead th {\n",
       "        text-align: right;\n",
       "    }\n",
       "</style>\n",
       "<table border=\"1\" class=\"dataframe\">\n",
       "  <thead>\n",
       "    <tr style=\"text-align: right;\">\n",
       "      <th></th>\n",
       "      <th>age_upon_outcome</th>\n",
       "      <th>animal_id</th>\n",
       "      <th>animal_type</th>\n",
       "      <th>breed</th>\n",
       "      <th>color</th>\n",
       "      <th>date_of_birth</th>\n",
       "      <th>exit_datetime</th>\n",
       "      <th>name</th>\n",
       "      <th>outcome_subtype</th>\n",
       "      <th>sex_upon_outcome</th>\n",
       "      <th>binary_outcome_adopted</th>\n",
       "    </tr>\n",
       "  </thead>\n",
       "  <tbody>\n",
       "    <tr>\n",
       "      <th>0</th>\n",
       "      <td>2 weeks</td>\n",
       "      <td>A684346</td>\n",
       "      <td>Cat</td>\n",
       "      <td>Domestic Shorthair Mix</td>\n",
       "      <td>Orange Tabby</td>\n",
       "      <td>2014-07-07T00:00:00</td>\n",
       "      <td>2014-07-22T16:04:00</td>\n",
       "      <td>NaN</td>\n",
       "      <td>Partner</td>\n",
       "      <td>Intact Male</td>\n",
       "      <td>0</td>\n",
       "    </tr>\n",
       "    <tr>\n",
       "      <th>1</th>\n",
       "      <td>1 year</td>\n",
       "      <td>A666430</td>\n",
       "      <td>Dog</td>\n",
       "      <td>Beagle Mix</td>\n",
       "      <td>White/Brown</td>\n",
       "      <td>2012-11-06T00:00:00</td>\n",
       "      <td>2013-11-07T11:47:00</td>\n",
       "      <td>Lucy</td>\n",
       "      <td>Partner</td>\n",
       "      <td>Spayed Female</td>\n",
       "      <td>0</td>\n",
       "    </tr>\n",
       "    <tr>\n",
       "      <th>2</th>\n",
       "      <td>1 year</td>\n",
       "      <td>A675708</td>\n",
       "      <td>Dog</td>\n",
       "      <td>Pit Bull</td>\n",
       "      <td>Blue/White</td>\n",
       "      <td>2013-03-31T00:00:00</td>\n",
       "      <td>2014-06-03T14:20:00</td>\n",
       "      <td>*Johnny</td>\n",
       "      <td>NaN</td>\n",
       "      <td>Neutered Male</td>\n",
       "      <td>1</td>\n",
       "    </tr>\n",
       "    <tr>\n",
       "      <th>3</th>\n",
       "      <td>9 years</td>\n",
       "      <td>A680386</td>\n",
       "      <td>Dog</td>\n",
       "      <td>Miniature Schnauzer Mix</td>\n",
       "      <td>White</td>\n",
       "      <td>2005-06-02T00:00:00</td>\n",
       "      <td>2014-06-15T15:50:00</td>\n",
       "      <td>Monday</td>\n",
       "      <td>Partner</td>\n",
       "      <td>Neutered Male</td>\n",
       "      <td>0</td>\n",
       "    </tr>\n",
       "    <tr>\n",
       "      <th>4</th>\n",
       "      <td>5 months</td>\n",
       "      <td>A683115</td>\n",
       "      <td>Other</td>\n",
       "      <td>Bat Mix</td>\n",
       "      <td>Brown</td>\n",
       "      <td>2014-01-07T00:00:00</td>\n",
       "      <td>2014-07-07T14:04:00</td>\n",
       "      <td>NaN</td>\n",
       "      <td>Rabies Risk</td>\n",
       "      <td>Unknown</td>\n",
       "      <td>0</td>\n",
       "    </tr>\n",
       "  </tbody>\n",
       "</table>\n",
       "</div>"
      ],
      "text/plain": [
       "  age_upon_outcome animal_id animal_type                    breed  \\\n",
       "0          2 weeks   A684346         Cat   Domestic Shorthair Mix   \n",
       "1           1 year   A666430         Dog               Beagle Mix   \n",
       "2           1 year   A675708         Dog                 Pit Bull   \n",
       "3          9 years   A680386         Dog  Miniature Schnauzer Mix   \n",
       "4         5 months   A683115       Other                  Bat Mix   \n",
       "\n",
       "          color        date_of_birth        exit_datetime     name  \\\n",
       "0  Orange Tabby  2014-07-07T00:00:00  2014-07-22T16:04:00      NaN   \n",
       "1   White/Brown  2012-11-06T00:00:00  2013-11-07T11:47:00     Lucy   \n",
       "2    Blue/White  2013-03-31T00:00:00  2014-06-03T14:20:00  *Johnny   \n",
       "3         White  2005-06-02T00:00:00  2014-06-15T15:50:00   Monday   \n",
       "4         Brown  2014-01-07T00:00:00  2014-07-07T14:04:00      NaN   \n",
       "\n",
       "  outcome_subtype sex_upon_outcome  binary_outcome_adopted  \n",
       "0         Partner      Intact Male                       0  \n",
       "1         Partner    Spayed Female                       0  \n",
       "2             NaN    Neutered Male                       1  \n",
       "3         Partner    Neutered Male                       0  \n",
       "4     Rabies Risk          Unknown                       0  "
      ]
     },
     "execution_count": 7,
     "metadata": {},
     "output_type": "execute_result"
    }
   ],
   "source": [
    "# Remove monthyear and rename.\n",
    "df.drop('monthyear', 1, inplace=True)\n",
    "df.rename(columns={'datetime': 'exit_datetime'}, inplace=True)\n",
    "df.head()"
   ]
  },
  {
   "cell_type": "code",
   "execution_count": 8,
   "metadata": {},
   "outputs": [
    {
     "data": {
      "text/plain": [
       "True     54363\n",
       "False    23881\n",
       "Name: name, dtype: int64"
      ]
     },
     "execution_count": 8,
     "metadata": {},
     "output_type": "execute_result"
    }
   ],
   "source": [
    "# 3. Binary given_name feature.\n",
    "df.name.notna().value_counts()"
   ]
  },
  {
   "cell_type": "code",
   "execution_count": 9,
   "metadata": {},
   "outputs": [
    {
     "data": {
      "text/html": [
       "<div>\n",
       "<style scoped>\n",
       "    .dataframe tbody tr th:only-of-type {\n",
       "        vertical-align: middle;\n",
       "    }\n",
       "\n",
       "    .dataframe tbody tr th {\n",
       "        vertical-align: top;\n",
       "    }\n",
       "\n",
       "    .dataframe thead th {\n",
       "        text-align: right;\n",
       "    }\n",
       "</style>\n",
       "<table border=\"1\" class=\"dataframe\">\n",
       "  <thead>\n",
       "    <tr style=\"text-align: right;\">\n",
       "      <th></th>\n",
       "      <th>age_upon_outcome</th>\n",
       "      <th>animal_id</th>\n",
       "      <th>animal_type</th>\n",
       "      <th>breed</th>\n",
       "      <th>color</th>\n",
       "      <th>date_of_birth</th>\n",
       "      <th>exit_datetime</th>\n",
       "      <th>outcome_subtype</th>\n",
       "      <th>sex_upon_outcome</th>\n",
       "      <th>binary_outcome_adopted</th>\n",
       "      <th>has_name_binary</th>\n",
       "    </tr>\n",
       "  </thead>\n",
       "  <tbody>\n",
       "    <tr>\n",
       "      <th>0</th>\n",
       "      <td>2 weeks</td>\n",
       "      <td>A684346</td>\n",
       "      <td>Cat</td>\n",
       "      <td>Domestic Shorthair Mix</td>\n",
       "      <td>Orange Tabby</td>\n",
       "      <td>2014-07-07T00:00:00</td>\n",
       "      <td>2014-07-22T16:04:00</td>\n",
       "      <td>Partner</td>\n",
       "      <td>Intact Male</td>\n",
       "      <td>0</td>\n",
       "      <td>0</td>\n",
       "    </tr>\n",
       "    <tr>\n",
       "      <th>1</th>\n",
       "      <td>1 year</td>\n",
       "      <td>A666430</td>\n",
       "      <td>Dog</td>\n",
       "      <td>Beagle Mix</td>\n",
       "      <td>White/Brown</td>\n",
       "      <td>2012-11-06T00:00:00</td>\n",
       "      <td>2013-11-07T11:47:00</td>\n",
       "      <td>Partner</td>\n",
       "      <td>Spayed Female</td>\n",
       "      <td>0</td>\n",
       "      <td>1</td>\n",
       "    </tr>\n",
       "    <tr>\n",
       "      <th>2</th>\n",
       "      <td>1 year</td>\n",
       "      <td>A675708</td>\n",
       "      <td>Dog</td>\n",
       "      <td>Pit Bull</td>\n",
       "      <td>Blue/White</td>\n",
       "      <td>2013-03-31T00:00:00</td>\n",
       "      <td>2014-06-03T14:20:00</td>\n",
       "      <td>NaN</td>\n",
       "      <td>Neutered Male</td>\n",
       "      <td>1</td>\n",
       "      <td>1</td>\n",
       "    </tr>\n",
       "  </tbody>\n",
       "</table>\n",
       "</div>"
      ],
      "text/plain": [
       "  age_upon_outcome animal_id animal_type                   breed  \\\n",
       "0          2 weeks   A684346         Cat  Domestic Shorthair Mix   \n",
       "1           1 year   A666430         Dog              Beagle Mix   \n",
       "2           1 year   A675708         Dog                Pit Bull   \n",
       "\n",
       "          color        date_of_birth        exit_datetime outcome_subtype  \\\n",
       "0  Orange Tabby  2014-07-07T00:00:00  2014-07-22T16:04:00         Partner   \n",
       "1   White/Brown  2012-11-06T00:00:00  2013-11-07T11:47:00         Partner   \n",
       "2    Blue/White  2013-03-31T00:00:00  2014-06-03T14:20:00             NaN   \n",
       "\n",
       "  sex_upon_outcome  binary_outcome_adopted  has_name_binary  \n",
       "0      Intact Male                       0                0  \n",
       "1    Spayed Female                       0                1  \n",
       "2    Neutered Male                       1                1  "
      ]
     },
     "execution_count": 9,
     "metadata": {},
     "output_type": "execute_result"
    }
   ],
   "source": [
    "# Name feature looks useful. Created below.\n",
    "df['has_name_binary'] = df.name.notna() * 1\n",
    "df.drop('name', 1, inplace=True)\n",
    "df.head(3)"
   ]
  },
  {
   "cell_type": "code",
   "execution_count": 10,
   "metadata": {},
   "outputs": [
    {
     "data": {
      "text/plain": [
       "Dog          44238\n",
       "Cat          29419\n",
       "Other         4244\n",
       "Bird           334\n",
       "Livestock        9\n",
       "Name: animal_type, dtype: int64"
      ]
     },
     "execution_count": 10,
     "metadata": {},
     "output_type": "execute_result"
    }
   ],
   "source": [
    "# 4. We may be able to use animal type in our model.\n",
    "df.animal_type.value_counts()"
   ]
  },
  {
   "cell_type": "code",
   "execution_count": 11,
   "metadata": {},
   "outputs": [
    {
     "data": {
      "text/html": [
       "<div>\n",
       "<style scoped>\n",
       "    .dataframe tbody tr th:only-of-type {\n",
       "        vertical-align: middle;\n",
       "    }\n",
       "\n",
       "    .dataframe tbody tr th {\n",
       "        vertical-align: top;\n",
       "    }\n",
       "\n",
       "    .dataframe thead th {\n",
       "        text-align: right;\n",
       "    }\n",
       "</style>\n",
       "<table border=\"1\" class=\"dataframe\">\n",
       "  <thead>\n",
       "    <tr style=\"text-align: right;\">\n",
       "      <th></th>\n",
       "      <th>age_upon_outcome</th>\n",
       "      <th>animal_id</th>\n",
       "      <th>breed</th>\n",
       "      <th>color</th>\n",
       "      <th>date_of_birth</th>\n",
       "      <th>exit_datetime</th>\n",
       "      <th>outcome_subtype</th>\n",
       "      <th>sex_upon_outcome</th>\n",
       "      <th>binary_outcome_adopted</th>\n",
       "      <th>has_name_binary</th>\n",
       "      <th>animal_dog</th>\n",
       "      <th>animal_cat</th>\n",
       "      <th>animal_other</th>\n",
       "    </tr>\n",
       "  </thead>\n",
       "  <tbody>\n",
       "    <tr>\n",
       "      <th>0</th>\n",
       "      <td>2 weeks</td>\n",
       "      <td>A684346</td>\n",
       "      <td>Domestic Shorthair Mix</td>\n",
       "      <td>Orange Tabby</td>\n",
       "      <td>2014-07-07T00:00:00</td>\n",
       "      <td>2014-07-22T16:04:00</td>\n",
       "      <td>Partner</td>\n",
       "      <td>Intact Male</td>\n",
       "      <td>0</td>\n",
       "      <td>0</td>\n",
       "      <td>0</td>\n",
       "      <td>1</td>\n",
       "      <td>0</td>\n",
       "    </tr>\n",
       "    <tr>\n",
       "      <th>1</th>\n",
       "      <td>1 year</td>\n",
       "      <td>A666430</td>\n",
       "      <td>Beagle Mix</td>\n",
       "      <td>White/Brown</td>\n",
       "      <td>2012-11-06T00:00:00</td>\n",
       "      <td>2013-11-07T11:47:00</td>\n",
       "      <td>Partner</td>\n",
       "      <td>Spayed Female</td>\n",
       "      <td>0</td>\n",
       "      <td>1</td>\n",
       "      <td>1</td>\n",
       "      <td>0</td>\n",
       "      <td>0</td>\n",
       "    </tr>\n",
       "    <tr>\n",
       "      <th>2</th>\n",
       "      <td>1 year</td>\n",
       "      <td>A675708</td>\n",
       "      <td>Pit Bull</td>\n",
       "      <td>Blue/White</td>\n",
       "      <td>2013-03-31T00:00:00</td>\n",
       "      <td>2014-06-03T14:20:00</td>\n",
       "      <td>NaN</td>\n",
       "      <td>Neutered Male</td>\n",
       "      <td>1</td>\n",
       "      <td>1</td>\n",
       "      <td>1</td>\n",
       "      <td>0</td>\n",
       "      <td>0</td>\n",
       "    </tr>\n",
       "  </tbody>\n",
       "</table>\n",
       "</div>"
      ],
      "text/plain": [
       "  age_upon_outcome animal_id                   breed         color  \\\n",
       "0          2 weeks   A684346  Domestic Shorthair Mix  Orange Tabby   \n",
       "1           1 year   A666430              Beagle Mix   White/Brown   \n",
       "2           1 year   A675708                Pit Bull    Blue/White   \n",
       "\n",
       "         date_of_birth        exit_datetime outcome_subtype sex_upon_outcome  \\\n",
       "0  2014-07-07T00:00:00  2014-07-22T16:04:00         Partner      Intact Male   \n",
       "1  2012-11-06T00:00:00  2013-11-07T11:47:00         Partner    Spayed Female   \n",
       "2  2013-03-31T00:00:00  2014-06-03T14:20:00             NaN    Neutered Male   \n",
       "\n",
       "   binary_outcome_adopted  has_name_binary  animal_dog  animal_cat  \\\n",
       "0                       0                0           0           1   \n",
       "1                       0                1           1           0   \n",
       "2                       1                1           1           0   \n",
       "\n",
       "   animal_other  \n",
       "0             0  \n",
       "1             0  \n",
       "2             0  "
      ]
     },
     "execution_count": 11,
     "metadata": {},
     "output_type": "execute_result"
    }
   ],
   "source": [
    "# Using dummies for dog, cat, and placing the rest in the 'other' bin.\n",
    "df['animal_dog'] = (df.animal_type == 'Dog') * 1\n",
    "df['animal_cat'] = (df.animal_type == 'Cat') * 1\n",
    "df['animal_other'] = ((df.animal_type == 'Other') | (df.animal_type == 'Bird') | (df.animal_type == 'Livestock')) * 1\n",
    "df.drop('animal_type', 1, inplace=True)\n",
    "df.head(3)"
   ]
  },
  {
   "cell_type": "code",
   "execution_count": 12,
   "metadata": {},
   "outputs": [
    {
     "data": {
      "text/plain": [
       "Neutered Male    27783\n",
       "Spayed Female    25203\n",
       "Intact Male       9547\n",
       "Intact Female     9140\n",
       "Unknown           6570\n",
       "Name: sex_upon_outcome, dtype: int64"
      ]
     },
     "execution_count": 12,
     "metadata": {},
     "output_type": "execute_result"
    }
   ],
   "source": [
    "# 5. Spayed or neutered feature. What's the distribution?\n",
    "df.sex_upon_outcome.value_counts()"
   ]
  },
  {
   "cell_type": "code",
   "execution_count": 13,
   "metadata": {
    "scrolled": true
   },
   "outputs": [
    {
     "data": {
      "text/plain": [
       "Unknown    6570\n",
       "Name: sex_upon_outcome, dtype: int64"
      ]
     },
     "execution_count": 13,
     "metadata": {},
     "output_type": "execute_result"
    }
   ],
   "source": [
    "# Creating variables for fixed, male, and female animals\n",
    "# Only equal values for the male/female column is at - |unknown|\n",
    "fixed = df.sex_upon_outcome.str.contains(r'\\bNeutered\\b|\\bSpayed\\b', regex=True)\n",
    "male = df.sex_upon_outcome.str.contains(r'\\bMale\\b', regex=True)\n",
    "female = df.sex_upon_outcome.str.contains(r'\\bFemale\\b', regex=True)\n",
    "\n",
    "df[female == male]['sex_upon_outcome'].value_counts()"
   ]
  },
  {
   "cell_type": "code",
   "execution_count": 14,
   "metadata": {},
   "outputs": [
    {
     "data": {
      "text/html": [
       "<div>\n",
       "<style scoped>\n",
       "    .dataframe tbody tr th:only-of-type {\n",
       "        vertical-align: middle;\n",
       "    }\n",
       "\n",
       "    .dataframe tbody tr th {\n",
       "        vertical-align: top;\n",
       "    }\n",
       "\n",
       "    .dataframe thead th {\n",
       "        text-align: right;\n",
       "    }\n",
       "</style>\n",
       "<table border=\"1\" class=\"dataframe\">\n",
       "  <thead>\n",
       "    <tr style=\"text-align: right;\">\n",
       "      <th></th>\n",
       "      <th>age_upon_outcome</th>\n",
       "      <th>animal_id</th>\n",
       "      <th>breed</th>\n",
       "      <th>color</th>\n",
       "      <th>date_of_birth</th>\n",
       "      <th>exit_datetime</th>\n",
       "      <th>outcome_subtype</th>\n",
       "      <th>binary_outcome_adopted</th>\n",
       "      <th>has_name_binary</th>\n",
       "      <th>animal_dog</th>\n",
       "      <th>animal_cat</th>\n",
       "      <th>animal_other</th>\n",
       "      <th>gender_binary</th>\n",
       "      <th>fixed_binary</th>\n",
       "    </tr>\n",
       "  </thead>\n",
       "  <tbody>\n",
       "    <tr>\n",
       "      <th>0</th>\n",
       "      <td>2 weeks</td>\n",
       "      <td>A684346</td>\n",
       "      <td>Domestic Shorthair Mix</td>\n",
       "      <td>Orange Tabby</td>\n",
       "      <td>2014-07-07T00:00:00</td>\n",
       "      <td>2014-07-22T16:04:00</td>\n",
       "      <td>Partner</td>\n",
       "      <td>0</td>\n",
       "      <td>0</td>\n",
       "      <td>0</td>\n",
       "      <td>1</td>\n",
       "      <td>0</td>\n",
       "      <td>0</td>\n",
       "      <td>0</td>\n",
       "    </tr>\n",
       "    <tr>\n",
       "      <th>1</th>\n",
       "      <td>1 year</td>\n",
       "      <td>A666430</td>\n",
       "      <td>Beagle Mix</td>\n",
       "      <td>White/Brown</td>\n",
       "      <td>2012-11-06T00:00:00</td>\n",
       "      <td>2013-11-07T11:47:00</td>\n",
       "      <td>Partner</td>\n",
       "      <td>0</td>\n",
       "      <td>1</td>\n",
       "      <td>1</td>\n",
       "      <td>0</td>\n",
       "      <td>0</td>\n",
       "      <td>1</td>\n",
       "      <td>1</td>\n",
       "    </tr>\n",
       "    <tr>\n",
       "      <th>2</th>\n",
       "      <td>1 year</td>\n",
       "      <td>A675708</td>\n",
       "      <td>Pit Bull</td>\n",
       "      <td>Blue/White</td>\n",
       "      <td>2013-03-31T00:00:00</td>\n",
       "      <td>2014-06-03T14:20:00</td>\n",
       "      <td>NaN</td>\n",
       "      <td>1</td>\n",
       "      <td>1</td>\n",
       "      <td>1</td>\n",
       "      <td>0</td>\n",
       "      <td>0</td>\n",
       "      <td>0</td>\n",
       "      <td>1</td>\n",
       "    </tr>\n",
       "  </tbody>\n",
       "</table>\n",
       "</div>"
      ],
      "text/plain": [
       "  age_upon_outcome animal_id                   breed         color  \\\n",
       "0          2 weeks   A684346  Domestic Shorthair Mix  Orange Tabby   \n",
       "1           1 year   A666430              Beagle Mix   White/Brown   \n",
       "2           1 year   A675708                Pit Bull    Blue/White   \n",
       "\n",
       "         date_of_birth        exit_datetime outcome_subtype  \\\n",
       "0  2014-07-07T00:00:00  2014-07-22T16:04:00         Partner   \n",
       "1  2012-11-06T00:00:00  2013-11-07T11:47:00         Partner   \n",
       "2  2013-03-31T00:00:00  2014-06-03T14:20:00             NaN   \n",
       "\n",
       "   binary_outcome_adopted  has_name_binary  animal_dog  animal_cat  \\\n",
       "0                       0                0           0           1   \n",
       "1                       0                1           1           0   \n",
       "2                       1                1           1           0   \n",
       "\n",
       "   animal_other gender_binary fixed_binary  \n",
       "0             0             0            0  \n",
       "1             0             1            1  \n",
       "2             0             0            1  "
      ]
     },
     "execution_count": 14,
     "metadata": {},
     "output_type": "execute_result"
    }
   ],
   "source": [
    "# Generating gender and fixed features from variables.\n",
    "df['gender_binary'] = female * 1\n",
    "df['fixed_binary'] = fixed * 1\n",
    "df.drop('sex_upon_outcome', 1, inplace=True)\n",
    "df.head(3)"
   ]
  },
  {
   "cell_type": "code",
   "execution_count": 15,
   "metadata": {},
   "outputs": [
    {
     "name": "stdout",
     "output_type": "stream",
     "text": [
      "6 years\n",
      "2216 days 17:33:00 \n",
      "\n",
      "2 months\n",
      "86 days 17:05:00 \n",
      "\n",
      "3 years\n",
      "1101 days 12:56:00 \n",
      "\n",
      "1 year\n",
      "410 days 15:43:00 \n",
      "\n",
      "3 months\n",
      "111 days 14:25:00 \n",
      "\n",
      "4 months\n",
      "124 days 16:58:00 \n",
      "\n",
      "2 months\n",
      "80 days 17:02:00 \n",
      "\n",
      "1 month\n",
      "57 days 12:51:00 \n",
      "\n"
     ]
    }
   ],
   "source": [
    "# 6. Thoughts: age_upon_outcome is looking pretty ugly, how inconsistent is this feature?\n",
    "# If we check birthday against departure, are the numbers good?\n",
    "for val in np.random.randint(0, len(df), 8):\n",
    "    print(df.age_upon_outcome.loc[val])\n",
    "    print(pd.to_datetime(df.exit_datetime.loc[val]) - pd.to_datetime(df.date_of_birth.loc[val]), '\\n')"
   ]
  },
  {
   "cell_type": "code",
   "execution_count": 16,
   "metadata": {},
   "outputs": [
    {
     "data": {
      "text/html": [
       "<div>\n",
       "<style scoped>\n",
       "    .dataframe tbody tr th:only-of-type {\n",
       "        vertical-align: middle;\n",
       "    }\n",
       "\n",
       "    .dataframe tbody tr th {\n",
       "        vertical-align: top;\n",
       "    }\n",
       "\n",
       "    .dataframe thead th {\n",
       "        text-align: right;\n",
       "    }\n",
       "</style>\n",
       "<table border=\"1\" class=\"dataframe\">\n",
       "  <thead>\n",
       "    <tr style=\"text-align: right;\">\n",
       "      <th></th>\n",
       "      <th>age_upon_outcome</th>\n",
       "      <th>animal_id</th>\n",
       "      <th>breed</th>\n",
       "      <th>color</th>\n",
       "      <th>date_of_birth</th>\n",
       "      <th>exit_datetime</th>\n",
       "      <th>outcome_subtype</th>\n",
       "      <th>binary_outcome_adopted</th>\n",
       "      <th>has_name_binary</th>\n",
       "      <th>animal_dog</th>\n",
       "      <th>animal_cat</th>\n",
       "      <th>animal_other</th>\n",
       "      <th>gender_binary</th>\n",
       "      <th>fixed_binary</th>\n",
       "    </tr>\n",
       "  </thead>\n",
       "  <tbody>\n",
       "    <tr>\n",
       "      <th>77976</th>\n",
       "      <td>NaN</td>\n",
       "      <td>A765547</td>\n",
       "      <td>Leghorn Mix</td>\n",
       "      <td>White/Red</td>\n",
       "      <td>2017-01-22T00:00:00</td>\n",
       "      <td>2018-01-25T13:23:00</td>\n",
       "      <td>Partner</td>\n",
       "      <td>0</td>\n",
       "      <td>0</td>\n",
       "      <td>0</td>\n",
       "      <td>0</td>\n",
       "      <td>1</td>\n",
       "      <td>1</td>\n",
       "      <td>0</td>\n",
       "    </tr>\n",
       "    <tr>\n",
       "      <th>78081</th>\n",
       "      <td>NaN</td>\n",
       "      <td>A765899</td>\n",
       "      <td>Miniature Poodle Mix</td>\n",
       "      <td>Black</td>\n",
       "      <td>2011-01-29T00:00:00</td>\n",
       "      <td>2018-01-29T15:49:00</td>\n",
       "      <td>Suffering</td>\n",
       "      <td>0</td>\n",
       "      <td>0</td>\n",
       "      <td>1</td>\n",
       "      <td>0</td>\n",
       "      <td>0</td>\n",
       "      <td>0</td>\n",
       "      <td>1</td>\n",
       "    </tr>\n",
       "    <tr>\n",
       "      <th>78114</th>\n",
       "      <td>NaN</td>\n",
       "      <td>A765914</td>\n",
       "      <td>Domestic Shorthair Mix</td>\n",
       "      <td>Lynx Point</td>\n",
       "      <td>2017-01-29T00:00:00</td>\n",
       "      <td>2018-01-29T18:08:00</td>\n",
       "      <td>Suffering</td>\n",
       "      <td>0</td>\n",
       "      <td>0</td>\n",
       "      <td>0</td>\n",
       "      <td>1</td>\n",
       "      <td>0</td>\n",
       "      <td>0</td>\n",
       "      <td>0</td>\n",
       "    </tr>\n",
       "    <tr>\n",
       "      <th>78162</th>\n",
       "      <td>NaN</td>\n",
       "      <td>A765901</td>\n",
       "      <td>Maltese Mix</td>\n",
       "      <td>Buff</td>\n",
       "      <td>2017-01-29T00:00:00</td>\n",
       "      <td>2018-01-31T08:14:00</td>\n",
       "      <td>Partner</td>\n",
       "      <td>0</td>\n",
       "      <td>0</td>\n",
       "      <td>1</td>\n",
       "      <td>0</td>\n",
       "      <td>0</td>\n",
       "      <td>0</td>\n",
       "      <td>0</td>\n",
       "    </tr>\n",
       "    <tr>\n",
       "      <th>78208</th>\n",
       "      <td>NaN</td>\n",
       "      <td>A765960</td>\n",
       "      <td>Beagle/Catahoula</td>\n",
       "      <td>Tan/White</td>\n",
       "      <td>2010-02-01T00:00:00</td>\n",
       "      <td>2018-02-01T09:21:00</td>\n",
       "      <td>Suffering</td>\n",
       "      <td>0</td>\n",
       "      <td>0</td>\n",
       "      <td>1</td>\n",
       "      <td>0</td>\n",
       "      <td>0</td>\n",
       "      <td>0</td>\n",
       "      <td>0</td>\n",
       "    </tr>\n",
       "    <tr>\n",
       "      <th>78253</th>\n",
       "      <td>NaN</td>\n",
       "      <td>A766098</td>\n",
       "      <td>Bat Mix</td>\n",
       "      <td>Brown</td>\n",
       "      <td>2017-02-01T00:00:00</td>\n",
       "      <td>2018-02-01T18:08:00</td>\n",
       "      <td>Rabies Risk</td>\n",
       "      <td>0</td>\n",
       "      <td>0</td>\n",
       "      <td>0</td>\n",
       "      <td>0</td>\n",
       "      <td>1</td>\n",
       "      <td>0</td>\n",
       "      <td>0</td>\n",
       "    </tr>\n",
       "  </tbody>\n",
       "</table>\n",
       "</div>"
      ],
      "text/plain": [
       "      age_upon_outcome animal_id                   breed       color  \\\n",
       "77976              NaN   A765547             Leghorn Mix   White/Red   \n",
       "78081              NaN   A765899    Miniature Poodle Mix       Black   \n",
       "78114              NaN   A765914  Domestic Shorthair Mix  Lynx Point   \n",
       "78162              NaN   A765901             Maltese Mix        Buff   \n",
       "78208              NaN   A765960        Beagle/Catahoula   Tan/White   \n",
       "78253              NaN   A766098                 Bat Mix       Brown   \n",
       "\n",
       "             date_of_birth        exit_datetime outcome_subtype  \\\n",
       "77976  2017-01-22T00:00:00  2018-01-25T13:23:00         Partner   \n",
       "78081  2011-01-29T00:00:00  2018-01-29T15:49:00       Suffering   \n",
       "78114  2017-01-29T00:00:00  2018-01-29T18:08:00       Suffering   \n",
       "78162  2017-01-29T00:00:00  2018-01-31T08:14:00         Partner   \n",
       "78208  2010-02-01T00:00:00  2018-02-01T09:21:00       Suffering   \n",
       "78253  2017-02-01T00:00:00  2018-02-01T18:08:00     Rabies Risk   \n",
       "\n",
       "       binary_outcome_adopted  has_name_binary  animal_dog  animal_cat  \\\n",
       "77976                       0                0           0           0   \n",
       "78081                       0                0           1           0   \n",
       "78114                       0                0           0           1   \n",
       "78162                       0                0           1           0   \n",
       "78208                       0                0           1           0   \n",
       "78253                       0                0           0           0   \n",
       "\n",
       "       animal_other gender_binary fixed_binary  \n",
       "77976             1             1            0  \n",
       "78081             0             0            1  \n",
       "78114             0             0            0  \n",
       "78162             0             0            0  \n",
       "78208             0             0            0  \n",
       "78253             1             0            0  "
      ]
     },
     "execution_count": 16,
     "metadata": {},
     "output_type": "execute_result"
    }
   ],
   "source": [
    "# df.info() above also states it has NaN values.\n",
    "df[df.age_upon_outcome.isna()]"
   ]
  },
  {
   "cell_type": "code",
   "execution_count": 17,
   "metadata": {},
   "outputs": [
    {
     "data": {
      "text/plain": [
       "<matplotlib.axes._subplots.AxesSubplot at 0x21953270588>"
      ]
     },
     "execution_count": 17,
     "metadata": {},
     "output_type": "execute_result"
    },
    {
     "data": {
      "image/png": "[encoded data removed]",
      "text/plain": [
       "<Figure size 1152x648 with 1 Axes>"
      ]
     },
     "metadata": {
      "needs_background": "light"
     },
     "output_type": "display_data"
    }
   ],
   "source": [
    "# This trick seems to make a usable datetime (timedelta) object.\n",
    "(pd.to_datetime(df.exit_datetime) - pd.to_datetime(df.date_of_birth)).dt.days.hist(figsize=(16, 9))"
   ]
  },
  {
   "cell_type": "code",
   "execution_count": 18,
   "metadata": {},
   "outputs": [
    {
     "data": {
      "text/html": [
       "<div>\n",
       "<style scoped>\n",
       "    .dataframe tbody tr th:only-of-type {\n",
       "        vertical-align: middle;\n",
       "    }\n",
       "\n",
       "    .dataframe tbody tr th {\n",
       "        vertical-align: top;\n",
       "    }\n",
       "\n",
       "    .dataframe thead th {\n",
       "        text-align: right;\n",
       "    }\n",
       "</style>\n",
       "<table border=\"1\" class=\"dataframe\">\n",
       "  <thead>\n",
       "    <tr style=\"text-align: right;\">\n",
       "      <th></th>\n",
       "      <th>age_upon_outcome</th>\n",
       "      <th>animal_id</th>\n",
       "      <th>breed</th>\n",
       "      <th>color</th>\n",
       "      <th>date_of_birth</th>\n",
       "      <th>exit_datetime</th>\n",
       "      <th>outcome_subtype</th>\n",
       "      <th>binary_outcome_adopted</th>\n",
       "      <th>has_name_binary</th>\n",
       "      <th>animal_dog</th>\n",
       "      <th>animal_cat</th>\n",
       "      <th>animal_other</th>\n",
       "      <th>gender_binary</th>\n",
       "      <th>fixed_binary</th>\n",
       "    </tr>\n",
       "  </thead>\n",
       "  <tbody>\n",
       "    <tr>\n",
       "      <th>0</th>\n",
       "      <td>15 days 16:04:00</td>\n",
       "      <td>A684346</td>\n",
       "      <td>Domestic Shorthair Mix</td>\n",
       "      <td>Orange Tabby</td>\n",
       "      <td>2014-07-07</td>\n",
       "      <td>2014-07-22 16:04:00</td>\n",
       "      <td>Partner</td>\n",
       "      <td>0</td>\n",
       "      <td>0</td>\n",
       "      <td>0</td>\n",
       "      <td>1</td>\n",
       "      <td>0</td>\n",
       "      <td>0</td>\n",
       "      <td>0</td>\n",
       "    </tr>\n",
       "    <tr>\n",
       "      <th>1</th>\n",
       "      <td>366 days 11:47:00</td>\n",
       "      <td>A666430</td>\n",
       "      <td>Beagle Mix</td>\n",
       "      <td>White/Brown</td>\n",
       "      <td>2012-11-06</td>\n",
       "      <td>2013-11-07 11:47:00</td>\n",
       "      <td>Partner</td>\n",
       "      <td>0</td>\n",
       "      <td>1</td>\n",
       "      <td>1</td>\n",
       "      <td>0</td>\n",
       "      <td>0</td>\n",
       "      <td>1</td>\n",
       "      <td>1</td>\n",
       "    </tr>\n",
       "    <tr>\n",
       "      <th>2</th>\n",
       "      <td>429 days 14:20:00</td>\n",
       "      <td>A675708</td>\n",
       "      <td>Pit Bull</td>\n",
       "      <td>Blue/White</td>\n",
       "      <td>2013-03-31</td>\n",
       "      <td>2014-06-03 14:20:00</td>\n",
       "      <td>NaN</td>\n",
       "      <td>1</td>\n",
       "      <td>1</td>\n",
       "      <td>1</td>\n",
       "      <td>0</td>\n",
       "      <td>0</td>\n",
       "      <td>0</td>\n",
       "      <td>1</td>\n",
       "    </tr>\n",
       "  </tbody>\n",
       "</table>\n",
       "</div>"
      ],
      "text/plain": [
       "   age_upon_outcome animal_id                   breed         color  \\\n",
       "0  15 days 16:04:00   A684346  Domestic Shorthair Mix  Orange Tabby   \n",
       "1 366 days 11:47:00   A666430              Beagle Mix   White/Brown   \n",
       "2 429 days 14:20:00   A675708                Pit Bull    Blue/White   \n",
       "\n",
       "  date_of_birth       exit_datetime outcome_subtype  binary_outcome_adopted  \\\n",
       "0    2014-07-07 2014-07-22 16:04:00         Partner                       0   \n",
       "1    2012-11-06 2013-11-07 11:47:00         Partner                       0   \n",
       "2    2013-03-31 2014-06-03 14:20:00             NaN                       1   \n",
       "\n",
       "   has_name_binary  animal_dog  animal_cat  animal_other gender_binary  \\\n",
       "0                0           0           1             0             0   \n",
       "1                1           1           0             0             1   \n",
       "2                1           1           0             0             0   \n",
       "\n",
       "  fixed_binary  \n",
       "0            0  \n",
       "1            1  \n",
       "2            1  "
      ]
     },
     "execution_count": 18,
     "metadata": {},
     "output_type": "execute_result"
    }
   ],
   "source": [
    "# Let's use it. \n",
    "# This converts relevant datetime entries into datetime format and creates a timedelta for age_upon_outcome.\n",
    "df['age_upon_outcome'] = pd.to_datetime(df.exit_datetime) - pd.to_datetime(df.date_of_birth)\n",
    "df['date_of_birth'] = pd.to_datetime(df.date_of_birth)\n",
    "df['exit_datetime'] = pd.to_datetime(df.exit_datetime)\n",
    "df.head(3)"
   ]
  },
  {
   "cell_type": "code",
   "execution_count": 19,
   "metadata": {},
   "outputs": [
    {
     "data": {
      "text/plain": [
       "525"
      ]
     },
     "execution_count": 19,
     "metadata": {},
     "output_type": "execute_result"
    }
   ],
   "source": [
    "# 7. Colors?\n",
    "len(df.color.value_counts())"
   ]
  },
  {
   "cell_type": "code",
   "execution_count": 20,
   "metadata": {
    "scrolled": true
   },
   "outputs": [
    {
     "data": {
      "text/plain": [
       "True     68828\n",
       "False     9416\n",
       "Name: color, dtype: int64"
      ]
     },
     "metadata": {},
     "output_type": "display_data"
    },
    {
     "data": {
      "text/plain": [
       "Tricolor       1982\n",
       "Tortie         1340\n",
       "Torbie          845\n",
       "Yellow          510\n",
       "Cream Tabby     498\n",
       "Name: color, dtype: int64"
      ]
     },
     "execution_count": 20,
     "metadata": {},
     "output_type": "execute_result"
    }
   ],
   "source": [
    "# This will give us an idea of how much orange, black, brown, and other common colors account for the animals' colors.\n",
    "display(df.color.str.contains(r'\\borange\\b|\\bblack\\b|\\bblue\\b|\\bbrown\\b|\\bwhite\\b|\\btan\\b|\\bcalico\\b|\\bred\\b', \n",
    "                      regex=True, case=False).value_counts())\n",
    "\n",
    "df[df.color.str.contains(r'\\borange\\b|\\bblack\\b|\\bblue\\b|\\bbrown\\b|\\bwhite\\b|\\btan\\b|\\bcalico\\b|\\bred\\b', \n",
    "                      regex=True, case=False) == False]['color'].value_counts()[:5]"
   ]
  },
  {
   "cell_type": "code",
   "execution_count": 21,
   "metadata": {
    "scrolled": true
   },
   "outputs": [
    {
     "data": {
      "text/plain": [
       "Sable         476\n",
       "Lynx Point    439\n",
       "Cream         435\n",
       "Chocolate     413\n",
       "Buff          386\n",
       "Name: color, dtype: int64"
      ]
     },
     "execution_count": 21,
     "metadata": {},
     "output_type": "execute_result"
    }
   ],
   "source": [
    "# We can add a few more to the list - tricolor, gray, yellow, and the tortie/torbie - and see how much more is covered.\n",
    "df[df.color.str.contains(r'\\borange\\b|\\bblack\\b|\\bblue\\b|\\bbrown\\b|\\bwhite\\b|\\btan\\b|\\bcalico\\b|\\bred\\b|\\btricolor\\b|\\bgray\\b|\\byellow\\b|\\btabby\\b|\\btortie\\b|\\btorbie\\b',\n",
    "                         regex=True, case=False) == False]['color'].value_counts()[:5]"
   ]
  },
  {
   "cell_type": "code",
   "execution_count": 22,
   "metadata": {},
   "outputs": [
    {
     "data": {
      "text/html": [
       "<div>\n",
       "<style scoped>\n",
       "    .dataframe tbody tr th:only-of-type {\n",
       "        vertical-align: middle;\n",
       "    }\n",
       "\n",
       "    .dataframe tbody tr th {\n",
       "        vertical-align: top;\n",
       "    }\n",
       "\n",
       "    .dataframe thead th {\n",
       "        text-align: right;\n",
       "    }\n",
       "</style>\n",
       "<table border=\"1\" class=\"dataframe\">\n",
       "  <thead>\n",
       "    <tr style=\"text-align: right;\">\n",
       "      <th></th>\n",
       "      <th>age_upon_outcome</th>\n",
       "      <th>animal_id</th>\n",
       "      <th>breed</th>\n",
       "      <th>date_of_birth</th>\n",
       "      <th>exit_datetime</th>\n",
       "      <th>outcome_subtype</th>\n",
       "      <th>binary_outcome_adopted</th>\n",
       "      <th>has_name_binary</th>\n",
       "      <th>animal_dog</th>\n",
       "      <th>animal_cat</th>\n",
       "      <th>...</th>\n",
       "      <th>color_brown</th>\n",
       "      <th>color_white</th>\n",
       "      <th>color_tan</th>\n",
       "      <th>color_calico</th>\n",
       "      <th>color_red</th>\n",
       "      <th>color_tricolor</th>\n",
       "      <th>color_gray</th>\n",
       "      <th>color_yellow</th>\n",
       "      <th>color_tabby</th>\n",
       "      <th>color_tortie_torbie</th>\n",
       "    </tr>\n",
       "  </thead>\n",
       "  <tbody>\n",
       "    <tr>\n",
       "      <th>0</th>\n",
       "      <td>15 days 16:04:00</td>\n",
       "      <td>A684346</td>\n",
       "      <td>Domestic Shorthair Mix</td>\n",
       "      <td>2014-07-07</td>\n",
       "      <td>2014-07-22 16:04:00</td>\n",
       "      <td>Partner</td>\n",
       "      <td>0</td>\n",
       "      <td>0</td>\n",
       "      <td>0</td>\n",
       "      <td>1</td>\n",
       "      <td>...</td>\n",
       "      <td>0</td>\n",
       "      <td>0</td>\n",
       "      <td>0</td>\n",
       "      <td>0</td>\n",
       "      <td>0</td>\n",
       "      <td>0</td>\n",
       "      <td>0</td>\n",
       "      <td>0</td>\n",
       "      <td>1</td>\n",
       "      <td>0</td>\n",
       "    </tr>\n",
       "    <tr>\n",
       "      <th>1</th>\n",
       "      <td>366 days 11:47:00</td>\n",
       "      <td>A666430</td>\n",
       "      <td>Beagle Mix</td>\n",
       "      <td>2012-11-06</td>\n",
       "      <td>2013-11-07 11:47:00</td>\n",
       "      <td>Partner</td>\n",
       "      <td>0</td>\n",
       "      <td>1</td>\n",
       "      <td>1</td>\n",
       "      <td>0</td>\n",
       "      <td>...</td>\n",
       "      <td>1</td>\n",
       "      <td>1</td>\n",
       "      <td>0</td>\n",
       "      <td>0</td>\n",
       "      <td>0</td>\n",
       "      <td>0</td>\n",
       "      <td>0</td>\n",
       "      <td>0</td>\n",
       "      <td>0</td>\n",
       "      <td>0</td>\n",
       "    </tr>\n",
       "    <tr>\n",
       "      <th>2</th>\n",
       "      <td>429 days 14:20:00</td>\n",
       "      <td>A675708</td>\n",
       "      <td>Pit Bull</td>\n",
       "      <td>2013-03-31</td>\n",
       "      <td>2014-06-03 14:20:00</td>\n",
       "      <td>NaN</td>\n",
       "      <td>1</td>\n",
       "      <td>1</td>\n",
       "      <td>1</td>\n",
       "      <td>0</td>\n",
       "      <td>...</td>\n",
       "      <td>0</td>\n",
       "      <td>1</td>\n",
       "      <td>0</td>\n",
       "      <td>0</td>\n",
       "      <td>0</td>\n",
       "      <td>0</td>\n",
       "      <td>0</td>\n",
       "      <td>0</td>\n",
       "      <td>0</td>\n",
       "      <td>0</td>\n",
       "    </tr>\n",
       "  </tbody>\n",
       "</table>\n",
       "<p>3 rows × 26 columns</p>\n",
       "</div>"
      ],
      "text/plain": [
       "   age_upon_outcome animal_id                   breed date_of_birth  \\\n",
       "0  15 days 16:04:00   A684346  Domestic Shorthair Mix    2014-07-07   \n",
       "1 366 days 11:47:00   A666430              Beagle Mix    2012-11-06   \n",
       "2 429 days 14:20:00   A675708                Pit Bull    2013-03-31   \n",
       "\n",
       "        exit_datetime outcome_subtype  binary_outcome_adopted  \\\n",
       "0 2014-07-22 16:04:00         Partner                       0   \n",
       "1 2013-11-07 11:47:00         Partner                       0   \n",
       "2 2014-06-03 14:20:00             NaN                       1   \n",
       "\n",
       "   has_name_binary  animal_dog  animal_cat         ...           color_brown  \\\n",
       "0                0           0           1         ...                     0   \n",
       "1                1           1           0         ...                     1   \n",
       "2                1           1           0         ...                     0   \n",
       "\n",
       "  color_white color_tan  color_calico  color_red  color_tricolor  color_gray  \\\n",
       "0           0         0             0          0               0           0   \n",
       "1           1         0             0          0               0           0   \n",
       "2           1         0             0          0               0           0   \n",
       "\n",
       "   color_yellow  color_tabby  color_tortie_torbie  \n",
       "0             0            1                    0  \n",
       "1             0            0                    0  \n",
       "2             0            0                    0  \n",
       "\n",
       "[3 rows x 26 columns]"
      ]
     },
     "execution_count": 22,
     "metadata": {},
     "output_type": "execute_result"
    }
   ],
   "source": [
    "# That color list looks solid - the regex tricks will allow us to convert things like Brown/Red into brown 1 and red 1,\n",
    "# making sure we account for common colors even if there are multiple.\n",
    "color_list = ['orange', 'black', 'blue', 'brown', 'white', 'tan', 'calico', 'red', 'tricolor', 'gray', 'yellow', 'tabby', 'tortie', 'torbie']\n",
    "for color in color_list:\n",
    "    df['color_' + str(color)] = df.color.str.contains(r'\\b' + color, case=False) * 1\n",
    "\n",
    "df['color_tortie_torbie'] = df.color_torbie * 1 + df.color_tortie * 1\n",
    "\n",
    "# Creating color feature for 'others' - we might want this (Spoiler alert...we will)\n",
    "color_others = df[df.color.str.contains(r'\\borange\\b|\\bblack\\b|\\bblue\\b|\\bbrown\\b|\\bwhite\\b|\\btan\\b|\\bcalico\\b|\\bred\\b|\\btricolor\\b|\\bgray\\b|\\byellow\\b|\\btabby\\b|\\btortie\\b|\\btorbie\\b',\n",
    "                         regex=True, case=False) == False]['color']\n",
    "df.drop(['color', 'color_tortie', 'color_torbie'], 1, inplace=True)\n",
    "df.head(3)"
   ]
  },
  {
   "cell_type": "code",
   "execution_count": 23,
   "metadata": {},
   "outputs": [
    {
     "data": {
      "text/plain": [
       "Domestic Shorthair Mix       23332\n",
       "Pit Bull Mix                  6133\n",
       "Chihuahua Shorthair Mix       4733\n",
       "Labrador Retriever Mix        4607\n",
       "Domestic Medium Hair Mix      2323\n",
       "German Shepherd Mix           1892\n",
       "Bat Mix                       1283\n",
       "Domestic Longhair Mix         1228\n",
       "Australian Cattle Dog Mix     1059\n",
       "Siamese Mix                    998\n",
       "Bat                            799\n",
       "Dachshund Mix                  798\n",
       "Boxer Mix                      674\n",
       "Miniature Poodle Mix           648\n",
       "Border Collie Mix              646\n",
       "Name: breed, dtype: int64"
      ]
     },
     "execution_count": 23,
     "metadata": {},
     "output_type": "execute_result"
    }
   ],
   "source": [
    "# 8. What are some trends in breed?\n",
    "df.breed.value_counts()[:15]"
   ]
  },
  {
   "cell_type": "code",
   "execution_count": 24,
   "metadata": {},
   "outputs": [
    {
     "data": {
      "text/plain": [
       "True     65863\n",
       "False    12381\n",
       "Name: breed, dtype: int64"
      ]
     },
     "execution_count": 24,
     "metadata": {},
     "output_type": "execute_result"
    }
   ],
   "source": [
    "# 'Mix' looks very common. Let's build a binary on that.\n",
    "df.breed.str.contains(r'\\bmix\\b', case=False).value_counts()"
   ]
  },
  {
   "cell_type": "code",
   "execution_count": 25,
   "metadata": {},
   "outputs": [
    {
     "data": {
      "text/html": [
       "<div>\n",
       "<style scoped>\n",
       "    .dataframe tbody tr th:only-of-type {\n",
       "        vertical-align: middle;\n",
       "    }\n",
       "\n",
       "    .dataframe tbody tr th {\n",
       "        vertical-align: top;\n",
       "    }\n",
       "\n",
       "    .dataframe thead th {\n",
       "        text-align: right;\n",
       "    }\n",
       "</style>\n",
       "<table border=\"1\" class=\"dataframe\">\n",
       "  <thead>\n",
       "    <tr style=\"text-align: right;\">\n",
       "      <th></th>\n",
       "      <th>age_upon_outcome</th>\n",
       "      <th>date_of_birth</th>\n",
       "      <th>exit_datetime</th>\n",
       "      <th>binary_outcome_adopted</th>\n",
       "      <th>has_name_binary</th>\n",
       "      <th>animal_dog</th>\n",
       "      <th>animal_cat</th>\n",
       "      <th>animal_other</th>\n",
       "      <th>gender_binary</th>\n",
       "      <th>fixed_binary</th>\n",
       "      <th>...</th>\n",
       "      <th>color_white</th>\n",
       "      <th>color_tan</th>\n",
       "      <th>color_calico</th>\n",
       "      <th>color_red</th>\n",
       "      <th>color_tricolor</th>\n",
       "      <th>color_gray</th>\n",
       "      <th>color_yellow</th>\n",
       "      <th>color_tabby</th>\n",
       "      <th>color_tortie_torbie</th>\n",
       "      <th>mixed_binary</th>\n",
       "    </tr>\n",
       "  </thead>\n",
       "  <tbody>\n",
       "    <tr>\n",
       "      <th>0</th>\n",
       "      <td>15 days 16:04:00</td>\n",
       "      <td>2014-07-07</td>\n",
       "      <td>2014-07-22 16:04:00</td>\n",
       "      <td>0</td>\n",
       "      <td>0</td>\n",
       "      <td>0</td>\n",
       "      <td>1</td>\n",
       "      <td>0</td>\n",
       "      <td>0</td>\n",
       "      <td>0</td>\n",
       "      <td>...</td>\n",
       "      <td>0</td>\n",
       "      <td>0</td>\n",
       "      <td>0</td>\n",
       "      <td>0</td>\n",
       "      <td>0</td>\n",
       "      <td>0</td>\n",
       "      <td>0</td>\n",
       "      <td>1</td>\n",
       "      <td>0</td>\n",
       "      <td>1</td>\n",
       "    </tr>\n",
       "    <tr>\n",
       "      <th>1</th>\n",
       "      <td>366 days 11:47:00</td>\n",
       "      <td>2012-11-06</td>\n",
       "      <td>2013-11-07 11:47:00</td>\n",
       "      <td>0</td>\n",
       "      <td>1</td>\n",
       "      <td>1</td>\n",
       "      <td>0</td>\n",
       "      <td>0</td>\n",
       "      <td>1</td>\n",
       "      <td>1</td>\n",
       "      <td>...</td>\n",
       "      <td>1</td>\n",
       "      <td>0</td>\n",
       "      <td>0</td>\n",
       "      <td>0</td>\n",
       "      <td>0</td>\n",
       "      <td>0</td>\n",
       "      <td>0</td>\n",
       "      <td>0</td>\n",
       "      <td>0</td>\n",
       "      <td>1</td>\n",
       "    </tr>\n",
       "    <tr>\n",
       "      <th>2</th>\n",
       "      <td>429 days 14:20:00</td>\n",
       "      <td>2013-03-31</td>\n",
       "      <td>2014-06-03 14:20:00</td>\n",
       "      <td>1</td>\n",
       "      <td>1</td>\n",
       "      <td>1</td>\n",
       "      <td>0</td>\n",
       "      <td>0</td>\n",
       "      <td>0</td>\n",
       "      <td>1</td>\n",
       "      <td>...</td>\n",
       "      <td>1</td>\n",
       "      <td>0</td>\n",
       "      <td>0</td>\n",
       "      <td>0</td>\n",
       "      <td>0</td>\n",
       "      <td>0</td>\n",
       "      <td>0</td>\n",
       "      <td>0</td>\n",
       "      <td>0</td>\n",
       "      <td>0</td>\n",
       "    </tr>\n",
       "  </tbody>\n",
       "</table>\n",
       "<p>3 rows × 24 columns</p>\n",
       "</div>"
      ],
      "text/plain": [
       "   age_upon_outcome date_of_birth       exit_datetime  binary_outcome_adopted  \\\n",
       "0  15 days 16:04:00    2014-07-07 2014-07-22 16:04:00                       0   \n",
       "1 366 days 11:47:00    2012-11-06 2013-11-07 11:47:00                       0   \n",
       "2 429 days 14:20:00    2013-03-31 2014-06-03 14:20:00                       1   \n",
       "\n",
       "   has_name_binary  animal_dog  animal_cat  animal_other gender_binary  \\\n",
       "0                0           0           1             0             0   \n",
       "1                1           1           0             0             1   \n",
       "2                1           1           0             0             0   \n",
       "\n",
       "  fixed_binary      ...       color_white  color_tan  color_calico  color_red  \\\n",
       "0            0      ...                 0          0             0          0   \n",
       "1            1      ...                 1          0             0          0   \n",
       "2            1      ...                 1          0             0          0   \n",
       "\n",
       "   color_tricolor  color_gray  color_yellow  color_tabby  color_tortie_torbie  \\\n",
       "0               0           0             0            1                    0   \n",
       "1               0           0             0            0                    0   \n",
       "2               0           0             0            0                    0   \n",
       "\n",
       "   mixed_binary  \n",
       "0             1  \n",
       "1             1  \n",
       "2             0  \n",
       "\n",
       "[3 rows x 24 columns]"
      ]
     },
     "execution_count": 25,
     "metadata": {},
     "output_type": "execute_result"
    }
   ],
   "source": [
    "# mixed_binary creation and 'breed' column drop. \n",
    "# We also have some others we don't plan to use - animal_id and outcome_subtype.\n",
    "df['mixed_binary'] = df.breed.str.contains(r'\\bmix\\b', case=False) * 1\n",
    "df.drop(['breed', 'animal_id', 'outcome_subtype'], 1, inplace=True)\n",
    "df.head(3)"
   ]
  },
  {
   "cell_type": "code",
   "execution_count": 26,
   "metadata": {},
   "outputs": [
    {
     "name": "stdout",
     "output_type": "stream",
     "text": [
      "<class 'pandas.core.frame.DataFrame'>\n",
      "Int64Index: 78244 entries, 0 to 78255\n",
      "Data columns (total 24 columns):\n",
      "age_upon_outcome          78244 non-null timedelta64[ns]\n",
      "date_of_birth             78244 non-null datetime64[ns]\n",
      "exit_datetime             78244 non-null datetime64[ns]\n",
      "binary_outcome_adopted    78244 non-null int32\n",
      "has_name_binary           78244 non-null int32\n",
      "animal_dog                78244 non-null int32\n",
      "animal_cat                78244 non-null int32\n",
      "animal_other              78244 non-null int32\n",
      "gender_binary             78243 non-null object\n",
      "fixed_binary              78243 non-null object\n",
      "color_orange              78244 non-null int32\n",
      "color_black               78244 non-null int32\n",
      "color_blue                78244 non-null int32\n",
      "color_brown               78244 non-null int32\n",
      "color_white               78244 non-null int32\n",
      "color_tan                 78244 non-null int32\n",
      "color_calico              78244 non-null int32\n",
      "color_red                 78244 non-null int32\n",
      "color_tricolor            78244 non-null int32\n",
      "color_gray                78244 non-null int32\n",
      "color_yellow              78244 non-null int32\n",
      "color_tabby               78244 non-null int32\n",
      "color_tortie_torbie       78244 non-null int32\n",
      "mixed_binary              78244 non-null int32\n",
      "dtypes: datetime64[ns](2), int32(19), object(2), timedelta64[ns](1)\n",
      "memory usage: 11.8+ MB\n"
     ]
    }
   ],
   "source": [
    "# Run a check on the summary.\n",
    "df.info()"
   ]
  },
  {
   "cell_type": "code",
   "execution_count": 27,
   "metadata": {},
   "outputs": [
    {
     "data": {
      "text/html": [
       "<div>\n",
       "<style scoped>\n",
       "    .dataframe tbody tr th:only-of-type {\n",
       "        vertical-align: middle;\n",
       "    }\n",
       "\n",
       "    .dataframe tbody tr th {\n",
       "        vertical-align: top;\n",
       "    }\n",
       "\n",
       "    .dataframe thead th {\n",
       "        text-align: right;\n",
       "    }\n",
       "</style>\n",
       "<table border=\"1\" class=\"dataframe\">\n",
       "  <thead>\n",
       "    <tr style=\"text-align: right;\">\n",
       "      <th></th>\n",
       "      <th>age_upon_outcome</th>\n",
       "      <th>date_of_birth</th>\n",
       "      <th>exit_datetime</th>\n",
       "      <th>binary_outcome_adopted</th>\n",
       "      <th>has_name_binary</th>\n",
       "      <th>animal_dog</th>\n",
       "      <th>animal_cat</th>\n",
       "      <th>animal_other</th>\n",
       "      <th>gender_binary</th>\n",
       "      <th>fixed_binary</th>\n",
       "      <th>...</th>\n",
       "      <th>color_white</th>\n",
       "      <th>color_tan</th>\n",
       "      <th>color_calico</th>\n",
       "      <th>color_red</th>\n",
       "      <th>color_tricolor</th>\n",
       "      <th>color_gray</th>\n",
       "      <th>color_yellow</th>\n",
       "      <th>color_tabby</th>\n",
       "      <th>color_tortie_torbie</th>\n",
       "      <th>mixed_binary</th>\n",
       "    </tr>\n",
       "  </thead>\n",
       "  <tbody>\n",
       "    <tr>\n",
       "      <th>16300</th>\n",
       "      <td>2567 days 16:11:00</td>\n",
       "      <td>2006-11-17</td>\n",
       "      <td>2013-11-27 16:11:00</td>\n",
       "      <td>0</td>\n",
       "      <td>1</td>\n",
       "      <td>1</td>\n",
       "      <td>0</td>\n",
       "      <td>0</td>\n",
       "      <td>NaN</td>\n",
       "      <td>NaN</td>\n",
       "      <td>...</td>\n",
       "      <td>0</td>\n",
       "      <td>0</td>\n",
       "      <td>0</td>\n",
       "      <td>0</td>\n",
       "      <td>0</td>\n",
       "      <td>0</td>\n",
       "      <td>0</td>\n",
       "      <td>0</td>\n",
       "      <td>0</td>\n",
       "      <td>0</td>\n",
       "    </tr>\n",
       "  </tbody>\n",
       "</table>\n",
       "<p>1 rows × 24 columns</p>\n",
       "</div>"
      ],
      "text/plain": [
       "        age_upon_outcome date_of_birth       exit_datetime  \\\n",
       "16300 2567 days 16:11:00    2006-11-17 2013-11-27 16:11:00   \n",
       "\n",
       "       binary_outcome_adopted  has_name_binary  animal_dog  animal_cat  \\\n",
       "16300                       0                1           1           0   \n",
       "\n",
       "       animal_other gender_binary fixed_binary      ...       color_white  \\\n",
       "16300             0           NaN          NaN      ...                 0   \n",
       "\n",
       "       color_tan  color_calico  color_red  color_tricolor  color_gray  \\\n",
       "16300          0             0          0               0           0   \n",
       "\n",
       "       color_yellow  color_tabby  color_tortie_torbie  mixed_binary  \n",
       "16300             0            0                    0             0  \n",
       "\n",
       "[1 rows x 24 columns]"
      ]
     },
     "metadata": {},
     "output_type": "display_data"
    }
   ],
   "source": [
    "# Clean up steps: gender_binary and fixed_binary both have a single missing value.\n",
    "display(df[df.fixed_binary.isna()])\n",
    "# Removing the single row.\n",
    "df = df.dropna()"
   ]
  },
  {
   "cell_type": "code",
   "execution_count": 28,
   "metadata": {},
   "outputs": [],
   "source": [
    "# We might want to use days old, as it will be easier to plot. \n",
    "# Also setting aside datetime objects in case they are needed.\n",
    "df['days_old'] = df.age_upon_outcome.dt.days\n",
    "df_dt = df[['age_upon_outcome', 'date_of_birth', 'exit_datetime']]\n",
    "df.drop(['age_upon_outcome', 'date_of_birth', 'exit_datetime'], 1, inplace=True)"
   ]
  },
  {
   "cell_type": "code",
   "execution_count": 29,
   "metadata": {},
   "outputs": [
    {
     "data": {
      "text/html": [
       "<div>\n",
       "<style scoped>\n",
       "    .dataframe tbody tr th:only-of-type {\n",
       "        vertical-align: middle;\n",
       "    }\n",
       "\n",
       "    .dataframe tbody tr th {\n",
       "        vertical-align: top;\n",
       "    }\n",
       "\n",
       "    .dataframe thead th {\n",
       "        text-align: right;\n",
       "    }\n",
       "</style>\n",
       "<table border=\"1\" class=\"dataframe\">\n",
       "  <thead>\n",
       "    <tr style=\"text-align: right;\">\n",
       "      <th></th>\n",
       "      <th>0</th>\n",
       "      <th>1</th>\n",
       "      <th>2</th>\n",
       "      <th>3</th>\n",
       "      <th>4</th>\n",
       "      <th>5</th>\n",
       "      <th>6</th>\n",
       "      <th>7</th>\n",
       "      <th>8</th>\n",
       "      <th>9</th>\n",
       "    </tr>\n",
       "  </thead>\n",
       "  <tbody>\n",
       "    <tr>\n",
       "      <th>binary_outcome_adopted</th>\n",
       "      <td>0</td>\n",
       "      <td>0</td>\n",
       "      <td>1</td>\n",
       "      <td>0</td>\n",
       "      <td>0</td>\n",
       "      <td>0</td>\n",
       "      <td>0</td>\n",
       "      <td>0</td>\n",
       "      <td>1</td>\n",
       "      <td>1</td>\n",
       "    </tr>\n",
       "    <tr>\n",
       "      <th>has_name_binary</th>\n",
       "      <td>0</td>\n",
       "      <td>1</td>\n",
       "      <td>1</td>\n",
       "      <td>1</td>\n",
       "      <td>0</td>\n",
       "      <td>1</td>\n",
       "      <td>0</td>\n",
       "      <td>1</td>\n",
       "      <td>1</td>\n",
       "      <td>1</td>\n",
       "    </tr>\n",
       "    <tr>\n",
       "      <th>animal_dog</th>\n",
       "      <td>0</td>\n",
       "      <td>1</td>\n",
       "      <td>1</td>\n",
       "      <td>1</td>\n",
       "      <td>0</td>\n",
       "      <td>1</td>\n",
       "      <td>0</td>\n",
       "      <td>1</td>\n",
       "      <td>0</td>\n",
       "      <td>0</td>\n",
       "    </tr>\n",
       "    <tr>\n",
       "      <th>animal_cat</th>\n",
       "      <td>1</td>\n",
       "      <td>0</td>\n",
       "      <td>0</td>\n",
       "      <td>0</td>\n",
       "      <td>0</td>\n",
       "      <td>0</td>\n",
       "      <td>0</td>\n",
       "      <td>0</td>\n",
       "      <td>1</td>\n",
       "      <td>1</td>\n",
       "    </tr>\n",
       "    <tr>\n",
       "      <th>animal_other</th>\n",
       "      <td>0</td>\n",
       "      <td>0</td>\n",
       "      <td>0</td>\n",
       "      <td>0</td>\n",
       "      <td>1</td>\n",
       "      <td>0</td>\n",
       "      <td>1</td>\n",
       "      <td>0</td>\n",
       "      <td>0</td>\n",
       "      <td>0</td>\n",
       "    </tr>\n",
       "    <tr>\n",
       "      <th>gender_binary</th>\n",
       "      <td>0</td>\n",
       "      <td>1</td>\n",
       "      <td>0</td>\n",
       "      <td>0</td>\n",
       "      <td>0</td>\n",
       "      <td>0</td>\n",
       "      <td>0</td>\n",
       "      <td>1</td>\n",
       "      <td>1</td>\n",
       "      <td>1</td>\n",
       "    </tr>\n",
       "    <tr>\n",
       "      <th>fixed_binary</th>\n",
       "      <td>0</td>\n",
       "      <td>1</td>\n",
       "      <td>1</td>\n",
       "      <td>1</td>\n",
       "      <td>0</td>\n",
       "      <td>0</td>\n",
       "      <td>0</td>\n",
       "      <td>1</td>\n",
       "      <td>0</td>\n",
       "      <td>1</td>\n",
       "    </tr>\n",
       "    <tr>\n",
       "      <th>color_orange</th>\n",
       "      <td>1</td>\n",
       "      <td>0</td>\n",
       "      <td>0</td>\n",
       "      <td>0</td>\n",
       "      <td>0</td>\n",
       "      <td>0</td>\n",
       "      <td>0</td>\n",
       "      <td>0</td>\n",
       "      <td>0</td>\n",
       "      <td>0</td>\n",
       "    </tr>\n",
       "    <tr>\n",
       "      <th>color_black</th>\n",
       "      <td>0</td>\n",
       "      <td>0</td>\n",
       "      <td>0</td>\n",
       "      <td>0</td>\n",
       "      <td>0</td>\n",
       "      <td>0</td>\n",
       "      <td>0</td>\n",
       "      <td>0</td>\n",
       "      <td>0</td>\n",
       "      <td>1</td>\n",
       "    </tr>\n",
       "    <tr>\n",
       "      <th>color_blue</th>\n",
       "      <td>0</td>\n",
       "      <td>0</td>\n",
       "      <td>1</td>\n",
       "      <td>0</td>\n",
       "      <td>0</td>\n",
       "      <td>0</td>\n",
       "      <td>0</td>\n",
       "      <td>0</td>\n",
       "      <td>1</td>\n",
       "      <td>0</td>\n",
       "    </tr>\n",
       "    <tr>\n",
       "      <th>color_brown</th>\n",
       "      <td>0</td>\n",
       "      <td>1</td>\n",
       "      <td>0</td>\n",
       "      <td>0</td>\n",
       "      <td>1</td>\n",
       "      <td>1</td>\n",
       "      <td>0</td>\n",
       "      <td>1</td>\n",
       "      <td>0</td>\n",
       "      <td>0</td>\n",
       "    </tr>\n",
       "    <tr>\n",
       "      <th>color_white</th>\n",
       "      <td>0</td>\n",
       "      <td>1</td>\n",
       "      <td>1</td>\n",
       "      <td>1</td>\n",
       "      <td>0</td>\n",
       "      <td>1</td>\n",
       "      <td>0</td>\n",
       "      <td>0</td>\n",
       "      <td>1</td>\n",
       "      <td>1</td>\n",
       "    </tr>\n",
       "    <tr>\n",
       "      <th>color_tan</th>\n",
       "      <td>0</td>\n",
       "      <td>0</td>\n",
       "      <td>0</td>\n",
       "      <td>0</td>\n",
       "      <td>0</td>\n",
       "      <td>0</td>\n",
       "      <td>1</td>\n",
       "      <td>0</td>\n",
       "      <td>0</td>\n",
       "      <td>0</td>\n",
       "    </tr>\n",
       "    <tr>\n",
       "      <th>color_calico</th>\n",
       "      <td>0</td>\n",
       "      <td>0</td>\n",
       "      <td>0</td>\n",
       "      <td>0</td>\n",
       "      <td>0</td>\n",
       "      <td>0</td>\n",
       "      <td>0</td>\n",
       "      <td>0</td>\n",
       "      <td>0</td>\n",
       "      <td>0</td>\n",
       "    </tr>\n",
       "    <tr>\n",
       "      <th>color_red</th>\n",
       "      <td>0</td>\n",
       "      <td>0</td>\n",
       "      <td>0</td>\n",
       "      <td>0</td>\n",
       "      <td>0</td>\n",
       "      <td>0</td>\n",
       "      <td>0</td>\n",
       "      <td>0</td>\n",
       "      <td>0</td>\n",
       "      <td>0</td>\n",
       "    </tr>\n",
       "    <tr>\n",
       "      <th>color_tricolor</th>\n",
       "      <td>0</td>\n",
       "      <td>0</td>\n",
       "      <td>0</td>\n",
       "      <td>0</td>\n",
       "      <td>0</td>\n",
       "      <td>0</td>\n",
       "      <td>0</td>\n",
       "      <td>0</td>\n",
       "      <td>0</td>\n",
       "      <td>0</td>\n",
       "    </tr>\n",
       "    <tr>\n",
       "      <th>color_gray</th>\n",
       "      <td>0</td>\n",
       "      <td>0</td>\n",
       "      <td>0</td>\n",
       "      <td>0</td>\n",
       "      <td>0</td>\n",
       "      <td>0</td>\n",
       "      <td>0</td>\n",
       "      <td>0</td>\n",
       "      <td>0</td>\n",
       "      <td>0</td>\n",
       "    </tr>\n",
       "    <tr>\n",
       "      <th>color_yellow</th>\n",
       "      <td>0</td>\n",
       "      <td>0</td>\n",
       "      <td>0</td>\n",
       "      <td>0</td>\n",
       "      <td>0</td>\n",
       "      <td>0</td>\n",
       "      <td>0</td>\n",
       "      <td>0</td>\n",
       "      <td>0</td>\n",
       "      <td>0</td>\n",
       "    </tr>\n",
       "    <tr>\n",
       "      <th>color_tabby</th>\n",
       "      <td>1</td>\n",
       "      <td>0</td>\n",
       "      <td>0</td>\n",
       "      <td>0</td>\n",
       "      <td>0</td>\n",
       "      <td>0</td>\n",
       "      <td>0</td>\n",
       "      <td>0</td>\n",
       "      <td>1</td>\n",
       "      <td>0</td>\n",
       "    </tr>\n",
       "    <tr>\n",
       "      <th>color_tortie_torbie</th>\n",
       "      <td>0</td>\n",
       "      <td>0</td>\n",
       "      <td>0</td>\n",
       "      <td>0</td>\n",
       "      <td>0</td>\n",
       "      <td>0</td>\n",
       "      <td>0</td>\n",
       "      <td>0</td>\n",
       "      <td>0</td>\n",
       "      <td>0</td>\n",
       "    </tr>\n",
       "    <tr>\n",
       "      <th>mixed_binary</th>\n",
       "      <td>1</td>\n",
       "      <td>1</td>\n",
       "      <td>0</td>\n",
       "      <td>1</td>\n",
       "      <td>1</td>\n",
       "      <td>1</td>\n",
       "      <td>1</td>\n",
       "      <td>1</td>\n",
       "      <td>1</td>\n",
       "      <td>1</td>\n",
       "    </tr>\n",
       "    <tr>\n",
       "      <th>days_old</th>\n",
       "      <td>15</td>\n",
       "      <td>366</td>\n",
       "      <td>429</td>\n",
       "      <td>3300</td>\n",
       "      <td>181</td>\n",
       "      <td>126</td>\n",
       "      <td>365</td>\n",
       "      <td>1111</td>\n",
       "      <td>59</td>\n",
       "      <td>95</td>\n",
       "    </tr>\n",
       "  </tbody>\n",
       "</table>\n",
       "</div>"
      ],
      "text/plain": [
       "                         0    1    2     3    4    5    6     7   8   9\n",
       "binary_outcome_adopted   0    0    1     0    0    0    0     0   1   1\n",
       "has_name_binary          0    1    1     1    0    1    0     1   1   1\n",
       "animal_dog               0    1    1     1    0    1    0     1   0   0\n",
       "animal_cat               1    0    0     0    0    0    0     0   1   1\n",
       "animal_other             0    0    0     0    1    0    1     0   0   0\n",
       "gender_binary            0    1    0     0    0    0    0     1   1   1\n",
       "fixed_binary             0    1    1     1    0    0    0     1   0   1\n",
       "color_orange             1    0    0     0    0    0    0     0   0   0\n",
       "color_black              0    0    0     0    0    0    0     0   0   1\n",
       "color_blue               0    0    1     0    0    0    0     0   1   0\n",
       "color_brown              0    1    0     0    1    1    0     1   0   0\n",
       "color_white              0    1    1     1    0    1    0     0   1   1\n",
       "color_tan                0    0    0     0    0    0    1     0   0   0\n",
       "color_calico             0    0    0     0    0    0    0     0   0   0\n",
       "color_red                0    0    0     0    0    0    0     0   0   0\n",
       "color_tricolor           0    0    0     0    0    0    0     0   0   0\n",
       "color_gray               0    0    0     0    0    0    0     0   0   0\n",
       "color_yellow             0    0    0     0    0    0    0     0   0   0\n",
       "color_tabby              1    0    0     0    0    0    0     0   1   0\n",
       "color_tortie_torbie      0    0    0     0    0    0    0     0   0   0\n",
       "mixed_binary             1    1    0     1    1    1    1     1   1   1\n",
       "days_old                15  366  429  3300  181  126  365  1111  59  95"
      ]
     },
     "execution_count": 29,
     "metadata": {},
     "output_type": "execute_result"
    }
   ],
   "source": [
    "# Let's check our final result!\n",
    "df.head(10).transpose()"
   ]
  },
  {
   "cell_type": "markdown",
   "metadata": {},
   "source": [
    "# Feature selection and transformations\n",
    "\n",
    "### Feature consistency and quality\n",
    "\n",
    "We now have some features to visualize. Not many, as our only continuous variable is 'days_old', but we *can* compare this to many of our feature buckets. We will also be able to observe some correlation heatmaps."
   ]
  },
  {
   "cell_type": "code",
   "execution_count": 30,
   "metadata": {},
   "outputs": [
    {
     "name": "stderr",
     "output_type": "stream",
     "text": [
      "F:\\Anaconda3\\lib\\site-packages\\scipy\\stats\\stats.py:1713: FutureWarning: Using a non-tuple sequence for multidimensional indexing is deprecated; use `arr[tuple(seq)]` instead of `arr[seq]`. In the future this will be interpreted as an array index, `arr[np.array(seq)]`, which will result either in an error or a different result.\n",
      "  return np.add.reduce(sorted[indexer] * weights, axis=axis) / sumval\n"
     ]
    },
    {
     "data": {
      "text/plain": [
       "<matplotlib.axes._subplots.AxesSubplot at 0x2195729aa58>"
      ]
     },
     "execution_count": 30,
     "metadata": {},
     "output_type": "execute_result"
    },
    {
     "data": {
      "image/png": "[encoded data removed]",
      "text/plain": [
       "<Figure size 1152x864 with 4 Axes>"
      ]
     },
     "metadata": {
      "needs_background": "light"
     },
     "output_type": "display_data"
    }
   ],
   "source": [
    "# We can run some visualizations on features against age.\n",
    "fig, axes = plt.subplots(2, 2, figsize=(16,12))\n",
    "sns.boxenplot(x='animal_cat', y='days_old', data=df, ax=axes[0, 0])\n",
    "sns.boxenplot(x='animal_dog', y='days_old', data=df, ax=axes[0, 1])\n",
    "sns.violinplot(x='mixed_binary', y='days_old', hue='binary_outcome_adopted', data=df, ax=axes[1, 0])\n",
    "sns.violinplot(x='has_name_binary', y='days_old', hue='binary_outcome_adopted', data=df, ax=axes[1, 1])"
   ]
  },
  {
   "cell_type": "markdown",
   "metadata": {},
   "source": [
    "### Notes: Cats vs Dogs\n",
    "\n",
    "The first row houses cats 0 or 1 and dogs 0 or 1. They look eerily inverse. Perhaps some strong correlation exists.\n",
    "\n",
    "### Correlation confirmed\n",
    "\n",
    "The correlation is confirmed in the top left of our heatmap."
   ]
  },
  {
   "cell_type": "code",
   "execution_count": 31,
   "metadata": {},
   "outputs": [
    {
     "data": {
      "text/plain": [
       "<matplotlib.axes._subplots.AxesSubplot at 0x21958e6a748>"
      ]
     },
     "execution_count": 31,
     "metadata": {},
     "output_type": "execute_result"
    },
    {
     "data": {
      "image/png": "[encoded data removed]",
      "text/plain": [
       "<Figure size 1152x864 with 2 Axes>"
      ]
     },
     "metadata": {
      "needs_background": "light"
     },
     "output_type": "display_data"
    }
   ],
   "source": [
    "fig, ax = plt.subplots(figsize=(16,12))\n",
    "sns.heatmap(df.iloc[:, 1:].corr())"
   ]
  },
  {
   "cell_type": "markdown",
   "metadata": {},
   "source": [
    "### Notes: Dog and cat negative correlation\n",
    "\n",
    "I want to see how the correlation heatmap responds to removing one of these strong negative correlations. Adios, puppers."
   ]
  },
  {
   "cell_type": "code",
   "execution_count": 32,
   "metadata": {},
   "outputs": [
    {
     "data": {
      "text/plain": [
       "<matplotlib.axes._subplots.AxesSubplot at 0x21955639748>"
      ]
     },
     "execution_count": 32,
     "metadata": {},
     "output_type": "execute_result"
    },
    {
     "data": {
      "image/png": "[encoded data removed]",
      "text/plain": [
       "<Figure size 1152x864 with 2 Axes>"
      ]
     },
     "metadata": {
      "needs_background": "light"
     },
     "output_type": "display_data"
    }
   ],
   "source": [
    "fig, ax = plt.subplots(figsize=(16,12))\n",
    "sns.heatmap(df.drop(['animal_dog', 'binary_outcome_adopted'], 1).corr())"
   ]
  },
  {
   "cell_type": "markdown",
   "metadata": {},
   "source": [
    "### Notes: Cats, no dogs\n",
    "\n",
    "This seems to bring in a nice palette of fairly neutral correlations.\n",
    "\n",
    "# Classification models\n",
    "\n",
    "### We have a wealth of classification tools to try\n",
    "\n",
    "We are going to give several a shot.\n",
    "\n",
    "- Naive Bayes\n",
    "- Logistic Regression\n",
    "- Ridge classification\n",
    "- Lasso classification\n",
    "- K-Nearest Neighbors classification\n",
    "- Decision trees\n",
    "- Random forest classification\n",
    "\n",
    "Later on, with some idea of what is doing well, we will also try other ensemble methods, including voting."
   ]
  },
  {
   "cell_type": "code",
   "execution_count": 33,
   "metadata": {},
   "outputs": [
    {
     "name": "stderr",
     "output_type": "stream",
     "text": [
      "F:\\Anaconda3\\lib\\site-packages\\sklearn\\ensemble\\weight_boosting.py:29: DeprecationWarning: numpy.core.umath_tests is an internal NumPy module and should not be imported. It will be removed in a future NumPy release.\n",
      "  from numpy.core.umath_tests import inner1d\n"
     ]
    }
   ],
   "source": [
    "# Retain a copy of working data\n",
    "df_with_binary_outcome = df.copy()\n",
    "\n",
    "# Import necessary libraries for NB, log_reg, ran_for, knn_c, ensembles, and trees\n",
    "from sklearn.model_selection import train_test_split, cross_val_score, GridSearchCV\n",
    "from sklearn.metrics import confusion_matrix\n",
    "from sklearn.linear_model import LogisticRegression, RidgeClassifier\n",
    "from sklearn.ensemble import RandomForestClassifier, VotingClassifier, GradientBoostingClassifier, AdaBoostClassifier\n",
    "from sklearn.naive_bayes import BernoulliNB, GaussianNB # Bernoulli prefers binary inputs!\n",
    "from sklearn.neighbors import KNeighborsClassifier\n",
    "from sklearn.tree import DecisionTreeClassifier\n",
    "\n",
    "X = df.drop('binary_outcome_adopted', 1)\n",
    "y = df.binary_outcome_adopted\n",
    "X_train, X_test, y_train, y_test = train_test_split(X, y, test_size=0.25, random_state=42)"
   ]
  },
  {
   "cell_type": "code",
   "execution_count": 34,
   "metadata": {},
   "outputs": [
    {
     "name": "stdout",
     "output_type": "stream",
     "text": [
      "Model used: BernoulliNB_clf0 \n",
      "Score: 0.6813557589080312\n",
      "\n",
      "Model used: GaussianNB_clf1 \n",
      "Score: 0.7220489750012781\n",
      "\n",
      "Model used: LogisticRegression_clf2 \n",
      "Score: 0.751188589540412\n",
      "\n",
      "Model used: RidgeClassifier_clf3 \n",
      "Score: 0.7475589182557129\n",
      "\n",
      "Model used: LogisticRegression_clf4 \n",
      "Score: 0.7533868411635397\n",
      "\n",
      "Model used: KNeighborsClassifier_clf5 \n",
      "Score: 0.7519554215019683\n",
      "\n",
      "Model used: DecisionTreeClassifier_clf6 \n",
      "Score: 0.7487858493942028\n",
      "\n",
      "Model used: RandomForestClassifier_clf7 \n",
      "Score: 0.7543581616481775\n",
      "\n",
      "Model used: AdaBoostClassifier_clf8 \n",
      "Score: 0.7776187311487143\n",
      "\n",
      "Model used: GradientBoostingClassifier_clf9 \n",
      "Score: 0.7919329277644293\n",
      "\n",
      "Wall time: 18.6 s\n"
     ]
    }
   ],
   "source": [
    "%%time\n",
    "import re # We will need regular expression tricks clean up results and compare them\n",
    "import time\n",
    "clf_bnb = BernoulliNB()\n",
    "clf_gnb = GaussianNB()\n",
    "clf_log = LogisticRegression(C=1e9) # We need a high alpha value (C) to suppress regularization\n",
    "clf_rdg = RidgeClassifier(alpha=1000) # Using the same alpha value as LASSO - they are inverses\n",
    "clf_las = LogisticRegression(penalty='l1', C=0.001) # This is using LASSO for classification\n",
    "clf_knc = KNeighborsClassifier()\n",
    "clf_tree = DecisionTreeClassifier() # Basic tree\n",
    "# Ensemble methods below\n",
    "clf_rnf = RandomForestClassifier()\n",
    "clf_ada = AdaBoostClassifier()\n",
    "clf_gbc = GradientBoostingClassifier()\n",
    "\n",
    "clf_list = [clf_bnb, clf_gnb, clf_log, clf_rdg, clf_las, clf_knc, clf_tree, clf_rnf, clf_ada, clf_gbc]\n",
    "pred_dict = {}\n",
    "coef_dict = {}\n",
    "\n",
    "for i, clf in enumerate(clf_list):\n",
    "\n",
    "    name = re.split('\\(', str(clf))[0] + '_clf' + str(i)\n",
    "    print('Model used: {} \\nScore: {}\\n'.format(name, clf.fit(X_train, y_train).score(X_test, y_test)))\n",
    "    clf_temp = clf.fit(X_train, y_train)\n",
    "    pred_dict[name] = clf_temp.predict(X_test)\n",
    "    try:\n",
    "        coef_dict[name] = clf.fit(X_train, y_train).coef_\n",
    "    except:\n",
    "        pass"
   ]
  },
  {
   "cell_type": "markdown",
   "metadata": {},
   "source": [
    "### Notes about SVM svc\n",
    "\n",
    "Support vector machines classifier ran *very* slowly. This is probably in line with the notes about it -\n",
    "\n",
    "#### Support vector machines run in quadratic time, and they can suffer with data sets including more than a few ten thousand points.\n",
    "\n",
    "# Models compared\n",
    "\n",
    "### What do model performances tell us?"
   ]
  },
  {
   "cell_type": "code",
   "execution_count": 35,
   "metadata": {
    "scrolled": false
   },
   "outputs": [
    {
     "name": "stdout",
     "output_type": "stream",
     "text": [
      "Coefficients were not so useful, as only -- 4 -- models return them to observe. \n",
      "\n",
      " Model scores:\n"
     ]
    },
    {
     "data": {
      "text/plain": [
       "{'BernoulliNB_clf0': array([0, 1, 0, ..., 1, 0, 0], dtype=int32),\n",
       " 'GaussianNB_clf1': array([0, 1, 0, ..., 1, 1, 1], dtype=int32),\n",
       " 'LogisticRegression_clf2': array([0, 1, 0, ..., 1, 0, 1], dtype=int32),\n",
       " 'RidgeClassifier_clf3': array([0, 1, 0, ..., 1, 0, 1], dtype=int32),\n",
       " 'LogisticRegression_clf4': array([0, 1, 0, ..., 1, 0, 1], dtype=int32),\n",
       " 'KNeighborsClassifier_clf5': array([1, 1, 0, ..., 1, 1, 1], dtype=int32),\n",
       " 'DecisionTreeClassifier_clf6': array([0, 1, 0, ..., 1, 0, 1], dtype=int32),\n",
       " 'RandomForestClassifier_clf7': array([0, 1, 0, ..., 1, 0, 1], dtype=int32),\n",
       " 'AdaBoostClassifier_clf8': array([0, 1, 0, ..., 1, 0, 1], dtype=int32),\n",
       " 'GradientBoostingClassifier_clf9': array([0, 1, 0, ..., 1, 0, 1], dtype=int32)}"
      ]
     },
     "execution_count": 35,
     "metadata": {},
     "output_type": "execute_result"
    }
   ],
   "source": [
    "print('Coefficients were not so useful, as only -- {} -- models return them to observe. \\n\\n Model scores:'\n",
    "      .format(len(coef_dict)))\n",
    "pred_dict"
   ]
  },
  {
   "cell_type": "markdown",
   "metadata": {},
   "source": [
    "### Outcomes\n",
    "\n",
    "The outcomes look consistent. Let's graph the confusion matrix results.\n",
    "\n",
    "### Confusion matrices compared:\n",
    "\n",
    "Below, we have the outputs of confusion matrices for each model's performance."
   ]
  },
  {
   "cell_type": "code",
   "execution_count": 36,
   "metadata": {},
   "outputs": [
    {
     "data": {
      "text/plain": [
       "<matplotlib.axes._subplots.AxesSubplot at 0x2195c361dd8>"
      ]
     },
     "execution_count": 36,
     "metadata": {},
     "output_type": "execute_result"
    },
    {
     "data": {
      "image/png": "[encoded data removed]",
      "text/plain": [
       "<Figure size 1152x864 with 1 Axes>"
      ]
     },
     "metadata": {
      "needs_background": "light"
     },
     "output_type": "display_data"
    }
   ],
   "source": [
    "df_con = pd.DataFrame(np.array([(confusion_matrix(y_test, pred_dict[key]).ravel()) for key in pred_dict.keys()]),\n",
    "             index=pred_dict.keys(), columns=['True Negative', 'False Positive', 'False Negative', 'True Positive'])\n",
    "\n",
    "df_con.plot(kind='bar', figsize=(16,12))"
   ]
  },
  {
   "cell_type": "markdown",
   "metadata": {},
   "source": [
    "### Notes: Confusion matrices comparisons\n",
    "\n",
    "Ultimately, I think building an ensemble of well-performing models will make easy work of the predictions.\n",
    "\n",
    "1. GaussianNB\n",
    "    - This model is doing a *great* job of avoiding false negatives and identifying true positives.\n",
    "\n",
    "\n",
    "2. DecisionTree\n",
    "    - This model is doing surprisingly well as a single tree - particularly in the true negative category.\n",
    "\n",
    "\n",
    "3. LASSO classification\n",
    "    - It might be advisable to use Lasso for voting ensembles, as it is eliminating noise and offers a very different approach. Its numbers aren't too shabby either.\n",
    "    \n",
    "#### GradientBoosting performed quite well out of the box. Since this is an ensemble approach, we'll skip over it for now.\n",
    "\n",
    "# GridSearch to optimize models\n",
    "\n",
    "We will begin with optimizing the models that are doing well already - as mentioned above: GaussianNB, DecisionTree, and LASSO."
   ]
  },
  {
   "cell_type": "code",
   "execution_count": 37,
   "metadata": {},
   "outputs": [
    {
     "name": "stderr",
     "output_type": "stream",
     "text": [
      "F:\\Anaconda3\\lib\\site-packages\\sklearn\\linear_model\\sag.py:326: ConvergenceWarning: The max_iter was reached which means the coef_ did not converge\n",
      "  \"the coef_ did not converge\", ConvergenceWarning)\n",
      "F:\\Anaconda3\\lib\\site-packages\\sklearn\\linear_model\\sag.py:326: ConvergenceWarning: The max_iter was reached which means the coef_ did not converge\n",
      "  \"the coef_ did not converge\", ConvergenceWarning)\n",
      "F:\\Anaconda3\\lib\\site-packages\\sklearn\\linear_model\\sag.py:326: ConvergenceWarning: The max_iter was reached which means the coef_ did not converge\n",
      "  \"the coef_ did not converge\", ConvergenceWarning)\n",
      "F:\\Anaconda3\\lib\\site-packages\\sklearn\\linear_model\\sag.py:326: ConvergenceWarning: The max_iter was reached which means the coef_ did not converge\n",
      "  \"the coef_ did not converge\", ConvergenceWarning)\n",
      "F:\\Anaconda3\\lib\\site-packages\\sklearn\\linear_model\\sag.py:326: ConvergenceWarning: The max_iter was reached which means the coef_ did not converge\n",
      "  \"the coef_ did not converge\", ConvergenceWarning)\n",
      "F:\\Anaconda3\\lib\\site-packages\\sklearn\\linear_model\\sag.py:326: ConvergenceWarning: The max_iter was reached which means the coef_ did not converge\n",
      "  \"the coef_ did not converge\", ConvergenceWarning)\n",
      "F:\\Anaconda3\\lib\\site-packages\\sklearn\\linear_model\\sag.py:326: ConvergenceWarning: The max_iter was reached which means the coef_ did not converge\n",
      "  \"the coef_ did not converge\", ConvergenceWarning)\n",
      "F:\\Anaconda3\\lib\\site-packages\\sklearn\\linear_model\\sag.py:326: ConvergenceWarning: The max_iter was reached which means the coef_ did not converge\n",
      "  \"the coef_ did not converge\", ConvergenceWarning)\n",
      "F:\\Anaconda3\\lib\\site-packages\\sklearn\\linear_model\\sag.py:326: ConvergenceWarning: The max_iter was reached which means the coef_ did not converge\n",
      "  \"the coef_ did not converge\", ConvergenceWarning)\n",
      "F:\\Anaconda3\\lib\\site-packages\\sklearn\\linear_model\\sag.py:326: ConvergenceWarning: The max_iter was reached which means the coef_ did not converge\n",
      "  \"the coef_ did not converge\", ConvergenceWarning)\n",
      "F:\\Anaconda3\\lib\\site-packages\\sklearn\\linear_model\\sag.py:326: ConvergenceWarning: The max_iter was reached which means the coef_ did not converge\n",
      "  \"the coef_ did not converge\", ConvergenceWarning)\n",
      "F:\\Anaconda3\\lib\\site-packages\\sklearn\\linear_model\\sag.py:326: ConvergenceWarning: The max_iter was reached which means the coef_ did not converge\n",
      "  \"the coef_ did not converge\", ConvergenceWarning)\n",
      "F:\\Anaconda3\\lib\\site-packages\\sklearn\\linear_model\\sag.py:326: ConvergenceWarning: The max_iter was reached which means the coef_ did not converge\n",
      "  \"the coef_ did not converge\", ConvergenceWarning)\n",
      "F:\\Anaconda3\\lib\\site-packages\\sklearn\\linear_model\\sag.py:326: ConvergenceWarning: The max_iter was reached which means the coef_ did not converge\n",
      "  \"the coef_ did not converge\", ConvergenceWarning)\n",
      "F:\\Anaconda3\\lib\\site-packages\\sklearn\\linear_model\\sag.py:326: ConvergenceWarning: The max_iter was reached which means the coef_ did not converge\n",
      "  \"the coef_ did not converge\", ConvergenceWarning)\n",
      "F:\\Anaconda3\\lib\\site-packages\\sklearn\\linear_model\\sag.py:326: ConvergenceWarning: The max_iter was reached which means the coef_ did not converge\n",
      "  \"the coef_ did not converge\", ConvergenceWarning)\n",
      "F:\\Anaconda3\\lib\\site-packages\\sklearn\\linear_model\\sag.py:326: ConvergenceWarning: The max_iter was reached which means the coef_ did not converge\n",
      "  \"the coef_ did not converge\", ConvergenceWarning)\n",
      "F:\\Anaconda3\\lib\\site-packages\\sklearn\\linear_model\\sag.py:326: ConvergenceWarning: The max_iter was reached which means the coef_ did not converge\n",
      "  \"the coef_ did not converge\", ConvergenceWarning)\n",
      "F:\\Anaconda3\\lib\\site-packages\\sklearn\\linear_model\\sag.py:326: ConvergenceWarning: The max_iter was reached which means the coef_ did not converge\n",
      "  \"the coef_ did not converge\", ConvergenceWarning)\n",
      "F:\\Anaconda3\\lib\\site-packages\\sklearn\\linear_model\\sag.py:326: ConvergenceWarning: The max_iter was reached which means the coef_ did not converge\n",
      "  \"the coef_ did not converge\", ConvergenceWarning)\n"
     ]
    }
   ],
   "source": [
    "clf_gnb = GaussianNB()\n",
    "clf_tree = DecisionTreeClassifier()\n",
    "clf_las = LogisticRegression()\n",
    "\n",
    "gnb_params = {'var_smoothing': [1e-10, 1e-9, 1e-8]} # This only works with specified priors\n",
    "tree_params = {'criterion': ['gini', 'entropy'], 'max_depth': [2, 3, 4, None]}\n",
    "las_params = {'penalty': ['l1'], 'C': [1, 1e-1, 1e-2, 1e-3], 'solver': ['liblinear', 'saga']}\n",
    "\n",
    "#GridSearchCV(clf_gnb, gnb_params, cv=5).fit(X_train, y_train)\n",
    "grid_tree = GridSearchCV(clf_tree, tree_params, cv=5).fit(X_train, y_train)\n",
    "grid_las = GridSearchCV(clf_las, las_params, cv=5).fit(X_train, y_train)"
   ]
  },
  {
   "cell_type": "code",
   "execution_count": 38,
   "metadata": {},
   "outputs": [
    {
     "name": "stdout",
     "output_type": "stream",
     "text": [
      "Decision tree results:\n"
     ]
    },
    {
     "data": {
      "text/plain": [
       "{'criterion': 'gini', 'max_depth': 4}"
      ]
     },
     "metadata": {},
     "output_type": "display_data"
    },
    {
     "data": {
      "text/plain": [
       "0.7644252070481579"
      ]
     },
     "metadata": {},
     "output_type": "display_data"
    },
    {
     "name": "stdout",
     "output_type": "stream",
     "text": [
      "\n",
      "LASSO results:\n"
     ]
    },
    {
     "data": {
      "text/plain": [
       "{'C': 0.001, 'penalty': 'l1', 'solver': 'liblinear'}"
      ]
     },
     "metadata": {},
     "output_type": "display_data"
    },
    {
     "data": {
      "text/plain": [
       "0.752274973586449"
      ]
     },
     "metadata": {},
     "output_type": "display_data"
    }
   ],
   "source": [
    "print('Decision tree results:')\n",
    "display(grid_tree.best_params_)\n",
    "display(grid_tree.best_score_)\n",
    "print('\\nLASSO results:')\n",
    "display(grid_las.best_params_)\n",
    "display(grid_las.best_score_)"
   ]
  },
  {
   "cell_type": "markdown",
   "metadata": {},
   "source": [
    "### Notes: Tuned hyperparameters\n",
    "\n",
    "We aren't seeing significant changes here - it's back to the drawing board. We can beat the GradientBoostingClassifier an AdaBoostClassifier somehow. *Also note we can not tune Naive Bayes in this context - no priors exist.*\n",
    "\n",
    "# Feature tuning: Two more ideas\n",
    "\n",
    "### 1. Colors: other\n",
    "\n",
    "Let's introduce the colors_other into the model; we lost some information discarding that.\n",
    "\n",
    "### 2. Multiclass\n",
    "\n",
    "Perhaps the grouping of adopted versus all was a bad choice. After all, returned to owner and euthanized could be quite different in their characteristics."
   ]
  },
  {
   "cell_type": "code",
   "execution_count": 39,
   "metadata": {
    "scrolled": true
   },
   "outputs": [
    {
     "data": {
      "text/plain": [
       "0    74925\n",
       "1     3318\n",
       "Name: color_others, dtype: int64"
      ]
     },
     "execution_count": 39,
     "metadata": {},
     "output_type": "execute_result"
    }
   ],
   "source": [
    "# 1. Introducing other colors back into the mix.\n",
    "df['color_others'] = 0\n",
    "df.loc[color_others.index, 'color_others'] = 1\n",
    "df.color_others.value_counts()"
   ]
  },
  {
   "cell_type": "code",
   "execution_count": 40,
   "metadata": {},
   "outputs": [
    {
     "name": "stderr",
     "output_type": "stream",
     "text": [
      "F:\\Anaconda3\\lib\\site-packages\\ipykernel_launcher.py:3: UserWarning: Boolean Series key will be reindexed to match DataFrame index.\n",
      "  This is separate from the ipykernel package so we can avoid doing imports until\n"
     ]
    },
    {
     "data": {
      "text/plain": [
       "1    33112\n",
       "0    23499\n",
       "3    14353\n",
       "2     7279\n",
       "Name: outcome_type_int, dtype: int64"
      ]
     },
     "execution_count": 40,
     "metadata": {},
     "output_type": "execute_result"
    }
   ],
   "source": [
    "# 2. We are going to replace outcome_binary with a outcome multiclass.\n",
    "outcome_other = df[(df2.outcome_type == 'Euthanasia') | (df2.outcome_type == 'Died') | (df2.outcome_type == 'Disposal')\n",
    "                 | (df2.outcome_type == 'Rto-Adopt') | (df2.outcome_type == 'Missing') | (df2.outcome_type == 'Relocate')].index\n",
    "\n",
    "df['outcome_type'] = df2.loc[df.index, 'outcome_type']\n",
    "df.loc[outcome_other, 'outcome_type'] = 'Other'\n",
    "outcome_ints = pd.factorize(df.outcome_type)\n",
    "df['outcome_type_int'] = outcome_ints[0]\n",
    "df.drop(['outcome_type', 'binary_outcome_adopted'], 1, inplace=True)\n",
    "df.outcome_type_int.value_counts()"
   ]
  },
  {
   "cell_type": "markdown",
   "metadata": {},
   "source": [
    "# Cleaned up\n",
    "\n",
    "### Our data set now has a multi class outcome and more color options included."
   ]
  },
  {
   "cell_type": "code",
   "execution_count": 41,
   "metadata": {
    "scrolled": false
   },
   "outputs": [
    {
     "name": "stdout",
     "output_type": "stream",
     "text": [
      "Gaussian\n"
     ]
    },
    {
     "data": {
      "text/plain": [
       "0.505240018403967"
      ]
     },
     "metadata": {},
     "output_type": "display_data"
    },
    {
     "name": "stdout",
     "output_type": "stream",
     "text": [
      "Bernoulli\n"
     ]
    },
    {
     "data": {
      "text/plain": [
       "0.5610653852052554"
      ]
     },
     "metadata": {},
     "output_type": "display_data"
    },
    {
     "name": "stdout",
     "output_type": "stream",
     "text": [
      "Decision Tree\n"
     ]
    },
    {
     "data": {
      "text/plain": [
       "0.6133633249833853"
      ]
     },
     "metadata": {},
     "output_type": "display_data"
    },
    {
     "name": "stdout",
     "output_type": "stream",
     "text": [
      "Random Forest\n"
     ]
    },
    {
     "data": {
      "text/plain": [
       "0.6290066969991309"
      ]
     },
     "metadata": {},
     "output_type": "display_data"
    },
    {
     "name": "stdout",
     "output_type": "stream",
     "text": [
      "Ridge\n"
     ]
    },
    {
     "data": {
      "text/plain": [
       "0.638362046930116"
      ]
     },
     "metadata": {},
     "output_type": "display_data"
    },
    {
     "name": "stdout",
     "output_type": "stream",
     "text": [
      "K Neighbors\n"
     ]
    },
    {
     "data": {
      "text/plain": [
       "0.6540054189458616"
      ]
     },
     "metadata": {},
     "output_type": "display_data"
    },
    {
     "name": "stdout",
     "output_type": "stream",
     "text": [
      "LASSO\n"
     ]
    },
    {
     "data": {
      "text/plain": [
       "0.7078370226471039"
      ]
     },
     "metadata": {},
     "output_type": "display_data"
    }
   ],
   "source": [
    "from sklearn.metrics import f1_score\n",
    "\n",
    "X = df.drop('outcome_type_int', 1)\n",
    "y = df.outcome_type_int\n",
    "\n",
    "X_train, X_test, y_train, y_test = train_test_split(X, y, test_size=0.25)\n",
    "\n",
    "clf_gnb = GaussianNB()\n",
    "print('Gaussian')\n",
    "display(clf_gnb.fit(X_train, y_train).score(X_test, y_test))\n",
    "\n",
    "clf_bnb = BernoulliNB()\n",
    "print('Bernoulli')\n",
    "display(clf_bnb.fit(X_train, y_train).score(X_test, y_test))\n",
    "\n",
    "clf_tree = DecisionTreeClassifier(class_weight='balanced')\n",
    "print('Decision Tree')\n",
    "display(clf_tree.fit(X_train, y_train).score(X_test, y_test))\n",
    "\n",
    "clf_rfc = RandomForestClassifier(class_weight='balanced')\n",
    "print('Random Forest')\n",
    "display(clf_rfc.fit(X_train, y_train).score(X_test, y_test))\n",
    "\n",
    "clf_rdg = RidgeClassifier()\n",
    "print('Ridge')\n",
    "display(clf_rdg.fit(X_train, y_train).score(X_test, y_test))\n",
    "\n",
    "clf_knc = KNeighborsClassifier()\n",
    "print('K Neighbors')\n",
    "display(clf_knc.fit(X_train, y_train).score(X_test, y_test))\n",
    "\n",
    "clf_l1 = LogisticRegression(penalty='l1', C=0.001, class_weight='balanced')\n",
    "print('LASSO')\n",
    "display(clf.fit(X_train, y_train).score(X_test, y_test))"
   ]
  },
  {
   "cell_type": "markdown",
   "metadata": {},
   "source": [
    "# Strongest of the bunch\n",
    "\n",
    "### Random forest, K Neighbors, and LASSO are doing quite well\n",
    "\n",
    "Let's remember that in a four-way classification problem, scores above 25 percent are doing better than merely guessing. So, despite lower scores here, the models aren't bad.\n",
    "\n",
    "LASSO is performing *exceptionally* well, so this is probably the model to choose, but let's tune what we can with the three strongest."
   ]
  },
  {
   "cell_type": "code",
   "execution_count": 42,
   "metadata": {},
   "outputs": [
    {
     "name": "stdout",
     "output_type": "stream",
     "text": [
      "Random forest classifier\n"
     ]
    },
    {
     "data": {
      "text/plain": [
       "{'class_weight': None, 'n_estimators': 50}"
      ]
     },
     "metadata": {},
     "output_type": "display_data"
    },
    {
     "data": {
      "text/plain": [
       "0.627892709859923"
      ]
     },
     "metadata": {},
     "output_type": "display_data"
    },
    {
     "name": "stdout",
     "output_type": "stream",
     "text": [
      "\n",
      "K neighbors classifier\n"
     ]
    },
    {
     "data": {
      "text/plain": [
       "{'n_neighbors': 5, 'weights': 'uniform'}"
      ]
     },
     "metadata": {},
     "output_type": "display_data"
    },
    {
     "data": {
      "text/plain": [
       "0.6499096826965679"
      ]
     },
     "metadata": {},
     "output_type": "display_data"
    },
    {
     "name": "stdout",
     "output_type": "stream",
     "text": [
      "\n",
      "LASSO classification\n"
     ]
    },
    {
     "data": {
      "text/plain": [
       "{'C': 0.1, 'class_weight': 'balanced'}"
      ]
     },
     "metadata": {},
     "output_type": "display_data"
    },
    {
     "data": {
      "text/plain": [
       "0.6551923928973109"
      ]
     },
     "metadata": {},
     "output_type": "display_data"
    }
   ],
   "source": [
    "params_rfc = {'n_estimators': [10, 50, 100], 'class_weight': ['balanced', None]}\n",
    "params_knc = {'weights': ['uniform', 'distance'], 'n_neighbors': [2, 3, 4, 5]}\n",
    "params_l1 = {'C': [1e-1, 1e-2, 1e-3, 5e-3, 1e-4], 'class_weight': ['balanced', None]}\n",
    "\n",
    "grid_rfc = GridSearchCV(clf_rfc, params_rfc, cv=5).fit(X_train, y_train)\n",
    "grid_knc = GridSearchCV(clf_knc, params_knc, cv=5).fit(X_train, y_train)\n",
    "grid_l1 = GridSearchCV(clf_l1, params_l1, cv=5).fit(X_train, y_train)\n",
    "\n",
    "print('Random forest classifier')\n",
    "display(grid_rfc.best_params_)\n",
    "display(grid_rfc.best_score_)\n",
    "print('\\nK neighbors classifier')\n",
    "display(grid_knc.best_params_)\n",
    "display(grid_knc.best_score_)\n",
    "print('\\nLASSO classification')\n",
    "display(grid_l1.best_params_)\n",
    "display(grid_l1.best_score_)"
   ]
  },
  {
   "cell_type": "code",
   "execution_count": 43,
   "metadata": {},
   "outputs": [
    {
     "data": {
      "text/plain": [
       "0.6391331690735352"
      ]
     },
     "metadata": {},
     "output_type": "display_data"
    },
    {
     "data": {
      "text/plain": [
       "0.6485366251902928"
      ]
     },
     "metadata": {},
     "output_type": "display_data"
    },
    {
     "data": {
      "text/plain": [
       "0.6448840527955034"
      ]
     },
     "metadata": {},
     "output_type": "display_data"
    }
   ],
   "source": [
    "y_rfc = RandomForestClassifier(n_estimators=50, class_weight=None).fit(X_train, y_train).predict(X_test)\n",
    "y_knc = KNeighborsClassifier(n_neighbors=5, weights='uniform').fit(X_train, y_train).predict(X_test)\n",
    "y_l1 = LogisticRegression(C=5e-3, class_weight='balanced').fit(X_train, y_train).predict(X_test)\n",
    "\n",
    "display(f1_score(y_test, y_rfc, average='weighted'))\n",
    "display(f1_score(y_test, y_knc, average='weighted'))\n",
    "display(f1_score(y_test, y_l1, average='weighted'))"
   ]
  },
  {
   "cell_type": "markdown",
   "metadata": {},
   "source": [
    "# Interpreting f1 scores\n",
    "\n",
    "### Multiclass scores\n",
    "\n",
    "F1 scores are effective at telling us the power of accuracy and recall across the model. \n",
    "\n",
    "$$f = 2 * (p * r) / (p + r)$$\n",
    "\n",
    "Where f represents the f1 score, p the precision, and r the recall.\n",
    "\n",
    "In the case of the multiclass labels, we have to use an averaging method to calculate the score. F1 scores will be calculated for each class, and we can find a better metric of the holistic performance. The confusion matrix below shows the values:"
   ]
  },
  {
   "cell_type": "code",
   "execution_count": 44,
   "metadata": {},
   "outputs": [
    {
     "data": {
      "text/plain": [
       "array([[3522, 1759,  156,  412],\n",
       "       [1035, 6534,   34,  633],\n",
       "       [ 434,  261,  973,  161],\n",
       "       [ 536, 1283,   64, 1764]], dtype=int64)"
      ]
     },
     "execution_count": 44,
     "metadata": {},
     "output_type": "execute_result"
    }
   ],
   "source": [
    "confusion_matrix(y_test, y_knc)"
   ]
  },
  {
   "cell_type": "markdown",
   "metadata": {},
   "source": [
    "### K Nearest Neighbors\n",
    "\n",
    "From these results, it looks like the KNeighborsClassifier performed better on average; it maintained across different metrics. Given these figures, it is the single model I would select based on this performance. (Looks like I was wrong about LASSO.)\n",
    "\n",
    "However, we have not revisited the ensemble methods that did so well on binary classification. Let's see how the GradientBoostingClassifier performs on our multiclass problem."
   ]
  },
  {
   "cell_type": "code",
   "execution_count": 45,
   "metadata": {},
   "outputs": [
    {
     "data": {
      "text/plain": [
       "0.7078370226471039"
      ]
     },
     "execution_count": 45,
     "metadata": {},
     "output_type": "execute_result"
    }
   ],
   "source": [
    "clf_gbc = GradientBoostingClassifier()\n",
    "clf_gbc.fit(X_train, y_train).score(X_test, y_test)"
   ]
  },
  {
   "cell_type": "code",
   "execution_count": 46,
   "metadata": {},
   "outputs": [
    {
     "data": {
      "text/plain": [
       "0.7010530536066961"
      ]
     },
     "execution_count": 46,
     "metadata": {},
     "output_type": "execute_result"
    }
   ],
   "source": [
    "y_gbc = clf_gbc.fit(X_train, y_train).predict(X_test)\n",
    "f1_score(y_test, y_gbc, average='weighted')"
   ]
  },
  {
   "cell_type": "code",
   "execution_count": 47,
   "metadata": {},
   "outputs": [
    {
     "data": {
      "image/png": "[encoded data removed]",
      "text/plain": [
       "<Figure size 1152x648 with 1 Axes>"
      ]
     },
     "metadata": {
      "needs_background": "light"
     },
     "output_type": "display_data"
    }
   ],
   "source": [
    "# Slightly but hardly modified feature graphing - taken from Thinkful supervised learning\n",
    "feature_importance = clf.feature_importances_\n",
    "feature_importance = 100.0 * (feature_importance / feature_importance.max())\n",
    "sorted_idx = np.argsort(feature_importance)\n",
    "pos = np.arange(sorted_idx.shape[0]) + .5\n",
    "plt.subplots(figsize=(16, 9))\n",
    "plt.barh(pos, feature_importance[sorted_idx], align='center')\n",
    "plt.yticks(pos, X.columns[sorted_idx])\n",
    "plt.xlabel('Relative Importance')\n",
    "plt.title('Variable Importance')\n",
    "plt.show()"
   ]
  },
  {
   "cell_type": "markdown",
   "metadata": {},
   "source": [
    "### Notes: Feature importances - Gradient Boosting\n",
    "\n",
    "As it is not a complete black box, we are able to compare the predictive and explanatory power of features. Above we can see that the featured 'days_old' feature turned out to be strongest, by a landslide. Others we suspected to be important, such as 'fixed_binary', came in second. In third, we can see that animals without names were consistently connected in outcome groups. This is interesting indeed.\n",
    "\n",
    "# Ensembles still stronger\n",
    "\n",
    "### K-Neighbors\n",
    "\n",
    "The K-Neighbors classifier performed at about 0.65 for the multi-class classification problem. This seems to be pretty great in comparison to the ensemble score, which is only 0.05 or so stronger.\n",
    "\n",
    "### Gradient Boosting Classifier\n",
    "\n",
    "This ensemble classifier certainly beat the single model, which is to be expected - its performance sitting right around 0.70. There might exist a theroetical performance ceiling somewhere along the way. At some point, improving scores without overfitting won't happen.\n",
    "\n",
    "# Explanatory versus predictive powers\n",
    "\n",
    "### Gradient boosting (semi-black box) or KNC with explanation?\n",
    "\n",
    "Both models are doing quite well at predictions, with the ensemble taking the lead. It has the upper hand in pure prediction, but what does it tell us? What does it help to explain? It is lacking in this department, and doesn't give us the keys to know tons about our information. We can deduce a little about feature importances by pulling out the feature_importances_ method from the model - but this as far as we can see. On the other hand, K-Neighbors will give us a glimpse of what is happening in the background.\n",
    "\n",
    "With these two models as the finalists, we now have one reasoning the outcome and another handling pure predictions well."
   ]
  }
 ],
 "metadata": {
  "kernelspec": {
   "display_name": "Python 3",
   "language": "python",
   "name": "python3"
  },
  "language_info": {
   "codemirror_mode": {
    "name": "ipython",
    "version": 3
   },
   "file_extension": ".py",
   "mimetype": "text/x-python",
   "name": "python",
   "nbconvert_exporter": "python",
   "pygments_lexer": "ipython3",
   "version": "3.7.1"
  }
 },
 "nbformat": 4,
 "nbformat_minor": 2
}
