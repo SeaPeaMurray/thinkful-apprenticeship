{
 "cells": [
  {
   "cell_type": "markdown",
   "metadata": {},
   "source": [
    "# Improving a gradient boosting classifier"
   ]
  },
  {
   "cell_type": "code",
   "execution_count": 32,
   "metadata": {},
   "outputs": [],
   "source": [
    "import numpy as np\n",
    "import pandas as pd\n",
    "import matplotlib.pyplot as plt\n",
    "import seaborn as sns\n",
    "from sklearn.ensemble import GradientBoostingClassifier\n",
    "from sklearn.model_selection import train_test_split\n",
    "from sklearn.model_selection import GridSearchCV\n",
    "from sklearn.model_selection import cross_val_score\n",
    "from sklearn.metrics import confusion_matrix\n",
    "\n",
    "%matplotlib inline\n",
    "sns.set_style('whitegrid')"
   ]
  },
  {
   "cell_type": "code",
   "execution_count": 15,
   "metadata": {},
   "outputs": [
    {
     "data": {
      "text/html": [
       "<div>\n",
       "<style scoped>\n",
       "    .dataframe tbody tr th:only-of-type {\n",
       "        vertical-align: middle;\n",
       "    }\n",
       "\n",
       "    .dataframe tbody tr th {\n",
       "        vertical-align: top;\n",
       "    }\n",
       "\n",
       "    .dataframe thead th {\n",
       "        text-align: right;\n",
       "    }\n",
       "</style>\n",
       "<table border=\"1\" class=\"dataframe\">\n",
       "  <thead>\n",
       "    <tr style=\"text-align: right;\">\n",
       "      <th></th>\n",
       "      <th>cntry</th>\n",
       "      <th>idno</th>\n",
       "      <th>year</th>\n",
       "      <th>tvtot</th>\n",
       "      <th>ppltrst</th>\n",
       "      <th>pplfair</th>\n",
       "      <th>pplhlp</th>\n",
       "      <th>happy</th>\n",
       "      <th>sclmeet</th>\n",
       "      <th>sclact</th>\n",
       "      <th>gndr</th>\n",
       "      <th>agea</th>\n",
       "      <th>partner</th>\n",
       "    </tr>\n",
       "  </thead>\n",
       "  <tbody>\n",
       "    <tr>\n",
       "      <th>0</th>\n",
       "      <td>CH</td>\n",
       "      <td>5.0</td>\n",
       "      <td>6</td>\n",
       "      <td>3.0</td>\n",
       "      <td>3.0</td>\n",
       "      <td>10.0</td>\n",
       "      <td>5.0</td>\n",
       "      <td>8.0</td>\n",
       "      <td>5.0</td>\n",
       "      <td>4.0</td>\n",
       "      <td>2.0</td>\n",
       "      <td>60.0</td>\n",
       "      <td>1.0</td>\n",
       "    </tr>\n",
       "    <tr>\n",
       "      <th>1</th>\n",
       "      <td>CH</td>\n",
       "      <td>25.0</td>\n",
       "      <td>6</td>\n",
       "      <td>6.0</td>\n",
       "      <td>5.0</td>\n",
       "      <td>7.0</td>\n",
       "      <td>5.0</td>\n",
       "      <td>9.0</td>\n",
       "      <td>3.0</td>\n",
       "      <td>2.0</td>\n",
       "      <td>2.0</td>\n",
       "      <td>59.0</td>\n",
       "      <td>1.0</td>\n",
       "    </tr>\n",
       "    <tr>\n",
       "      <th>2</th>\n",
       "      <td>CH</td>\n",
       "      <td>26.0</td>\n",
       "      <td>6</td>\n",
       "      <td>1.0</td>\n",
       "      <td>8.0</td>\n",
       "      <td>8.0</td>\n",
       "      <td>8.0</td>\n",
       "      <td>7.0</td>\n",
       "      <td>6.0</td>\n",
       "      <td>3.0</td>\n",
       "      <td>1.0</td>\n",
       "      <td>24.0</td>\n",
       "      <td>2.0</td>\n",
       "    </tr>\n",
       "    <tr>\n",
       "      <th>3</th>\n",
       "      <td>CH</td>\n",
       "      <td>28.0</td>\n",
       "      <td>6</td>\n",
       "      <td>4.0</td>\n",
       "      <td>6.0</td>\n",
       "      <td>6.0</td>\n",
       "      <td>7.0</td>\n",
       "      <td>10.0</td>\n",
       "      <td>6.0</td>\n",
       "      <td>2.0</td>\n",
       "      <td>2.0</td>\n",
       "      <td>64.0</td>\n",
       "      <td>1.0</td>\n",
       "    </tr>\n",
       "    <tr>\n",
       "      <th>4</th>\n",
       "      <td>CH</td>\n",
       "      <td>29.0</td>\n",
       "      <td>6</td>\n",
       "      <td>5.0</td>\n",
       "      <td>6.0</td>\n",
       "      <td>7.0</td>\n",
       "      <td>5.0</td>\n",
       "      <td>8.0</td>\n",
       "      <td>7.0</td>\n",
       "      <td>2.0</td>\n",
       "      <td>2.0</td>\n",
       "      <td>55.0</td>\n",
       "      <td>1.0</td>\n",
       "    </tr>\n",
       "  </tbody>\n",
       "</table>\n",
       "</div>"
      ],
      "text/plain": [
       "  cntry  idno  year  tvtot  ppltrst  pplfair  pplhlp  happy  sclmeet  sclact  \\\n",
       "0    CH   5.0     6    3.0      3.0     10.0     5.0    8.0      5.0     4.0   \n",
       "1    CH  25.0     6    6.0      5.0      7.0     5.0    9.0      3.0     2.0   \n",
       "2    CH  26.0     6    1.0      8.0      8.0     8.0    7.0      6.0     3.0   \n",
       "3    CH  28.0     6    4.0      6.0      6.0     7.0   10.0      6.0     2.0   \n",
       "4    CH  29.0     6    5.0      6.0      7.0     5.0    8.0      7.0     2.0   \n",
       "\n",
       "   gndr  agea  partner  \n",
       "0   2.0  60.0      1.0  \n",
       "1   2.0  59.0      1.0  \n",
       "2   1.0  24.0      2.0  \n",
       "3   2.0  64.0      1.0  \n",
       "4   2.0  55.0      1.0  "
      ]
     },
     "execution_count": 15,
     "metadata": {},
     "output_type": "execute_result"
    }
   ],
   "source": [
    "df = pd.read_csv((\n",
    "    \"https://raw.githubusercontent.com/Thinkful-Ed/data-201-resources/\"\n",
    "    \"master/ESS_practice_data/ESSdata_Thinkful.csv\")).dropna()\n",
    "df.head()"
   ]
  },
  {
   "cell_type": "code",
   "execution_count": 3,
   "metadata": {},
   "outputs": [
    {
     "data": {
      "text/plain": [
       "ES    2292\n",
       "SE    1726\n",
       "CH    1475\n",
       "NO    1420\n",
       "CZ    1207\n",
       "DE      27\n",
       "Name: cntry, dtype: int64"
      ]
     },
     "execution_count": 3,
     "metadata": {},
     "output_type": "execute_result"
    }
   ],
   "source": [
    "df.cntry.value_counts()"
   ]
  },
  {
   "cell_type": "code",
   "execution_count": 16,
   "metadata": {},
   "outputs": [],
   "source": [
    "df['partner'] = df.partner - 1\n",
    "df['gndr'] = df.gndr - 1"
   ]
  },
  {
   "cell_type": "markdown",
   "metadata": {},
   "source": [
    "#### Notes: Dummies\n",
    "\n",
    "We can generate dummy features for the countries listed."
   ]
  },
  {
   "cell_type": "code",
   "execution_count": 17,
   "metadata": {},
   "outputs": [],
   "source": [
    "df = pd.concat([df, pd.get_dummies(df.cntry, prefix='cntry')], 1).drop('cntry', 1)"
   ]
  },
  {
   "cell_type": "code",
   "execution_count": 18,
   "metadata": {},
   "outputs": [
    {
     "data": {
      "text/html": [
       "<div>\n",
       "<style scoped>\n",
       "    .dataframe tbody tr th:only-of-type {\n",
       "        vertical-align: middle;\n",
       "    }\n",
       "\n",
       "    .dataframe tbody tr th {\n",
       "        vertical-align: top;\n",
       "    }\n",
       "\n",
       "    .dataframe thead th {\n",
       "        text-align: right;\n",
       "    }\n",
       "</style>\n",
       "<table border=\"1\" class=\"dataframe\">\n",
       "  <thead>\n",
       "    <tr style=\"text-align: right;\">\n",
       "      <th></th>\n",
       "      <th>idno</th>\n",
       "      <th>year</th>\n",
       "      <th>tvtot</th>\n",
       "      <th>ppltrst</th>\n",
       "      <th>pplfair</th>\n",
       "      <th>pplhlp</th>\n",
       "      <th>happy</th>\n",
       "      <th>sclmeet</th>\n",
       "      <th>sclact</th>\n",
       "      <th>gndr</th>\n",
       "      <th>agea</th>\n",
       "      <th>partner</th>\n",
       "      <th>cntry_CH</th>\n",
       "      <th>cntry_CZ</th>\n",
       "      <th>cntry_DE</th>\n",
       "      <th>cntry_ES</th>\n",
       "      <th>cntry_NO</th>\n",
       "      <th>cntry_SE</th>\n",
       "    </tr>\n",
       "  </thead>\n",
       "  <tbody>\n",
       "    <tr>\n",
       "      <th>0</th>\n",
       "      <td>5.0</td>\n",
       "      <td>6</td>\n",
       "      <td>3.0</td>\n",
       "      <td>3.0</td>\n",
       "      <td>10.0</td>\n",
       "      <td>5.0</td>\n",
       "      <td>8.0</td>\n",
       "      <td>5.0</td>\n",
       "      <td>4.0</td>\n",
       "      <td>1.0</td>\n",
       "      <td>60.0</td>\n",
       "      <td>0.0</td>\n",
       "      <td>1</td>\n",
       "      <td>0</td>\n",
       "      <td>0</td>\n",
       "      <td>0</td>\n",
       "      <td>0</td>\n",
       "      <td>0</td>\n",
       "    </tr>\n",
       "    <tr>\n",
       "      <th>1</th>\n",
       "      <td>25.0</td>\n",
       "      <td>6</td>\n",
       "      <td>6.0</td>\n",
       "      <td>5.0</td>\n",
       "      <td>7.0</td>\n",
       "      <td>5.0</td>\n",
       "      <td>9.0</td>\n",
       "      <td>3.0</td>\n",
       "      <td>2.0</td>\n",
       "      <td>1.0</td>\n",
       "      <td>59.0</td>\n",
       "      <td>0.0</td>\n",
       "      <td>1</td>\n",
       "      <td>0</td>\n",
       "      <td>0</td>\n",
       "      <td>0</td>\n",
       "      <td>0</td>\n",
       "      <td>0</td>\n",
       "    </tr>\n",
       "    <tr>\n",
       "      <th>2</th>\n",
       "      <td>26.0</td>\n",
       "      <td>6</td>\n",
       "      <td>1.0</td>\n",
       "      <td>8.0</td>\n",
       "      <td>8.0</td>\n",
       "      <td>8.0</td>\n",
       "      <td>7.0</td>\n",
       "      <td>6.0</td>\n",
       "      <td>3.0</td>\n",
       "      <td>0.0</td>\n",
       "      <td>24.0</td>\n",
       "      <td>1.0</td>\n",
       "      <td>1</td>\n",
       "      <td>0</td>\n",
       "      <td>0</td>\n",
       "      <td>0</td>\n",
       "      <td>0</td>\n",
       "      <td>0</td>\n",
       "    </tr>\n",
       "    <tr>\n",
       "      <th>3</th>\n",
       "      <td>28.0</td>\n",
       "      <td>6</td>\n",
       "      <td>4.0</td>\n",
       "      <td>6.0</td>\n",
       "      <td>6.0</td>\n",
       "      <td>7.0</td>\n",
       "      <td>10.0</td>\n",
       "      <td>6.0</td>\n",
       "      <td>2.0</td>\n",
       "      <td>1.0</td>\n",
       "      <td>64.0</td>\n",
       "      <td>0.0</td>\n",
       "      <td>1</td>\n",
       "      <td>0</td>\n",
       "      <td>0</td>\n",
       "      <td>0</td>\n",
       "      <td>0</td>\n",
       "      <td>0</td>\n",
       "    </tr>\n",
       "    <tr>\n",
       "      <th>4</th>\n",
       "      <td>29.0</td>\n",
       "      <td>6</td>\n",
       "      <td>5.0</td>\n",
       "      <td>6.0</td>\n",
       "      <td>7.0</td>\n",
       "      <td>5.0</td>\n",
       "      <td>8.0</td>\n",
       "      <td>7.0</td>\n",
       "      <td>2.0</td>\n",
       "      <td>1.0</td>\n",
       "      <td>55.0</td>\n",
       "      <td>0.0</td>\n",
       "      <td>1</td>\n",
       "      <td>0</td>\n",
       "      <td>0</td>\n",
       "      <td>0</td>\n",
       "      <td>0</td>\n",
       "      <td>0</td>\n",
       "    </tr>\n",
       "  </tbody>\n",
       "</table>\n",
       "</div>"
      ],
      "text/plain": [
       "   idno  year  tvtot  ppltrst  pplfair  pplhlp  happy  sclmeet  sclact  gndr  \\\n",
       "0   5.0     6    3.0      3.0     10.0     5.0    8.0      5.0     4.0   1.0   \n",
       "1  25.0     6    6.0      5.0      7.0     5.0    9.0      3.0     2.0   1.0   \n",
       "2  26.0     6    1.0      8.0      8.0     8.0    7.0      6.0     3.0   0.0   \n",
       "3  28.0     6    4.0      6.0      6.0     7.0   10.0      6.0     2.0   1.0   \n",
       "4  29.0     6    5.0      6.0      7.0     5.0    8.0      7.0     2.0   1.0   \n",
       "\n",
       "   agea  partner  cntry_CH  cntry_CZ  cntry_DE  cntry_ES  cntry_NO  cntry_SE  \n",
       "0  60.0      0.0         1         0         0         0         0         0  \n",
       "1  59.0      0.0         1         0         0         0         0         0  \n",
       "2  24.0      1.0         1         0         0         0         0         0  \n",
       "3  64.0      0.0         1         0         0         0         0         0  \n",
       "4  55.0      0.0         1         0         0         0         0         0  "
      ]
     },
     "execution_count": 18,
     "metadata": {},
     "output_type": "execute_result"
    }
   ],
   "source": [
    "df.head()"
   ]
  },
  {
   "cell_type": "code",
   "execution_count": 20,
   "metadata": {},
   "outputs": [],
   "source": [
    "X = df.drop('partner', 1)\n",
    "y = df.partner\n",
    "\n",
    "X_train, X_test, y_train, y_test = train_test_split(X, y, test_size=0.2)"
   ]
  },
  {
   "cell_type": "markdown",
   "metadata": {},
   "source": [
    "## GridSearchCV\n",
    "\n",
    "#### Let's try several hyperparameters and see how much the predictions react to them."
   ]
  },
  {
   "cell_type": "code",
   "execution_count": 62,
   "metadata": {},
   "outputs": [
    {
     "data": {
      "text/plain": [
       "GridSearchCV(cv=None, error_score='raise',\n",
       "       estimator=GradientBoostingClassifier(criterion='friedman_mse', init=None,\n",
       "              learning_rate=0.1, loss='deviance', max_depth=3,\n",
       "              max_features=None, max_leaf_nodes=None,\n",
       "              min_impurity_decrease=0.0, min_impurity_split=None,\n",
       "              min_samples_leaf=1, min_samples_split=2,\n",
       "              min_weight_fraction_leaf=0.0, n_estimators=100,\n",
       "              presort='auto', random_state=None, subsample=1.0, verbose=0,\n",
       "              warm_start=False),\n",
       "       fit_params=None, iid=True, n_jobs=-1,\n",
       "       param_grid={'learning_rate': [0.1, 0.33], 'subsample': [0.25, 0.33, 1], 'n_estimators': [100, 300], 'max_depth': [2, 3, 4]},\n",
       "       pre_dispatch='2*n_jobs', refit=True, return_train_score='warn',\n",
       "       scoring=None, verbose=0)"
      ]
     },
     "execution_count": 62,
     "metadata": {},
     "output_type": "execute_result"
    }
   ],
   "source": [
    "params = {'learning_rate': [0.1, 0.33], 'subsample': [0.25, 0.33, 1], \n",
    "          'n_estimators': [100, 300], 'max_depth': [2, 3, 4]}\n",
    "gbc_clf = GradientBoostingClassifier()\n",
    "search = GridSearchCV(gbc_clf, params, n_jobs=-1)\n",
    "search.fit(X_train, y_train)"
   ]
  },
  {
   "cell_type": "code",
   "execution_count": 63,
   "metadata": {},
   "outputs": [
    {
     "data": {
      "text/plain": [
       "{'learning_rate': 0.1, 'max_depth': 3, 'n_estimators': 100, 'subsample': 0.33}"
      ]
     },
     "execution_count": 63,
     "metadata": {},
     "output_type": "execute_result"
    }
   ],
   "source": [
    "search.best_params_"
   ]
  },
  {
   "cell_type": "code",
   "execution_count": 64,
   "metadata": {},
   "outputs": [
    {
     "data": {
      "text/plain": [
       "0.7552554856529078"
      ]
     },
     "execution_count": 64,
     "metadata": {},
     "output_type": "execute_result"
    }
   ],
   "source": [
    "search.best_score_"
   ]
  },
  {
   "cell_type": "code",
   "execution_count": 65,
   "metadata": {
    "scrolled": false
   },
   "outputs": [
    {
     "data": {
      "text/plain": [
       "[mean: 0.75004, std: 0.00237, params: {'learning_rate': 0.1, 'max_depth': 2, 'n_estimators': 100, 'subsample': 0.25},\n",
       " mean: 0.75234, std: 0.00388, params: {'learning_rate': 0.1, 'max_depth': 2, 'n_estimators': 100, 'subsample': 0.33},\n",
       " mean: 0.74988, std: 0.00212, params: {'learning_rate': 0.1, 'max_depth': 2, 'n_estimators': 100, 'subsample': 1},\n",
       " mean: 0.74467, std: 0.00289, params: {'learning_rate': 0.1, 'max_depth': 2, 'n_estimators': 300, 'subsample': 0.25},\n",
       " mean: 0.75203, std: 0.00571, params: {'learning_rate': 0.1, 'max_depth': 2, 'n_estimators': 300, 'subsample': 0.33},\n",
       " mean: 0.75326, std: 0.00310, params: {'learning_rate': 0.1, 'max_depth': 2, 'n_estimators': 300, 'subsample': 1},\n",
       " mean: 0.75403, std: 0.00163, params: {'learning_rate': 0.1, 'max_depth': 3, 'n_estimators': 100, 'subsample': 0.25},\n",
       " mean: 0.75526, std: 0.00218, params: {'learning_rate': 0.1, 'max_depth': 3, 'n_estimators': 100, 'subsample': 0.33},\n",
       " mean: 0.75464, std: 0.00060, params: {'learning_rate': 0.1, 'max_depth': 3, 'n_estimators': 100, 'subsample': 1},\n",
       " mean: 0.74344, std: 0.00278, params: {'learning_rate': 0.1, 'max_depth': 3, 'n_estimators': 300, 'subsample': 0.25},\n",
       " mean: 0.74482, std: 0.00281, params: {'learning_rate': 0.1, 'max_depth': 3, 'n_estimators': 300, 'subsample': 0.33},\n",
       " mean: 0.74835, std: 0.00285, params: {'learning_rate': 0.1, 'max_depth': 3, 'n_estimators': 300, 'subsample': 1},\n",
       " mean: 0.74866, std: 0.00566, params: {'learning_rate': 0.1, 'max_depth': 4, 'n_estimators': 100, 'subsample': 0.25},\n",
       " mean: 0.74820, std: 0.00175, params: {'learning_rate': 0.1, 'max_depth': 4, 'n_estimators': 100, 'subsample': 0.33},\n",
       " mean: 0.75433, std: 0.00199, params: {'learning_rate': 0.1, 'max_depth': 4, 'n_estimators': 100, 'subsample': 1},\n",
       " mean: 0.72764, std: 0.00338, params: {'learning_rate': 0.1, 'max_depth': 4, 'n_estimators': 300, 'subsample': 0.25},\n",
       " mean: 0.73316, std: 0.00619, params: {'learning_rate': 0.1, 'max_depth': 4, 'n_estimators': 300, 'subsample': 0.33},\n",
       " mean: 0.74513, std: 0.00151, params: {'learning_rate': 0.1, 'max_depth': 4, 'n_estimators': 300, 'subsample': 1},\n",
       " mean: 0.73669, std: 0.00861, params: {'learning_rate': 0.33, 'max_depth': 2, 'n_estimators': 100, 'subsample': 0.25},\n",
       " mean: 0.74467, std: 0.00174, params: {'learning_rate': 0.33, 'max_depth': 2, 'n_estimators': 100, 'subsample': 0.33},\n",
       " mean: 0.75295, std: 0.00322, params: {'learning_rate': 0.33, 'max_depth': 2, 'n_estimators': 100, 'subsample': 1},\n",
       " mean: 0.72257, std: 0.00256, params: {'learning_rate': 0.33, 'max_depth': 2, 'n_estimators': 300, 'subsample': 0.25},\n",
       " mean: 0.72871, std: 0.00255, params: {'learning_rate': 0.33, 'max_depth': 2, 'n_estimators': 300, 'subsample': 0.33},\n",
       " mean: 0.74052, std: 0.00430, params: {'learning_rate': 0.33, 'max_depth': 2, 'n_estimators': 300, 'subsample': 1},\n",
       " mean: 0.72595, std: 0.00484, params: {'learning_rate': 0.33, 'max_depth': 3, 'n_estimators': 100, 'subsample': 0.25},\n",
       " mean: 0.73408, std: 0.00324, params: {'learning_rate': 0.33, 'max_depth': 3, 'n_estimators': 100, 'subsample': 0.33},\n",
       " mean: 0.74083, std: 0.00423, params: {'learning_rate': 0.33, 'max_depth': 3, 'n_estimators': 100, 'subsample': 1},\n",
       " mean: 0.70615, std: 0.00621, params: {'learning_rate': 0.33, 'max_depth': 3, 'n_estimators': 300, 'subsample': 0.25},\n",
       " mean: 0.70953, std: 0.00718, params: {'learning_rate': 0.33, 'max_depth': 3, 'n_estimators': 300, 'subsample': 0.33},\n",
       " mean: 0.72457, std: 0.00707, params: {'learning_rate': 0.33, 'max_depth': 3, 'n_estimators': 300, 'subsample': 1},\n",
       " mean: 0.71106, std: 0.00643, params: {'learning_rate': 0.33, 'max_depth': 4, 'n_estimators': 100, 'subsample': 0.25},\n",
       " mean: 0.72334, std: 0.00245, params: {'learning_rate': 0.33, 'max_depth': 4, 'n_estimators': 100, 'subsample': 0.33},\n",
       " mean: 0.73792, std: 0.00168, params: {'learning_rate': 0.33, 'max_depth': 4, 'n_estimators': 100, 'subsample': 1},\n",
       " mean: 0.69526, std: 0.00864, params: {'learning_rate': 0.33, 'max_depth': 4, 'n_estimators': 300, 'subsample': 0.25},\n",
       " mean: 0.68513, std: 0.00250, params: {'learning_rate': 0.33, 'max_depth': 4, 'n_estimators': 300, 'subsample': 0.33},\n",
       " mean: 0.72625, std: 0.00526, params: {'learning_rate': 0.33, 'max_depth': 4, 'n_estimators': 300, 'subsample': 1}]"
      ]
     },
     "execution_count": 65,
     "metadata": {},
     "output_type": "execute_result"
    }
   ],
   "source": [
    "search.grid_scores_"
   ]
  },
  {
   "cell_type": "code",
   "execution_count": 66,
   "metadata": {},
   "outputs": [
    {
     "data": {
      "text/plain": [
       "0.7429447852760737"
      ]
     },
     "execution_count": 66,
     "metadata": {},
     "output_type": "execute_result"
    }
   ],
   "source": [
    "new_gbc_clf = GradientBoostingClassifier(learning_rate=0.1, max_depth=3, n_estimators=100, subsample=0.33)\n",
    "new_gbc_clf.fit(X_train, y_train).score(X_test, y_test)"
   ]
  },
  {
   "cell_type": "code",
   "execution_count": 67,
   "metadata": {},
   "outputs": [
    {
     "data": {
      "text/plain": [
       "array([[918, 106],\n",
       "       [309, 297]], dtype=int64)"
      ]
     },
     "execution_count": 67,
     "metadata": {},
     "output_type": "execute_result"
    }
   ],
   "source": [
    "confusion_matrix(y_test, new_gbc_clf.fit(X_train, y_train).predict(X_test))"
   ]
  },
  {
   "cell_type": "code",
   "execution_count": 68,
   "metadata": {},
   "outputs": [
    {
     "name": "stdout",
     "output_type": "stream",
     "text": [
      "Type I error: 0.06134969325153374\n",
      "Type II error: 0.19631901840490798\n"
     ]
    }
   ],
   "source": [
    "print('Type I error: {}'.format(confusion_matrix(y_test, new_gbc_clf.fit(X_train, y_train).predict(X_test))[0][1] / len(y_test)))\n",
    "print('Type II error: {}'.format(confusion_matrix(y_test, new_gbc_clf.fit(X_train, y_train).predict(X_test))[1][0] / len(y_test)))"
   ]
  },
  {
   "cell_type": "markdown",
   "metadata": {},
   "source": [
    "#### Notes: GridSearchCV\n",
    "\n",
    "After trying several different hyperparameters, the scores don't seem to be changing very much at all - they sit at roughly 0.70 to 0.75. We picked the best results it returned."
   ]
  }
 ],
 "metadata": {
  "kernelspec": {
   "display_name": "Python 3",
   "language": "python",
   "name": "python3"
  },
  "language_info": {
   "codemirror_mode": {
    "name": "ipython",
    "version": 3
   },
   "file_extension": ".py",
   "mimetype": "text/x-python",
   "name": "python",
   "nbconvert_exporter": "python",
   "pygments_lexer": "ipython3",
   "version": "3.7.0"
  }
 },
 "nbformat": 4,
 "nbformat_minor": 2
}
